{
 "cells": [
  {
   "cell_type": "code",
   "execution_count": 8,
   "id": "62ab64d9-5377-460b-b00c-d86fb52e7c32",
   "metadata": {},
   "outputs": [],
   "source": [
    "def divide(self, dividend, divisor):\n",
    "\n",
    "        output = int(int(dividend)/int(divisor))\n",
    "        return output"
   ]
  },
  {
   "cell_type": "code",
   "execution_count": 11,
   "id": "af99e508-2ecc-44da-80c2-9ee1fb936c8b",
   "metadata": {},
   "outputs": [
    {
     "data": {
      "text/plain": [
       "-2"
      ]
     },
     "execution_count": 11,
     "metadata": {},
     "output_type": "execute_result"
    }
   ],
   "source": [
    "divide(10,7,-3)"
   ]
  },
  {
   "cell_type": "code",
   "execution_count": null,
   "id": "7a1cf485-865c-477d-aa91-03a8563acfc7",
   "metadata": {},
   "outputs": [],
   "source": []
  }
 ],
 "metadata": {
  "kernelspec": {
   "display_name": "Python 3 (ipykernel)",
   "language": "python",
   "name": "python3"
  },
  "language_info": {
   "codemirror_mode": {
    "name": "ipython",
    "version": 3
   },
   "file_extension": ".py",
   "mimetype": "text/x-python",
   "name": "python",
   "nbconvert_exporter": "python",
   "pygments_lexer": "ipython3",
   "version": "3.9.13"
  }
 },
 "nbformat": 4,
 "nbformat_minor": 5
}
