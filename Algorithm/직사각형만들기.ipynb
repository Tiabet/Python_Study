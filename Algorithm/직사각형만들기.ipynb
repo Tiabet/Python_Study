{
 "cells": [
  {
   "cell_type": "code",
   "execution_count": null,
   "id": "5366585c-21e2-4fc7-bd8d-adcabb30ddef",
   "metadata": {},
   "outputs": [],
   "source": [
    "def solution(v):\n",
    "    answer = []\n",
    "\n",
    "    dic_x = {}\n",
    "    dic_y = {}\n",
    "    \n",
    "    for i in range(len(v)):\n",
    "        if v[i][0] in dic_x :\n",
    "            dic_x[v[i][0]] += 1\n",
    "        else :\n",
    "            dic_x[v[i][0]] = 1\n",
    "            \n",
    "    for j in range(len(v)):\n",
    "        if v[j][1] in dic_y :\n",
    "            dic_y[v[j][1]] += 1\n",
    "        else :\n",
    "            dic_y[v[j][1]] = 1   \n",
    "            \n",
    "    for i in dic_x :\n",
    "        if dic_x[i] == 1:\n",
    "            answer.append(i)\n",
    "    for j in dic_y :\n",
    "        if dic_y[j] == 1 :\n",
    "            answer.append(j)\n",
    "\n",
    "    return answer"
   ]
  }
 ],
 "metadata": {
  "kernelspec": {
   "display_name": "Python 3 (ipykernel)",
   "language": "python",
   "name": "python3"
  },
  "language_info": {
   "codemirror_mode": {
    "name": "ipython",
    "version": 3
   },
   "file_extension": ".py",
   "mimetype": "text/x-python",
   "name": "python",
   "nbconvert_exporter": "python",
   "pygments_lexer": "ipython3",
   "version": "3.9.13"
  }
 },
 "nbformat": 4,
 "nbformat_minor": 5
}
