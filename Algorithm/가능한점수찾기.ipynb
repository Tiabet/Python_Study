{
 "cells": [
  {
   "cell_type": "code",
   "execution_count": 6,
   "id": "d7652971-e2ca-4809-8859-7aa6ff93a927",
   "metadata": {},
   "outputs": [],
   "source": [
    "def generate (my_list, r):\n",
    "    if r == 0 :\n",
    "        return [[]]\n",
    "    if len(my_list) == 0 :\n",
    "        return []\n",
    "    \n",
    "    result = []\n",
    "    \n",
    "    for i in range(len(my_list)):\n",
    "        first_elem = [my_list[i]]\n",
    "        rest_comb = generate(my_list[i+1:],r-1)\n",
    "        for comb in rest_comb:\n",
    "            result.append(first_elem+comb)\n",
    "    return result"
   ]
  },
  {
   "cell_type": "code",
   "execution_count": 15,
   "id": "e7dcba47-8ffa-4f49-ab05-09834c4b0685",
   "metadata": {},
   "outputs": [],
   "source": [
    "arr = [1,2,3]\n",
    "\n",
    "all_combinations = []\n",
    "for r in range(1,len(arr)+1):\n",
    "    combs = generate(arr, r)\n",
    "    all_combinations.append(combs)\n"
   ]
  },
  {
   "cell_type": "code",
   "execution_count": 16,
   "id": "02d45e86-8626-4a19-b9c5-7a403af7c31b",
   "metadata": {},
   "outputs": [
    {
     "data": {
      "text/plain": [
       "[[[1], [2], [3]], [[1, 2], [1, 3], [2, 3]], [[1, 2, 3]]]"
      ]
     },
     "execution_count": 16,
     "metadata": {},
     "output_type": "execute_result"
    }
   ],
   "source": [
    "all_combinations"
   ]
  },
  {
   "cell_type": "code",
   "execution_count": 41,
   "id": "25b99310-39d8-45a0-a6ae-3efceea873a8",
   "metadata": {},
   "outputs": [],
   "source": [
    "arr = set([0])"
   ]
  },
  {
   "cell_type": "code",
   "execution_count": 42,
   "id": "83412075-7199-4e0c-93f5-df4fd0906519",
   "metadata": {},
   "outputs": [],
   "source": [
    "arr.update({1})"
   ]
  },
  {
   "cell_type": "code",
   "execution_count": 43,
   "id": "80066ffe-3c18-49c8-8338-3ee37f756d40",
   "metadata": {},
   "outputs": [
    {
     "data": {
      "text/plain": [
       "{0, 1}"
      ]
     },
     "execution_count": 43,
     "metadata": {},
     "output_type": "execute_result"
    }
   ],
   "source": [
    "arr"
   ]
  },
  {
   "cell_type": "code",
   "execution_count": null,
   "id": "dcde2d86-6e89-4912-91d4-7a16707dca55",
   "metadata": {},
   "outputs": [],
   "source": []
  },
  {
   "cell_type": "code",
   "execution_count": 44,
   "id": "1e47b436-176c-4b69-b993-153d6640a03f",
   "metadata": {},
   "outputs": [
    {
     "ename": "NameError",
     "evalue": "name 'scores' is not defined",
     "output_type": "error",
     "traceback": [
      "\u001b[1;31m---------------------------------------------------------------------------\u001b[0m",
      "\u001b[1;31mNameError\u001b[0m                                 Traceback (most recent call last)",
      "\u001b[1;32m~\\AppData\\Local\\Temp\\ipykernel_14360\\263422050.py\u001b[0m in \u001b[0;36m<module>\u001b[1;34m\u001b[0m\n\u001b[0;32m      1\u001b[0m \u001b[0mpossible\u001b[0m \u001b[1;33m=\u001b[0m \u001b[0mset\u001b[0m\u001b[1;33m(\u001b[0m\u001b[1;33m[\u001b[0m\u001b[1;36m0\u001b[0m\u001b[1;33m]\u001b[0m\u001b[1;33m)\u001b[0m\u001b[1;33m\u001b[0m\u001b[1;33m\u001b[0m\u001b[0m\n\u001b[1;32m----> 2\u001b[1;33m \u001b[1;32mfor\u001b[0m \u001b[0mscore\u001b[0m \u001b[1;32min\u001b[0m \u001b[0mscores\u001b[0m\u001b[1;33m:\u001b[0m\u001b[1;33m\u001b[0m\u001b[1;33m\u001b[0m\u001b[0m\n\u001b[0m\u001b[0;32m      3\u001b[0m     \u001b[0mnew_scores\u001b[0m \u001b[1;33m=\u001b[0m \u001b[1;33m{\u001b[0m\u001b[0ms\u001b[0m\u001b[1;33m+\u001b[0m\u001b[0mscore\u001b[0m \u001b[1;32mfor\u001b[0m \u001b[0ms\u001b[0m \u001b[1;32min\u001b[0m \u001b[0mpossible\u001b[0m\u001b[1;33m}\u001b[0m\u001b[1;33m\u001b[0m\u001b[1;33m\u001b[0m\u001b[0m\n\u001b[0;32m      4\u001b[0m     \u001b[0mpossible\u001b[0m\u001b[1;33m.\u001b[0m\u001b[0mupdate\u001b[0m\u001b[1;33m(\u001b[0m\u001b[0mnew_scores\u001b[0m\u001b[1;33m)\u001b[0m\u001b[1;33m\u001b[0m\u001b[1;33m\u001b[0m\u001b[0m\n",
      "\u001b[1;31mNameError\u001b[0m: name 'scores' is not defined"
     ]
    }
   ],
   "source": [
    "possible = set([0])\n",
    "for score in scores:\n",
    "    new_scores = {s+score for s in possible}\n",
    "    possible.update(new_scores)"
   ]
  },
  {
   "cell_type": "code",
   "execution_count": null,
   "id": "fc417f7e-29d5-46be-9832-5953b9fede53",
   "metadata": {},
   "outputs": [],
   "source": []
  }
 ],
 "metadata": {
  "kernelspec": {
   "display_name": "Python 3 (ipykernel)",
   "language": "python",
   "name": "python3"
  },
  "language_info": {
   "codemirror_mode": {
    "name": "ipython",
    "version": 3
   },
   "file_extension": ".py",
   "mimetype": "text/x-python",
   "name": "python",
   "nbconvert_exporter": "python",
   "pygments_lexer": "ipython3",
   "version": "3.9.13"
  }
 },
 "nbformat": 4,
 "nbformat_minor": 5
}
