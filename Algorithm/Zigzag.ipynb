{
 "cells": [
  {
   "cell_type": "code",
   "execution_count": 23,
   "id": "0fd450d3-cafd-4db3-83e8-8cd51c782e1b",
   "metadata": {},
   "outputs": [],
   "source": [
    "def convert(s, numRows):\n",
    "        \"\"\"\n",
    "        :type s: str\n",
    "        :type numRows: int\n",
    "        :rtype: str\n",
    "        \"\"\"\n",
    "        \"\"\"\n",
    "        1 iteration : 2*numRows - 2\n",
    "        num(iteration) = len(s)//(1 iteration) + 1\n",
    "        1 iteration size : numRows-1\n",
    "        \"\"\"\n",
    "        \n",
    "        if numRows==1 or numRows >= len(s):\n",
    "            return s\n",
    "        length = (numRows-1) * (len(s)//(2*numRows-2) + 1)\n",
    "        \n",
    "        matrix = [[0]*(length) for _ in range(numRows)]\n",
    "\n",
    "        row, col = 0, 0\n",
    "        down_way = True\n",
    "\n",
    "        for i in range(len(s)):\n",
    "            if row < numRows-1 and down_way == True:\n",
    "                matrix[row][col] = s[i]\n",
    "                row+=1\n",
    "                print(s[i],1)\n",
    "            elif row == numRows -1 and down_way == True:\n",
    "                matrix[row][col] = s[i]\n",
    "                down_way = False\n",
    "                row-=1\n",
    "                col+=1\n",
    "                print(s[i],2)\n",
    "            elif row > 0 and down_way == False :\n",
    "                matrix[row][col] = s[i]\n",
    "                row-=1\n",
    "                col+=1\n",
    "                print(s[i],3)\n",
    "            elif row == 0 and down_way == False :\n",
    "                matrix[row][col] = s[i]\n",
    "                down_way = True\n",
    "                row+=1\n",
    "                print(s[i],4)\n",
    "            \n",
    "        result = \"\"\n",
    "\n",
    "        for i in range(numRows):\n",
    "            for j in range(length):\n",
    "                if matrix[i][j] != 0 :\n",
    "                    result += matrix[i][j]\n",
    "                    \n",
    "        print(matrix)\n",
    "\n",
    "        return result\n"
   ]
  },
  {
   "cell_type": "code",
   "execution_count": 24,
   "id": "12e71ac5-66f5-4023-9fff-821f7f272734",
   "metadata": {},
   "outputs": [],
   "source": [
    "s = \"PAYPALISHIRING\"\n",
    "numRows = 3"
   ]
  },
  {
   "cell_type": "code",
   "execution_count": 25,
   "id": "322548dc-f68d-4b89-8eda-63702b5c67fb",
   "metadata": {},
   "outputs": [
    {
     "name": "stdout",
     "output_type": "stream",
     "text": [
      "P 1\n",
      "A 1\n",
      "Y 2\n",
      "P 3\n",
      "A 4\n",
      "L 1\n",
      "I 2\n",
      "S 3\n",
      "H 4\n",
      "I 1\n",
      "R 2\n",
      "I 3\n",
      "N 4\n",
      "G 1\n",
      "[['P', 0, 'A', 0, 'H', 0, 'N', 0], ['A', 'P', 'L', 'S', 'I', 'I', 'G', 0], ['Y', 0, 'I', 0, 'R', 0, 0, 0]]\n"
     ]
    },
    {
     "data": {
      "text/plain": [
       "'PAHNAPLSIIGYIR'"
      ]
     },
     "execution_count": 25,
     "metadata": {},
     "output_type": "execute_result"
    }
   ],
   "source": [
    "convert(s, numRows)"
   ]
  },
  {
   "cell_type": "code",
   "execution_count": null,
   "id": "281079ee-5f09-4434-9310-dec545d88f3a",
   "metadata": {},
   "outputs": [],
   "source": []
  }
 ],
 "metadata": {
  "kernelspec": {
   "display_name": "Python 3 (ipykernel)",
   "language": "python",
   "name": "python3"
  },
  "language_info": {
   "codemirror_mode": {
    "name": "ipython",
    "version": 3
   },
   "file_extension": ".py",
   "mimetype": "text/x-python",
   "name": "python",
   "nbconvert_exporter": "python",
   "pygments_lexer": "ipython3",
   "version": "3.9.13"
  }
 },
 "nbformat": 4,
 "nbformat_minor": 5
}
