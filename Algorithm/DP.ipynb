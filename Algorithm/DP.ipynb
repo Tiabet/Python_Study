{
 "cells": [
  {
   "cell_type": "code",
   "execution_count": 2,
   "id": "c0acb873-26bc-43a3-8576-a4dce964d5c1",
   "metadata": {},
   "outputs": [],
   "source": [
    "dp = [1]*10"
   ]
  },
  {
   "cell_type": "code",
   "execution_count": 3,
   "id": "3512c3eb-9748-4b11-af35-c2d1679a6070",
   "metadata": {},
   "outputs": [],
   "source": [
    "nums = [1,2,3,10,7,5,6,8,2,3]"
   ]
  },
  {
   "cell_type": "code",
   "execution_count": 6,
   "id": "befff6a9-ce58-4c07-9b59-fae58a4cb04c",
   "metadata": {},
   "outputs": [],
   "source": [
    "for i in range(len(nums)):\n",
    "    for j in range(0,i+1):\n",
    "        if nums[i] > nums[j]:\n",
    "            dp[i] = max(dp[i],dp[j]+1)"
   ]
  },
  {
   "cell_type": "code",
   "execution_count": 7,
   "id": "acc6ded0-1195-496a-b072-dedaa3916929",
   "metadata": {},
   "outputs": [
    {
     "data": {
      "text/plain": [
       "[1, 2, 3, 4, 4, 4, 5, 6, 2, 3]"
      ]
     },
     "execution_count": 7,
     "metadata": {},
     "output_type": "execute_result"
    }
   ],
   "source": [
    "dp"
   ]
  },
  {
   "cell_type": "code",
   "execution_count": null,
   "id": "4207c5d4-763d-402e-828e-82db7e675b50",
   "metadata": {},
   "outputs": [],
   "source": []
  }
 ],
 "metadata": {
  "kernelspec": {
   "display_name": "Python 3 (ipykernel)",
   "language": "python",
   "name": "python3"
  },
  "language_info": {
   "codemirror_mode": {
    "name": "ipython",
    "version": 3
   },
   "file_extension": ".py",
   "mimetype": "text/x-python",
   "name": "python",
   "nbconvert_exporter": "python",
   "pygments_lexer": "ipython3",
   "version": "3.9.13"
  }
 },
 "nbformat": 4,
 "nbformat_minor": 5
}
