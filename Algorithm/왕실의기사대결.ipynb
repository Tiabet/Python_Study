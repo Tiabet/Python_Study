{
 "cells": [
  {
   "cell_type": "code",
   "execution_count": 1,
   "id": "6f28e2de-4870-4b0b-a098-01c46c5c2dc5",
   "metadata": {},
   "outputs": [
    {
     "name": "stdin",
     "output_type": "stream",
     "text": [
      " 4 3 3\n"
     ]
    }
   ],
   "source": [
    "L, N, Q = map(int, input().split())\n",
    "\n",
    "\n",
    "\n"
   ]
  },
  {
   "cell_type": "code",
   "execution_count": 2,
   "id": "3ae0a918-b3ae-47ec-983e-8e5af5a7eea4",
   "metadata": {},
   "outputs": [
    {
     "name": "stdin",
     "output_type": "stream",
     "text": [
      " 0 0 1 0\n",
      " 0 0 1 0\n",
      " 1 1 0 1\n",
      " 0 0 2 0\n"
     ]
    }
   ],
   "source": [
    "\n",
    "chess = []\n",
    "for _ in range(L):\n",
    "    chess.append(list(map(int, input().split())))"
   ]
  },
  {
   "cell_type": "code",
   "execution_count": 3,
   "id": "fb8d59a3-7915-43d9-981d-e151f3b60894",
   "metadata": {},
   "outputs": [
    {
     "name": "stdin",
     "output_type": "stream",
     "text": [
      " 1 2 2 1 5\n",
      " 2 1 2 1 1\n",
      " 3 2 1 2 3\n"
     ]
    }
   ],
   "source": [
    "\n",
    "knight = []\n",
    "for _ in range(N):\n",
    "    knight.append(list(map(int,input().split())))\n",
    "\n",
    "#knight : N명, 순서대로 행/열/방패가로길이/방패세로길이/체력"
   ]
  },
  {
   "cell_type": "code",
   "execution_count": 4,
   "id": "b13ae397-dab1-4344-988e-e4b8a1f77737",
   "metadata": {},
   "outputs": [
    {
     "name": "stdin",
     "output_type": "stream",
     "text": [
      " 1 2\n",
      " 2 1\n",
      " 3 3\n"
     ]
    }
   ],
   "source": [
    "\n",
    "#order : Q개, 첫번째는 명령받은 기사의수, 두번째는 방향 / 0,1,2,3 -> 위,오,아래,왼\n",
    "order = []\n",
    "for i in range(Q):\n",
    "    order.append(list(map(int, input().split())))"
   ]
  },
  {
   "cell_type": "code",
   "execution_count": 14,
   "id": "0977168f-d012-429e-afd1-1f2f7a1b72f1",
   "metadata": {},
   "outputs": [
    {
     "name": "stdout",
     "output_type": "stream",
     "text": [
      "0 1 1\n",
      "[[0, 1, 0, 0], [0, 0, 0, 0], [0, 0, 0, 0], [0, 0, 0, 0]]\n",
      "1 1 1\n",
      "[[0, 1, 0, 0], [0, 1, 0, 0], [0, 0, 0, 0], [0, 0, 0, 0]]\n",
      "1 0 2\n",
      "[[0, 1, 0, 0], [2, 1, 0, 0], [0, 0, 0, 0], [0, 0, 0, 0]]\n",
      "2 0 2\n",
      "[[0, 1, 0, 0], [2, 1, 0, 0], [2, 0, 0, 0], [0, 0, 0, 0]]\n",
      "2 1 3\n",
      "[[0, 1, 0, 0], [2, 1, 0, 0], [2, 3, 0, 0], [0, 0, 0, 0]]\n",
      "2 2 3\n",
      "[[0, 1, 0, 0], [2, 1, 0, 0], [2, 3, 3, 0], [0, 0, 0, 0]]\n"
     ]
    }
   ],
   "source": [
    "position = [[0 for _ in range(L)] for _ in range(L)]\n",
    "for k in range(len(knight)) :\n",
    "    r_start = knight[k][0]\n",
    "    c_start = knight[k][1]\n",
    "    for h in range(r_start-1,r_start-1+knight[k][2]):\n",
    "        for w in range(c_start-1,c_start-1+knight[k][3]):\n",
    "            position[h][w] = k+1\n",
    "            print(h,w,k+1)\n",
    "            print(position)\n"
   ]
  },
  {
   "cell_type": "code",
   "execution_count": null,
   "id": "792c1042-2aff-4fab-a490-3174276da77f",
   "metadata": {},
   "outputs": [],
   "source": []
  }
 ],
 "metadata": {
  "kernelspec": {
   "display_name": "Python 3 (ipykernel)",
   "language": "python",
   "name": "python3"
  },
  "language_info": {
   "codemirror_mode": {
    "name": "ipython",
    "version": 3
   },
   "file_extension": ".py",
   "mimetype": "text/x-python",
   "name": "python",
   "nbconvert_exporter": "python",
   "pygments_lexer": "ipython3",
   "version": "3.9.13"
  }
 },
 "nbformat": 4,
 "nbformat_minor": 5
}
