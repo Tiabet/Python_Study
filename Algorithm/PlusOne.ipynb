{
 "cells": [
  {
   "cell_type": "code",
   "execution_count": 4,
   "id": "56436fab-62de-4649-b97d-127b1ec686e4",
   "metadata": {},
   "outputs": [],
   "source": [
    "strs = \"sadasad\"\n",
    "\n",
    "strs = list(strs)"
   ]
  },
  {
   "cell_type": "code",
   "execution_count": 5,
   "id": "4408f7f0-903e-4640-8bd1-6a3f624eccf9",
   "metadata": {},
   "outputs": [
    {
     "data": {
      "text/plain": [
       "['s', 'a', 'd', 'a', 's', 'a', 'd']"
      ]
     },
     "execution_count": 5,
     "metadata": {},
     "output_type": "execute_result"
    }
   ],
   "source": [
    "strs"
   ]
  },
  {
   "cell_type": "code",
   "execution_count": null,
   "id": "8be1f9c7-2240-4670-b648-9c60aa8ee073",
   "metadata": {},
   "outputs": [],
   "source": [
    "class Solution(object):\n",
    "    def plusOne(self, digits):\n",
    "        \"\"\"\n",
    "        :type digits: List[int]\n",
    "        :rtype: List[int]\n",
    "        \"\"\"\n",
    "        val = 0\n",
    "        for i in range(len(digits)):\n",
    "            val = val*10+digits[i]\n",
    "\n",
    "        val+=1\n",
    "\n",
    "        val=str(val)\n",
    "\n",
    "        result = list(val)\n",
    "        result = [int(i) for i in result]\n",
    "\n",
    "        return result"
   ]
  }
 ],
 "metadata": {
  "kernelspec": {
   "display_name": "Python 3 (ipykernel)",
   "language": "python",
   "name": "python3"
  },
  "language_info": {
   "codemirror_mode": {
    "name": "ipython",
    "version": 3
   },
   "file_extension": ".py",
   "mimetype": "text/x-python",
   "name": "python",
   "nbconvert_exporter": "python",
   "pygments_lexer": "ipython3",
   "version": "3.9.13"
  }
 },
 "nbformat": 4,
 "nbformat_minor": 5
}
