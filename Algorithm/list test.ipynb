{
 "cells": [
  {
   "cell_type": "code",
   "execution_count": 2,
   "id": "acabd15e-84cb-466c-82da-65c65dc86193",
   "metadata": {},
   "outputs": [
    {
     "data": {
      "text/plain": [
       "['1', '2', '3', '4']"
      ]
     },
     "execution_count": 2,
     "metadata": {},
     "output_type": "execute_result"
    }
   ],
   "source": [
    "list(\"1234\")"
   ]
  },
  {
   "cell_type": "code",
   "execution_count": 3,
   "id": "172e894e-4663-4c9c-9eb9-bda008ba6b70",
   "metadata": {},
   "outputs": [
    {
     "name": "stdin",
     "output_type": "stream",
     "text": [
      " 4\n"
     ]
    }
   ],
   "source": [
    "a = input()"
   ]
  },
  {
   "cell_type": "code",
   "execution_count": 4,
   "id": "d6ad6a80-d5c6-4455-9b6b-44bdc11b2cca",
   "metadata": {},
   "outputs": [
    {
     "data": {
      "text/plain": [
       "'4'"
      ]
     },
     "execution_count": 4,
     "metadata": {},
     "output_type": "execute_result"
    }
   ],
   "source": [
    "a"
   ]
  },
  {
   "cell_type": "code",
   "execution_count": 5,
   "id": "b35773d3-8d18-4d3e-a109-e49d1909a836",
   "metadata": {},
   "outputs": [
    {
     "data": {
      "text/plain": [
       "str"
      ]
     },
     "execution_count": 5,
     "metadata": {},
     "output_type": "execute_result"
    }
   ],
   "source": [
    "type(a)"
   ]
  },
  {
   "cell_type": "code",
   "execution_count": 6,
   "id": "c6ae176a-7356-41a5-b649-ba16b8b8b22d",
   "metadata": {},
   "outputs": [
    {
     "name": "stdout",
     "output_type": "stream",
     "text": [
      "10\n",
      "9\n",
      "8\n",
      "7\n",
      "6\n",
      "5\n",
      "4\n",
      "3\n",
      "2\n"
     ]
    }
   ],
   "source": [
    "for i in range(10,1,-1):\n",
    "    print(i)"
   ]
  },
  {
   "cell_type": "code",
   "execution_count": 7,
   "id": "163c0009-04f9-4242-befa-8b666fe230fe",
   "metadata": {},
   "outputs": [],
   "source": [
    "a = 4"
   ]
  },
  {
   "cell_type": "code",
   "execution_count": 9,
   "id": "1f247e93-d197-4f5e-aadf-e9add675d83a",
   "metadata": {},
   "outputs": [
    {
     "name": "stdin",
     "output_type": "stream",
     "text": [
      " 4\n"
     ]
    }
   ],
   "source": [
    "n = int(input())\n",
    "dp = [[0]*n for _ in range(n)]"
   ]
  },
  {
   "cell_type": "code",
   "execution_count": 10,
   "id": "898a9521-3362-4cf9-b5ad-e2a5789bf2e9",
   "metadata": {},
   "outputs": [
    {
     "data": {
      "text/plain": [
       "[[0, 0, 0, 0], [0, 0, 0, 0], [0, 0, 0, 0], [0, 0, 0, 0]]"
      ]
     },
     "execution_count": 10,
     "metadata": {},
     "output_type": "execute_result"
    }
   ],
   "source": [
    "dp"
   ]
  },
  {
   "cell_type": "code",
   "execution_count": 11,
   "id": "dff7c0cd-b17c-4646-b799-de3aa0fe0cd3",
   "metadata": {},
   "outputs": [],
   "source": [
    "a = 'asdsfvjslasrlkre'"
   ]
  },
  {
   "cell_type": "code",
   "execution_count": 15,
   "id": "1afa4828-5882-4ecb-86fa-4b4b5caf1f76",
   "metadata": {},
   "outputs": [
    {
     "data": {
      "text/plain": [
       "-1"
      ]
     },
     "execution_count": 15,
     "metadata": {},
     "output_type": "execute_result"
    }
   ],
   "source": [
    "a.find('z')"
   ]
  },
  {
   "cell_type": "code",
   "execution_count": 16,
   "id": "9d3fa33f-8a92-48a3-8e78-cacb06e43552",
   "metadata": {},
   "outputs": [],
   "source": [
    "dic = {'Bessie' : 0, 'Elsie' : 0 , 'Daisy' : 0 , \n",
    "'Gertie' : 0, 'Annabelle' : 0, 'Maggie' : 0, 'Henrietta' : 0}\n"
   ]
  },
  {
   "cell_type": "code",
   "execution_count": 17,
   "id": "63ab3841-b835-4e83-a97b-8419cc97af46",
   "metadata": {},
   "outputs": [],
   "source": [
    "dic['Bessie']+=3"
   ]
  },
  {
   "cell_type": "code",
   "execution_count": 19,
   "id": "4f8f6c9a-fb29-4dec-8afe-c860ffbeb983",
   "metadata": {},
   "outputs": [],
   "source": [
    "dic['Elsie']+=5"
   ]
  },
  {
   "cell_type": "code",
   "execution_count": 31,
   "id": "2d30d667-39dd-4b23-a880-07d2fde7422b",
   "metadata": {},
   "outputs": [],
   "source": [
    "dic = sorted(dic.items(), key = lambda x : x[1])"
   ]
  },
  {
   "cell_type": "code",
   "execution_count": 34,
   "id": "6155868b-11b3-42ff-8e40-f44d3530b186",
   "metadata": {},
   "outputs": [
    {
     "data": {
      "text/plain": [
       "'Bessie'"
      ]
     },
     "execution_count": 34,
     "metadata": {},
     "output_type": "execute_result"
    }
   ],
   "source": [
    "dic[-2][0]"
   ]
  },
  {
   "cell_type": "code",
   "execution_count": 35,
   "id": "3b3db5fd-8043-4782-9aee-10f94c1283c8",
   "metadata": {},
   "outputs": [],
   "source": [
    "graph = [[1,2,3,4],[5,6,7,8],[9,10,11,12]]"
   ]
  },
  {
   "cell_type": "code",
   "execution_count": 52,
   "id": "e8a02d57-d23a-41c4-90b7-790f830ff9fc",
   "metadata": {},
   "outputs": [
    {
     "data": {
      "text/plain": [
       "8"
      ]
     },
     "execution_count": 52,
     "metadata": {},
     "output_type": "execute_result"
    }
   ],
   "source": [
    "graph[1][3]"
   ]
  },
  {
   "cell_type": "code",
   "execution_count": 1,
   "id": "8852a24e-95c9-4a36-918c-257075513b2c",
   "metadata": {},
   "outputs": [],
   "source": [
    "arr = list()"
   ]
  },
  {
   "cell_type": "code",
   "execution_count": 5,
   "id": "0de33b44-47d0-4a97-b673-374dc726898b",
   "metadata": {},
   "outputs": [],
   "source": [
    "arr.append(3)"
   ]
  },
  {
   "cell_type": "code",
   "execution_count": 6,
   "id": "3e5ed35c-5515-4f40-bb24-72b69a931fb4",
   "metadata": {},
   "outputs": [
    {
     "data": {
      "text/plain": [
       "[3]"
      ]
     },
     "execution_count": 6,
     "metadata": {},
     "output_type": "execute_result"
    }
   ],
   "source": [
    "arr"
   ]
  },
  {
   "cell_type": "code",
   "execution_count": 7,
   "id": "4bb080b4-c0af-41d9-9669-0ce19d417afa",
   "metadata": {},
   "outputs": [
    {
     "data": {
      "text/plain": [
       "3"
      ]
     },
     "execution_count": 7,
     "metadata": {},
     "output_type": "execute_result"
    }
   ],
   "source": [
    "arr.pop(0)"
   ]
  },
  {
   "cell_type": "code",
   "execution_count": 8,
   "id": "1f8274e7-c0df-4447-b62c-f371779db662",
   "metadata": {},
   "outputs": [
    {
     "data": {
      "text/plain": [
       "[]"
      ]
     },
     "execution_count": 8,
     "metadata": {},
     "output_type": "execute_result"
    }
   ],
   "source": [
    "arr"
   ]
  },
  {
   "cell_type": "code",
   "execution_count": 9,
   "id": "5532a5f8-97a2-4eb6-924a-1cf43784c6a4",
   "metadata": {},
   "outputs": [],
   "source": [
    "w = 10\n",
    "h = 8\n",
    "original = [[0 for _ in range(w)] for _ in range(h)]"
   ]
  },
  {
   "cell_type": "code",
   "execution_count": 11,
   "id": "7ef94a7f-a3de-4263-a575-fa585908a3e8",
   "metadata": {},
   "outputs": [],
   "source": [
    "graph = original"
   ]
  },
  {
   "cell_type": "code",
   "execution_count": 14,
   "id": "a90dc81c-de1d-44ac-8099-75b0173c5a98",
   "metadata": {},
   "outputs": [],
   "source": [
    "original_1 = [x[:] for x in graph]"
   ]
  },
  {
   "cell_type": "code",
   "execution_count": 15,
   "id": "74cc7386-e26e-4715-b51b-833219cade40",
   "metadata": {},
   "outputs": [
    {
     "data": {
      "text/plain": [
       "[[0, 0, 0, 0, 0, 0, 0, 0, 0, 0],\n",
       " [0, 0, 0, 0, 0, 0, 0, 0, 0, 0],\n",
       " [0, 0, 0, 0, 0, 0, 0, 0, 0, 0],\n",
       " [0, 0, 0, 0, 0, 0, 0, 0, 0, 0],\n",
       " [0, 0, 0, 0, 0, 0, 0, 0, 0, 0],\n",
       " [0, 0, 0, 0, 0, 0, 0, 0, 0, 0],\n",
       " [0, 0, 0, 0, 0, 0, 0, 0, 0, 0],\n",
       " [0, 0, 0, 0, 0, 0, 0, 0, 0, 0]]"
      ]
     },
     "execution_count": 15,
     "metadata": {},
     "output_type": "execute_result"
    }
   ],
   "source": [
    "original_1"
   ]
  },
  {
   "cell_type": "code",
   "execution_count": 19,
   "id": "6bd58717-84b5-4f2a-92cb-4b78e857d295",
   "metadata": {},
   "outputs": [],
   "source": [
    "if 0 :\n",
    "    print(0)"
   ]
  },
  {
   "cell_type": "code",
   "execution_count": null,
   "id": "e7f0bfab-490e-4f8b-8117-a3a58c512da0",
   "metadata": {},
   "outputs": [],
   "source": []
  }
 ],
 "metadata": {
  "kernelspec": {
   "display_name": "Python 3 (ipykernel)",
   "language": "python",
   "name": "python3"
  },
  "language_info": {
   "codemirror_mode": {
    "name": "ipython",
    "version": 3
   },
   "file_extension": ".py",
   "mimetype": "text/x-python",
   "name": "python",
   "nbconvert_exporter": "python",
   "pygments_lexer": "ipython3",
   "version": "3.9.13"
  }
 },
 "nbformat": 4,
 "nbformat_minor": 5
}
