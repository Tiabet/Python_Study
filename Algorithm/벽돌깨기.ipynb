{
 "cells": [
  {
   "cell_type": "code",
   "execution_count": null,
   "id": "a4b8eb86-5757-48bd-9591-8d69f3027d6e",
   "metadata": {},
   "outputs": [],
   "source": [
    "def comb(count, total, block_maps):\n",
    "    global total_blocks, borken_blocks\n",
    "    \n",
    "    if count == 0 :\n",
    "        broken_blocks = max(broken_blocks, total)\n",
    "        return\n",
    "        \n",
    "    if total == total_blocks :\n",
    "        broken_blocks = total\n",
    "        return\n",
    "    \n",
    "    for i in range(W):\n",
    "        arr = [x[:] for x in block_maps]\n",
    "        stack = set()\n",
    "        blocks = 0\n",
    "        \n",
    "        for row in range(H):\n",
    "            if arr[row][i] != 0 :\n",
    "                stack.add((row,i))\n",
    "                break\n",
    "                \n",
    "        while stack :\n",
    "            row, col = stack.pop()\n",
    "            if not arr[row][col]:\n",
    "                continue\n",
    "            \n",
    "            blocks+=1\n",
    "            for k in range(4):\n",
    "                next_row, next_col = row,col\n",
    "                for _ in range(arr[row][col]-1):\n",
    "                    next_row += dy[k]\n",
    "                    next_col += dx[k]\n",
    "                    if 0 <= next_row < H and 0<= next_col <W :\n",
    "                        stack.add((next_row, next_col))\n",
    "                        \n",
    "                        \n",
    "            arr[row][col] = 0\n",
    "            \n",
    "            for y in range(W):\n",
    "                idx = H-1\n",
    "                for x in range(H-1,-1,-1):\n",
    "                    if arr[x][y] == 0:\n",
    "                        continue\n",
    "                    arr[idx][y], arr[x][y] = arr[x][y], arr[idx][y]\n",
    "                    idx-=1\n",
    "                    \n",
    "            comb(count-1,total+blocks,arr)"
   ]
  },
  {
   "cell_type": "code",
   "execution_count": 3,
   "id": "216d4e00-4396-4977-b12c-c4cdda8a194d",
   "metadata": {},
   "outputs": [],
   "source": [
    "if 0 :\n",
    "    print(9)"
   ]
  },
  {
   "cell_type": "code",
   "execution_count": null,
   "id": "99900023-8d11-46ad-88bb-44fd42451355",
   "metadata": {},
   "outputs": [],
   "source": []
  }
 ],
 "metadata": {
  "kernelspec": {
   "display_name": "Python 3 (ipykernel)",
   "language": "python",
   "name": "python3"
  },
  "language_info": {
   "codemirror_mode": {
    "name": "ipython",
    "version": 3
   },
   "file_extension": ".py",
   "mimetype": "text/x-python",
   "name": "python",
   "nbconvert_exporter": "python",
   "pygments_lexer": "ipython3",
   "version": "3.9.13"
  }
 },
 "nbformat": 4,
 "nbformat_minor": 5
}
