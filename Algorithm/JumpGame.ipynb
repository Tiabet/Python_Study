{
 "cells": [
  {
   "cell_type": "markdown",
   "id": "ba18e4ff-50ca-4e3a-9638-c70c73b87153",
   "metadata": {},
   "source": [
    "정답 코드"
   ]
  },
  {
   "cell_type": "code",
   "execution_count": 1,
   "id": "8b51adf4-f7aa-4ed6-9fcb-1634ac47a8f6",
   "metadata": {},
   "outputs": [],
   "source": [
    "class Solution(object):\n",
    "    def canJump(self, nums):\n",
    "        last = len(nums) - 1  \n",
    "        for i in range(len(nums) - 2, -1, -1):  # Traverse backward\n",
    "            if i + nums[i] >= last:  \n",
    "                last = i  \n",
    "        return last == 0\n",
    "        "
   ]
  },
  {
   "cell_type": "markdown",
   "id": "a821800a-39ae-475b-9316-86a14d95ed6b",
   "metadata": {},
   "source": [
    "내 코드"
   ]
  },
  {
   "cell_type": "code",
   "execution_count": 2,
   "id": "3223c824-eaab-4b43-bb45-6c163040d172",
   "metadata": {},
   "outputs": [],
   "source": [
    "class Solution(object):\n",
    "    def canJump(self, nums):\n",
    "        \"\"\"\n",
    "        :type nums: List[int]\n",
    "        :rtype: bool\n",
    "        \"\"\"\n",
    "\n",
    "        dp = [False for _ in range(110000)]\n",
    "        dp[0] = True\n",
    "        \n",
    "        for i in range(len(nums)-1):\n",
    "            jump = nums[i]\n",
    "            if dp[i] == True:\n",
    "                for k in range(i, i+jump+1):\n",
    "                    dp[k] = True\n",
    "            if dp[len(nums)-1] == True:\n",
    "                break\n",
    "\n",
    "\n",
    "        return dp[len(nums)-1]\n"
   ]
  },
  {
   "cell_type": "code",
   "execution_count": null,
   "id": "c5bc8f35-6143-40cb-a60a-6ec35a83e480",
   "metadata": {},
   "outputs": [],
   "source": []
  }
 ],
 "metadata": {
  "kernelspec": {
   "display_name": "Python 3 (ipykernel)",
   "language": "python",
   "name": "python3"
  },
  "language_info": {
   "codemirror_mode": {
    "name": "ipython",
    "version": 3
   },
   "file_extension": ".py",
   "mimetype": "text/x-python",
   "name": "python",
   "nbconvert_exporter": "python",
   "pygments_lexer": "ipython3",
   "version": "3.9.13"
  }
 },
 "nbformat": 4,
 "nbformat_minor": 5
}
