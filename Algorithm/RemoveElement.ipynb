{
 "cells": [
  {
   "cell_type": "code",
   "execution_count": 1,
   "id": "1f7611f7-db31-4ea1-b508-e664e66513f9",
   "metadata": {},
   "outputs": [],
   "source": [
    "class Solution(object):\n",
    "    def removeElement(self, nums, val):\n",
    "        \"\"\"\n",
    "        :type nums: List[int]\n",
    "        :type val: int\n",
    "        :rtype: int\n",
    "        \"\"\"\n",
    "\n",
    "        count = 0\n",
    "        new_nums = []\n",
    "        for i in range(len(nums)):\n",
    "            if nums[i] == val :\n",
    "                continue\n",
    "            else :\n",
    "                new_nums.append(nums[i])\n",
    "                count+=1\n",
    "        nums = new_nums\n",
    "        print(nums)\n",
    "        return count\n",
    "        "
   ]
  },
  {
   "cell_type": "code",
   "execution_count": 2,
   "id": "b9ad7923-76e1-48d9-99b9-0f7b7a8ad7b6",
   "metadata": {},
   "outputs": [],
   "source": [
    "def removeElement(nums, val):\n",
    "    index = 0\n",
    "    for i in range(len(nums)):\n",
    "        if nums[i] == val :\n",
    "            nums[index] = nums[i]\n",
    "            index+=1\n",
    "            \n",
    "    return index"
   ]
  },
  {
   "cell_type": "code",
   "execution_count": null,
   "id": "bf7c88f6-fdb4-47c5-86bd-8b51d0c74666",
   "metadata": {},
   "outputs": [],
   "source": []
  }
 ],
 "metadata": {
  "kernelspec": {
   "display_name": "Python 3 (ipykernel)",
   "language": "python",
   "name": "python3"
  },
  "language_info": {
   "codemirror_mode": {
    "name": "ipython",
    "version": 3
   },
   "file_extension": ".py",
   "mimetype": "text/x-python",
   "name": "python",
   "nbconvert_exporter": "python",
   "pygments_lexer": "ipython3",
   "version": "3.9.13"
  }
 },
 "nbformat": 4,
 "nbformat_minor": 5
}
