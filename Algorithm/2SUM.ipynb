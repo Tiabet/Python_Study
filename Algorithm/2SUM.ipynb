{
 "cells": [
  {
   "cell_type": "code",
   "execution_count": 3,
   "id": "914cf187-ec0d-40d3-97c3-cab833660c19",
   "metadata": {},
   "outputs": [],
   "source": [
    "nums = [1,4,3,5]\n",
    "new_nums = nums.sort()"
   ]
  },
  {
   "cell_type": "code",
   "execution_count": 4,
   "id": "aa441a34-1f7b-41ea-8ac0-bdda81dae574",
   "metadata": {},
   "outputs": [],
   "source": [
    "new_nums"
   ]
  },
  {
   "cell_type": "code",
   "execution_count": null,
   "id": "9b5028f1-2b77-4d3c-bbc8-ca451ee714a7",
   "metadata": {},
   "outputs": [],
   "source": []
  }
 ],
 "metadata": {
  "kernelspec": {
   "display_name": "Python 3 (ipykernel)",
   "language": "python",
   "name": "python3"
  },
  "language_info": {
   "codemirror_mode": {
    "name": "ipython",
    "version": 3
   },
   "file_extension": ".py",
   "mimetype": "text/x-python",
   "name": "python",
   "nbconvert_exporter": "python",
   "pygments_lexer": "ipython3",
   "version": "3.9.13"
  }
 },
 "nbformat": 4,
 "nbformat_minor": 5
}
