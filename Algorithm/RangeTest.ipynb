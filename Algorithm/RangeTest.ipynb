{
 "cells": [
  {
   "cell_type": "code",
   "execution_count": 1,
   "id": "e925a026-0e81-400b-86c4-e8a241b537a4",
   "metadata": {},
   "outputs": [],
   "source": [
    "def in_range(x,y):\n",
    "    return 0<=x<N and 0<=y<N"
   ]
  },
  {
   "cell_type": "code",
   "execution_count": 2,
   "id": "884aa6bd-5868-4b7d-8021-dd7cb86323fd",
   "metadata": {},
   "outputs": [
    {
     "data": {
      "text/plain": [
       "True"
      ]
     },
     "execution_count": 2,
     "metadata": {},
     "output_type": "execute_result"
    }
   ],
   "source": [
    "N = 7\n",
    "in_range(3,5)"
   ]
  },
  {
   "cell_type": "code",
   "execution_count": null,
   "id": "0ff83f2b-c80d-4765-8375-95dd7165d11d",
   "metadata": {},
   "outputs": [],
   "source": [
    "N = int(input())\n",
    "\n",
    "graph = []\n",
    "for _ in range(N):\n",
    "    graph.append(list(map(int, input().split())))\n",
    "\n",
    "dx = [1, -1, 0, 0]\n",
    "dy = [0, 0, 1, -1] #아래,위,오른쪽,왼쪽\n",
    "\n",
    "\n",
    "visited = [[False for _ in range(N)] for _ in range(N)]\n",
    "\n",
    "people_nums = []\n",
    "people_num = 0\n",
    "\n",
    "def in_range(x,y):\n",
    "    return 0<=x<N and 0<=y<N\n",
    "\n",
    "def can_go(x,y):\n",
    "    if not in_range(x,y):\n",
    "        return False\n",
    "    if visited[x][y] == True or graph[x][y] == 0:\n",
    "        return False\n",
    "    return True\n",
    "\n",
    "def dfs(x,y):\n",
    "    global people_num\n",
    "\n",
    "    dxs, dys = [1,-1,0,0] , [0,0,1,-1]\n",
    "\n",
    "    for dx, dy in zip(dxs, dys):\n",
    "        new_x, new_y = x + dx, y + dy\n",
    "\n",
    "        if can_go(new_x,new_y):\n",
    "            visited[new_x][new_y] = True\n",
    "\n",
    "            people_num +=1\n",
    "            dfs(new_x,new_y)\n",
    "\n",
    "for i in range(N):\n",
    "    for j in range(N):\n",
    "        if can_go(i,j):\n",
    "\n",
    "            visited[i][j] = True\n",
    "            people_num = 1\n",
    "\n",
    "            dfs(i,j)\n",
    "\n",
    "            people_nums.append(people_num)\n",
    "\n",
    "people_nums.sort()\n",
    "\n",
    "print(len(people_nums))\n",
    "for num in people_nums:\n",
    "    print(num)"
   ]
  },
  {
   "cell_type": "code",
   "execution_count": 14,
   "id": "f28e505d-ec30-436d-8d4c-5474dcf42427",
   "metadata": {},
   "outputs": [],
   "source": [
    "arr = [1,2,3]"
   ]
  },
  {
   "cell_type": "code",
   "execution_count": 11,
   "id": "954914e0-447d-4e4d-ad33-d4ea6b49c310",
   "metadata": {},
   "outputs": [
    {
     "data": {
      "text/plain": [
       "1"
      ]
     },
     "execution_count": 11,
     "metadata": {},
     "output_type": "execute_result"
    }
   ],
   "source": [
    "arr.pop(0)"
   ]
  },
  {
   "cell_type": "code",
   "execution_count": 15,
   "id": "780fbb45-3548-46b5-a24b-7bec3471e4f1",
   "metadata": {},
   "outputs": [
    {
     "data": {
      "text/plain": [
       "[1, 2, 3]"
      ]
     },
     "execution_count": 15,
     "metadata": {},
     "output_type": "execute_result"
    }
   ],
   "source": [
    "arr"
   ]
  },
  {
   "cell_type": "code",
   "execution_count": 16,
   "id": "ce8e69a3-b75c-478c-b3e6-4bdf50caf68e",
   "metadata": {},
   "outputs": [
    {
     "name": "stdout",
     "output_type": "stream",
     "text": [
      "1\n",
      "1\n",
      "2\n",
      "2\n",
      "3\n",
      "3\n"
     ]
    }
   ],
   "source": [
    "while arr :\n",
    "    print(arr[0])\n",
    "    print(arr.pop(0))"
   ]
  },
  {
   "cell_type": "code",
   "execution_count": null,
   "id": "f6d2d7ef-d8e7-4e3f-8700-54335f8cb919",
   "metadata": {},
   "outputs": [],
   "source": [
    "n, k = map(int, input().split())\n",
    "\n",
    "graph = []\n",
    "for _ in range(n):\n",
    "    graph.append(list(map(int, input().split())))\n",
    "\n",
    "dxs, dys = [0,0,1,-1], [1,-1,0,0]\n",
    "\n",
    "visited = [[0 for _ in range(n)] for _ in range(n)]\n",
    "\n",
    "answer = [[-2 for _ in range(n)] for _ in range(n)]\n",
    "\n",
    "def in_range(x,y):\n",
    "    return 0<=x<n and 0<=y<n\n",
    "\n",
    "def can_go(x,y):\n",
    "    if not in_range(x,y):\n",
    "        return False\n",
    "    if visited[x][y] != 0 or graph[x][y] ==0 or graph[x][y] == 2:\n",
    "        return False\n",
    "    return True\n",
    "\n",
    "for i in range(n):\n",
    "    for j in range(n):\n",
    "        if graph[i][j] == 0 :\n",
    "            answer[i][j] = -1\n",
    "\n",
    "queue = []\n",
    "def bfs(x,y):\n",
    "    queue.append((x,y))\n",
    "    answer[x][y] = 0\n",
    "    visited[x][y] = 1\n",
    "    \n",
    "    while queue:\n",
    "\n",
    "        x,y = queue.pop(0)\n",
    "\n",
    "        for dx, dy in zip(dxs, dys):\n",
    "            new_x, new_y = x+dx, y+dy\n",
    "\n",
    "            if can_go(new_x, new_y):\n",
    "                queue.append((new_x,new_y))\n",
    "                answer[new_x][new_y] = answer[x][y]+1\n",
    "                visited[new_x][new_y] = 1\n",
    "        \n",
    "\n",
    "    for i in range(n):\n",
    "        for j in range(n):\n",
    "            visited[i][j] = 0\n",
    "            \n",
    "for i in range(n):\n",
    "    for j in range(n):\n",
    "        if graph[i][j] == 2 :\n",
    "            bfs(i,j)\n",
    "\n",
    "for i in answer :\n",
    "    print(*i)"
   ]
  }
 ],
 "metadata": {
  "kernelspec": {
   "display_name": "Python 3 (ipykernel)",
   "language": "python",
   "name": "python3"
  },
  "language_info": {
   "codemirror_mode": {
    "name": "ipython",
    "version": 3
   },
   "file_extension": ".py",
   "mimetype": "text/x-python",
   "name": "python",
   "nbconvert_exporter": "python",
   "pygments_lexer": "ipython3",
   "version": "3.9.13"
  }
 },
 "nbformat": 4,
 "nbformat_minor": 5
}
