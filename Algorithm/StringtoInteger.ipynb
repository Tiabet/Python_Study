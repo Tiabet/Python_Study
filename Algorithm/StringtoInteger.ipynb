{
 "cells": [
  {
   "cell_type": "code",
   "execution_count": 1,
   "id": "42a69ee1-3f52-4833-9821-dcdc0db1f8bc",
   "metadata": {},
   "outputs": [],
   "source": [
    "s = 'dc jkslkdle'"
   ]
  },
  {
   "cell_type": "code",
   "execution_count": 2,
   "id": "e7bb0ab0-ffb6-45b4-9034-167669671514",
   "metadata": {},
   "outputs": [
    {
     "name": "stdout",
     "output_type": "stream",
     "text": [
      "d\n",
      "c\n",
      " \n",
      "j\n",
      "k\n",
      "s\n",
      "l\n",
      "k\n",
      "d\n",
      "l\n",
      "e\n"
     ]
    }
   ],
   "source": [
    "for i in s :\n",
    "    print(i)"
   ]
  },
  {
   "cell_type": "code",
   "execution_count": 4,
   "id": "207369b9-32ef-4c64-92b5-b37aa14eb674",
   "metadata": {},
   "outputs": [],
   "source": [
    "result = \"42\""
   ]
  },
  {
   "cell_type": "code",
   "execution_count": 5,
   "id": "9cb604e5-544c-44e2-9180-8e6a56ec9372",
   "metadata": {},
   "outputs": [
    {
     "data": {
      "text/plain": [
       "42"
      ]
     },
     "execution_count": 5,
     "metadata": {},
     "output_type": "execute_result"
    }
   ],
   "source": [
    "int(result)"
   ]
  },
  {
   "cell_type": "code",
   "execution_count": 17,
   "id": "723d14e5-16b2-4fc0-a652-d591eac6cb5a",
   "metadata": {},
   "outputs": [],
   "source": [
    "    def myAtoi( s):\n",
    "        \"\"\"\n",
    "        :type s: str\n",
    "        :rtype: int\n",
    "        \"\"\"\n",
    "        int_list = [str(i) for i in range(0,10)]\n",
    "        result = \"\"\n",
    "\n",
    "        for char in s :\n",
    "            if char in int_list:\n",
    "                if result == \"\" and char == '0':\n",
    "                    continue\n",
    "                else : \n",
    "                    result += char\n",
    "\n",
    "        return int(result)\n"
   ]
  },
  {
   "cell_type": "code",
   "execution_count": 19,
   "id": "2d86c008-70f9-41a4-940d-4d81ba29ecbf",
   "metadata": {},
   "outputs": [
    {
     "name": "stdout",
     "output_type": "stream",
     "text": [
      "42\n"
     ]
    },
    {
     "data": {
      "text/plain": [
       "42"
      ]
     },
     "execution_count": 19,
     "metadata": {},
     "output_type": "execute_result"
    }
   ],
   "source": [
    "myAtoi(\"42\")"
   ]
  },
  {
   "cell_type": "code",
   "execution_count": 16,
   "id": "3340b7e8-7648-47c7-99dd-a9e8c318719f",
   "metadata": {},
   "outputs": [
    {
     "data": {
      "text/plain": [
       "'423'"
      ]
     },
     "execution_count": 16,
     "metadata": {},
     "output_type": "execute_result"
    }
   ],
   "source": [
    "result"
   ]
  },
  {
   "cell_type": "code",
   "execution_count": null,
   "id": "b2cf46e9-6d5e-4846-8b7e-5ad93923d741",
   "metadata": {},
   "outputs": [],
   "source": []
  }
 ],
 "metadata": {
  "kernelspec": {
   "display_name": "Python 3 (ipykernel)",
   "language": "python",
   "name": "python3"
  },
  "language_info": {
   "codemirror_mode": {
    "name": "ipython",
    "version": 3
   },
   "file_extension": ".py",
   "mimetype": "text/x-python",
   "name": "python",
   "nbconvert_exporter": "python",
   "pygments_lexer": "ipython3",
   "version": "3.9.13"
  }
 },
 "nbformat": 4,
 "nbformat_minor": 5
}
