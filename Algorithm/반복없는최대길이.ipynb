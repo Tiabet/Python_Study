{
 "cells": [
  {
   "cell_type": "code",
   "execution_count": null,
   "id": "e0751838-d4c5-4890-a534-7f525122208f",
   "metadata": {},
   "outputs": [],
   "source": [
    "class Solution(object):\n",
    "    def lengthOfLongestSubstring(self, s):\n",
    "        \"\"\"\n",
    "        :type s: str\n",
    "        :rtype: int\n",
    "        \"\"\"\n",
    "\n",
    "        max_len , start = 0,0\n",
    "        used = {}\n",
    "\n",
    "        for i, char in enumerate(s):\n",
    "            if char in used and start <= used[char]:\n",
    "                start = used[char] + 1\n",
    "            else :\n",
    "                max_len = max(max_len, i-start+1)\n",
    "            used[char] = i\n",
    "\n",
    "        return max_len\n",
    "\n",
    "        \n",
    "\n",
    "\n",
    "        "
   ]
  }
 ],
 "metadata": {
  "kernelspec": {
   "display_name": "Python 3 (ipykernel)",
   "language": "python",
   "name": "python3"
  },
  "language_info": {
   "codemirror_mode": {
    "name": "ipython",
    "version": 3
   },
   "file_extension": ".py",
   "mimetype": "text/x-python",
   "name": "python",
   "nbconvert_exporter": "python",
   "pygments_lexer": "ipython3",
   "version": "3.9.13"
  }
 },
 "nbformat": 4,
 "nbformat_minor": 5
}
