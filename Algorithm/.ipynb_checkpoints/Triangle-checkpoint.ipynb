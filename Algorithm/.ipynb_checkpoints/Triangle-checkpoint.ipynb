{
 "cells": [
  {
   "cell_type": "code",
   "execution_count": null,
   "id": "95ea3057-f943-4743-af90-bd1b766c8d49",
   "metadata": {},
   "outputs": [],
   "source": [
    "class Solution(object):\n",
    "    def minimumTotal(self, triangle):\n",
    "        \"\"\"\n",
    "        :type triangle: List[List[int]]\n",
    "        :rtype: int\n",
    "        \"\"\"\n",
    "        dp = []\n",
    "        for i in range(1,len(triangle)+1):\n",
    "            dp.append([0]*i)\n",
    "\n",
    "        dp[0][0] = triangle[0][0]\n",
    "\n",
    "        for d in range(1,len(dp)):\n",
    "            for i in range(len(triangle[d])):\n",
    "                if i == 0 :\n",
    "                    dp[d][i] = dp[d-1][i] + triangle[d][i]\n",
    "                elif i == len(triangle[d])-1:\n",
    "                    dp[d][i] = dp[d-1][-1] + triangle[d][i]\n",
    "                else :\n",
    "                    dp[d][i] = min(dp[d-1][i-1],dp[d-1][i]) + triangle[d][i]\n",
    "\n",
    "\n",
    "        return min(dp[-1])\n",
    "\n",
    "\n"
   ]
  }
 ],
 "metadata": {
  "kernelspec": {
   "display_name": "Python 3 (ipykernel)",
   "language": "python",
   "name": "python3"
  },
  "language_info": {
   "codemirror_mode": {
    "name": "ipython",
    "version": 3
   },
   "file_extension": ".py",
   "mimetype": "text/x-python",
   "name": "python",
   "nbconvert_exporter": "python",
   "pygments_lexer": "ipython3",
   "version": "3.9.13"
  }
 },
 "nbformat": 4,
 "nbformat_minor": 5
}
