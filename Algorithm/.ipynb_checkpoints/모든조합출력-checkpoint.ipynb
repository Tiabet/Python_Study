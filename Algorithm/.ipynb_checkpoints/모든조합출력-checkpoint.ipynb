{
 "cells": [
  {
   "cell_type": "code",
   "execution_count": 7,
   "id": "1a45dda4-156a-47c0-9c8e-be6dda50d8d5",
   "metadata": {},
   "outputs": [
    {
     "name": "stdout",
     "output_type": "stream",
     "text": [
      "3 3 \n",
      "3 2 \n",
      "3 1 \n",
      "2 3 \n",
      "2 2 \n",
      "2 1 \n",
      "1 3 \n",
      "1 2 \n",
      "1 1 \n"
     ]
    }
   ],
   "source": [
    "def print_combinations_recursive(n, k, combination=[]):\n",
    "    # Base case: if the length of the combination is k, print the combination\n",
    "    if len(combination) == k:\n",
    "        for i in range(k):\n",
    "            print(combination[i], end = \" \")\n",
    "        print()\n",
    "        return\n",
    "    \n",
    "    # Iterate through all numbers from 1 to n\n",
    "    for i in range(n, 0,-1):\n",
    "        # Add the current number to the combination\n",
    "        new_combination = combination + [i]\n",
    "        # Recursively proceed to add the next number\n",
    "        print_combinations_recursive(n, k, new_combination)\n",
    "\n",
    "# Example usage\n",
    "n = 3\n",
    "k = 2\n",
    "print_combinations_recursive(n, k)"
   ]
  },
  {
   "cell_type": "code",
   "execution_count": 12,
   "id": "d928742c-f948-471b-bbbd-fad6c0b6dc63",
   "metadata": {},
   "outputs": [
    {
     "name": "stdout",
     "output_type": "stream",
     "text": [
      "3 3 \n",
      "3 2 \n",
      "3 1 \n",
      "2 3 \n",
      "2 2 \n",
      "2 1 \n",
      "1 3 \n",
      "1 2 \n",
      "1 1 \n"
     ]
    }
   ],
   "source": [
    "import itertools\n",
    "\n",
    "def print_cartesian_product(n):\n",
    "    for p in itertools.product(range(n, 0,-1), repeat=2):\n",
    "        for i in range(len(p)):\n",
    "            print(p[i], end =\" \")\n",
    "        print()\n",
    "\n",
    "# Example usage\n",
    "n = 3\n",
    "print_cartesian_product(n)\n"
   ]
  },
  {
   "cell_type": "code",
   "execution_count": null,
   "id": "893e42f1-c35c-48e6-9318-dde6300d24e8",
   "metadata": {},
   "outputs": [],
   "source": []
  }
 ],
 "metadata": {
  "kernelspec": {
   "display_name": "Python 3 (ipykernel)",
   "language": "python",
   "name": "python3"
  },
  "language_info": {
   "codemirror_mode": {
    "name": "ipython",
    "version": 3
   },
   "file_extension": ".py",
   "mimetype": "text/x-python",
   "name": "python",
   "nbconvert_exporter": "python",
   "pygments_lexer": "ipython3",
   "version": "3.9.13"
  }
 },
 "nbformat": 4,
 "nbformat_minor": 5
}
