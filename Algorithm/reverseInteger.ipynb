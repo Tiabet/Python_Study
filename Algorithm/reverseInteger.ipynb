{
 "cells": [
  {
   "cell_type": "code",
   "execution_count": null,
   "id": "0d835000-0071-4d15-83bc-67aa3e7d5cc7",
   "metadata": {},
   "outputs": [],
   "source": [
    "class Solution(object):\n",
    "    def reverse(self, x):\n",
    "        \"\"\"\n",
    "        :type x: int\n",
    "        :rtype: int\n",
    "        \"\"\"\n",
    "        is_minus = True if x<0 else False\n",
    "        x = abs(x)\n",
    "\n",
    "        num = x\n",
    "        result = 0\n",
    "\n",
    "        while x != 0 :\n",
    "            num, next = divmod(num,10)\n",
    "            if count==0 and next==0:\n",
    "                continue\n",
    "            else :\n",
    "                result = next + result*10\n",
    "                \n",
    "\n",
    "            if num == 0:\n",
    "                break\n",
    "        if result<-(2**31) or result>2**31-1:\n",
    "            return 0\n",
    "            \n",
    "        if is_minus == True :\n",
    "            return result*-1\n",
    "        else :\n",
    "            return result\n",
    "\n",
    "\n",
    "            \n",
    "\n",
    "\n",
    "\n",
    "        "
   ]
  }
 ],
 "metadata": {
  "kernelspec": {
   "display_name": "Python 3 (ipykernel)",
   "language": "python",
   "name": "python3"
  },
  "language_info": {
   "codemirror_mode": {
    "name": "ipython",
    "version": 3
   },
   "file_extension": ".py",
   "mimetype": "text/x-python",
   "name": "python",
   "nbconvert_exporter": "python",
   "pygments_lexer": "ipython3",
   "version": "3.9.13"
  }
 },
 "nbformat": 4,
 "nbformat_minor": 5
}
