{
 "cells": [
  {
   "cell_type": "markdown",
   "id": "5a2626f0-a0dc-4e15-a1d3-7dd5a9050961",
   "metadata": {},
   "source": [
    "### 데이터 로드 및 preprocessing"
   ]
  },
  {
   "cell_type": "code",
   "execution_count": 1,
   "id": "be0c6aab-c722-4d6d-ab6d-6ea3ac7cb171",
   "metadata": {},
   "outputs": [],
   "source": [
    "import pandas as pd"
   ]
  },
  {
   "cell_type": "code",
   "execution_count": 13,
   "id": "376e0bee-f1d5-4784-8bb3-9ab9f1bf9e65",
   "metadata": {},
   "outputs": [],
   "source": [
    "df = pd.read_parquet('데이터/02~23/news_oil_02~23.parquet')"
   ]
  },
  {
   "cell_type": "code",
   "execution_count": 5,
   "id": "66ef0d59-902e-4e9a-907c-0ddac83b6b68",
   "metadata": {},
   "outputs": [],
   "source": [
    "# df.drop('url', axis=1, inplace = True)"
   ]
  },
  {
   "cell_type": "code",
   "execution_count": 6,
   "id": "7705de17-dcb7-49f9-89b5-52cacdac4682",
   "metadata": {},
   "outputs": [],
   "source": [
    "# df['date'][233] = '2003. 2. 19.'"
   ]
  },
  {
   "cell_type": "code",
   "execution_count": 14,
   "id": "53550628-8551-4e3e-912b-f8bd968d5fa8",
   "metadata": {},
   "outputs": [
    {
     "data": {
      "text/html": [
       "<div>\n",
       "<style scoped>\n",
       "    .dataframe tbody tr th:only-of-type {\n",
       "        vertical-align: middle;\n",
       "    }\n",
       "\n",
       "    .dataframe tbody tr th {\n",
       "        vertical-align: top;\n",
       "    }\n",
       "\n",
       "    .dataframe thead th {\n",
       "        text-align: right;\n",
       "    }\n",
       "</style>\n",
       "<table border=\"1\" class=\"dataframe\">\n",
       "  <thead>\n",
       "    <tr style=\"text-align: right;\">\n",
       "      <th></th>\n",
       "      <th>title</th>\n",
       "      <th>date</th>\n",
       "    </tr>\n",
       "  </thead>\n",
       "  <tbody>\n",
       "    <tr>\n",
       "      <th>0</th>\n",
       "      <td>Building Beefy Blocks - Hardcore Tech! 360 A-B...</td>\n",
       "      <td>2002-01-01</td>\n",
       "    </tr>\n",
       "    <tr>\n",
       "      <th>1</th>\n",
       "      <td>PM: Guyana Oil Production Frustrated by Neig...</td>\n",
       "      <td>2002-01-09</td>\n",
       "    </tr>\n",
       "    <tr>\n",
       "      <th>2</th>\n",
       "      <td>A Reclusive Oil Baron Builds 'Taj Mahal' in Sa...</td>\n",
       "      <td>2002-01-10</td>\n",
       "    </tr>\n",
       "    <tr>\n",
       "      <th>3</th>\n",
       "      <td>SCOTLAND | BP fined £1m for safety offences</td>\n",
       "      <td>2002-01-18</td>\n",
       "    </tr>\n",
       "    <tr>\n",
       "      <th>4</th>\n",
       "      <td>Gas prices expected to spike</td>\n",
       "      <td>2002-01-27</td>\n",
       "    </tr>\n",
       "    <tr>\n",
       "      <th>...</th>\n",
       "      <td>...</td>\n",
       "      <td>...</td>\n",
       "    </tr>\n",
       "    <tr>\n",
       "      <th>5939</th>\n",
       "      <td>Brazil environment minister demands 'ceiling' ...</td>\n",
       "      <td>2023-12-25</td>\n",
       "    </tr>\n",
       "    <tr>\n",
       "      <th>5940</th>\n",
       "      <td>Oil drops almost 2% as investors watch Red Sea...</td>\n",
       "      <td>2023-12-27</td>\n",
       "    </tr>\n",
       "    <tr>\n",
       "      <th>5941</th>\n",
       "      <td>Oil prices shed 10% in 2023 as supply, demand ...</td>\n",
       "      <td>2023-12-29</td>\n",
       "    </tr>\n",
       "    <tr>\n",
       "      <th>5942</th>\n",
       "      <td>Why Oil Prices Never Surged to $100 This Year</td>\n",
       "      <td>2023-12-29</td>\n",
       "    </tr>\n",
       "    <tr>\n",
       "      <th>5943</th>\n",
       "      <td>Oil Prices Poised To Climb in 2024 Amid Geopol...</td>\n",
       "      <td>2023-12-30</td>\n",
       "    </tr>\n",
       "  </tbody>\n",
       "</table>\n",
       "<p>5944 rows × 2 columns</p>\n",
       "</div>"
      ],
      "text/plain": [
       "                                                  title       date\n",
       "0     Building Beefy Blocks - Hardcore Tech! 360 A-B... 2002-01-01\n",
       "1       PM: Guyana Oil Production Frustrated by Neig... 2002-01-09\n",
       "2     A Reclusive Oil Baron Builds 'Taj Mahal' in Sa... 2002-01-10\n",
       "3           SCOTLAND | BP fined £1m for safety offences 2002-01-18\n",
       "4                          Gas prices expected to spike 2002-01-27\n",
       "...                                                 ...        ...\n",
       "5939  Brazil environment minister demands 'ceiling' ... 2023-12-25\n",
       "5940  Oil drops almost 2% as investors watch Red Sea... 2023-12-27\n",
       "5941  Oil prices shed 10% in 2023 as supply, demand ... 2023-12-29\n",
       "5942      Why Oil Prices Never Surged to $100 This Year 2023-12-29\n",
       "5943  Oil Prices Poised To Climb in 2024 Amid Geopol... 2023-12-30\n",
       "\n",
       "[5944 rows x 2 columns]"
      ]
     },
     "execution_count": 14,
     "metadata": {},
     "output_type": "execute_result"
    }
   ],
   "source": [
    "df['date'] = pd.to_datetime(df['date'])\n",
    "df"
   ]
  },
  {
   "cell_type": "code",
   "execution_count": 27,
   "id": "9c428be9-bdcc-45fd-9fc0-5c05a5c5afa8",
   "metadata": {},
   "outputs": [],
   "source": [
    "# df = df.sort_values(by='date')\n"
   ]
  },
  {
   "cell_type": "code",
   "execution_count": 36,
   "id": "7111d82b-5913-4fdc-a70a-a9d932481386",
   "metadata": {},
   "outputs": [],
   "source": [
    "# df = df.reset_index(drop = True)\n",
    "# df.to_parquet('데이터/02~23/news_oil_02~23.parquet', compression = 'gzip', engine = 'pyarrow', index = False)"
   ]
  },
  {
   "cell_type": "code",
   "execution_count": 32,
   "id": "ad89bca6-57d8-4895-9ff7-653b188c3686",
   "metadata": {},
   "outputs": [
    {
     "data": {
      "text/html": [
       "<div>\n",
       "<style scoped>\n",
       "    .dataframe tbody tr th:only-of-type {\n",
       "        vertical-align: middle;\n",
       "    }\n",
       "\n",
       "    .dataframe tbody tr th {\n",
       "        vertical-align: top;\n",
       "    }\n",
       "\n",
       "    .dataframe thead th {\n",
       "        text-align: right;\n",
       "    }\n",
       "</style>\n",
       "<table border=\"1\" class=\"dataframe\">\n",
       "  <thead>\n",
       "    <tr style=\"text-align: right;\">\n",
       "      <th></th>\n",
       "      <th>date</th>\n",
       "      <th>return</th>\n",
       "    </tr>\n",
       "  </thead>\n",
       "  <tbody>\n",
       "    <tr>\n",
       "      <th>0</th>\n",
       "      <td>1986-01-31</td>\n",
       "      <td>1.138226</td>\n",
       "    </tr>\n",
       "    <tr>\n",
       "      <th>1</th>\n",
       "      <td>1986-02-07</td>\n",
       "      <td>1.959957</td>\n",
       "    </tr>\n",
       "    <tr>\n",
       "      <th>2</th>\n",
       "      <td>1986-02-14</td>\n",
       "      <td>2.346657</td>\n",
       "    </tr>\n",
       "    <tr>\n",
       "      <th>3</th>\n",
       "      <td>1986-02-21</td>\n",
       "      <td>2.325644</td>\n",
       "    </tr>\n",
       "    <tr>\n",
       "      <th>4</th>\n",
       "      <td>1986-02-28</td>\n",
       "      <td>2.393233</td>\n",
       "    </tr>\n",
       "    <tr>\n",
       "      <th>...</th>\n",
       "      <td>...</td>\n",
       "      <td>...</td>\n",
       "    </tr>\n",
       "    <tr>\n",
       "      <th>1990</th>\n",
       "      <td>2024-04-19</td>\n",
       "      <td>-0.802495</td>\n",
       "    </tr>\n",
       "    <tr>\n",
       "      <th>1991</th>\n",
       "      <td>2024-04-26</td>\n",
       "      <td>-0.867596</td>\n",
       "    </tr>\n",
       "    <tr>\n",
       "      <th>1992</th>\n",
       "      <td>2024-05-03</td>\n",
       "      <td>-0.826431</td>\n",
       "    </tr>\n",
       "    <tr>\n",
       "      <th>1993</th>\n",
       "      <td>2024-05-10</td>\n",
       "      <td>-0.793951</td>\n",
       "    </tr>\n",
       "    <tr>\n",
       "      <th>1994</th>\n",
       "      <td>2024-05-17</td>\n",
       "      <td>-0.787942</td>\n",
       "    </tr>\n",
       "  </tbody>\n",
       "</table>\n",
       "<p>1995 rows × 2 columns</p>\n",
       "</div>"
      ],
      "text/plain": [
       "            date    return\n",
       "0     1986-01-31  1.138226\n",
       "1     1986-02-07  1.959957\n",
       "2     1986-02-14  2.346657\n",
       "3     1986-02-21  2.325644\n",
       "4     1986-02-28  2.393233\n",
       "...          ...       ...\n",
       "1990  2024-04-19 -0.802495\n",
       "1991  2024-04-26 -0.867596\n",
       "1992  2024-05-03 -0.826431\n",
       "1993  2024-05-10 -0.793951\n",
       "1994  2024-05-17 -0.787942\n",
       "\n",
       "[1995 rows x 2 columns]"
      ]
     },
     "execution_count": 32,
     "metadata": {},
     "output_type": "execute_result"
    }
   ],
   "source": [
    "pd.read_csv(\"SP_vol.csv\")"
   ]
  },
  {
   "cell_type": "code",
   "execution_count": 18,
   "id": "b8cfcbe4-4bad-4542-8d52-01934aeaaf4a",
   "metadata": {},
   "outputs": [
    {
     "name": "stderr",
     "output_type": "stream",
     "text": [
      "100%|████████████████████████████████████████████████████████████████████████████| 5944/5944 [00:00<00:00, 7175.93it/s]\n"
     ]
    }
   ],
   "source": [
    "import pandas as pd\n",
    "from tokenizers import Tokenizer, models, normalizers, pre_tokenizers, trainers\n",
    "from transformers import PreTrainedTokenizerFast\n",
    "from tqdm import tqdm\n",
    "\n",
    "LOWERCASE = False\n",
    "VOCAB_SIZE = 10000\n",
    "\n",
    "# Creating Byte-Pair Encoding tokenizer\n",
    "raw_tokenizer = Tokenizer(models.BPE(unk_token=\"[UNK]\"))\n",
    "\n",
    "# Adding normalization and pre_tokenizer\n",
    "raw_tokenizer.normalizer = normalizers.Sequence([normalizers.NFC()] + [normalizers.Lowercase()] if LOWERCASE else [])\n",
    "raw_tokenizer.pre_tokenizer = pre_tokenizers.ByteLevel()\n",
    "\n",
    "# Adding special tokens and creating trainer instance\n",
    "special_tokens = [\"[UNK]\", \"[PAD]\", \"[CLS]\", \"[SEP]\", \"[MASK]\"]\n",
    "trainer = trainers.BpeTrainer(vocab_size=VOCAB_SIZE, special_tokens=special_tokens)\n",
    "\n",
    "def train_corp_iter():\n",
    "    \"\"\"\n",
    "    A generator function for iterating over the DataFrame in chunks.\n",
    "    \"\"\"\n",
    "    for i in range(0, len(df), 1000):\n",
    "        yield df.iloc[i : i + 1000]['title'].tolist()\n",
    "\n",
    "# Training from iterator\n",
    "raw_tokenizer.train_from_iterator(train_corp_iter(), trainer=trainer)\n",
    "\n",
    "tokenizer = PreTrainedTokenizerFast(\n",
    "    tokenizer_object=raw_tokenizer,\n",
    "    unk_token=\"[UNK]\",\n",
    "    pad_token=\"[PAD]\",\n",
    "    cls_token=\"[CLS]\",\n",
    "    sep_token=\"[SEP]\",\n",
    "    mask_token=\"[MASK]\",\n",
    ")\n",
    "\n",
    "# Tokenize the entire DataFrame\n",
    "tokenized_texts = []\n",
    "\n",
    "for title in tqdm(df['title'].tolist()):\n",
    "    tokenized_texts.append(tokenizer.tokenize(title))\n"
   ]
  },
  {
   "cell_type": "code",
   "execution_count": null,
   "id": "1fbba157-8d04-49c0-9bf4-ae61479f3780",
   "metadata": {},
   "outputs": [],
   "source": [
    "# Convert tokens to token IDs\n",
    "token_ids = [tokenizer.convert_tokens_to_ids(tokens) for tokens in tokenized_texts]\n",
    "\n",
    "# Untokenize the text by decoding the token IDs\n",
    "untokenized_texts = [tokenizer.decode(ids) for ids in token_ids]\n",
    "\n",
    "# Print original, tokenized, and untokenized texts\n",
    "for original, tokenized, untokenized in zip(df['title'].tolist(), tokenized_texts, untokenized_texts):\n",
    "    print(f\"Original: {original}\")\n",
    "    print(f\"Tokenized: {tokenized}\")\n",
    "    print(f\"Untokenized: {untokenized}\")\n",
    "    print()"
   ]
  },
  {
   "cell_type": "code",
   "execution_count": null,
   "id": "82d86c54-86e8-4ee1-b11c-6081d27d15f7",
   "metadata": {},
   "outputs": [],
   "source": []
  }
 ],
 "metadata": {
  "kernelspec": {
   "display_name": "Python 3 (ipykernel)",
   "language": "python",
   "name": "python3"
  },
  "language_info": {
   "codemirror_mode": {
    "name": "ipython",
    "version": 3
   },
   "file_extension": ".py",
   "mimetype": "text/x-python",
   "name": "python",
   "nbconvert_exporter": "python",
   "pygments_lexer": "ipython3",
   "version": "3.9.13"
  }
 },
 "nbformat": 4,
 "nbformat_minor": 5
}
