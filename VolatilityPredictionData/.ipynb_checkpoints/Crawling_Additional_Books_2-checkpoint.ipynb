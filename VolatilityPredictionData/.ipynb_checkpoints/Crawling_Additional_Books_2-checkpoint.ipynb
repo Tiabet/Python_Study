{
 "cells": [
  {
   "cell_type": "code",
   "execution_count": 1,
   "id": "95c8c105-9721-4368-9d88-ec06cd6288ed",
   "metadata": {},
   "outputs": [],
   "source": [
    "from selenium import webdriver\n",
    "from selenium.webdriver.common.by import By\n",
    "from selenium.webdriver.chrome.service import Service\n",
    "from selenium.common.exceptions import NoSuchElementException, ElementClickInterceptedException\n",
    "from webdriver_manager.chrome import ChromeDriverManager\n",
    "import time\n",
    "import pandas as pd\n",
    "import mysql.connector\n",
    "import re"
   ]
  },
  {
   "cell_type": "code",
   "execution_count": 2,
   "id": "2c3c28db-108b-439a-b133-f7a4dbddcc5b",
   "metadata": {},
   "outputs": [],
   "source": [
    "column_names = ['title','date']\n",
    "new_df = pd.DataFrame(columns = column_names)"
   ]
  },
  {
   "cell_type": "code",
   "execution_count": 3,
   "id": "6d67a181-e1e2-4a03-b9ee-21d31055f57e",
   "metadata": {},
   "outputs": [],
   "source": [
    "idx = 0"
   ]
  },
  {
   "cell_type": "code",
   "execution_count": 4,
   "id": "6b32cbac-11d5-475a-a0ac-9686a06613fb",
   "metadata": {},
   "outputs": [],
   "source": [
    "chromedriver_path = 'C:/Users/kkksk/.wdm/drivers/chromedriver/win64/122.0.6261.129/chromedriver.exe'\n",
    "service = Service(chromedriver_path)\n",
    "driver = webdriver.Chrome(service=service)"
   ]
  },
  {
   "cell_type": "code",
   "execution_count": 5,
   "id": "de70685d-1796-45f7-8424-83bfb61aa01a",
   "metadata": {},
   "outputs": [],
   "source": [
    "to_crawl = pd.read_csv(\"15일이상결측치인달.csv\")"
   ]
  },
  {
   "cell_type": "code",
   "execution_count": 22,
   "id": "31b5986b-8b52-4dad-864e-00b2b61a894e",
   "metadata": {},
   "outputs": [
    {
     "data": {
      "text/html": [
       "<div>\n",
       "<style scoped>\n",
       "    .dataframe tbody tr th:only-of-type {\n",
       "        vertical-align: middle;\n",
       "    }\n",
       "\n",
       "    .dataframe tbody tr th {\n",
       "        vertical-align: top;\n",
       "    }\n",
       "\n",
       "    .dataframe thead th {\n",
       "        text-align: right;\n",
       "    }\n",
       "</style>\n",
       "<table border=\"1\" class=\"dataframe\">\n",
       "  <thead>\n",
       "    <tr style=\"text-align: right;\">\n",
       "      <th></th>\n",
       "      <th>year</th>\n",
       "      <th>month</th>\n",
       "      <th>missing_days</th>\n",
       "    </tr>\n",
       "  </thead>\n",
       "  <tbody>\n",
       "    <tr>\n",
       "      <th>0</th>\n",
       "      <td>1986</td>\n",
       "      <td>11</td>\n",
       "      <td>25</td>\n",
       "    </tr>\n",
       "    <tr>\n",
       "      <th>1</th>\n",
       "      <td>1987</td>\n",
       "      <td>2</td>\n",
       "      <td>18</td>\n",
       "    </tr>\n",
       "    <tr>\n",
       "      <th>2</th>\n",
       "      <td>1988</td>\n",
       "      <td>1</td>\n",
       "      <td>17</td>\n",
       "    </tr>\n",
       "    <tr>\n",
       "      <th>3</th>\n",
       "      <td>1988</td>\n",
       "      <td>4</td>\n",
       "      <td>16</td>\n",
       "    </tr>\n",
       "    <tr>\n",
       "      <th>4</th>\n",
       "      <td>1988</td>\n",
       "      <td>5</td>\n",
       "      <td>19</td>\n",
       "    </tr>\n",
       "    <tr>\n",
       "      <th>...</th>\n",
       "      <td>...</td>\n",
       "      <td>...</td>\n",
       "      <td>...</td>\n",
       "    </tr>\n",
       "    <tr>\n",
       "      <th>122</th>\n",
       "      <td>2001</td>\n",
       "      <td>8</td>\n",
       "      <td>22</td>\n",
       "    </tr>\n",
       "    <tr>\n",
       "      <th>123</th>\n",
       "      <td>2001</td>\n",
       "      <td>9</td>\n",
       "      <td>17</td>\n",
       "    </tr>\n",
       "    <tr>\n",
       "      <th>124</th>\n",
       "      <td>2001</td>\n",
       "      <td>10</td>\n",
       "      <td>17</td>\n",
       "    </tr>\n",
       "    <tr>\n",
       "      <th>125</th>\n",
       "      <td>2001</td>\n",
       "      <td>11</td>\n",
       "      <td>18</td>\n",
       "    </tr>\n",
       "    <tr>\n",
       "      <th>126</th>\n",
       "      <td>2001</td>\n",
       "      <td>12</td>\n",
       "      <td>22</td>\n",
       "    </tr>\n",
       "  </tbody>\n",
       "</table>\n",
       "<p>127 rows × 3 columns</p>\n",
       "</div>"
      ],
      "text/plain": [
       "     year  month  missing_days\n",
       "0    1986     11            25\n",
       "1    1987      2            18\n",
       "2    1988      1            17\n",
       "3    1988      4            16\n",
       "4    1988      5            19\n",
       "..    ...    ...           ...\n",
       "122  2001      8            22\n",
       "123  2001      9            17\n",
       "124  2001     10            17\n",
       "125  2001     11            18\n",
       "126  2001     12            22\n",
       "\n",
       "[127 rows x 3 columns]"
      ]
     },
     "execution_count": 22,
     "metadata": {},
     "output_type": "execute_result"
    }
   ],
   "source": [
    "target = to_crawl.sort_values(by = ['year','month'])\n",
    "target = target.reset_index()\n",
    "target.drop('index', axis = 1, inplace = True)\n",
    "target"
   ]
  },
  {
   "cell_type": "code",
   "execution_count": 26,
   "id": "a8c460b2-40c2-4277-b303-b96180ea4e3b",
   "metadata": {},
   "outputs": [
    {
     "data": {
      "text/plain": [
       "1986"
      ]
     },
     "execution_count": 26,
     "metadata": {},
     "output_type": "execute_result"
    }
   ],
   "source": [
    "target.loc[0].year"
   ]
  },
  {
   "cell_type": "code",
   "execution_count": null,
   "id": "9cf4adc1-7780-4d4f-89ad-4a3327af912d",
   "metadata": {},
   "outputs": [],
   "source": [
    "#cur_month = 1\n",
    "#cur_year = 1995\n",
    "#target_year = 2009\n",
    "\n",
    "count=0\n",
    "max_count = 126\n",
    "\n",
    "#while cur_year <= target_year:\n",
    "while count <= max_count:\n",
    "    \n",
    "    cur_year = target.loc[count].year\n",
    "    cur_month = target.loc[count].month\n",
    "    \n",
    "    url = f\"https://www.google.com/search?q=crude+oil&tbs=bkt:s,cdr:1,cd_min:{cur_month}/1/{cur_year},cd_max:{cur_month}/31/{cur_year}&tbm=bks\"\n",
    "    driver.get(url)\n",
    "    \n",
    "    time.sleep(30)\n",
    "    \n",
    "    next_button_time = 0\n",
    "    \n",
    "    while True:\n",
    "        news_results = driver.find_elements(By.CSS_SELECTOR, 'div#rso>div')\n",
    "        if not news_results: \n",
    "            break  \n",
    "            \n",
    "        for news_div in news_results:\n",
    "            try:\n",
    "                #Link = news_div.find_element(By.TAG_NAME, 'a').get_attribute('href')\n",
    "                title_element = news_div.find_element(By.CSS_SELECTOR, 'a>h3')\n",
    "                Title = title_element.text.strip(\".\")\n",
    "                Title = re.sub(r\"- \\d+페이지\", \"\", Title)\n",
    "                news_elements = news_div.find_elements(By.CSS_SELECTOR, 'div')\n",
    "                Date = ''  # Default Date value if not found\n",
    "                if len(news_elements) >= 10:\n",
    "                    info = news_elements[10].text  # Assuming 'info' is in the 11th element\n",
    "                    info_text = info.split(\"·\")\n",
    "                    if len(info_text) > 1:  # Check if Date is available\n",
    "                        Date = info_text[1].strip()\n",
    "                \n",
    "                #new_df.loc[idx] = [Title, Link, Date]\n",
    "                new_df.loc[idx] = [Title, Date]\n",
    "                idx += 1\n",
    "\n",
    "            except Exception as e:\n",
    "                print(e)\n",
    "            \n",
    "        try:\n",
    "            if next_button_time < 10:\n",
    "                next_button = driver.find_element(By.ID, 'pnnext')\n",
    "                next_button.click()\n",
    "                next_button_time +=1\n",
    "                time.sleep(1)\n",
    "            else :\n",
    "                break\n",
    "        except NoSuchElementException:\n",
    "            break\n",
    "\n",
    "    if cur_month == 7:  \n",
    "        cur_month = 1\n",
    "        cur_year += 1\n",
    "    else: \n",
    "        cur_month += 6"
   ]
  }
 ],
 "metadata": {
  "kernelspec": {
   "display_name": "Python 3 (ipykernel)",
   "language": "python",
   "name": "python3"
  },
  "language_info": {
   "codemirror_mode": {
    "name": "ipython",
    "version": 3
   },
   "file_extension": ".py",
   "mimetype": "text/x-python",
   "name": "python",
   "nbconvert_exporter": "python",
   "pygments_lexer": "ipython3",
   "version": "3.9.13"
  }
 },
 "nbformat": 4,
 "nbformat_minor": 5
}
