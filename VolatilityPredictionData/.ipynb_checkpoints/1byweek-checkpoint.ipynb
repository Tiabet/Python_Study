{
 "cells": [
  {
   "cell_type": "code",
   "execution_count": 19,
   "id": "a4df3b5f-db6f-415d-8fbb-e08e2caaeb67",
   "metadata": {},
   "outputs": [],
   "source": [
    "import pandas as pd\n",
    "from collections import Counter\n"
   ]
  },
  {
   "cell_type": "code",
   "execution_count": 2,
   "id": "bebfe1a2-75ac-451a-8a2d-4d4703bf4385",
   "metadata": {},
   "outputs": [],
   "source": [
    "df = pd.read_parquet('데이터/02~23/news_oil_02~23_sentiment.parquet')"
   ]
  },
  {
   "cell_type": "code",
   "execution_count": 3,
   "id": "78b93b31-c5ec-4fce-a638-f1cf1a391fd5",
   "metadata": {},
   "outputs": [
    {
     "data": {
      "text/html": [
       "<div>\n",
       "<style scoped>\n",
       "    .dataframe tbody tr th:only-of-type {\n",
       "        vertical-align: middle;\n",
       "    }\n",
       "\n",
       "    .dataframe tbody tr th {\n",
       "        vertical-align: top;\n",
       "    }\n",
       "\n",
       "    .dataframe thead th {\n",
       "        text-align: right;\n",
       "    }\n",
       "</style>\n",
       "<table border=\"1\" class=\"dataframe\">\n",
       "  <thead>\n",
       "    <tr style=\"text-align: right;\">\n",
       "      <th></th>\n",
       "      <th>title</th>\n",
       "      <th>date</th>\n",
       "      <th>sentiment</th>\n",
       "    </tr>\n",
       "  </thead>\n",
       "  <tbody>\n",
       "    <tr>\n",
       "      <th>0</th>\n",
       "      <td>Building Beefy Blocks - Hardcore Tech! 360 A-B...</td>\n",
       "      <td>2002-01-01</td>\n",
       "      <td>1</td>\n",
       "    </tr>\n",
       "    <tr>\n",
       "      <th>1</th>\n",
       "      <td>PM: Guyana Oil Production Frustrated by Neig...</td>\n",
       "      <td>2002-01-09</td>\n",
       "      <td>0</td>\n",
       "    </tr>\n",
       "    <tr>\n",
       "      <th>2</th>\n",
       "      <td>A Reclusive Oil Baron Builds 'Taj Mahal' in Sa...</td>\n",
       "      <td>2002-01-10</td>\n",
       "      <td>1</td>\n",
       "    </tr>\n",
       "    <tr>\n",
       "      <th>3</th>\n",
       "      <td>SCOTLAND | BP fined £1m for safety offences</td>\n",
       "      <td>2002-01-18</td>\n",
       "      <td>0</td>\n",
       "    </tr>\n",
       "    <tr>\n",
       "      <th>4</th>\n",
       "      <td>Gas prices expected to spike</td>\n",
       "      <td>2002-01-27</td>\n",
       "      <td>0</td>\n",
       "    </tr>\n",
       "    <tr>\n",
       "      <th>...</th>\n",
       "      <td>...</td>\n",
       "      <td>...</td>\n",
       "      <td>...</td>\n",
       "    </tr>\n",
       "    <tr>\n",
       "      <th>5939</th>\n",
       "      <td>Brazil environment minister demands 'ceiling' ...</td>\n",
       "      <td>2023-12-25</td>\n",
       "      <td>0</td>\n",
       "    </tr>\n",
       "    <tr>\n",
       "      <th>5940</th>\n",
       "      <td>Oil drops almost 2% as investors watch Red Sea...</td>\n",
       "      <td>2023-12-27</td>\n",
       "      <td>0</td>\n",
       "    </tr>\n",
       "    <tr>\n",
       "      <th>5941</th>\n",
       "      <td>Oil prices shed 10% in 2023 as supply, demand ...</td>\n",
       "      <td>2023-12-29</td>\n",
       "      <td>0</td>\n",
       "    </tr>\n",
       "    <tr>\n",
       "      <th>5942</th>\n",
       "      <td>Why Oil Prices Never Surged to $100 This Year</td>\n",
       "      <td>2023-12-29</td>\n",
       "      <td>0</td>\n",
       "    </tr>\n",
       "    <tr>\n",
       "      <th>5943</th>\n",
       "      <td>Oil Prices Poised To Climb in 2024 Amid Geopol...</td>\n",
       "      <td>2023-12-30</td>\n",
       "      <td>2</td>\n",
       "    </tr>\n",
       "  </tbody>\n",
       "</table>\n",
       "<p>5944 rows × 3 columns</p>\n",
       "</div>"
      ],
      "text/plain": [
       "                                                  title       date  sentiment\n",
       "0     Building Beefy Blocks - Hardcore Tech! 360 A-B... 2002-01-01          1\n",
       "1       PM: Guyana Oil Production Frustrated by Neig... 2002-01-09          0\n",
       "2     A Reclusive Oil Baron Builds 'Taj Mahal' in Sa... 2002-01-10          1\n",
       "3           SCOTLAND | BP fined £1m for safety offences 2002-01-18          0\n",
       "4                          Gas prices expected to spike 2002-01-27          0\n",
       "...                                                 ...        ...        ...\n",
       "5939  Brazil environment minister demands 'ceiling' ... 2023-12-25          0\n",
       "5940  Oil drops almost 2% as investors watch Red Sea... 2023-12-27          0\n",
       "5941  Oil prices shed 10% in 2023 as supply, demand ... 2023-12-29          0\n",
       "5942      Why Oil Prices Never Surged to $100 This Year 2023-12-29          0\n",
       "5943  Oil Prices Poised To Climb in 2024 Amid Geopol... 2023-12-30          2\n",
       "\n",
       "[5944 rows x 3 columns]"
      ]
     },
     "execution_count": 3,
     "metadata": {},
     "output_type": "execute_result"
    }
   ],
   "source": [
    "df"
   ]
  },
  {
   "cell_type": "code",
   "execution_count": 4,
   "id": "40fe31dd-9c8c-43cc-9b75-dac5be053a23",
   "metadata": {},
   "outputs": [],
   "source": [
    "\n",
    "# Set 'date' column as the index\n",
    "df.set_index('date', inplace=True)\n"
   ]
  },
  {
   "cell_type": "code",
   "execution_count": 10,
   "id": "4ae65b44-7c16-4edc-98f3-aaf9f038e693",
   "metadata": {},
   "outputs": [
    {
     "name": "stdout",
     "output_type": "stream",
     "text": [
      "           date                                              title  sentiment\n",
      "0    2002-01-06  Building Beefy Blocks - Hardcore Tech! 360 A-B...        1.0\n",
      "1    2002-01-13  PM: Guyana Oil Production Frustrated by Neig.....        0.0\n",
      "2    2002-01-20        SCOTLAND | BP fined £1m for safety offences        0.0\n",
      "3    2002-01-27  Gas prices expected to spike Gas prices expect...        0.0\n",
      "4    2002-02-03  Riyadh Crude Oil-Fired Power Plant Petro-Canad...        1.0\n",
      "...         ...                                                ...        ...\n",
      "1143 2023-12-03  Revealed: Saudi Arabia’s grand plan to ‘hook’ ...        1.0\n",
      "1144 2023-12-10  Red Sea chokepoints are critical for internati...        0.0\n",
      "1145 2023-12-17  Oil prices have been falling for seven weeks s...        0.0\n",
      "1146 2023-12-24  Why olive oil prices are soaring and what to d...        0.0\n",
      "1147 2023-12-31  Brazil environment minister demands 'ceiling' ...        0.0\n",
      "\n",
      "[1148 rows x 3 columns]\n"
     ]
    }
   ],
   "source": [
    "# Define the aggregation function\n",
    "def agg_func(x):\n",
    "    titles = ' '.join(x['title'])\n",
    "    if len(x['sentiment']) > 0:\n",
    "        sentiment = Counter(x['sentiment']).most_common(1)[0][0]\n",
    "    else:\n",
    "        sentiment = None\n",
    "    return pd.Series({'title': titles, 'sentiment': sentiment})\n"
   ]
  },
  {
   "cell_type": "code",
   "execution_count": 20,
   "id": "e29e10e5-0030-4722-b526-315cc23aa689",
   "metadata": {},
   "outputs": [
    {
     "data": {
      "text/html": [
       "<div>\n",
       "<style scoped>\n",
       "    .dataframe tbody tr th:only-of-type {\n",
       "        vertical-align: middle;\n",
       "    }\n",
       "\n",
       "    .dataframe tbody tr th {\n",
       "        vertical-align: top;\n",
       "    }\n",
       "\n",
       "    .dataframe thead th {\n",
       "        text-align: right;\n",
       "    }\n",
       "</style>\n",
       "<table border=\"1\" class=\"dataframe\">\n",
       "  <thead>\n",
       "    <tr style=\"text-align: right;\">\n",
       "      <th></th>\n",
       "      <th>date</th>\n",
       "      <th>title</th>\n",
       "      <th>sentiment</th>\n",
       "    </tr>\n",
       "  </thead>\n",
       "  <tbody>\n",
       "    <tr>\n",
       "      <th>0</th>\n",
       "      <td>2002-01-04</td>\n",
       "      <td>Building Beefy Blocks - Hardcore Tech! 360 A-B...</td>\n",
       "      <td>1.0</td>\n",
       "    </tr>\n",
       "    <tr>\n",
       "      <th>1</th>\n",
       "      <td>2002-01-11</td>\n",
       "      <td>PM: Guyana Oil Production Frustrated by Neig.....</td>\n",
       "      <td>0.0</td>\n",
       "    </tr>\n",
       "    <tr>\n",
       "      <th>2</th>\n",
       "      <td>2002-01-18</td>\n",
       "      <td>SCOTLAND | BP fined £1m for safety offences</td>\n",
       "      <td>0.0</td>\n",
       "    </tr>\n",
       "    <tr>\n",
       "      <th>3</th>\n",
       "      <td>2002-01-25</td>\n",
       "      <td></td>\n",
       "      <td>NaN</td>\n",
       "    </tr>\n",
       "    <tr>\n",
       "      <th>4</th>\n",
       "      <td>2002-02-01</td>\n",
       "      <td>Gas prices expected to spike Gas prices expect...</td>\n",
       "      <td>1.0</td>\n",
       "    </tr>\n",
       "    <tr>\n",
       "      <th>...</th>\n",
       "      <td>...</td>\n",
       "      <td>...</td>\n",
       "      <td>...</td>\n",
       "    </tr>\n",
       "    <tr>\n",
       "      <th>1144</th>\n",
       "      <td>2023-12-08</td>\n",
       "      <td>Oil companies pledge to lower methane emission...</td>\n",
       "      <td>0.0</td>\n",
       "    </tr>\n",
       "    <tr>\n",
       "      <th>1145</th>\n",
       "      <td>2023-12-15</td>\n",
       "      <td>The west's Russia oil ban, one year on Oil pri...</td>\n",
       "      <td>1.0</td>\n",
       "    </tr>\n",
       "    <tr>\n",
       "      <th>1146</th>\n",
       "      <td>2023-12-22</td>\n",
       "      <td>Will oil prices rise after Red Sea shipping cu...</td>\n",
       "      <td>0.0</td>\n",
       "    </tr>\n",
       "    <tr>\n",
       "      <th>1147</th>\n",
       "      <td>2023-12-29</td>\n",
       "      <td>Brazil environment minister demands 'ceiling' ...</td>\n",
       "      <td>0.0</td>\n",
       "    </tr>\n",
       "    <tr>\n",
       "      <th>1148</th>\n",
       "      <td>2024-01-05</td>\n",
       "      <td>Oil Prices Poised To Climb in 2024 Amid Geopol...</td>\n",
       "      <td>2.0</td>\n",
       "    </tr>\n",
       "  </tbody>\n",
       "</table>\n",
       "<p>1149 rows × 3 columns</p>\n",
       "</div>"
      ],
      "text/plain": [
       "           date                                              title  sentiment\n",
       "0    2002-01-04  Building Beefy Blocks - Hardcore Tech! 360 A-B...        1.0\n",
       "1    2002-01-11  PM: Guyana Oil Production Frustrated by Neig.....        0.0\n",
       "2    2002-01-18        SCOTLAND | BP fined £1m for safety offences        0.0\n",
       "3    2002-01-25                                                           NaN\n",
       "4    2002-02-01  Gas prices expected to spike Gas prices expect...        1.0\n",
       "...         ...                                                ...        ...\n",
       "1144 2023-12-08  Oil companies pledge to lower methane emission...        0.0\n",
       "1145 2023-12-15  The west's Russia oil ban, one year on Oil pri...        1.0\n",
       "1146 2023-12-22  Will oil prices rise after Red Sea shipping cu...        0.0\n",
       "1147 2023-12-29  Brazil environment minister demands 'ceiling' ...        0.0\n",
       "1148 2024-01-05  Oil Prices Poised To Climb in 2024 Amid Geopol...        2.0\n",
       "\n",
       "[1149 rows x 3 columns]"
      ]
     },
     "execution_count": 20,
     "metadata": {},
     "output_type": "execute_result"
    }
   ],
   "source": [
    "# Resample the DataFrame to end on Fridays\n",
    "weekly_df = df.resample('W-FRI').apply(lambda x: agg_func(x) if not x.empty else pd.Series({'title': '', 'sentiment': None}))\n",
    "\n",
    "# Reset index to turn 'date' back into a column\n",
    "weekly_df.reset_index(inplace=True)\n",
    "\n",
    "weekly_df"
   ]
  },
  {
   "cell_type": "code",
   "execution_count": 36,
   "id": "671ad3aa-9bf1-4ca4-bbaa-2acad5a55256",
   "metadata": {},
   "outputs": [
    {
     "name": "stdout",
     "output_type": "stream",
     "text": [
      "3      2002-01-25\n",
      "8      2002-03-01\n",
      "31     2002-08-09\n",
      "51     2002-12-27\n",
      "236    2006-07-14\n",
      "          ...    \n",
      "1109   2023-04-07\n",
      "1112   2023-04-28\n",
      "1114   2023-05-12\n",
      "1115   2023-05-19\n",
      "1116   2023-05-26\n",
      "Name: date, Length: 78, dtype: datetime64[us]\n"
     ]
    }
   ],
   "source": [
    "weekly_df[weekly_df['sentiment'].isnull()]['date']"
   ]
  },
  {
   "cell_type": "code",
   "execution_count": 21,
   "id": "359b992e-c5d7-434d-98a3-f3cde5b4707d",
   "metadata": {},
   "outputs": [],
   "source": [
    "weekly_df.to_parquet('02~23_weekly_oil_sentiment_null.parquet', engine = 'pyarrow', compression = 'gzip', index = False)"
   ]
  },
  {
   "cell_type": "code",
   "execution_count": 16,
   "id": "a85075d6-0055-442b-844d-dc0f1a3e757e",
   "metadata": {},
   "outputs": [],
   "source": [
    "weekly_df['sentiment'] = weekly_df['sentiment'].fillna(0)"
   ]
  },
  {
   "cell_type": "code",
   "execution_count": 18,
   "id": "ec6e06be-f9fd-448b-90c6-e2985cee52cb",
   "metadata": {},
   "outputs": [],
   "source": [
    "weekly_df.to_parquet('02~23_weekly_oil_sentiment.parquet', engine = 'pyarrow', compression = 'gzip', index = False)"
   ]
  },
  {
   "cell_type": "code",
   "execution_count": null,
   "id": "65803101-a362-4425-9236-03bc5b0819d5",
   "metadata": {},
   "outputs": [],
   "source": []
  }
 ],
 "metadata": {
  "kernelspec": {
   "display_name": "Python 3 (ipykernel)",
   "language": "python",
   "name": "python3"
  },
  "language_info": {
   "codemirror_mode": {
    "name": "ipython",
    "version": 3
   },
   "file_extension": ".py",
   "mimetype": "text/x-python",
   "name": "python",
   "nbconvert_exporter": "python",
   "pygments_lexer": "ipython3",
   "version": "3.9.13"
  }
 },
 "nbformat": 4,
 "nbformat_minor": 5
}
