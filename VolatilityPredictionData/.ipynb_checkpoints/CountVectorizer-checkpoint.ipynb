{
 "cells": [
  {
   "cell_type": "code",
   "execution_count": 33,
   "id": "bab9b99e-9087-4de7-9a7a-84c07c2753c0",
   "metadata": {},
   "outputs": [],
   "source": [
    "import pandas as pd\n",
    "from tensorflow.keras.preprocessing.text import Tokenizer\n",
    "from tensorflow.keras.preprocessing.sequence import pad_sequences\n",
    "import matplotlib.pyplot as plt\n",
    "from nltk.corpus import stopwords\n",
    "from nltk.tokenize import word_tokenize\n",
    "import nltk"
   ]
  },
  {
   "cell_type": "code",
   "execution_count": 34,
   "id": "71870a37-2edf-4db6-a22a-c9783d84bcc3",
   "metadata": {},
   "outputs": [],
   "source": [
    "df = pd.read_parquet(\"데이터/크루드오일최종.parquet\")"
   ]
  },
  {
   "cell_type": "code",
   "execution_count": 35,
   "id": "51f413ee-cab2-4f5c-8558-d393c91b6807",
   "metadata": {},
   "outputs": [],
   "source": [
    "def preprocess_text(text):\n",
    "    # Convert text to lowercase\n",
    "    text = text.lower()\n",
    "    # Remove punctuation\n",
    "    text = text.translate(str.maketrans('', '', string.punctuation))\n",
    "    # Tokenize text\n",
    "    words = word_tokenize(text)\n",
    "    # Remove stopwords\n",
    "    words = [word for word in words if word not in stopwords.words('english')]\n",
    "    # Join words back to string\n",
    "    text = ' '.join(words)\n",
    "    return text"
   ]
  },
  {
   "cell_type": "code",
   "execution_count": 36,
   "id": "08f1e42a-a87c-4d22-8daf-2a847a3c8952",
   "metadata": {},
   "outputs": [],
   "source": [
    "# Apply preprocessing to the 'title' column\n",
    "df['title'] = df['title'].apply(preprocess_text)\n"
   ]
  },
  {
   "cell_type": "code",
   "execution_count": 37,
   "id": "13fc2278-aada-4560-956b-a508e7c20878",
   "metadata": {},
   "outputs": [
    {
     "data": {
      "text/html": [
       "<div>\n",
       "<style scoped>\n",
       "    .dataframe tbody tr th:only-of-type {\n",
       "        vertical-align: middle;\n",
       "    }\n",
       "\n",
       "    .dataframe tbody tr th {\n",
       "        vertical-align: top;\n",
       "    }\n",
       "\n",
       "    .dataframe thead th {\n",
       "        text-align: right;\n",
       "    }\n",
       "</style>\n",
       "<table border=\"1\" class=\"dataframe\">\n",
       "  <thead>\n",
       "    <tr style=\"text-align: right;\">\n",
       "      <th></th>\n",
       "      <th>date</th>\n",
       "      <th>title</th>\n",
       "      <th>embeddings</th>\n",
       "    </tr>\n",
       "  </thead>\n",
       "  <tbody>\n",
       "    <tr>\n",
       "      <th>0</th>\n",
       "      <td>1986-01-01</td>\n",
       "      <td>mexico cuts crude oil price</td>\n",
       "      <td>[-0.028600167, 0.06366259, 0.06509828, 0.06924...</td>\n",
       "    </tr>\n",
       "    <tr>\n",
       "      <th>1</th>\n",
       "      <td>1986-01-02</td>\n",
       "      <td>oil prices set take cuts</td>\n",
       "      <td>[-0.07086328, -0.035549566, 0.12355209, -0.007...</td>\n",
       "    </tr>\n",
       "    <tr>\n",
       "      <th>2</th>\n",
       "      <td>1986-01-03</td>\n",
       "      <td>us firms cutting back oil gas exploration</td>\n",
       "      <td>[0.00719683, -0.050083093, 0.07776152, 0.06015...</td>\n",
       "    </tr>\n",
       "    <tr>\n",
       "      <th>3</th>\n",
       "      <td>1986-01-05</td>\n",
       "      <td>us gas oil exploration cut back</td>\n",
       "      <td>[-0.026277412, -0.019784242, 0.09362018, 0.094...</td>\n",
       "    </tr>\n",
       "    <tr>\n",
       "      <th>4</th>\n",
       "      <td>1986-01-06</td>\n",
       "      <td>upg falco canada ups canada notice oil producers</td>\n",
       "      <td>[-0.101025015, -0.039316747, 0.045170527, -0.0...</td>\n",
       "    </tr>\n",
       "    <tr>\n",
       "      <th>...</th>\n",
       "      <td>...</td>\n",
       "      <td>...</td>\n",
       "      <td>...</td>\n",
       "    </tr>\n",
       "    <tr>\n",
       "      <th>4041</th>\n",
       "      <td>2001-12-25</td>\n",
       "      <td>lisa slnghania</td>\n",
       "      <td>[-0.10749781, -0.0026047279, -0.05748843, 0.02...</td>\n",
       "    </tr>\n",
       "    <tr>\n",
       "      <th>4042</th>\n",
       "      <td>2001-12-27</td>\n",
       "      <td>heating oil prices dip mild weather slowed demand</td>\n",
       "      <td>[-0.014519843, 0.0033875713, 0.1825178, 0.1174...</td>\n",
       "    </tr>\n",
       "    <tr>\n",
       "      <th>4043</th>\n",
       "      <td>2001-12-28</td>\n",
       "      <td>opec oil ministers lean toward large cut crude...</td>\n",
       "      <td>[-0.016563358, 0.022972042, 0.09267036, 0.0834...</td>\n",
       "    </tr>\n",
       "    <tr>\n",
       "      <th>4044</th>\n",
       "      <td>2001-12-29</td>\n",
       "      <td>opec votes slash oil production</td>\n",
       "      <td>[-0.058327142, -0.030079706, 0.097474575, 0.06...</td>\n",
       "    </tr>\n",
       "    <tr>\n",
       "      <th>4045</th>\n",
       "      <td>2001-12-30</td>\n",
       "      <td>crude oil refined products futures fall</td>\n",
       "      <td>[-0.023037266, -0.055887803, 0.10628285, 0.053...</td>\n",
       "    </tr>\n",
       "  </tbody>\n",
       "</table>\n",
       "<p>4046 rows × 3 columns</p>\n",
       "</div>"
      ],
      "text/plain": [
       "           date                                              title  \\\n",
       "0    1986-01-01                        mexico cuts crude oil price   \n",
       "1    1986-01-02                           oil prices set take cuts   \n",
       "2    1986-01-03          us firms cutting back oil gas exploration   \n",
       "3    1986-01-05                    us gas oil exploration cut back   \n",
       "4    1986-01-06   upg falco canada ups canada notice oil producers   \n",
       "...         ...                                                ...   \n",
       "4041 2001-12-25                                     lisa slnghania   \n",
       "4042 2001-12-27  heating oil prices dip mild weather slowed demand   \n",
       "4043 2001-12-28  opec oil ministers lean toward large cut crude...   \n",
       "4044 2001-12-29                    opec votes slash oil production   \n",
       "4045 2001-12-30            crude oil refined products futures fall   \n",
       "\n",
       "                                             embeddings  \n",
       "0     [-0.028600167, 0.06366259, 0.06509828, 0.06924...  \n",
       "1     [-0.07086328, -0.035549566, 0.12355209, -0.007...  \n",
       "2     [0.00719683, -0.050083093, 0.07776152, 0.06015...  \n",
       "3     [-0.026277412, -0.019784242, 0.09362018, 0.094...  \n",
       "4     [-0.101025015, -0.039316747, 0.045170527, -0.0...  \n",
       "...                                                 ...  \n",
       "4041  [-0.10749781, -0.0026047279, -0.05748843, 0.02...  \n",
       "4042  [-0.014519843, 0.0033875713, 0.1825178, 0.1174...  \n",
       "4043  [-0.016563358, 0.022972042, 0.09267036, 0.0834...  \n",
       "4044  [-0.058327142, -0.030079706, 0.097474575, 0.06...  \n",
       "4045  [-0.023037266, -0.055887803, 0.10628285, 0.053...  \n",
       "\n",
       "[4046 rows x 3 columns]"
      ]
     },
     "execution_count": 37,
     "metadata": {},
     "output_type": "execute_result"
    }
   ],
   "source": [
    "df"
   ]
  },
  {
   "cell_type": "code",
   "execution_count": 38,
   "id": "a2667d41-763e-4c06-9fe2-773dc4cb6a1b",
   "metadata": {},
   "outputs": [],
   "source": [
    "# Initialize the tokenizer\n",
    "tokenizer = Tokenizer()\n",
    "tokenizer.fit_on_texts(df['title'])"
   ]
  },
  {
   "cell_type": "code",
   "execution_count": 49,
   "id": "fc061f4b-63ce-4dda-9728-ba1aa6694d81",
   "metadata": {},
   "outputs": [
    {
     "data": {
      "image/png": "[encoded data removed]",
      "text/plain": [
       "<Figure size 800x400 with 1 Axes>"
      ]
     },
     "metadata": {},
     "output_type": "display_data"
    }
   ],
   "source": [
    "# Convert text to sequences\n",
    "#sequences = tokenizer.texts_to_sequences(df['title'])\n",
    "\n",
    "# Calculate lengths of each sequence\n",
    "sequence_lengths = [len(seq) for seq in sequences]\n",
    "\n",
    "# Plotting the distribution of sequence lengths\n",
    "plt.figure(figsize=(8, 4))\n",
    "plt.hist(sequence_lengths, bins=range(min(sequence_lengths), max(sequence_lengths) + 2), alpha=0.7, color='blue', edgecolor='black')\n",
    "plt.title('Distribution of Token Lengths in Titles')\n",
    "plt.xlabel('Number of Tokens')\n",
    "plt.ylabel('Frequency')\n",
    "plt.xticks(range(min(sequence_lengths), max(sequence_lengths) + 1))  # Ensuring integer labels on x-axis\n",
    "plt.show()"
   ]
  },
  {
   "cell_type": "code",
   "execution_count": 53,
   "id": "ae34bd42-e7a9-4800-9ee9-1ab4450d4ec0",
   "metadata": {},
   "outputs": [
    {
     "name": "stdout",
     "output_type": "stream",
     "text": [
      "75\n"
     ]
    }
   ],
   "source": [
    "# Calculating the mean and max length of sequences\n",
    "mean_length = sum(sequence_lengths) / len(sequence_lengths)\n",
    "max_length = max(sequence_lengths)\n",
    "\n",
    "print(max_length)"
   ]
  },
  {
   "cell_type": "code",
   "execution_count": 51,
   "id": "46eccea2-dfc7-468d-be82-affdb5fa3400",
   "metadata": {},
   "outputs": [],
   "source": [
    "# Find indices of the titles that have the max length\n",
    "max_length_indices = [index for index, length in enumerate(sequence_lengths) if length == max_length]\n"
   ]
  },
  {
   "cell_type": "code",
   "execution_count": 52,
   "id": "e2c97b0a-bb56-4699-b7c2-180d55a6c7c4",
   "metadata": {},
   "outputs": [
    {
     "data": {
      "text/plain": [
       "[187]"
      ]
     },
     "execution_count": 52,
     "metadata": {},
     "output_type": "execute_result"
    }
   ],
   "source": [
    "max_length_indices"
   ]
  },
  {
   "cell_type": "code",
   "execution_count": 42,
   "id": "1ed1b3b0-b149-49b6-9a98-f1026fe89f52",
   "metadata": {},
   "outputs": [],
   "source": [
    "df.loc[186,'title'] = 'crude oil prices soar announcement opec agrees cut crude oil prices soar us gas prices pushed fall oil futures jump heavy trading follows try lead mexico plans export cuts crude oil fuel cost changes present uncertain inventory report drops oil prices oil gas prices increase sharply trading volatile oil cut nut could help us nroducers oil drops pump rise likely oil price surge follows opecs surprise treaty'"
   ]
  },
  {
   "cell_type": "code",
   "execution_count": 43,
   "id": "8e3ce1c6-bd01-4053-881f-2c1ec35e9c85",
   "metadata": {},
   "outputs": [
    {
     "data": {
      "text/html": [
       "<div>\n",
       "<style scoped>\n",
       "    .dataframe tbody tr th:only-of-type {\n",
       "        vertical-align: middle;\n",
       "    }\n",
       "\n",
       "    .dataframe tbody tr th {\n",
       "        vertical-align: top;\n",
       "    }\n",
       "\n",
       "    .dataframe thead th {\n",
       "        text-align: right;\n",
       "    }\n",
       "</style>\n",
       "<table border=\"1\" class=\"dataframe\">\n",
       "  <thead>\n",
       "    <tr style=\"text-align: right;\">\n",
       "      <th></th>\n",
       "      <th>date</th>\n",
       "      <th>title</th>\n",
       "      <th>embeddings</th>\n",
       "    </tr>\n",
       "  </thead>\n",
       "  <tbody>\n",
       "    <tr>\n",
       "      <th>0</th>\n",
       "      <td>1986-01-01</td>\n",
       "      <td>mexico cuts crude oil price</td>\n",
       "      <td>[-0.028600167, 0.06366259, 0.06509828, 0.06924...</td>\n",
       "    </tr>\n",
       "    <tr>\n",
       "      <th>1</th>\n",
       "      <td>1986-01-02</td>\n",
       "      <td>oil prices set take cuts</td>\n",
       "      <td>[-0.07086328, -0.035549566, 0.12355209, -0.007...</td>\n",
       "    </tr>\n",
       "    <tr>\n",
       "      <th>2</th>\n",
       "      <td>1986-01-03</td>\n",
       "      <td>us firms cutting back oil gas exploration</td>\n",
       "      <td>[0.00719683, -0.050083093, 0.07776152, 0.06015...</td>\n",
       "    </tr>\n",
       "    <tr>\n",
       "      <th>3</th>\n",
       "      <td>1986-01-05</td>\n",
       "      <td>us gas oil exploration cut back</td>\n",
       "      <td>[-0.026277412, -0.019784242, 0.09362018, 0.094...</td>\n",
       "    </tr>\n",
       "    <tr>\n",
       "      <th>4</th>\n",
       "      <td>1986-01-06</td>\n",
       "      <td>upg falco canada ups canada notice oil producers</td>\n",
       "      <td>[-0.101025015, -0.039316747, 0.045170527, -0.0...</td>\n",
       "    </tr>\n",
       "    <tr>\n",
       "      <th>...</th>\n",
       "      <td>...</td>\n",
       "      <td>...</td>\n",
       "      <td>...</td>\n",
       "    </tr>\n",
       "    <tr>\n",
       "      <th>4041</th>\n",
       "      <td>2001-12-25</td>\n",
       "      <td>lisa slnghania</td>\n",
       "      <td>[-0.10749781, -0.0026047279, -0.05748843, 0.02...</td>\n",
       "    </tr>\n",
       "    <tr>\n",
       "      <th>4042</th>\n",
       "      <td>2001-12-27</td>\n",
       "      <td>heating oil prices dip mild weather slowed demand</td>\n",
       "      <td>[-0.014519843, 0.0033875713, 0.1825178, 0.1174...</td>\n",
       "    </tr>\n",
       "    <tr>\n",
       "      <th>4043</th>\n",
       "      <td>2001-12-28</td>\n",
       "      <td>opec oil ministers lean toward large cut crude...</td>\n",
       "      <td>[-0.016563358, 0.022972042, 0.09267036, 0.0834...</td>\n",
       "    </tr>\n",
       "    <tr>\n",
       "      <th>4044</th>\n",
       "      <td>2001-12-29</td>\n",
       "      <td>opec votes slash oil production</td>\n",
       "      <td>[-0.058327142, -0.030079706, 0.097474575, 0.06...</td>\n",
       "    </tr>\n",
       "    <tr>\n",
       "      <th>4045</th>\n",
       "      <td>2001-12-30</td>\n",
       "      <td>crude oil refined products futures fall</td>\n",
       "      <td>[-0.023037266, -0.055887803, 0.10628285, 0.053...</td>\n",
       "    </tr>\n",
       "  </tbody>\n",
       "</table>\n",
       "<p>4046 rows × 3 columns</p>\n",
       "</div>"
      ],
      "text/plain": [
       "           date                                              title  \\\n",
       "0    1986-01-01                        mexico cuts crude oil price   \n",
       "1    1986-01-02                           oil prices set take cuts   \n",
       "2    1986-01-03          us firms cutting back oil gas exploration   \n",
       "3    1986-01-05                    us gas oil exploration cut back   \n",
       "4    1986-01-06   upg falco canada ups canada notice oil producers   \n",
       "...         ...                                                ...   \n",
       "4041 2001-12-25                                     lisa slnghania   \n",
       "4042 2001-12-27  heating oil prices dip mild weather slowed demand   \n",
       "4043 2001-12-28  opec oil ministers lean toward large cut crude...   \n",
       "4044 2001-12-29                    opec votes slash oil production   \n",
       "4045 2001-12-30            crude oil refined products futures fall   \n",
       "\n",
       "                                             embeddings  \n",
       "0     [-0.028600167, 0.06366259, 0.06509828, 0.06924...  \n",
       "1     [-0.07086328, -0.035549566, 0.12355209, -0.007...  \n",
       "2     [0.00719683, -0.050083093, 0.07776152, 0.06015...  \n",
       "3     [-0.026277412, -0.019784242, 0.09362018, 0.094...  \n",
       "4     [-0.101025015, -0.039316747, 0.045170527, -0.0...  \n",
       "...                                                 ...  \n",
       "4041  [-0.10749781, -0.0026047279, -0.05748843, 0.02...  \n",
       "4042  [-0.014519843, 0.0033875713, 0.1825178, 0.1174...  \n",
       "4043  [-0.016563358, 0.022972042, 0.09267036, 0.0834...  \n",
       "4044  [-0.058327142, -0.030079706, 0.097474575, 0.06...  \n",
       "4045  [-0.023037266, -0.055887803, 0.10628285, 0.053...  \n",
       "\n",
       "[4046 rows x 3 columns]"
      ]
     },
     "execution_count": 43,
     "metadata": {},
     "output_type": "execute_result"
    }
   ],
   "source": [
    "df"
   ]
  },
  {
   "cell_type": "code",
   "execution_count": 44,
   "id": "6ac9c70d-907f-40cd-915f-6a10bc4ccba2",
   "metadata": {},
   "outputs": [],
   "source": [
    "threshold = 2\n",
    "total_cnt = len(tokenizer.word_index) # 단어의 수\n",
    "rare_cnt = 0 # 등장 빈도수가 threshold보다 작은 단어의 개수를 카운트\n",
    "total_freq = 0 # 훈련 데이터의 전체 단어 빈도수 총 합\n",
    "rare_freq = 0 # 등장 빈도수가 threshold보다 작은 단어의 등장 빈도수의 총 합"
   ]
  },
  {
   "cell_type": "code",
   "execution_count": 45,
   "id": "d1750b57-569c-4ce6-9b20-1c1a8a87520d",
   "metadata": {},
   "outputs": [
    {
     "name": "stdout",
     "output_type": "stream",
     "text": [
      "단어 집합(vocabulary)의 크기 : 5839\n",
      "등장 빈도가 1번 이하인 희귀 단어의 수: 3211\n",
      "단어 집합에서 희귀 단어의 비율: 54.992293200890565\n",
      "전체 등장 빈도에서 희귀 단어 등장 빈도 비율: 8.68824070566589\n"
     ]
    }
   ],
   "source": [
    "# 단어와 빈도수의 쌍(pair)을 key와 value로 받는다.\n",
    "for key, value in tokenizer.word_counts.items():\n",
    "    total_freq = total_freq + value\n",
    "\n",
    "    # 단어의 등장 빈도수가 threshold보다 작으면\n",
    "    if(value < threshold):\n",
    "        rare_cnt = rare_cnt + 1\n",
    "        rare_freq = rare_freq + value\n",
    "\n",
    "print('단어 집합(vocabulary)의 크기 :',total_cnt)\n",
    "print('등장 빈도가 %s번 이하인 희귀 단어의 수: %s'%(threshold - 1, rare_cnt))\n",
    "print(\"단어 집합에서 희귀 단어의 비율:\", (rare_cnt / total_cnt)*100)\n",
    "print(\"전체 등장 빈도에서 희귀 단어 등장 빈도 비율:\", (rare_freq / total_freq)*100)"
   ]
  },
  {
   "cell_type": "code",
   "execution_count": 47,
   "id": "d5d83c10-a633-4ddb-9648-a402bf07a6b5",
   "metadata": {},
   "outputs": [
    {
     "name": "stdout",
     "output_type": "stream",
     "text": [
      "단어 집합의 크기 : 2630\n"
     ]
    }
   ],
   "source": [
    "# 전체 단어 개수 중 빈도수 2이하인 단어 개수는 제거.\n",
    "# 0번 패딩 토큰과 1번 OOV 토큰을 고려하여 +2\n",
    "vocab_size = total_cnt - rare_cnt + 2\n",
    "print('단어 집합의 크기 :',vocab_size)"
   ]
  },
  {
   "cell_type": "code",
   "execution_count": 48,
   "id": "0ab252d6-fdb9-493f-ad19-716b1199af46",
   "metadata": {},
   "outputs": [],
   "source": [
    "tokenizer = Tokenizer(vocab_size, oov_token = 'OOV') \n",
    "tokenizer.fit_on_texts(df['title'])\n",
    "sequences = tokenizer.texts_to_sequences(df['title'])"
   ]
  },
  {
   "cell_type": "code",
   "execution_count": 54,
   "id": "b771cf05-5eae-4674-b659-60b1bccb80b2",
   "metadata": {},
   "outputs": [],
   "source": [
    "# Padding sequences to the same length\n",
    "padded_sequences = pad_sequences(sequences, padding='post')  # 'post' pads zeros at the end"
   ]
  },
  {
   "cell_type": "code",
   "execution_count": 58,
   "id": "504a01d0-2b09-42ae-8d22-2fb8fc3404dd",
   "metadata": {},
   "outputs": [],
   "source": [
    "df['padded_sequences'] = list(padded_sequences)"
   ]
  },
  {
   "cell_type": "code",
   "execution_count": 60,
   "id": "953f585f-d435-4cc1-af5a-6fd1970180be",
   "metadata": {},
   "outputs": [],
   "source": [
    "df.to_parquet('데이터/크루드오일최종+임베딩+정수인코딩.parquet', engine='pyarrow', compression='gzip', index=False)"
   ]
  },
  {
   "cell_type": "code",
   "execution_count": null,
   "id": "e08183bc-9774-45c9-b5e6-3663511ce2e4",
   "metadata": {},
   "outputs": [],
   "source": []
  }
 ],
 "metadata": {
  "kernelspec": {
   "display_name": "Python 3 (ipykernel)",
   "language": "python",
   "name": "python3"
  },
  "language_info": {
   "codemirror_mode": {
    "name": "ipython",
    "version": 3
   },
   "file_extension": ".py",
   "mimetype": "text/x-python",
   "name": "python",
   "nbconvert_exporter": "python",
   "pygments_lexer": "ipython3",
   "version": "3.9.13"
  }
 },
 "nbformat": 4,
 "nbformat_minor": 5
}
