{
 "cells": [
  {
   "cell_type": "code",
   "execution_count": 1,
   "id": "047b0dd2-906d-4fc3-800e-13a4567ac7a6",
   "metadata": {},
   "outputs": [],
   "source": [
    "import pandas as pd"
   ]
  },
  {
   "cell_type": "code",
   "execution_count": 73,
   "id": "54b574af-09cf-4892-8a54-ff4f151fdd67",
   "metadata": {},
   "outputs": [],
   "source": [
    "df = pd.read_parquet('newsdata.parquet')"
   ]
  },
  {
   "cell_type": "code",
   "execution_count": 74,
   "id": "38443149-c4f4-499a-b47a-22f7c556d050",
   "metadata": {},
   "outputs": [
    {
     "data": {
      "text/html": [
       "<div>\n",
       "<style scoped>\n",
       "    .dataframe tbody tr th:only-of-type {\n",
       "        vertical-align: middle;\n",
       "    }\n",
       "\n",
       "    .dataframe tbody tr th {\n",
       "        vertical-align: top;\n",
       "    }\n",
       "\n",
       "    .dataframe thead th {\n",
       "        text-align: right;\n",
       "    }\n",
       "</style>\n",
       "<table border=\"1\" class=\"dataframe\">\n",
       "  <thead>\n",
       "    <tr style=\"text-align: right;\">\n",
       "      <th></th>\n",
       "      <th>title</th>\n",
       "      <th>date</th>\n",
       "    </tr>\n",
       "  </thead>\n",
       "  <tbody>\n",
       "    <tr>\n",
       "      <th>0</th>\n",
       "      <td>Crude Oil Finds Off Target Apea</td>\n",
       "      <td>1986-01-01</td>\n",
       "    </tr>\n",
       "    <tr>\n",
       "      <th>1</th>\n",
       "      <td>Mexico Announces Retroactive Crude Oil Price Cut</td>\n",
       "      <td>1986-01-01</td>\n",
       "    </tr>\n",
       "    <tr>\n",
       "      <th>2</th>\n",
       "      <td>Mexico Tries New Strategy In Cutting Oil Price</td>\n",
       "      <td>1986-01-01</td>\n",
       "    </tr>\n",
       "    <tr>\n",
       "      <th>3</th>\n",
       "      <td>Mexico Cuts Crude Oil Price</td>\n",
       "      <td>1986-01-01</td>\n",
       "    </tr>\n",
       "    <tr>\n",
       "      <th>4</th>\n",
       "      <td>Oil Prices Set To Take Further Cuts</td>\n",
       "      <td>1986-01-02</td>\n",
       "    </tr>\n",
       "    <tr>\n",
       "      <th>...</th>\n",
       "      <td>...</td>\n",
       "      <td>...</td>\n",
       "    </tr>\n",
       "    <tr>\n",
       "      <th>27966</th>\n",
       "      <td>Crude oil up on tensions in West Asia China ec...</td>\n",
       "      <td>2024-01-30</td>\n",
       "    </tr>\n",
       "    <tr>\n",
       "      <th>27967</th>\n",
       "      <td>Oil settles lower on faltering China economy U...</td>\n",
       "      <td>2024-01-31</td>\n",
       "    </tr>\n",
       "    <tr>\n",
       "      <th>27968</th>\n",
       "      <td>Crude oil declines as Chinese manufacturing ac...</td>\n",
       "      <td>2024-01-31</td>\n",
       "    </tr>\n",
       "    <tr>\n",
       "      <th>27969</th>\n",
       "      <td>Irans oil exports reach 5year high with China ...</td>\n",
       "      <td>2024-01-31</td>\n",
       "    </tr>\n",
       "    <tr>\n",
       "      <th>27970</th>\n",
       "      <td>US Crude Oil Stocks Rose For the Week</td>\n",
       "      <td>2024-01-31</td>\n",
       "    </tr>\n",
       "  </tbody>\n",
       "</table>\n",
       "<p>27971 rows × 2 columns</p>\n",
       "</div>"
      ],
      "text/plain": [
       "                                                   title       date\n",
       "0                       Crude Oil Finds Off Target Apea  1986-01-01\n",
       "1      Mexico Announces Retroactive Crude Oil Price Cut  1986-01-01\n",
       "2        Mexico Tries New Strategy In Cutting Oil Price  1986-01-01\n",
       "3                           Mexico Cuts Crude Oil Price  1986-01-01\n",
       "4                   Oil Prices Set To Take Further Cuts  1986-01-02\n",
       "...                                                  ...        ...\n",
       "27966  Crude oil up on tensions in West Asia China ec... 2024-01-30\n",
       "27967  Oil settles lower on faltering China economy U... 2024-01-31\n",
       "27968  Crude oil declines as Chinese manufacturing ac... 2024-01-31\n",
       "27969  Irans oil exports reach 5year high with China ... 2024-01-31\n",
       "27970              US Crude Oil Stocks Rose For the Week 2024-01-31\n",
       "\n",
       "[27971 rows x 2 columns]"
      ]
     },
     "execution_count": 74,
     "metadata": {},
     "output_type": "execute_result"
    }
   ],
   "source": [
    "df.drop('url', axis = 1, inplace  = True)\n",
    "df"
   ]
  },
  {
   "cell_type": "code",
   "execution_count": 75,
   "id": "4c80e4db-932d-454e-b79a-1331d821aa15",
   "metadata": {},
   "outputs": [],
   "source": [
    "df['date'] = pd.to_datetime(df['date'])"
   ]
  },
  {
   "cell_type": "code",
   "execution_count": 76,
   "id": "41518bb7-0908-4e93-bd9a-d61f914d0834",
   "metadata": {},
   "outputs": [
    {
     "data": {
      "text/html": [
       "<div>\n",
       "<style scoped>\n",
       "    .dataframe tbody tr th:only-of-type {\n",
       "        vertical-align: middle;\n",
       "    }\n",
       "\n",
       "    .dataframe tbody tr th {\n",
       "        vertical-align: top;\n",
       "    }\n",
       "\n",
       "    .dataframe thead th {\n",
       "        text-align: right;\n",
       "    }\n",
       "</style>\n",
       "<table border=\"1\" class=\"dataframe\">\n",
       "  <thead>\n",
       "    <tr style=\"text-align: right;\">\n",
       "      <th></th>\n",
       "      <th>title</th>\n",
       "      <th>date</th>\n",
       "    </tr>\n",
       "  </thead>\n",
       "  <tbody>\n",
       "    <tr>\n",
       "      <th>0</th>\n",
       "      <td>Crude Oil Finds Off Target Apea</td>\n",
       "      <td>1986-01-01</td>\n",
       "    </tr>\n",
       "    <tr>\n",
       "      <th>1</th>\n",
       "      <td>Mexico Announces Retroactive Crude Oil Price Cut</td>\n",
       "      <td>1986-01-01</td>\n",
       "    </tr>\n",
       "    <tr>\n",
       "      <th>2</th>\n",
       "      <td>Mexico Tries New Strategy In Cutting Oil Price</td>\n",
       "      <td>1986-01-01</td>\n",
       "    </tr>\n",
       "    <tr>\n",
       "      <th>3</th>\n",
       "      <td>Mexico Cuts Crude Oil Price</td>\n",
       "      <td>1986-01-01</td>\n",
       "    </tr>\n",
       "    <tr>\n",
       "      <th>4</th>\n",
       "      <td>Oil Prices Set To Take Further Cuts</td>\n",
       "      <td>1986-01-02</td>\n",
       "    </tr>\n",
       "    <tr>\n",
       "      <th>...</th>\n",
       "      <td>...</td>\n",
       "      <td>...</td>\n",
       "    </tr>\n",
       "    <tr>\n",
       "      <th>27966</th>\n",
       "      <td>Crude oil up on tensions in West Asia China ec...</td>\n",
       "      <td>2024-01-30</td>\n",
       "    </tr>\n",
       "    <tr>\n",
       "      <th>27967</th>\n",
       "      <td>Oil settles lower on faltering China economy U...</td>\n",
       "      <td>2024-01-31</td>\n",
       "    </tr>\n",
       "    <tr>\n",
       "      <th>27968</th>\n",
       "      <td>Crude oil declines as Chinese manufacturing ac...</td>\n",
       "      <td>2024-01-31</td>\n",
       "    </tr>\n",
       "    <tr>\n",
       "      <th>27969</th>\n",
       "      <td>Irans oil exports reach 5year high with China ...</td>\n",
       "      <td>2024-01-31</td>\n",
       "    </tr>\n",
       "    <tr>\n",
       "      <th>27970</th>\n",
       "      <td>US Crude Oil Stocks Rose For the Week</td>\n",
       "      <td>2024-01-31</td>\n",
       "    </tr>\n",
       "  </tbody>\n",
       "</table>\n",
       "<p>27971 rows × 2 columns</p>\n",
       "</div>"
      ],
      "text/plain": [
       "                                                   title       date\n",
       "0                       Crude Oil Finds Off Target Apea  1986-01-01\n",
       "1      Mexico Announces Retroactive Crude Oil Price Cut  1986-01-01\n",
       "2        Mexico Tries New Strategy In Cutting Oil Price  1986-01-01\n",
       "3                           Mexico Cuts Crude Oil Price  1986-01-01\n",
       "4                   Oil Prices Set To Take Further Cuts  1986-01-02\n",
       "...                                                  ...        ...\n",
       "27966  Crude oil up on tensions in West Asia China ec... 2024-01-30\n",
       "27967  Oil settles lower on faltering China economy U... 2024-01-31\n",
       "27968  Crude oil declines as Chinese manufacturing ac... 2024-01-31\n",
       "27969  Irans oil exports reach 5year high with China ... 2024-01-31\n",
       "27970              US Crude Oil Stocks Rose For the Week 2024-01-31\n",
       "\n",
       "[27971 rows x 2 columns]"
      ]
     },
     "execution_count": 76,
     "metadata": {},
     "output_type": "execute_result"
    }
   ],
   "source": [
    "df"
   ]
  },
  {
   "cell_type": "code",
   "execution_count": 83,
   "id": "93cdbb52-b95c-4b4f-afb2-ee8f3da74d79",
   "metadata": {},
   "outputs": [],
   "source": [
    "# Example: Sorting with NaT values at the end\n",
    "df = df.sort_values(by='date')"
   ]
  },
  {
   "cell_type": "code",
   "execution_count": 84,
   "id": "50fc2ad1-a705-4bcd-94a9-75a3e24bfa9e",
   "metadata": {},
   "outputs": [
    {
     "data": {
      "text/html": [
       "<div>\n",
       "<style scoped>\n",
       "    .dataframe tbody tr th:only-of-type {\n",
       "        vertical-align: middle;\n",
       "    }\n",
       "\n",
       "    .dataframe tbody tr th {\n",
       "        vertical-align: top;\n",
       "    }\n",
       "\n",
       "    .dataframe thead th {\n",
       "        text-align: right;\n",
       "    }\n",
       "</style>\n",
       "<table border=\"1\" class=\"dataframe\">\n",
       "  <thead>\n",
       "    <tr style=\"text-align: right;\">\n",
       "      <th></th>\n",
       "      <th>title</th>\n",
       "      <th>date</th>\n",
       "    </tr>\n",
       "  </thead>\n",
       "  <tbody>\n",
       "    <tr>\n",
       "      <th>20999</th>\n",
       "      <td>Gas Prices On The Rise Rumor Of Production Cut...</td>\n",
       "      <td>1999-03-12</td>\n",
       "    </tr>\n",
       "    <tr>\n",
       "      <th>21000</th>\n",
       "      <td>Gasoline On The Rise Paying At The Pump Follow...</td>\n",
       "      <td>1999-03-12</td>\n",
       "    </tr>\n",
       "    <tr>\n",
       "      <th>21001</th>\n",
       "      <td>Oil Price Rebound Pushing Low Pump Prices Back...</td>\n",
       "      <td>1999-03-12</td>\n",
       "    </tr>\n",
       "    <tr>\n",
       "      <th>9712</th>\n",
       "      <td>Pump Prices Up With OilPrice Rally Crude Oil C...</td>\n",
       "      <td>1999-03-12</td>\n",
       "    </tr>\n",
       "    <tr>\n",
       "      <th>21002</th>\n",
       "      <td>Oil Price Rebound Pushing Low Pump Prices Back...</td>\n",
       "      <td>1999-03-12</td>\n",
       "    </tr>\n",
       "    <tr>\n",
       "      <th>...</th>\n",
       "      <td>...</td>\n",
       "      <td>...</td>\n",
       "    </tr>\n",
       "    <tr>\n",
       "      <th>27965</th>\n",
       "      <td>Oil prices rise as IMF boosts growth forecast ...</td>\n",
       "      <td>2024-01-30</td>\n",
       "    </tr>\n",
       "    <tr>\n",
       "      <th>27968</th>\n",
       "      <td>Crude oil declines as Chinese manufacturing ac...</td>\n",
       "      <td>2024-01-31</td>\n",
       "    </tr>\n",
       "    <tr>\n",
       "      <th>27969</th>\n",
       "      <td>Irans oil exports reach 5year high with China ...</td>\n",
       "      <td>2024-01-31</td>\n",
       "    </tr>\n",
       "    <tr>\n",
       "      <th>27967</th>\n",
       "      <td>Oil settles lower on faltering China economy U...</td>\n",
       "      <td>2024-01-31</td>\n",
       "    </tr>\n",
       "    <tr>\n",
       "      <th>27970</th>\n",
       "      <td>US Crude Oil Stocks Rose For the Week</td>\n",
       "      <td>2024-01-31</td>\n",
       "    </tr>\n",
       "  </tbody>\n",
       "</table>\n",
       "<p>16083 rows × 2 columns</p>\n",
       "</div>"
      ],
      "text/plain": [
       "                                                   title       date\n",
       "20999  Gas Prices On The Rise Rumor Of Production Cut... 1999-03-12\n",
       "21000  Gasoline On The Rise Paying At The Pump Follow... 1999-03-12\n",
       "21001  Oil Price Rebound Pushing Low Pump Prices Back... 1999-03-12\n",
       "9712   Pump Prices Up With OilPrice Rally Crude Oil C... 1999-03-12\n",
       "21002  Oil Price Rebound Pushing Low Pump Prices Back... 1999-03-12\n",
       "...                                                  ...        ...\n",
       "27965  Oil prices rise as IMF boosts growth forecast ... 2024-01-30\n",
       "27968  Crude oil declines as Chinese manufacturing ac... 2024-01-31\n",
       "27969  Irans oil exports reach 5year high with China ... 2024-01-31\n",
       "27967  Oil settles lower on faltering China economy U... 2024-01-31\n",
       "27970              US Crude Oil Stocks Rose For the Week 2024-01-31\n",
       "\n",
       "[16083 rows x 2 columns]"
      ]
     },
     "execution_count": 84,
     "metadata": {},
     "output_type": "execute_result"
    }
   ],
   "source": [
    "df.loc[20999:]"
   ]
  },
  {
   "cell_type": "code",
   "execution_count": 91,
   "id": "fa338fe4-c0d0-4ae2-9f2a-12bb5415f3b9",
   "metadata": {},
   "outputs": [
    {
     "data": {
      "text/plain": [
       "Timestamp('1999-03-12 00:00:00')"
      ]
     },
     "execution_count": 91,
     "metadata": {},
     "output_type": "execute_result"
    }
   ],
   "source": [
    "df.loc[20999]['date']"
   ]
  },
  {
   "cell_type": "code",
   "execution_count": 82,
   "id": "6663c42f-2fed-473d-b231-0c15746bb66a",
   "metadata": {},
   "outputs": [],
   "source": [
    "df.to_csv('newsdata_test.csv',index = False)"
   ]
  },
  {
   "cell_type": "code",
   "execution_count": 92,
   "id": "1cdee1ea-f87e-4b18-83c3-0d733c58f487",
   "metadata": {},
   "outputs": [],
   "source": [
    "df.index = df['date']"
   ]
  },
  {
   "cell_type": "code",
   "execution_count": 94,
   "id": "1b58cfda-99ba-40db-b7df-23bdd4be797d",
   "metadata": {},
   "outputs": [],
   "source": [
    "sorted_df = df.sort_index()"
   ]
  },
  {
   "cell_type": "code",
   "execution_count": 103,
   "id": "1011b655-e290-41d0-b6aa-3e4165040cdc",
   "metadata": {},
   "outputs": [],
   "source": [
    "sorted_df.to_csv(\"testfile.csv\")"
   ]
  },
  {
   "cell_type": "code",
   "execution_count": 104,
   "id": "ca2d4626-1524-4b48-a9b1-6909231d29c7",
   "metadata": {},
   "outputs": [],
   "source": [
    "sorted_df.to_csv('newsdata.csv', index = False)"
   ]
  },
  {
   "cell_type": "code",
   "execution_count": 114,
   "id": "b225175d-077e-41f4-a3c6-27e1007531bf",
   "metadata": {},
   "outputs": [],
   "source": [
    "df = pd.read_csv('newsdata.csv')"
   ]
  },
  {
   "cell_type": "code",
   "execution_count": 115,
   "id": "8873054c-1e27-4b1c-9abc-e5e14063ed91",
   "metadata": {},
   "outputs": [],
   "source": [
    "df = df[20001:]"
   ]
  },
  {
   "cell_type": "code",
   "execution_count": 116,
   "id": "41da5b5c-6bfe-461f-824e-53eefe19daae",
   "metadata": {},
   "outputs": [],
   "source": [
    "df.to_csv('내담당.csv', index = False)"
   ]
  },
  {
   "cell_type": "code",
   "execution_count": null,
   "id": "34ac022d-1883-4582-9a81-083f19a972d3",
   "metadata": {},
   "outputs": [],
   "source": []
  }
 ],
 "metadata": {
  "kernelspec": {
   "display_name": "Python 3 (ipykernel)",
   "language": "python",
   "name": "python3"
  },
  "language_info": {
   "codemirror_mode": {
    "name": "ipython",
    "version": 3
   },
   "file_extension": ".py",
   "mimetype": "text/x-python",
   "name": "python",
   "nbconvert_exporter": "python",
   "pygments_lexer": "ipython3",
   "version": "3.9.13"
  }
 },
 "nbformat": 4,
 "nbformat_minor": 5
}
