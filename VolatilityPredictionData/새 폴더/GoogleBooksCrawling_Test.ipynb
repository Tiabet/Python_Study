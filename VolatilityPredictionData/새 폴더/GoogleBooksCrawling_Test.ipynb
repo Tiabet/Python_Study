{
 "cells": [
  {
   "cell_type": "code",
   "execution_count": 3,
   "id": "4a630c7f-8a81-4122-b201-15adf2bf4250",
   "metadata": {},
   "outputs": [],
   "source": [
    "from selenium import webdriver\n",
    "from selenium.webdriver.common.by import By\n",
    "from selenium.webdriver.chrome.service import Service\n",
    "from selenium.common.exceptions import NoSuchElementException, ElementClickInterceptedException\n",
    "from webdriver_manager.chrome import ChromeDriverManager\n",
    "import time\n",
    "import mysql.connector\n"
   ]
  },
  {
   "cell_type": "code",
   "execution_count": 137,
   "id": "1c990477-ed4d-433d-9059-32e647c2f64a",
   "metadata": {},
   "outputs": [],
   "source": [
    "target_year = 1987\n",
    "\n",
    "\n",
    "url = f\"https://www.google.com/search?q=crude+oil&tbs=bkt:s,cdr:1,cd_min:1/1/{target_year},cd_max:12/31/{target_year}&tbm=bks\""
   ]
  },
  {
   "cell_type": "code",
   "execution_count": 136,
   "id": "fac150f9-512a-44bf-bbd2-6d1b132a9af7",
   "metadata": {},
   "outputs": [],
   "source": [
    "\n",
    "chromedriver_path = 'C:/Users/kkksk/.wdm/drivers/chromedriver/win64/122.0.6261.129/chromedriver.exe'\n",
    "service = Service(chromedriver_path)\n",
    "driver = webdriver.Chrome(service=service)"
   ]
  },
  {
   "cell_type": "code",
   "execution_count": 138,
   "id": "495cd1f7-3e5c-400d-8e77-09e2e6ce08f4",
   "metadata": {},
   "outputs": [],
   "source": [
    "driver.get(url)"
   ]
  },
  {
   "cell_type": "code",
   "execution_count": 132,
   "id": "a1f0837f-ca68-4a03-8ef1-07b1b5042ffd",
   "metadata": {},
   "outputs": [],
   "source": [
    "news_results = driver.find_elements(By.CSS_SELECTOR, 'div#rso>div')"
   ]
  },
  {
   "cell_type": "code",
   "execution_count": 133,
   "id": "1d6856f5-d288-414d-be57-d71d71cb9937",
   "metadata": {},
   "outputs": [
    {
     "data": {
      "text/plain": [
       "[<selenium.webdriver.remote.webelement.WebElement (session=\"1f16e0d7115cfab8eadfbb8b33323cfa\", element=\"f.A10B2CB7F17A725DBAA39C5923545A33.d.7B50377C91D51139593AD17A027C8830.e.13\")>,\n",
       " <selenium.webdriver.remote.webelement.WebElement (session=\"1f16e0d7115cfab8eadfbb8b33323cfa\", element=\"f.A10B2CB7F17A725DBAA39C5923545A33.d.7B50377C91D51139593AD17A027C8830.e.14\")>,\n",
       " <selenium.webdriver.remote.webelement.WebElement (session=\"1f16e0d7115cfab8eadfbb8b33323cfa\", element=\"f.A10B2CB7F17A725DBAA39C5923545A33.d.7B50377C91D51139593AD17A027C8830.e.15\")>,\n",
       " <selenium.webdriver.remote.webelement.WebElement (session=\"1f16e0d7115cfab8eadfbb8b33323cfa\", element=\"f.A10B2CB7F17A725DBAA39C5923545A33.d.7B50377C91D51139593AD17A027C8830.e.16\")>,\n",
       " <selenium.webdriver.remote.webelement.WebElement (session=\"1f16e0d7115cfab8eadfbb8b33323cfa\", element=\"f.A10B2CB7F17A725DBAA39C5923545A33.d.7B50377C91D51139593AD17A027C8830.e.17\")>,\n",
       " <selenium.webdriver.remote.webelement.WebElement (session=\"1f16e0d7115cfab8eadfbb8b33323cfa\", element=\"f.A10B2CB7F17A725DBAA39C5923545A33.d.7B50377C91D51139593AD17A027C8830.e.18\")>,\n",
       " <selenium.webdriver.remote.webelement.WebElement (session=\"1f16e0d7115cfab8eadfbb8b33323cfa\", element=\"f.A10B2CB7F17A725DBAA39C5923545A33.d.7B50377C91D51139593AD17A027C8830.e.19\")>,\n",
       " <selenium.webdriver.remote.webelement.WebElement (session=\"1f16e0d7115cfab8eadfbb8b33323cfa\", element=\"f.A10B2CB7F17A725DBAA39C5923545A33.d.7B50377C91D51139593AD17A027C8830.e.20\")>,\n",
       " <selenium.webdriver.remote.webelement.WebElement (session=\"1f16e0d7115cfab8eadfbb8b33323cfa\", element=\"f.A10B2CB7F17A725DBAA39C5923545A33.d.7B50377C91D51139593AD17A027C8830.e.21\")>,\n",
       " <selenium.webdriver.remote.webelement.WebElement (session=\"1f16e0d7115cfab8eadfbb8b33323cfa\", element=\"f.A10B2CB7F17A725DBAA39C5923545A33.d.7B50377C91D51139593AD17A027C8830.e.22\")>]"
      ]
     },
     "execution_count": 133,
     "metadata": {},
     "output_type": "execute_result"
    }
   ],
   "source": [
    "news_results"
   ]
  },
  {
   "cell_type": "code",
   "execution_count": 135,
   "id": "556151d3-5a22-4846-997d-51701408f148",
   "metadata": {},
   "outputs": [
    {
     "name": "stdout",
     "output_type": "stream",
     "text": [
      "https://books.google.co.kr/books?id=Kz5WAAAAIBAJ&pg=PA19&dq=crude+oil&article_id=6694,2156651&hl=ko&sa=X&ved=2ahUKEwjg0IPy_JaFAxWobfUHHR7fCKsQ6wF6BAgNEAE\n",
      "Refiners Breathe A Sigh Of Cheaper Crude Oil Revived The ...\n",
      " 1986. 2. 23. \n",
      "https://books.google.co.kr/books?id=K7BEAAAAIBAJ&pg=PA101&dq=crude+oil&article_id=4981,5351991&hl=ko&sa=X&ved=2ahUKEwjg0IPy_JaFAxWobfUHHR7fCKsQ6wF6BAgLEAE\n",
      "Charles Osgood. A Crude Problem: Buying A Barrel Of Oil. A ...\n",
      " 1986. 6. 15. \n",
      "https://books.google.co.kr/books?id=xbFVAAAAIBAJ&pg=PA42&dq=crude+oil&article_id=5014,3564497&hl=ko&sa=X&ved=2ahUKEwjg0IPy_JaFAxWobfUHHR7fCKsQ6wF6BAgHEAE\n",
      "Charles Osgood. A Crude Problem: Buying A Barrel Of Oil. A ...\n",
      " 1986. 6. 15. \n",
      "https://books.google.co.kr/books?id=ZHhkAAAAIBAJ&pg=PA73&dq=crude+oil&article_id=3858,892532&hl=ko&sa=X&ved=2ahUKEwjg0IPy_JaFAxWobfUHHR7fCKsQ6wF6BAgFEAE\n",
      "The Calgary Herald - 73페이지\n",
      " 1986. 4. 2. \n",
      "https://books.google.co.kr/books?id=QLorAAAAIBAJ&pg=PA111&dq=crude+oil&article_id=5012,4698746&hl=ko&sa=X&ved=2ahUKEwjg0IPy_JaFAxWobfUHHR7fCKsQ6wF6BAgGEAE\n",
      "A Crude Problem: Buying A Barrel Of Oi. A Bargain Is A ... - 111페이지\n",
      " 1986. 6. 15. \n",
      "https://books.google.co.kr/books?id=rnxEAAAAIBAJ&pg=PA53&dq=crude+oil&article_id=3151,2602778&hl=ko&sa=X&ved=2ahUKEwjg0IPy_JaFAxWobfUHHR7fCKsQ6wF6BAgJEAE\n",
      "A Crude Problem: Buying A Barrel Of Oil. A Bargain Is A ... - 53페이지\n",
      " 1986. 6. 14. \n",
      "https://books.google.co.kr/books?id=IdRHAAAAIBAJ&pg=PA1&dq=crude+oil&article_id=5099,1521512&hl=ko&sa=X&ved=2ahUKEwjg0IPy_JaFAxWobfUHHR7fCKsQ6wF6BAgIEAE\n",
      "Crude Oil Prices Soar After Announcement. Opec Agrees To Cut ...\n",
      " 1986. 8. 6. \n",
      "https://books.google.co.kr/books?id=AMFHAAAAIBAJ&pg=PA61&dq=crude+oil&article_id=3548,3729855&hl=ko&sa=X&ved=2ahUKEwjg0IPy_JaFAxWobfUHHR7fCKsQ6wF6BAgKEAE\n",
      "Record-Journal - 61페이지\n",
      " 1986. 6. 15. \n",
      "https://books.google.co.kr/books?id=2kVgAAAAIBAJ&pg=PA42&dq=crude+oil&article_id=1103,3423171&hl=ko&sa=X&ved=2ahUKEwjg0IPy_JaFAxWobfUHHR7fCKsQ6wF6BAgEEAE\n",
      "C8 Business Thursday. February 13, No Early End Seen To Oil ...\n",
      " 1986. 2. 13. \n",
      "https://books.google.co.kr/books?id=MFo_AAAAIBAJ&pg=PA4&dq=crude+oil&article_id=2849,3282975&hl=ko&sa=X&ved=2ahUKEwjg0IPy_JaFAxWobfUHHR7fCKsQ6wF6BAgMEAE\n",
      "It 11 Be Spring Before Our Gas Hits. - 4페이지\n",
      " 1986. 2. 14. \n"
     ]
    }
   ],
   "source": [
    "for news_div in news_results:\n",
    "        try:\n",
    "            news_link = news_div.find_element(By.TAG_NAME, 'a').get_attribute('href') #완료\n",
    "            #news_text_elements = news_div.find_elements(By.CSS_SELECTOR, 'a>div>div>div')\n",
    "            #news_item = [elem.text for elem in news_text_elements]\n",
    "            #if len(news_item) >= 5:\n",
    "            #    Link = news_link\n",
    "            #    News_Company = news_item[1]\n",
    "            #    Title = news_item[2]\n",
    "            #    Date = news_item[4]\n",
    "            #    print(Title,News_Company,Link,Date)\n",
    "            title_element = news_div.find_element(By.CSS_SELECTOR, 'a>h3')#완료\n",
    "            news_elements = news_div.find_elements(By.CSS_SELECTOR, 'div')\n",
    "\n",
    "            company_and_date = [elem.text for elem in news_elements]\n",
    "            if len(company_and_date) >=10:\n",
    "                info = company_and_date[10]\n",
    "                info_text = info.split(\"·\")\n",
    "                company = info_text[0]\n",
    "                date = info_text[1]\n",
    "            print(news_link)\n",
    "            print(title_element.text)\n",
    "            #print(company_and_date)\n",
    "            print(date)\n",
    "            \n",
    "            \n",
    "        except Exception as e:\n",
    "                print(e)"
   ]
  },
  {
   "cell_type": "code",
   "execution_count": null,
   "id": "2fe4d83e-c884-4f84-ad37-264e6f52fcdb",
   "metadata": {},
   "outputs": [],
   "source": [
    "#rso > div:nth-child(1) > div > div.bHexk.Tz5Hvf > div:nth-child(1) > span > a"
   ]
  },
  {
   "cell_type": "code",
   "execution_count": null,
   "id": "a8928e29-6e20-412c-9d6d-95b4e3ab5083",
   "metadata": {},
   "outputs": [],
   "source": [
    "#rso > div > div > div:nth-child(1) > div > div > a"
   ]
  },
  {
   "cell_type": "code",
   "execution_count": null,
   "id": "2fed4012-84cf-4eff-8f35-4205641570fd",
   "metadata": {},
   "outputs": [],
   "source": [
    "#rso > div:nth-child(1) > div > div.bHexk.Tz5Hvf > div.N96wpd"
   ]
  },
  {
   "cell_type": "code",
   "execution_count": 113,
   "id": "0c0f1484-f3f7-4500-9658-c9861b7d931c",
   "metadata": {},
   "outputs": [
    {
     "data": {
      "text/plain": [
       "['It 11 Be Spring Before Our Gas Hits. - 4페이지\\nbooks.google.co.kr › books\\nThe Saturday Windsor Star · 1986. 2. 14. · 신문\\n책 내용에서 검색됨 – 4페이지\\n... oil.\" Oil industry deregulation was introduced last June bringing Canadian crude Oil prices in line with world prices. Oil Industry officials are saying that retail gasoline prices usually lag a drop In the world price of crude oil 60 ...\\n전체보기',\n",
       " '',\n",
       " '',\n",
       " 'It 11 Be Spring Before Our Gas Hits. - 4페이지\\nbooks.google.co.kr › books\\nThe Saturday Windsor Star · 1986. 2. 14. · 신문\\n책 내용에서 검색됨 – 4페이지\\n... oil.\" Oil industry deregulation was introduced last June bringing Canadian crude Oil prices in line with world prices. Oil Industry officials are saying that retail gasoline prices usually lag a drop In the world price of crude oil 60 ...\\n전체보기',\n",
       " 'It 11 Be Spring Before Our Gas Hits. - 4페이지\\nbooks.google.co.kr › books',\n",
       " 'books.google.co.kr › books',\n",
       " 'books.google.co.kr › books',\n",
       " '',\n",
       " '',\n",
       " '',\n",
       " 'The Saturday Windsor Star · 1986. 2. 14. · 신문',\n",
       " '책 내용에서 검색됨 – 4페이지\\n... oil.\" Oil industry deregulation was introduced last June bringing Canadian crude Oil prices in line with world prices. Oil Industry officials are saying that retail gasoline prices usually lag a drop In the world price of crude oil 60 ...',\n",
       " '책 내용에서 검색됨 – 4페이지',\n",
       " '전체보기',\n",
       " '전체보기',\n",
       " '전체보기']"
      ]
     },
     "execution_count": 113,
     "metadata": {},
     "output_type": "execute_result"
    }
   ],
   "source": [
    "company_and_date"
   ]
  },
  {
   "cell_type": "code",
   "execution_count": null,
   "id": "52738bb3-0f00-4d15-aeb9-9c1c8346ccd4",
   "metadata": {},
   "outputs": [],
   "source": []
  }
 ],
 "metadata": {
  "kernelspec": {
   "display_name": "Python 3 (ipykernel)",
   "language": "python",
   "name": "python3"
  },
  "language_info": {
   "codemirror_mode": {
    "name": "ipython",
    "version": 3
   },
   "file_extension": ".py",
   "mimetype": "text/x-python",
   "name": "python",
   "nbconvert_exporter": "python",
   "pygments_lexer": "ipython3",
   "version": "3.9.13"
  }
 },
 "nbformat": 4,
 "nbformat_minor": 5
}
