{
 "cells": [
  {
   "cell_type": "markdown",
   "id": "c867440e-4df7-414c-9840-9d759ce4b6e2",
   "metadata": {},
   "source": [
    "### 그냥 TFIDF 를 쓰는 게 아니라 Tokenizer를 따로 만들어야하는거 같음. 캐글 코드 다시 보고 정리하기."
   ]
  },
  {
   "cell_type": "code",
   "execution_count": 2,
   "id": "d5079a73-b86b-4afe-a39c-5cf7ca5df85a",
   "metadata": {},
   "outputs": [
    {
     "name": "stdout",
     "output_type": "stream",
     "text": [
      "           date                                              title  \\\n",
      "0    1986-01-01                       Mexico Cuts Crude Oil Price    \n",
      "1    1986-01-02               Oil Prices Set To Take Further Cuts    \n",
      "2    1986-01-03      Us Firms Cutting Back On Oil Gas Exploration    \n",
      "3    1986-01-05             Us Gas Oil Exploration Being Cut Back    \n",
      "4    1986-01-06  Upg Falco Canada Ups Canada Notice To Oil Prod...   \n",
      "...         ...                                                ...   \n",
      "4041 2001-12-25                                    Lisa Slnghania    \n",
      "4042 2001-12-27  Heating Oil Prices Dip Mild Weather Has Slowed...   \n",
      "4043 2001-12-28  Opec Oil Ministers Lean Toward Large Cut In Cr...   \n",
      "4044 2001-12-29                Opec Votes To Slash Oil Production    \n",
      "4045 2001-12-30       Crude Oil And Refined Products Futures Fall    \n",
      "\n",
      "                                             embeddings  \\\n",
      "0     [-0.028600167, 0.06366259, 0.06509828, 0.06924...   \n",
      "1     [-0.07086328, -0.035549566, 0.12355209, -0.007...   \n",
      "2     [0.00719683, -0.050083093, 0.07776152, 0.06015...   \n",
      "3     [-0.026277412, -0.019784242, 0.09362018, 0.094...   \n",
      "4     [-0.101025015, -0.039316747, 0.045170527, -0.0...   \n",
      "...                                                 ...   \n",
      "4041  [-0.10749781, -0.0026047279, -0.05748843, 0.02...   \n",
      "4042  [-0.014519843, 0.0033875713, 0.1825178, 0.1174...   \n",
      "4043  [-0.016563358, 0.022972042, 0.09267036, 0.0834...   \n",
      "4044  [-0.058327142, -0.030079706, 0.097474575, 0.06...   \n",
      "4045  [-0.023037266, -0.055887803, 0.10628285, 0.053...   \n",
      "\n",
      "                                        processed_title  \\\n",
      "0                           mexico cuts crude oil price   \n",
      "1                              oil prices set take cuts   \n",
      "2             us firms cutting back oil gas exploration   \n",
      "3                       us gas oil exploration cut back   \n",
      "4      upg falco canada ups canada notice oil producers   \n",
      "...                                                 ...   \n",
      "4041                                     lisa slnghania   \n",
      "4042  heating oil prices dip mild weather slowed demand   \n",
      "4043  opec oil ministers lean toward large cut crude...   \n",
      "4044                    opec votes slash oil production   \n",
      "4045            crude oil refined products futures fall   \n",
      "\n",
      "                                           tfidf_vector  \n",
      "0     [0.0, 0.0, 0.0, 0.0, 0.0, 0.0, 0.0, 0.0, 0.0, ...  \n",
      "1     [0.0, 0.0, 0.0, 0.0, 0.0, 0.0, 0.0, 0.0, 0.0, ...  \n",
      "2     [0.0, 0.0, 0.0, 0.0, 0.0, 0.0, 0.0, 0.0, 0.0, ...  \n",
      "3     [0.0, 0.0, 0.0, 0.0, 0.0, 0.0, 0.0, 0.0, 0.0, ...  \n",
      "4     [0.0, 0.0, 0.0, 0.0, 0.0, 0.0, 0.0, 0.0, 0.0, ...  \n",
      "...                                                 ...  \n",
      "4041  [0.0, 0.0, 0.0, 0.0, 0.0, 0.0, 0.0, 0.0, 0.0, ...  \n",
      "4042  [0.0, 0.0, 0.0, 0.0, 0.0, 0.0, 0.0, 0.0, 0.0, ...  \n",
      "4043  [0.0, 0.0, 0.0, 0.0, 0.0, 0.0, 0.0, 0.0, 0.0, ...  \n",
      "4044  [0.0, 0.0, 0.0, 0.0, 0.0, 0.0, 0.0, 0.0, 0.0, ...  \n",
      "4045  [0.0, 0.0, 0.0, 0.0, 0.0, 0.0, 0.0, 0.0, 0.0, ...  \n",
      "\n",
      "[4046 rows x 5 columns]\n"
     ]
    }
   ],
   "source": [
    "import pandas as pd\n",
    "import string\n",
    "from sklearn.feature_extraction.text import TfidfVectorizer\n",
    "from nltk.corpus import stopwords\n",
    "from nltk.tokenize import word_tokenize\n",
    "import nltk\n",
    "\n",
    "df = pd.read_parquet(\"데이터/크루드오일최종.parquet\")\n",
    "\n",
    "def preprocess_text(text):\n",
    "    # Convert text to lowercase\n",
    "    text = text.lower()\n",
    "    # Remove punctuation\n",
    "    text = text.translate(str.maketrans('', '', string.punctuation))\n",
    "    # Tokenize text\n",
    "    words = word_tokenize(text)\n",
    "    # Remove stopwords\n",
    "    words = [word for word in words if word not in stopwords.words('english')]\n",
    "    # Join words back to string\n",
    "    text = ' '.join(words)\n",
    "    return text\n",
    "\n",
    "# Apply preprocessing to the 'title' column\n",
    "df['processed_title'] = df['title'].apply(preprocess_text)\n",
    "\n",
    "# Initialize the TF-IDF Vectorizer\n",
    "tfidf_vectorizer = TfidfVectorizer()\n",
    "\n",
    "# Fit and transform the 'processed_title' column\n",
    "tfidf_matrix = tfidf_vectorizer.fit_transform(df['processed_title'])\n",
    "\n",
    "# Converting the matrix to a list of arrays (one array per document)\n",
    "df['tfidf_vector'] = list(tfidf_matrix.toarray())\n",
    "\n",
    "# Display the updated DataFrame\n",
    "print(df)\n"
   ]
  },
  {
   "cell_type": "code",
   "execution_count": 8,
   "id": "e401d2bb-1b5c-4a3c-a4c8-a3ce0bf04b81",
   "metadata": {},
   "outputs": [
    {
     "data": {
      "text/plain": [
       "5819"
      ]
     },
     "execution_count": 8,
     "metadata": {},
     "output_type": "execute_result"
    }
   ],
   "source": [
    "len(df['tfidf_vector'][2])"
   ]
  },
  {
   "cell_type": "code",
   "execution_count": null,
   "id": "8ccf7684-e0c6-418d-b1e1-6d276ab1d7db",
   "metadata": {},
   "outputs": [],
   "source": []
  }
 ],
 "metadata": {
  "kernelspec": {
   "display_name": "Python 3 (ipykernel)",
   "language": "python",
   "name": "python3"
  },
  "language_info": {
   "codemirror_mode": {
    "name": "ipython",
    "version": 3
   },
   "file_extension": ".py",
   "mimetype": "text/x-python",
   "name": "python",
   "nbconvert_exporter": "python",
   "pygments_lexer": "ipython3",
   "version": "3.9.13"
  }
 },
 "nbformat": 4,
 "nbformat_minor": 5
}
