{
 "cells": [
  {
   "cell_type": "code",
   "execution_count": 14,
   "id": "bff48865-5c9f-4943-8559-5d91d57f4541",
   "metadata": {},
   "outputs": [],
   "source": [
    "import pandas as pd\n",
    "import numpy as np\n",
    "from umap import UMAP\n",
    "from sklearn.preprocessing import StandardScaler"
   ]
  },
  {
   "cell_type": "code",
   "execution_count": 5,
   "id": "46ebc915-5bd1-496d-8002-c258748fc0f0",
   "metadata": {},
   "outputs": [],
   "source": [
    "df = pd.read_parquet(\"크루드오일최종.parquet\")"
   ]
  },
  {
   "cell_type": "code",
   "execution_count": 6,
   "id": "f4d816d7-e2c8-49d8-ab9e-92d0aa24c408",
   "metadata": {},
   "outputs": [
    {
     "data": {
      "text/html": [
       "<div>\n",
       "<style scoped>\n",
       "    .dataframe tbody tr th:only-of-type {\n",
       "        vertical-align: middle;\n",
       "    }\n",
       "\n",
       "    .dataframe tbody tr th {\n",
       "        vertical-align: top;\n",
       "    }\n",
       "\n",
       "    .dataframe thead th {\n",
       "        text-align: right;\n",
       "    }\n",
       "</style>\n",
       "<table border=\"1\" class=\"dataframe\">\n",
       "  <thead>\n",
       "    <tr style=\"text-align: right;\">\n",
       "      <th></th>\n",
       "      <th>date</th>\n",
       "      <th>title</th>\n",
       "      <th>embeddings</th>\n",
       "    </tr>\n",
       "  </thead>\n",
       "  <tbody>\n",
       "    <tr>\n",
       "      <th>0</th>\n",
       "      <td>1986-01-01</td>\n",
       "      <td>Mexico Cuts Crude Oil Price</td>\n",
       "      <td>[-0.028600167, 0.06366259, 0.06509828, 0.06924...</td>\n",
       "    </tr>\n",
       "    <tr>\n",
       "      <th>1</th>\n",
       "      <td>1986-01-02</td>\n",
       "      <td>Oil Prices Set To Take Further Cuts</td>\n",
       "      <td>[-0.07086328, -0.035549566, 0.12355209, -0.007...</td>\n",
       "    </tr>\n",
       "    <tr>\n",
       "      <th>2</th>\n",
       "      <td>1986-01-03</td>\n",
       "      <td>Us Firms Cutting Back On Oil Gas Exploration</td>\n",
       "      <td>[0.00719683, -0.050083093, 0.07776152, 0.06015...</td>\n",
       "    </tr>\n",
       "    <tr>\n",
       "      <th>3</th>\n",
       "      <td>1986-01-05</td>\n",
       "      <td>Us Gas Oil Exploration Being Cut Back</td>\n",
       "      <td>[-0.026277412, -0.019784242, 0.09362018, 0.094...</td>\n",
       "    </tr>\n",
       "    <tr>\n",
       "      <th>4</th>\n",
       "      <td>1986-01-06</td>\n",
       "      <td>Upg Falco Canada Ups Canada Notice To Oil Prod...</td>\n",
       "      <td>[-0.101025015, -0.039316747, 0.045170527, -0.0...</td>\n",
       "    </tr>\n",
       "    <tr>\n",
       "      <th>...</th>\n",
       "      <td>...</td>\n",
       "      <td>...</td>\n",
       "      <td>...</td>\n",
       "    </tr>\n",
       "    <tr>\n",
       "      <th>4041</th>\n",
       "      <td>2001-12-25</td>\n",
       "      <td>Lisa Slnghania</td>\n",
       "      <td>[-0.10749781, -0.0026047279, -0.05748843, 0.02...</td>\n",
       "    </tr>\n",
       "    <tr>\n",
       "      <th>4042</th>\n",
       "      <td>2001-12-27</td>\n",
       "      <td>Heating Oil Prices Dip Mild Weather Has Slowed...</td>\n",
       "      <td>[-0.014519843, 0.0033875713, 0.1825178, 0.1174...</td>\n",
       "    </tr>\n",
       "    <tr>\n",
       "      <th>4043</th>\n",
       "      <td>2001-12-28</td>\n",
       "      <td>Opec Oil Ministers Lean Toward Large Cut In Cr...</td>\n",
       "      <td>[-0.016563358, 0.022972042, 0.09267036, 0.0834...</td>\n",
       "    </tr>\n",
       "    <tr>\n",
       "      <th>4044</th>\n",
       "      <td>2001-12-29</td>\n",
       "      <td>Opec Votes To Slash Oil Production</td>\n",
       "      <td>[-0.058327142, -0.030079706, 0.097474575, 0.06...</td>\n",
       "    </tr>\n",
       "    <tr>\n",
       "      <th>4045</th>\n",
       "      <td>2001-12-30</td>\n",
       "      <td>Crude Oil And Refined Products Futures Fall</td>\n",
       "      <td>[-0.023037266, -0.055887803, 0.10628285, 0.053...</td>\n",
       "    </tr>\n",
       "  </tbody>\n",
       "</table>\n",
       "<p>4046 rows × 3 columns</p>\n",
       "</div>"
      ],
      "text/plain": [
       "           date                                              title  \\\n",
       "0    1986-01-01                       Mexico Cuts Crude Oil Price    \n",
       "1    1986-01-02               Oil Prices Set To Take Further Cuts    \n",
       "2    1986-01-03      Us Firms Cutting Back On Oil Gas Exploration    \n",
       "3    1986-01-05             Us Gas Oil Exploration Being Cut Back    \n",
       "4    1986-01-06  Upg Falco Canada Ups Canada Notice To Oil Prod...   \n",
       "...         ...                                                ...   \n",
       "4041 2001-12-25                                    Lisa Slnghania    \n",
       "4042 2001-12-27  Heating Oil Prices Dip Mild Weather Has Slowed...   \n",
       "4043 2001-12-28  Opec Oil Ministers Lean Toward Large Cut In Cr...   \n",
       "4044 2001-12-29                Opec Votes To Slash Oil Production    \n",
       "4045 2001-12-30       Crude Oil And Refined Products Futures Fall    \n",
       "\n",
       "                                             embeddings  \n",
       "0     [-0.028600167, 0.06366259, 0.06509828, 0.06924...  \n",
       "1     [-0.07086328, -0.035549566, 0.12355209, -0.007...  \n",
       "2     [0.00719683, -0.050083093, 0.07776152, 0.06015...  \n",
       "3     [-0.026277412, -0.019784242, 0.09362018, 0.094...  \n",
       "4     [-0.101025015, -0.039316747, 0.045170527, -0.0...  \n",
       "...                                                 ...  \n",
       "4041  [-0.10749781, -0.0026047279, -0.05748843, 0.02...  \n",
       "4042  [-0.014519843, 0.0033875713, 0.1825178, 0.1174...  \n",
       "4043  [-0.016563358, 0.022972042, 0.09267036, 0.0834...  \n",
       "4044  [-0.058327142, -0.030079706, 0.097474575, 0.06...  \n",
       "4045  [-0.023037266, -0.055887803, 0.10628285, 0.053...  \n",
       "\n",
       "[4046 rows x 3 columns]"
      ]
     },
     "execution_count": 6,
     "metadata": {},
     "output_type": "execute_result"
    }
   ],
   "source": [
    "df"
   ]
  },
  {
   "cell_type": "code",
   "execution_count": 7,
   "id": "18e678e7-6037-4ff7-8411-4cd06869010a",
   "metadata": {},
   "outputs": [],
   "source": [
    "# Convert list of embeddings to a numpy array for UMAP\n",
    "embedding_array = np.stack(df['embeddings'].values)"
   ]
  },
  {
   "cell_type": "code",
   "execution_count": 9,
   "id": "2676c65d-1051-4611-9cff-37465aadd5c8",
   "metadata": {},
   "outputs": [
    {
     "data": {
      "text/plain": [
       "4046"
      ]
     },
     "execution_count": 9,
     "metadata": {},
     "output_type": "execute_result"
    }
   ],
   "source": [
    "len(embedding_array)"
   ]
  },
  {
   "cell_type": "code",
   "execution_count": 17,
   "id": "f0b4bba2-b604-4d9b-9617-a30edd7e13ce",
   "metadata": {},
   "outputs": [
    {
     "data": {
      "text/plain": [
       "array([[ 0.09376159,  1.5853928 ,  0.04302174, ..., -0.12777075,\n",
       "         0.22980991, -0.42507637],\n",
       "       [-0.9174839 , -0.58778805,  1.2141644 , ..., -1.1115425 ,\n",
       "        -0.86474454,  1.3702291 ],\n",
       "       [ 0.95028996, -0.9061359 ,  0.2967343 , ..., -0.7218805 ,\n",
       "         0.13968079, -0.9334885 ],\n",
       "       ...,\n",
       "       [ 0.3817709 ,  0.6940916 ,  0.595438  , ..., -1.3912888 ,\n",
       "         1.4197471 , -0.5680613 ],\n",
       "       [-0.617527  , -0.46797413,  0.6916922 , ...,  0.6579949 ,\n",
       "         1.0995686 ,  0.05422623],\n",
       "       [ 0.22686724, -1.0332845 ,  0.8681691 , ..., -0.93066317,\n",
       "         0.7738575 ,  0.26485327]], dtype=float32)"
      ]
     },
     "execution_count": 17,
     "metadata": {},
     "output_type": "execute_result"
    }
   ],
   "source": [
    "embedding_array = StandardScaler().fit_transform(embedding_array)\n",
    "embedding_array"
   ]
  },
  {
   "cell_type": "code",
   "execution_count": 15,
   "id": "cac22bbe-c034-4647-b921-14431ce161f8",
   "metadata": {},
   "outputs": [],
   "source": [
    "# Initialize and fit UMAP to reduce to 75 dimensions\n",
    "umap_reducer = UMAP(n_neighbors=15, n_components=75, metric='euclidean')\n",
    "umap_embeddings = umap_reducer.fit_transform(embedding_array)"
   ]
  },
  {
   "cell_type": "code",
   "execution_count": 18,
   "id": "401b64aa-fadd-4e32-9791-fffa003707f0",
   "metadata": {},
   "outputs": [
    {
     "data": {
      "text/plain": [
       "array([[ 9.685611 , 12.224556 ,  5.5196524, ...,  6.9491725,  4.1643634,\n",
       "         5.6558332],\n",
       "       [ 9.270769 , 12.111177 ,  6.222908 , ...,  6.9417696,  4.1426334,\n",
       "         5.5814734],\n",
       "       [ 9.255494 , 12.143119 ,  6.325478 , ...,  6.9360805,  4.1200976,\n",
       "         5.5453987],\n",
       "       ...,\n",
       "       [ 9.66853  , 11.365708 ,  6.415329 , ...,  6.917895 ,  4.2222   ,\n",
       "         5.684278 ],\n",
       "       [ 9.548008 , 11.505456 ,  6.273698 , ...,  6.907473 ,  4.2095623,\n",
       "         5.6651263],\n",
       "       [10.142715 , 12.707084 ,  5.566064 , ...,  6.9524837,  4.1673007,\n",
       "         5.556568 ]], dtype=float32)"
      ]
     },
     "execution_count": 18,
     "metadata": {},
     "output_type": "execute_result"
    }
   ],
   "source": [
    "umap_embeddings"
   ]
  },
  {
   "cell_type": "code",
   "execution_count": null,
   "id": "2e74c3fe-14aa-488e-9928-891086aeea27",
   "metadata": {},
   "outputs": [],
   "source": []
  }
 ],
 "metadata": {
  "kernelspec": {
   "display_name": "Python 3 (ipykernel)",
   "language": "python",
   "name": "python3"
  },
  "language_info": {
   "codemirror_mode": {
    "name": "ipython",
    "version": 3
   },
   "file_extension": ".py",
   "mimetype": "text/x-python",
   "name": "python",
   "nbconvert_exporter": "python",
   "pygments_lexer": "ipython3",
   "version": "3.9.13"
  }
 },
 "nbformat": 4,
 "nbformat_minor": 5
}
