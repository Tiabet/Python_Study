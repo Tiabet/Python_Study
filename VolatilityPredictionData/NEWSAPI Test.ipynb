{
 "cells": [
  {
   "cell_type": "code",
   "execution_count": 6,
   "id": "229ae911-2d44-4411-a543-bfaa118f09e8",
   "metadata": {},
   "outputs": [
    {
     "name": "stdout",
     "output_type": "stream",
     "text": [
      "Collecting newsapi-python\n",
      "  Downloading newsapi_python-0.2.7-py2.py3-none-any.whl (7.9 kB)\n",
      "Requirement already satisfied: requests<3.0.0 in c:\\anaconda\\lib\\site-packages (from newsapi-python) (2.31.0)\n",
      "Requirement already satisfied: idna<4,>=2.5 in c:\\anaconda\\lib\\site-packages (from requests<3.0.0->newsapi-python) (3.4)\n",
      "Requirement already satisfied: charset-normalizer<4,>=2 in c:\\anaconda\\lib\\site-packages (from requests<3.0.0->newsapi-python) (2.1.1)\n",
      "Requirement already satisfied: certifi>=2017.4.17 in c:\\anaconda\\lib\\site-packages (from requests<3.0.0->newsapi-python) (2023.7.22)\n",
      "Requirement already satisfied: urllib3<3,>=1.21.1 in c:\\anaconda\\lib\\site-packages (from requests<3.0.0->newsapi-python) (2.0.4)\n",
      "Installing collected packages: newsapi-python\n",
      "Successfully installed newsapi-python-0.2.7\n",
      "Note: you may need to restart the kernel to use updated packages.\n"
     ]
    }
   ],
   "source": [
    "pip install newsapi-python"
   ]
  },
  {
   "cell_type": "code",
   "execution_count": 23,
   "id": "1bcd9ca7-c9b4-4635-bd05-bc060cf16b43",
   "metadata": {},
   "outputs": [],
   "source": [
    "from newsapi import NewsApiClient\n",
    "import pprint"
   ]
  },
  {
   "cell_type": "code",
   "execution_count": 8,
   "id": "dd09253f-4541-4d46-97e5-55e65fe6ffe8",
   "metadata": {},
   "outputs": [],
   "source": [
    "newsapi = NewsApiClient(api_key='9d992b69b86a4e55b21b837f62c89db1')"
   ]
  },
  {
   "cell_type": "code",
   "execution_count": 21,
   "id": "ecb41f42-fe78-4359-9f7d-f73ee78038a8",
   "metadata": {},
   "outputs": [],
   "source": [
    "top_headlines = newsapi.get_top_headlines(q='Oil',\n",
    "                                          language='en',\n",
    "                                          category='business',\n",
    "                                          country='us')"
   ]
  },
  {
   "cell_type": "code",
   "execution_count": 19,
   "id": "2fda305e-dc5f-4eba-860d-183caf35c49b",
   "metadata": {},
   "outputs": [],
   "source": [
    "sources = newsapi.get_sources()"
   ]
  },
  {
   "cell_type": "code",
   "execution_count": 22,
   "id": "3b4229e1-2639-47ee-990c-73441d1b82b3",
   "metadata": {},
   "outputs": [
    {
     "data": {
      "text/plain": [
       "{'status': 'ok', 'totalResults': 0, 'articles': []}"
      ]
     },
     "execution_count": 22,
     "metadata": {},
     "output_type": "execute_result"
    }
   ],
   "source": [
    "top_headlines"
   ]
  },
  {
   "cell_type": "code",
   "execution_count": 24,
   "id": "806d3765-11f7-419f-b791-c33395a5bb0f",
   "metadata": {},
   "outputs": [],
   "source": [
    "# Define the endpoint\n",
    "url = 'https://newsapi.org/v2/everything?'"
   ]
  },
  {
   "cell_type": "code",
   "execution_count": 27,
   "id": "2a8aeb56-0437-49c1-a59c-980f3a8fd9cd",
   "metadata": {},
   "outputs": [],
   "source": [
    "# Specify the query and number of returns\n",
    "parameters = {\n",
    "    'q': 'Oil', # query phrase\n",
    "    'pageSize': 20,  # maximum is 100\n",
    "    'apiKey': '9d992b69b86a4e55b21b837f62c89db1' # your own API key\n",
    "}"
   ]
  },
  {
   "cell_type": "code",
   "execution_count": 28,
   "id": "c203e710-d64a-4335-8be2-c5e3a195770a",
   "metadata": {},
   "outputs": [
    {
     "name": "stdout",
     "output_type": "stream",
     "text": [
      "dict_keys(['status', 'totalResults', 'articles'])\n"
     ]
    }
   ],
   "source": [
    "# Make the request\n",
    "response = requests.get(url, params=parameters)\n",
    "\n",
    "# Convert the response to JSON format\n",
    "response_json = response.json()\n",
    "\n",
    "# Check out the dictionaries keys\n",
    "print(response_json.keys())"
   ]
  },
  {
   "cell_type": "code",
   "execution_count": 29,
   "id": "aba0e535-329d-4a2b-8d72-eac360979489",
   "metadata": {},
   "outputs": [
    {
     "name": "stdout",
     "output_type": "stream",
     "text": [
      "{'author': 'https://www.facebook.com/bbcnews',\n",
      " 'content': 'Oil leaking from a capsized barge off the coast of Tobago has '\n",
      "            'spread hundreds of miles to reach the Caribbean island of '\n",
      "            'Bonaire.\\r\\n'\n",
      "            'Officials on Bonaire, which is located 50 miles (80km) north of '\n",
      "            'the V… [+2029 chars]',\n",
      " 'description': 'The oil from a capsized barge off the coast of Tobago is '\n",
      "                \"threatening Bonaire's mangrove forests.\",\n",
      " 'publishedAt': '2024-02-27T12:58:22Z',\n",
      " 'source': {'id': 'bbc-news', 'name': 'BBC News'},\n",
      " 'title': 'Oil spill spreads across Caribbean to Bonaire',\n",
      " 'url': 'https://www.bbc.co.uk/news/world-latin-america-68413102',\n",
      " 'urlToImage': 'https://ichef.bbci.co.uk/news/1024/branded_news/17A25/production/_132750869_01fe98653a0f026f65fa82038d665187928e4c6a0_0_5500_31441000x572.jpg'}\n"
     ]
    }
   ],
   "source": [
    "pprint.pprint(response_json['articles'][0])"
   ]
  },
  {
   "cell_type": "code",
   "execution_count": 30,
   "id": "cf587097-b9f2-40a7-9483-e6db00141b4e",
   "metadata": {},
   "outputs": [
    {
     "name": "stdout",
     "output_type": "stream",
     "text": [
      "Oil spill spreads across Caribbean to Bonaire\n",
      "‘Photographer’ Isn’t About Photography at All\n",
      "AI speeding up oil extraction and boosting US crude output\n",
      "Mark Cuban says he's not voting for Donald Trump because he doesn't want 'a snake oil salesperson as President'\n",
      "[Removed]\n",
      "No Big North Sea Fossil Fuel Country Has Plan To Stop Drilling in Time For 1.5C Goal\n",
      "Ukraine hits at least 3 Russian oil refineries in one of the largest drone strikes in recent months\n",
      "Olive oil prices are skyrocketing. Here's how my startup is managing to keep costs low.\n",
      "Ukraine says it will hit Russia's precious oil refineries even if the US tells it not to\n",
      "Ukraine's drone attacks on energy facilities have taken a bite out of Russia's oil exports, industry insider says\n",
      "China is on pace to buy a record amount of Russian oil this month\n",
      "A new satellite will track climate-warming pollution. Here's why that's a big deal\n",
      "ExxonMobil is suing investors who want faster climate action\n",
      "Russia played a card that nearly doubled its energy revenues in February\n",
      "Still Wakes the Deep will pit you against unknown nautical horrors starting on June 18\n",
      "Inside Gaza: Follow a day in the lives of Gazans as war nears five-month mark\n",
      "GameScent Wants You to Smell the Gunfire While You Play Video Games\n",
      "The UAE Is on a Mission to Become an AI Power\n",
      "The Oil and Gas Industry Wants ‘Energy Transition’ to Mean More Fossil Fuels\n",
      "How to Stay Cool Without Warming the Planet\n"
     ]
    }
   ],
   "source": [
    "for i in response_json['articles']:\n",
    "    print(i['title'])"
   ]
  },
  {
   "cell_type": "code",
   "execution_count": null,
   "id": "1b0fd403-76b6-40b1-b678-b7e12d01d098",
   "metadata": {},
   "outputs": [],
   "source": []
  }
 ],
 "metadata": {
  "kernelspec": {
   "display_name": "Python 3 (ipykernel)",
   "language": "python",
   "name": "python3"
  },
  "language_info": {
   "codemirror_mode": {
    "name": "ipython",
    "version": 3
   },
   "file_extension": ".py",
   "mimetype": "text/x-python",
   "name": "python",
   "nbconvert_exporter": "python",
   "pygments_lexer": "ipython3",
   "version": "3.9.13"
  }
 },
 "nbformat": 4,
 "nbformat_minor": 5
}
