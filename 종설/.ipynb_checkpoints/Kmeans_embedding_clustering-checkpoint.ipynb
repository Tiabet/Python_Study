{
 "cells": [
  {
   "cell_type": "code",
   "execution_count": 19,
   "id": "13961248-a2eb-44b1-9cff-fc9910645724",
   "metadata": {},
   "outputs": [],
   "source": [
    "import pandas as pd\n",
    "import numpy as np\n",
    "from sklearn.cluster import KMeans\n",
    "import ast"
   ]
  },
  {
   "cell_type": "code",
   "execution_count": 3,
   "id": "32192d42-d6d1-4104-ad82-663227493d77",
   "metadata": {},
   "outputs": [],
   "source": [
    "# Sentence BERT 임베딩을 사용하여 군집화 수행\n",
    "kmeans_30 = KMeans(n_clusters=30, random_state=42)"
   ]
  },
  {
   "cell_type": "code",
   "execution_count": 47,
   "id": "408759d7-41c4-4d9a-bf24-ebc7e52a8f02",
   "metadata": {},
   "outputs": [],
   "source": [
    "df = pd.read_csv('newsdata_embedding.csv')"
   ]
  },
  {
   "cell_type": "code",
   "execution_count": 48,
   "id": "8cd63099-526b-4e9b-8354-5b018be5a94f",
   "metadata": {},
   "outputs": [],
   "source": [
    "def str_to_array(s):\n",
    "    # Convert string to a list of floats\n",
    "    list_array = [float(x) for x in s.strip('[]').split()]\n",
    "    # Convert list to a numpy array\n",
    "    return np.array(list_array)\n",
    "\n",
    "# Apply the parsing function to each row in the embedding column\n",
    "df['embedding'] = df['embedding'].apply(str_to_array)\n"
   ]
  },
  {
   "cell_type": "code",
   "execution_count": 51,
   "id": "1c29f714-5352-4b33-9b3f-56b824ed2a44",
   "metadata": {},
   "outputs": [],
   "source": [
    "# Assuming df_news['embedding'] contains your embedding vectors as numpy arrays\n",
    "embeddings = np.stack(df['embedding'].values)"
   ]
  },
  {
   "cell_type": "code",
   "execution_count": 52,
   "id": "fab6ca04-661c-4e67-b2a4-acb29989b714",
   "metadata": {},
   "outputs": [
    {
     "data": {
      "text/plain": [
       "KMeans(n_clusters=30, random_state=42)"
      ]
     },
     "execution_count": 52,
     "metadata": {},
     "output_type": "execute_result"
    }
   ],
   "source": [
    "kmeans_30.fit(embeddings)"
   ]
  },
  {
   "cell_type": "code",
   "execution_count": 53,
   "id": "717348e1-00ed-4c74-8d5e-9686ff25cb02",
   "metadata": {},
   "outputs": [
    {
     "data": {
      "text/plain": [
       "array([20, 20, 21, ..., 14, 14,  2])"
      ]
     },
     "execution_count": 53,
     "metadata": {},
     "output_type": "execute_result"
    }
   ],
   "source": [
    "kmeans_30.labels_"
   ]
  },
  {
   "cell_type": "code",
   "execution_count": 54,
   "id": "c8190c04-fb7c-4631-ad06-312cb1a3a163",
   "metadata": {},
   "outputs": [],
   "source": [
    "df['cluster_30'] = kmeans_30.labels_"
   ]
  },
  {
   "cell_type": "code",
   "execution_count": 56,
   "id": "a0c36ef4-7f2f-49b9-93f1-d057c2e3e827",
   "metadata": {},
   "outputs": [],
   "source": [
    "kmeans_50 = KMeans(n_clusters=50, random_state=42)\n",
    "kmeans_10 = KMeans(n_clusters=10, random_state=42)"
   ]
  },
  {
   "cell_type": "code",
   "execution_count": 58,
   "id": "ee84e81e-4f01-4054-98da-baea8847e57f",
   "metadata": {},
   "outputs": [
    {
     "data": {
      "text/plain": [
       "KMeans(n_clusters=50, random_state=42)"
      ]
     },
     "execution_count": 58,
     "metadata": {},
     "output_type": "execute_result"
    }
   ],
   "source": [
    "kmeans_10.fit(embeddings)\n",
    "kmeans_50.fit(embeddings)"
   ]
  },
  {
   "cell_type": "code",
   "execution_count": 59,
   "id": "3bb709ae-8d5f-4b74-8450-9138398595fe",
   "metadata": {},
   "outputs": [],
   "source": [
    "df['cluster_10'] = kmeans_10.labels_"
   ]
  },
  {
   "cell_type": "code",
   "execution_count": 60,
   "id": "19f80457-c74b-4881-8bd6-b82c30099013",
   "metadata": {},
   "outputs": [],
   "source": [
    "df['cluster_50'] = kmeans_50.labels_"
   ]
  },
  {
   "cell_type": "code",
   "execution_count": 78,
   "id": "9359d760-71b8-4d4d-ae92-2e8b9487d251",
   "metadata": {},
   "outputs": [
    {
     "data": {
      "text/plain": [
       "KMeans(n_clusters=2, random_state=42)"
      ]
     },
     "execution_count": 78,
     "metadata": {},
     "output_type": "execute_result"
    }
   ],
   "source": [
    "kmeans_2 = KMeans(n_clusters=2, random_state=42)\n",
    "kmeans_2.fit(embeddings)"
   ]
  },
  {
   "cell_type": "code",
   "execution_count": 79,
   "id": "a570f2cf-7be8-496e-8998-425c1f183b33",
   "metadata": {},
   "outputs": [],
   "source": [
    "df['cluster_2'] = kmeans_2.labels_"
   ]
  },
  {
   "cell_type": "code",
   "execution_count": 80,
   "id": "86727fad-b9f7-4e5e-843c-b9365d27e519",
   "metadata": {},
   "outputs": [
    {
     "data": {
      "text/html": [
       "<div>\n",
       "<style scoped>\n",
       "    .dataframe tbody tr th:only-of-type {\n",
       "        vertical-align: middle;\n",
       "    }\n",
       "\n",
       "    .dataframe tbody tr th {\n",
       "        vertical-align: top;\n",
       "    }\n",
       "\n",
       "    .dataframe thead th {\n",
       "        text-align: right;\n",
       "    }\n",
       "</style>\n",
       "<table border=\"1\" class=\"dataframe\">\n",
       "  <thead>\n",
       "    <tr style=\"text-align: right;\">\n",
       "      <th></th>\n",
       "      <th>Unnamed: 0</th>\n",
       "      <th>title</th>\n",
       "      <th>url</th>\n",
       "      <th>published_date</th>\n",
       "      <th>embedding</th>\n",
       "      <th>cluster_30</th>\n",
       "      <th>cluster_10</th>\n",
       "      <th>cluster_50</th>\n",
       "      <th>cluster_2</th>\n",
       "    </tr>\n",
       "  </thead>\n",
       "  <tbody>\n",
       "    <tr>\n",
       "      <th>0</th>\n",
       "      <td>0</td>\n",
       "      <td>Notice To Oil Producers. Public Offer By North...</td>\n",
       "      <td>https://books.google.co.kr/books?id=v3dkAAAAIB...</td>\n",
       "      <td>1986-01-02</td>\n",
       "      <td>[0.0966369808, -0.0566932149, 0.384515971, 0.1...</td>\n",
       "      <td>20</td>\n",
       "      <td>9</td>\n",
       "      <td>40</td>\n",
       "      <td>1</td>\n",
       "    </tr>\n",
       "    <tr>\n",
       "      <th>1</th>\n",
       "      <td>1</td>\n",
       "      <td>Notice To Oil Producers. Public Offer By North...</td>\n",
       "      <td>https://books.google.co.kr/books?id=wHdkAAAAIB...</td>\n",
       "      <td>1986-01-03</td>\n",
       "      <td>[0.0966369808, -0.0566932149, 0.384515971, 0.1...</td>\n",
       "      <td>20</td>\n",
       "      <td>9</td>\n",
       "      <td>40</td>\n",
       "      <td>1</td>\n",
       "    </tr>\n",
       "    <tr>\n",
       "      <th>2</th>\n",
       "      <td>2</td>\n",
       "      <td>Upg Falco Canada Notice. Ta All Producers.</td>\n",
       "      <td>https://books.google.co.kr/books?id=wndkAAAAIB...</td>\n",
       "      <td>1986-01-05</td>\n",
       "      <td>[-0.200891644, -0.281545281, 0.104159236, -0.1...</td>\n",
       "      <td>21</td>\n",
       "      <td>3</td>\n",
       "      <td>1</td>\n",
       "      <td>1</td>\n",
       "    </tr>\n",
       "    <tr>\n",
       "      <th>3</th>\n",
       "      <td>0</td>\n",
       "      <td>Supertankers Face Extinction - The Washington ...</td>\n",
       "      <td>https://www.washingtonpost.com/archive/busines...</td>\n",
       "      <td>1986-01-05</td>\n",
       "      <td>[-0.301970273, 0.32379958, 0.380935878, 0.2485...</td>\n",
       "      <td>21</td>\n",
       "      <td>3</td>\n",
       "      <td>16</td>\n",
       "      <td>1</td>\n",
       "    </tr>\n",
       "    <tr>\n",
       "      <th>4</th>\n",
       "      <td>3</td>\n",
       "      <td>Upg Falco Canada. Ups Canada. Notice To Oil Pr...</td>\n",
       "      <td>https://books.google.co.kr/books?id=w3dkAAAAIB...</td>\n",
       "      <td>1986-01-06</td>\n",
       "      <td>[-0.258375376, -0.187816754, 0.253245354, 0.14...</td>\n",
       "      <td>20</td>\n",
       "      <td>9</td>\n",
       "      <td>40</td>\n",
       "      <td>1</td>\n",
       "    </tr>\n",
       "    <tr>\n",
       "      <th>...</th>\n",
       "      <td>...</td>\n",
       "      <td>...</td>\n",
       "      <td>...</td>\n",
       "      <td>...</td>\n",
       "      <td>...</td>\n",
       "      <td>...</td>\n",
       "      <td>...</td>\n",
       "      <td>...</td>\n",
       "      <td>...</td>\n",
       "    </tr>\n",
       "    <tr>\n",
       "      <th>9128</th>\n",
       "      <td>6194</td>\n",
       "      <td>Crude oil up on tensions in West Asia, China e...</td>\n",
       "      <td>https://www.business-standard.com/markets/news...</td>\n",
       "      <td>2024-01-30</td>\n",
       "      <td>[-0.259634465, 0.0312142223, 0.322663069, 0.24...</td>\n",
       "      <td>14</td>\n",
       "      <td>5</td>\n",
       "      <td>43</td>\n",
       "      <td>0</td>\n",
       "    </tr>\n",
       "    <tr>\n",
       "      <th>9129</th>\n",
       "      <td>6200</td>\n",
       "      <td>Oil settles lower on faltering China economy, ...</td>\n",
       "      <td>https://www.reuters.com/markets/commodities/oi...</td>\n",
       "      <td>2024-01-31</td>\n",
       "      <td>[-0.0813784599, 0.104424357, 0.538641691, 0.37...</td>\n",
       "      <td>14</td>\n",
       "      <td>6</td>\n",
       "      <td>43</td>\n",
       "      <td>0</td>\n",
       "    </tr>\n",
       "    <tr>\n",
       "      <th>9130</th>\n",
       "      <td>6202</td>\n",
       "      <td>Crude oil declines as Chinese manufacturing ac...</td>\n",
       "      <td>https://www.thehindubusinessline.com/markets/c...</td>\n",
       "      <td>2024-01-31</td>\n",
       "      <td>[0.00711747445, 0.0783436373, 0.620830119, 0.4...</td>\n",
       "      <td>14</td>\n",
       "      <td>6</td>\n",
       "      <td>43</td>\n",
       "      <td>0</td>\n",
       "    </tr>\n",
       "    <tr>\n",
       "      <th>9131</th>\n",
       "      <td>6199</td>\n",
       "      <td>Iran's oil exports reach 5-year high, with Chi...</td>\n",
       "      <td>https://asia.nikkei.com/Business/Markets/Commo...</td>\n",
       "      <td>2024-01-31</td>\n",
       "      <td>[-0.160559565, -0.0998382643, 0.315434992, 0.1...</td>\n",
       "      <td>14</td>\n",
       "      <td>5</td>\n",
       "      <td>43</td>\n",
       "      <td>0</td>\n",
       "    </tr>\n",
       "    <tr>\n",
       "      <th>9132</th>\n",
       "      <td>6201</td>\n",
       "      <td>U.S. Crude Oil Stocks Rose For the Week</td>\n",
       "      <td>https://www.wsj.com/business/energy-oil/u-s-cr...</td>\n",
       "      <td>2024-01-31</td>\n",
       "      <td>[-0.312405109, -0.362817287, 0.294909924, 0.36...</td>\n",
       "      <td>2</td>\n",
       "      <td>6</td>\n",
       "      <td>11</td>\n",
       "      <td>0</td>\n",
       "    </tr>\n",
       "  </tbody>\n",
       "</table>\n",
       "<p>9133 rows × 9 columns</p>\n",
       "</div>"
      ],
      "text/plain": [
       "      Unnamed: 0                                              title  \\\n",
       "0              0  Notice To Oil Producers. Public Offer By North...   \n",
       "1              1  Notice To Oil Producers. Public Offer By North...   \n",
       "2              2        Upg Falco Canada Notice. Ta All Producers.    \n",
       "3              0  Supertankers Face Extinction - The Washington ...   \n",
       "4              3  Upg Falco Canada. Ups Canada. Notice To Oil Pr...   \n",
       "...          ...                                                ...   \n",
       "9128        6194  Crude oil up on tensions in West Asia, China e...   \n",
       "9129        6200  Oil settles lower on faltering China economy, ...   \n",
       "9130        6202  Crude oil declines as Chinese manufacturing ac...   \n",
       "9131        6199  Iran's oil exports reach 5-year high, with Chi...   \n",
       "9132        6201            U.S. Crude Oil Stocks Rose For the Week   \n",
       "\n",
       "                                                    url published_date  \\\n",
       "0     https://books.google.co.kr/books?id=v3dkAAAAIB...     1986-01-02   \n",
       "1     https://books.google.co.kr/books?id=wHdkAAAAIB...     1986-01-03   \n",
       "2     https://books.google.co.kr/books?id=wndkAAAAIB...     1986-01-05   \n",
       "3     https://www.washingtonpost.com/archive/busines...     1986-01-05   \n",
       "4     https://books.google.co.kr/books?id=w3dkAAAAIB...     1986-01-06   \n",
       "...                                                 ...            ...   \n",
       "9128  https://www.business-standard.com/markets/news...     2024-01-30   \n",
       "9129  https://www.reuters.com/markets/commodities/oi...     2024-01-31   \n",
       "9130  https://www.thehindubusinessline.com/markets/c...     2024-01-31   \n",
       "9131  https://asia.nikkei.com/Business/Markets/Commo...     2024-01-31   \n",
       "9132  https://www.wsj.com/business/energy-oil/u-s-cr...     2024-01-31   \n",
       "\n",
       "                                              embedding  cluster_30  \\\n",
       "0     [0.0966369808, -0.0566932149, 0.384515971, 0.1...          20   \n",
       "1     [0.0966369808, -0.0566932149, 0.384515971, 0.1...          20   \n",
       "2     [-0.200891644, -0.281545281, 0.104159236, -0.1...          21   \n",
       "3     [-0.301970273, 0.32379958, 0.380935878, 0.2485...          21   \n",
       "4     [-0.258375376, -0.187816754, 0.253245354, 0.14...          20   \n",
       "...                                                 ...         ...   \n",
       "9128  [-0.259634465, 0.0312142223, 0.322663069, 0.24...          14   \n",
       "9129  [-0.0813784599, 0.104424357, 0.538641691, 0.37...          14   \n",
       "9130  [0.00711747445, 0.0783436373, 0.620830119, 0.4...          14   \n",
       "9131  [-0.160559565, -0.0998382643, 0.315434992, 0.1...          14   \n",
       "9132  [-0.312405109, -0.362817287, 0.294909924, 0.36...           2   \n",
       "\n",
       "      cluster_10  cluster_50  cluster_2  \n",
       "0              9          40          1  \n",
       "1              9          40          1  \n",
       "2              3           1          1  \n",
       "3              3          16          1  \n",
       "4              9          40          1  \n",
       "...          ...         ...        ...  \n",
       "9128           5          43          0  \n",
       "9129           6          43          0  \n",
       "9130           6          43          0  \n",
       "9131           5          43          0  \n",
       "9132           6          11          0  \n",
       "\n",
       "[9133 rows x 9 columns]"
      ]
     },
     "execution_count": 80,
     "metadata": {},
     "output_type": "execute_result"
    }
   ],
   "source": [
    "df"
   ]
  },
  {
   "cell_type": "code",
   "execution_count": 62,
   "id": "3b8a8ad2-985d-47a6-aabf-be2d7f0db75b",
   "metadata": {},
   "outputs": [],
   "source": [
    "from sklearn.metrics import silhouette_score"
   ]
  },
  {
   "cell_type": "code",
   "execution_count": 74,
   "id": "02096c00-9640-477a-b516-fe508896bd4c",
   "metadata": {},
   "outputs": [
    {
     "name": "stdout",
     "output_type": "stream",
     "text": [
      "Silhouette Coefficient: 0.027\n"
     ]
    }
   ],
   "source": [
    "silhouette_avg = silhouette_score(embeddings, kmeans_4.labels_)\n",
    "\n",
    "print(f'Silhouette Coefficient: {silhouette_avg:.3f}')"
   ]
  },
  {
   "cell_type": "code",
   "execution_count": 72,
   "id": "15a6cf12-71a8-4d7c-818f-4f7db2c6adaf",
   "metadata": {},
   "outputs": [],
   "source": [
    "kmeans_4 = KMeans(n_clusters=4, random_state=42)"
   ]
  },
  {
   "cell_type": "code",
   "execution_count": 73,
   "id": "34ab8d55-8261-46a2-8083-fac5930f2057",
   "metadata": {},
   "outputs": [
    {
     "data": {
      "text/plain": [
       "KMeans(n_clusters=4, random_state=42)"
      ]
     },
     "execution_count": 73,
     "metadata": {},
     "output_type": "execute_result"
    }
   ],
   "source": [
    "kmeans_4.fit(embeddings)"
   ]
  },
  {
   "cell_type": "code",
   "execution_count": null,
   "id": "65890011-a500-4771-b76b-ec8d8b9d5c32",
   "metadata": {},
   "outputs": [],
   "source": [
    "# Assuming embeddings is your dataset\n",
    "models = {}  # Dictionary to store models\n",
    "silhouette_scores = {}  # Dictionary to store silhouette scores\n",
    "\n",
    "for i in range(2, 100):  # Start from 2 because silhouette score needs at least 2 clusters to work\n",
    "    model = KMeans(n_clusters=i, random_state=42)\n",
    "    model.fit(embeddings)\n",
    "    labels = model.labels_\n",
    "    silhouette_avg = silhouette_score(embeddings, labels)\n",
    "    \n",
    "    models[i] = model\n",
    "    silhouette_scores[i] = silhouette_avg"
   ]
  },
  {
   "cell_type": "code",
   "execution_count": 77,
   "id": "681aad0f-24a3-4b2b-bff2-4113f5ae1939",
   "metadata": {},
   "outputs": [
    {
     "name": "stdout",
     "output_type": "stream",
     "text": [
      "Best cluster size: 2\n",
      "Best Silhouette Score: 0.043500725404404535\n"
     ]
    }
   ],
   "source": [
    "best_cluster_size = max(silhouette_scores, key=silhouette_scores.get)\n",
    "best_silhouette_score = silhouette_scores[best_cluster_size]\n",
    "\n",
    "print(f'Best cluster size: {best_cluster_size}')\n",
    "print(f'Best Silhouette Score: {best_silhouette_score}')"
   ]
  },
  {
   "cell_type": "code",
   "execution_count": 81,
   "id": "40ea72c4-969c-4947-bcec-7778440ed284",
   "metadata": {},
   "outputs": [],
   "source": [
    "df.to_csv('newsdata_embedding+clustering.csv',index = False)"
   ]
  },
  {
   "cell_type": "code",
   "execution_count": null,
   "id": "3ebc9ae3-04bb-4d22-ba9a-ddb4979684f0",
   "metadata": {},
   "outputs": [],
   "source": []
  }
 ],
 "metadata": {
  "kernelspec": {
   "display_name": "Python 3 (ipykernel)",
   "language": "python",
   "name": "python3"
  },
  "language_info": {
   "codemirror_mode": {
    "name": "ipython",
    "version": 3
   },
   "file_extension": ".py",
   "mimetype": "text/x-python",
   "name": "python",
   "nbconvert_exporter": "python",
   "pygments_lexer": "ipython3",
   "version": "3.9.13"
  }
 },
 "nbformat": 4,
 "nbformat_minor": 5
}
