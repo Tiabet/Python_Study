{
 "cells": [
  {
   "cell_type": "code",
   "execution_count": null,
   "id": "d70df18b-dd82-402d-93fd-060178520875",
   "metadata": {},
   "outputs": [],
   "source": [
    "from selenium import webdriver\n",
    "from selenium.webdriver.common.by import By\n",
    "from webdriver_manager.chrome import ChromeDriverManager\n",
    "from selenium.webdriver.chrome.service import Service\n",
    "import datetime\n",
    "\n",
    "chromedriver_path = 'C:/Users/kkksk/.wdm/drivers/chromedriver/win64/122.0.6261.129/chromedriver.exe'\n",
    "service = Service(chromedriver_path)\n",
    "driver = webdriver.Chrome(service=service)\n",
    "url = \"https://www.google.com/search?q=WTI+crude+oil+news&tbm=nws\"\n",
    "driver.get(url)\n",
    "\n",
    "# Find the \"Next\" button by its ID (\"pnnext\")\n",
    "next_button = driver.find_element(By.ID, 'pnnext')\n",
    "\n",
    "while next_button != []:\n",
    "    news_results = driver.find_elements(By.CSS_SELECTOR, 'div#rso > div >div>div>div')\n",
    "    for news_div in news_results:\n",
    "        news_item = []\n",
    "        try:\n",
    "            news_link = news_div.find_element(By.TAG_NAME, 'a').get_attribute('href')\n",
    "\n",
    "            divs_inside_news = news_div.find_elements(By.CSS_SELECTOR, 'a>div>div>div')\n",
    "\n",
    "            for new in divs_inside_news:\n",
    "                news_item.append(new.text)\n",
    "        \n",
    "            Link = news_link\n",
    "            Domain = news_item[1]\n",
    "            Title = news_item[2]\n",
    "            Date = news_item[4]\n",
    "        except Exception as e:\n",
    "            print(\"No Elems\")\n",
    "            \n",
    "    next_button.click()\n",
    "    print(\"complete\")\n",
    "    \n",
    "    print(Title)\n",
    "        \n",
    "\n"
   ]
  },
  {
   "cell_type": "code",
   "execution_count": 10,
   "id": "9897508e-062b-47be-b93e-eec086a4be61",
   "metadata": {},
   "outputs": [
    {
     "name": "stdout",
     "output_type": "stream",
     "text": [
      "Link: https://www.investing.com/analysis/gold-makes-a-low-at-buy-zone-wti-crude-oil-rockets-higher-200646926, Domain: Investing.com, Title: Gold Makes a Low at Buy Zone; WTI Crude Oil Rockets Higher | investing.com, Date: 7시간 전\n",
      "Link: https://www.usatoday.com/money/blueprint/investing/oil-prices-03-19-2024/, Domain: USA Today, Title: Crude oil prices today: WTI prices are up 12.40% YTD, Date: 1시간 전\n",
      "Link: https://www.cnbc.com/2024/03/14/crude-oil-prices-today.html, Domain: CNBC, Title: U.S. crude prices crack $81 as oil supply deficit forecast for 2024, Date: 5일 전\n",
      "Link: https://www.reuters.com/markets/commodities/oil-prices-rise-tighter-supply-geopolitical-risks-2024-03-18/, Domain: Reuters, Title: Oil prices inch higher amid attacks on Russian energy facilities, Date: 21시간 전\n",
      "Link: https://www.fxleaders.com/news/2024/03/19/crude-oil-usoil-stabilizes-near-82-eyes-on-fed-decision-russian-exports/, Domain: FXLeaders, Title: Crude Oil (USOIL) Stabilizes Near $82; Eyes on Fed Decision & Russian Exports, Date: 3시간 전\n",
      "Link: https://www.fxstreet.com/news/crude-oil-extends-rally-wti-crosses-above-8200-202403182127, Domain: FXStreet, Title: Crude Oil extends rally, WTI crosses above $82.00, Date: 19시간 전\n",
      "Link: https://www.livemint.com/market/commodities/oil-prices-rise-amid-attacks-on-russian-energy-facilities-brent-crude-at-86bbl-11710775403652.html, Domain: mint, Title: Oil prices rise amid attacks on Russian energy facilities, brent crude at $86/bbl | Mint, Date: 1일 전\n",
      "Link: https://indianexpress.com/article/business/commodities/brent-wti-crude-oil-slips-as-russia-lifts-supplies-jet-fuel-demand-9222200/, Domain: The Indian Express, Title: Oil slips as Russia lifts supplies, jet fuel demand stirs caution, Date: 9시간 전\n",
      "Link: https://www.eia.gov/todayinenergy/detail.php?id=61584, Domain: U.S. Energy Information Administration (EIA) (.gov), Title: U.S. crude oil exports reached a record in 2023 - U.S. Energy Information Administration, Date: 1일 전\n",
      "Link: https://www.forex.com/en-us/news-and-analysis/oil-price-forecast-crude-breakout-fuels-yearly-high-in-wti-3-17-2024/, Domain: FOREX.com, Title: Oil Price Forecast: Crude Breakout Fuels Yearly High in WTI, Date: 2일 전\n",
      "Link: https://www.bloomberg.com/news/articles/2024-03-17/latest-oil-market-news-and-analysis-for-march-18, Domain: Bloomberg.com, Title: Latest Oil Prices Market News and Analysis for March 18, Date: 1일 전\n",
      "Link: https://fxdailyreport.com/wti-crude-oil-price-analysis-for-march-19-2024/, Domain: FXDailyReport.Com, Title: WTI Crude Oil Price Analysis for March 19, 2024, Date: 12시간 전\n",
      "Link: https://www.dailyforex.com/forex-technical-analysis/2024/03/crude-oil-weekly-forecast-18th-march-23rd-march/209392, Domain: DailyForex, Title: Crude Oil Weekly Forecast - 17/03: WTI above $80 (Chart), Date: 2일 전\n",
      "Link: https://www.fxleaders.com/news/2024/03/19/wti-oil-opens-with-a-decrease-of-0-11-reaching-82-63-per-barrel/, Domain: FXLeaders, Title: WTI oil opens with a decrease of 0.11%, reaching $82.63 per barrel., Date: 2시간 전\n",
      "Link: https://www.cnbc.com/2024/03/11/crude-oil-prices-today.html, Domain: CNBC, Title: Oil prices mixed ahead of key February inflation data and crude outlook reports, Date: 1주 전\n",
      "Link: https://www.livemint.com/market/stock-market-news/week-ahead-us-fed-policy-fpi-inflows-crude-oil-prices-global-cues-among-key-market-triggers-this-week-11710608129414.html, Domain: mint, Title: Week Ahead: US Fed Policy, FPI inflows, crude oil prices, global cues among key market triggers this week | Mint, Date: 1일 전\n",
      "Link: https://www.fxleaders.com/news/2024/03/18/wti-crude-oil-price-forecast-surge-to-80-90-amid-russian-refinery-attacks/, Domain: FXLeaders, Title: WTI Crude Oil Price Forecast: Surge to $80.90 Amid Russian Refinery Attacks, Date: 1일 전\n",
      "Link: https://www.cnbc.com/2024/02/28/crude-oil-prices-today-wti-brent-higher-as-us-crude-stocks-rise.html, Domain: CNBC, Title: Oil prices mixed as U.S. crude inventories rise, OPEC+ considers extending production cuts, Date: 3주 전\n",
      "Link: https://www.cnbc.com/2024/03/07/crude-oil-prices-today.html, Domain: CNBC, Title: Oil prices edge lower as market weighs U.S. inventory data, interest rate outlook, Date: 2주 전\n",
      "Link: https://indianexpress.com/article/business/commodities/crude-oil-prices-brent-wti-russian-oil-refineries-9220515/, Domain: The Indian Express, Title: Crude oil prices build on last week’s strength as supply risks rise, Date: 1일 전\n"
     ]
    },
    {
     "ename": "NoSuchWindowException",
     "evalue": "Message: no such window: target window already closed\nfrom unknown error: web view not found\n  (Session info: chrome=122.0.6261.129)\nStacktrace:\n\tGetHandleVerifier [0x00B68D03+51395]\n\t(No symbol) [0x00AD5F61]\n\t(No symbol) [0x0098E13A]\n\t(No symbol) [0x009725F2]\n\t(No symbol) [0x009E9B2B]\n\t(No symbol) [0x009F9E66]\n\t(No symbol) [0x009E3C26]\n\t(No symbol) [0x009BC629]\n\t(No symbol) [0x009BD40D]\n\tGetHandleVerifier [0x00EE68D3+3712147]\n\tGetHandleVerifier [0x00F25CBA+3971194]\n\tGetHandleVerifier [0x00F20FA8+3951464]\n\tGetHandleVerifier [0x00C19D09+776393]\n\t(No symbol) [0x00AE1734]\n\t(No symbol) [0x00ADC618]\n\t(No symbol) [0x00ADC7C9]\n\t(No symbol) [0x00ACDDF0]\n\tBaseThreadInitThunk [0x75DB7BA9+25]\n\tRtlInitializeExceptionChain [0x7755BDAB+107]\n\tRtlClearBits [0x7755BD2F+191]\n",
     "output_type": "error",
     "traceback": [
      "\u001b[1;31m---------------------------------------------------------------------------\u001b[0m",
      "\u001b[1;31mNoSuchWindowException\u001b[0m                     Traceback (most recent call last)",
      "\u001b[1;32m~\\AppData\\Local\\Temp\\ipykernel_14236\\3082435587.py\u001b[0m in \u001b[0;36m<module>\u001b[1;34m\u001b[0m\n\u001b[0;32m     17\u001b[0m     \u001b[1;32mwhile\u001b[0m \u001b[1;32mTrue\u001b[0m\u001b[1;33m:\u001b[0m\u001b[1;33m\u001b[0m\u001b[1;33m\u001b[0m\u001b[0m\n\u001b[0;32m     18\u001b[0m         \u001b[1;31m# Extract news items\u001b[0m\u001b[1;33m\u001b[0m\u001b[1;33m\u001b[0m\u001b[0m\n\u001b[1;32m---> 19\u001b[1;33m         \u001b[0mnews_results\u001b[0m \u001b[1;33m=\u001b[0m \u001b[0mdriver\u001b[0m\u001b[1;33m.\u001b[0m\u001b[0mfind_elements\u001b[0m\u001b[1;33m(\u001b[0m\u001b[0mBy\u001b[0m\u001b[1;33m.\u001b[0m\u001b[0mCSS_SELECTOR\u001b[0m\u001b[1;33m,\u001b[0m \u001b[1;34m'div#rso > div >div>div>div'\u001b[0m\u001b[1;33m)\u001b[0m\u001b[1;33m\u001b[0m\u001b[1;33m\u001b[0m\u001b[0m\n\u001b[0m\u001b[0;32m     20\u001b[0m         \u001b[1;32mfor\u001b[0m \u001b[0mnews_div\u001b[0m \u001b[1;32min\u001b[0m \u001b[0mnews_results\u001b[0m\u001b[1;33m:\u001b[0m\u001b[1;33m\u001b[0m\u001b[1;33m\u001b[0m\u001b[0m\n\u001b[0;32m     21\u001b[0m             \u001b[1;32mtry\u001b[0m\u001b[1;33m:\u001b[0m\u001b[1;33m\u001b[0m\u001b[1;33m\u001b[0m\u001b[0m\n",
      "\u001b[1;32mC:\\Anaconda\\lib\\site-packages\\selenium\\webdriver\\remote\\webdriver.py\u001b[0m in \u001b[0;36mfind_elements\u001b[1;34m(self, by, value)\u001b[0m\n\u001b[0;32m    768\u001b[0m         \u001b[1;31m# Return empty list if driver returns null\u001b[0m\u001b[1;33m\u001b[0m\u001b[1;33m\u001b[0m\u001b[0m\n\u001b[0;32m    769\u001b[0m         \u001b[1;31m# See https://github.com/SeleniumHQ/selenium/issues/4555\u001b[0m\u001b[1;33m\u001b[0m\u001b[1;33m\u001b[0m\u001b[0m\n\u001b[1;32m--> 770\u001b[1;33m         \u001b[1;32mreturn\u001b[0m \u001b[0mself\u001b[0m\u001b[1;33m.\u001b[0m\u001b[0mexecute\u001b[0m\u001b[1;33m(\u001b[0m\u001b[0mCommand\u001b[0m\u001b[1;33m.\u001b[0m\u001b[0mFIND_ELEMENTS\u001b[0m\u001b[1;33m,\u001b[0m \u001b[1;33m{\u001b[0m\u001b[1;34m\"using\"\u001b[0m\u001b[1;33m:\u001b[0m \u001b[0mby\u001b[0m\u001b[1;33m,\u001b[0m \u001b[1;34m\"value\"\u001b[0m\u001b[1;33m:\u001b[0m \u001b[0mvalue\u001b[0m\u001b[1;33m}\u001b[0m\u001b[1;33m)\u001b[0m\u001b[1;33m[\u001b[0m\u001b[1;34m\"value\"\u001b[0m\u001b[1;33m]\u001b[0m \u001b[1;32mor\u001b[0m \u001b[1;33m[\u001b[0m\u001b[1;33m]\u001b[0m\u001b[1;33m\u001b[0m\u001b[1;33m\u001b[0m\u001b[0m\n\u001b[0m\u001b[0;32m    771\u001b[0m \u001b[1;33m\u001b[0m\u001b[0m\n\u001b[0;32m    772\u001b[0m     \u001b[1;33m@\u001b[0m\u001b[0mproperty\u001b[0m\u001b[1;33m\u001b[0m\u001b[1;33m\u001b[0m\u001b[0m\n",
      "\u001b[1;32mC:\\Anaconda\\lib\\site-packages\\selenium\\webdriver\\remote\\webdriver.py\u001b[0m in \u001b[0;36mexecute\u001b[1;34m(self, driver_command, params)\u001b[0m\n\u001b[0;32m    344\u001b[0m         \u001b[0mresponse\u001b[0m \u001b[1;33m=\u001b[0m \u001b[0mself\u001b[0m\u001b[1;33m.\u001b[0m\u001b[0mcommand_executor\u001b[0m\u001b[1;33m.\u001b[0m\u001b[0mexecute\u001b[0m\u001b[1;33m(\u001b[0m\u001b[0mdriver_command\u001b[0m\u001b[1;33m,\u001b[0m \u001b[0mparams\u001b[0m\u001b[1;33m)\u001b[0m\u001b[1;33m\u001b[0m\u001b[1;33m\u001b[0m\u001b[0m\n\u001b[0;32m    345\u001b[0m         \u001b[1;32mif\u001b[0m \u001b[0mresponse\u001b[0m\u001b[1;33m:\u001b[0m\u001b[1;33m\u001b[0m\u001b[1;33m\u001b[0m\u001b[0m\n\u001b[1;32m--> 346\u001b[1;33m             \u001b[0mself\u001b[0m\u001b[1;33m.\u001b[0m\u001b[0merror_handler\u001b[0m\u001b[1;33m.\u001b[0m\u001b[0mcheck_response\u001b[0m\u001b[1;33m(\u001b[0m\u001b[0mresponse\u001b[0m\u001b[1;33m)\u001b[0m\u001b[1;33m\u001b[0m\u001b[1;33m\u001b[0m\u001b[0m\n\u001b[0m\u001b[0;32m    347\u001b[0m             \u001b[0mresponse\u001b[0m\u001b[1;33m[\u001b[0m\u001b[1;34m\"value\"\u001b[0m\u001b[1;33m]\u001b[0m \u001b[1;33m=\u001b[0m \u001b[0mself\u001b[0m\u001b[1;33m.\u001b[0m\u001b[0m_unwrap_value\u001b[0m\u001b[1;33m(\u001b[0m\u001b[0mresponse\u001b[0m\u001b[1;33m.\u001b[0m\u001b[0mget\u001b[0m\u001b[1;33m(\u001b[0m\u001b[1;34m\"value\"\u001b[0m\u001b[1;33m,\u001b[0m \u001b[1;32mNone\u001b[0m\u001b[1;33m)\u001b[0m\u001b[1;33m)\u001b[0m\u001b[1;33m\u001b[0m\u001b[1;33m\u001b[0m\u001b[0m\n\u001b[0;32m    348\u001b[0m             \u001b[1;32mreturn\u001b[0m \u001b[0mresponse\u001b[0m\u001b[1;33m\u001b[0m\u001b[1;33m\u001b[0m\u001b[0m\n",
      "\u001b[1;32mC:\\Anaconda\\lib\\site-packages\\selenium\\webdriver\\remote\\errorhandler.py\u001b[0m in \u001b[0;36mcheck_response\u001b[1;34m(self, response)\u001b[0m\n\u001b[0;32m    243\u001b[0m                 \u001b[0malert_text\u001b[0m \u001b[1;33m=\u001b[0m \u001b[0mvalue\u001b[0m\u001b[1;33m[\u001b[0m\u001b[1;34m\"alert\"\u001b[0m\u001b[1;33m]\u001b[0m\u001b[1;33m.\u001b[0m\u001b[0mget\u001b[0m\u001b[1;33m(\u001b[0m\u001b[1;34m\"text\"\u001b[0m\u001b[1;33m)\u001b[0m\u001b[1;33m\u001b[0m\u001b[1;33m\u001b[0m\u001b[0m\n\u001b[0;32m    244\u001b[0m             \u001b[1;32mraise\u001b[0m \u001b[0mexception_class\u001b[0m\u001b[1;33m(\u001b[0m\u001b[0mmessage\u001b[0m\u001b[1;33m,\u001b[0m \u001b[0mscreen\u001b[0m\u001b[1;33m,\u001b[0m \u001b[0mstacktrace\u001b[0m\u001b[1;33m,\u001b[0m \u001b[0malert_text\u001b[0m\u001b[1;33m)\u001b[0m  \u001b[1;31m# type: ignore[call-arg]  # mypy is not smart enough here\u001b[0m\u001b[1;33m\u001b[0m\u001b[1;33m\u001b[0m\u001b[0m\n\u001b[1;32m--> 245\u001b[1;33m         \u001b[1;32mraise\u001b[0m \u001b[0mexception_class\u001b[0m\u001b[1;33m(\u001b[0m\u001b[0mmessage\u001b[0m\u001b[1;33m,\u001b[0m \u001b[0mscreen\u001b[0m\u001b[1;33m,\u001b[0m \u001b[0mstacktrace\u001b[0m\u001b[1;33m)\u001b[0m\u001b[1;33m\u001b[0m\u001b[1;33m\u001b[0m\u001b[0m\n\u001b[0m",
      "\u001b[1;31mNoSuchWindowException\u001b[0m: Message: no such window: target window already closed\nfrom unknown error: web view not found\n  (Session info: chrome=122.0.6261.129)\nStacktrace:\n\tGetHandleVerifier [0x00B68D03+51395]\n\t(No symbol) [0x00AD5F61]\n\t(No symbol) [0x0098E13A]\n\t(No symbol) [0x009725F2]\n\t(No symbol) [0x009E9B2B]\n\t(No symbol) [0x009F9E66]\n\t(No symbol) [0x009E3C26]\n\t(No symbol) [0x009BC629]\n\t(No symbol) [0x009BD40D]\n\tGetHandleVerifier [0x00EE68D3+3712147]\n\tGetHandleVerifier [0x00F25CBA+3971194]\n\tGetHandleVerifier [0x00F20FA8+3951464]\n\tGetHandleVerifier [0x00C19D09+776393]\n\t(No symbol) [0x00AE1734]\n\t(No symbol) [0x00ADC618]\n\t(No symbol) [0x00ADC7C9]\n\t(No symbol) [0x00ACDDF0]\n\tBaseThreadInitThunk [0x75DB7BA9+25]\n\tRtlInitializeExceptionChain [0x7755BDAB+107]\n\tRtlClearBits [0x7755BD2F+191]\n"
     ]
    }
   ],
   "source": [
    "from selenium import webdriver\n",
    "from selenium.webdriver.common.by import By\n",
    "from selenium.webdriver.chrome.service import Service\n",
    "from selenium.common.exceptions import NoSuchElementException, ElementClickInterceptedException\n",
    "from webdriver_manager.chrome import ChromeDriverManager\n",
    "import time\n",
    "\n",
    "chromedriver_path = 'C:/Users/kkksk/.wdm/drivers/chromedriver/win64/122.0.6261.129/chromedriver.exe'\n",
    "service = Service(chromedriver_path)\n",
    "driver = webdriver.Chrome(service=service)\n",
    "\n",
    "url = \"https://www.google.com/search?q=WTI+crude+oil+news&tbm=nws\"\n",
    "driver.get(url)\n",
    "\n",
    "try:\n",
    "    while True:\n",
    "        \n",
    "        news_results = driver.find_elements(By.CSS_SELECTOR, 'div#rso > div >div>div>div')\n",
    "        for news_div in news_results:\n",
    "            try:\n",
    "                news_link = news_div.find_element(By.TAG_NAME, 'a').get_attribute('href')\n",
    "                news_text_elements = news_div.find_elements(By.CSS_SELECTOR, 'a>div>div>div')\n",
    "                news_item = [elem.text for elem in news_text_elements]\n",
    "                if len(news_item) >= 5:\n",
    "                    Link = news_link\n",
    "                    Domain = news_item[1]\n",
    "                    Title = news_item[2]\n",
    "                    Date = news_item[4]\n",
    "                    print(f\"Link: {Link}, Domain: {Domain}, Title: {Title}, Date: {Date}\")\n",
    "            except Exception as e:\n",
    "                print(e)\n",
    "\n",
    "        next_button = driver.find_element(By.ID, 'pnnext')\n",
    "        next_button.click()\n",
    "        time.sleep(2)  \n",
    "except (NoSuchElementException, ElementClickInterceptedException):\n",
    "    print(\"Reached the end of the results or encountered a click issue.\")\n",
    "\n",
    "finally:\n",
    "    driver.quit()\n"
   ]
  },
  {
   "cell_type": "code",
   "execution_count": 27,
   "id": "17173911-51fd-4aa5-b34c-4bace32b84a1",
   "metadata": {},
   "outputs": [
    {
     "data": {
      "text/plain": [
       "[]"
      ]
     },
     "execution_count": 27,
     "metadata": {},
     "output_type": "execute_result"
    }
   ],
   "source": [
    "articles"
   ]
  },
  {
   "cell_type": "code",
   "execution_count": 2,
   "id": "fbca7641-c7e2-41d8-ac0b-2c03eb3868a9",
   "metadata": {},
   "outputs": [],
   "source": [
    "from selenium import webdriver\n",
    "from selenium.webdriver.common.by import By\n",
    "from selenium.webdriver.common.keys import Keys\n",
    "from selenium.webdriver.chrome.service import Service\n",
    "from webdriver_manager.chrome import ChromeDriverManager\n",
    "\n",
    "driver = webdriver.Chrome(service=Service(ChromeDriverManager().install()))\n",
    "\n",
    "# Navigate to the webpage\n",
    "driver.get('https://www.google.com/search?q=WTI+crude+oil+news&sca_esv=cea3cab0966c3853&sca_upv=1&tbm=nws&sxsrf=ACQVn0-FmDaW7TvKobZFb9aoPH5gQiN2Qw:1710862464264&ei=gLD5ZcvlD-C0vr0PhI2_qAU&start=0&sa=N&ved=2ahUKEwjLpcSr04CFAxVgmq8BHYTGD1U4ChDy0wN6BAgEEAQ&biw=875&bih=765&dpr=2')\n",
    "\n",
    "# Find the \"Next\" button by its ID (\"pnnext\")\n",
    "next_button = driver.find_element(By.ID, 'pnnext')\n",
    "\n",
    "# Click the \"Next\" button\n",
    "next_button.click()\n"
   ]
  },
  {
   "cell_type": "code",
   "execution_count": null,
   "id": "c5d89ed4-ab2f-463f-add3-56f4df27bc76",
   "metadata": {},
   "outputs": [],
   "source": []
  }
 ],
 "metadata": {
  "kernelspec": {
   "display_name": "Python 3 (ipykernel)",
   "language": "python",
   "name": "python3"
  },
  "language_info": {
   "codemirror_mode": {
    "name": "ipython",
    "version": 3
   },
   "file_extension": ".py",
   "mimetype": "text/x-python",
   "name": "python",
   "nbconvert_exporter": "python",
   "pygments_lexer": "ipython3",
   "version": "3.9.13"
  }
 },
 "nbformat": 4,
 "nbformat_minor": 5
}
