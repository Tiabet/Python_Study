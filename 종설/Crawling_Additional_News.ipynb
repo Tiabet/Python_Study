{
 "cells": [
  {
   "cell_type": "code",
   "execution_count": null,
   "id": "753f77f6-dfd1-4c08-8f29-8d6d3af6a051",
   "metadata": {},
   "outputs": [],
   "source": [
    "from selenium import webdriver\n",
    "from selenium.webdriver.common.by import By\n",
    "from selenium.webdriver.chrome.service import Service\n",
    "from selenium.common.exceptions import NoSuchElementException, ElementClickInterceptedException\n",
    "from webdriver_manager.chrome import ChromeDriverManager\n",
    "import time\n",
    "import pandas as pd\n",
    "import mysql.connector\n",
    "import re"
   ]
  },
  {
   "cell_type": "code",
   "execution_count": null,
   "id": "86d9dda1-4273-440d-b8c0-38e2ebe688d7",
   "metadata": {},
   "outputs": [],
   "source": [
    "column_names = ['title','url','date']\n",
    "new_df = pd.DataFrame(columns = column_names)"
   ]
  },
  {
   "cell_type": "code",
   "execution_count": null,
   "id": "bc818810-9bc6-4855-80d2-b0f2c4e7c204",
   "metadata": {},
   "outputs": [],
   "source": [
    "idx = 0"
   ]
  },
  {
   "cell_type": "code",
   "execution_count": null,
   "id": "98758d8d-5b84-4c4f-94b0-3f1f44fa4d20",
   "metadata": {},
   "outputs": [],
   "source": [
    "chromedriver_path = 'C:/Users/kkksk/.wdm/drivers/chromedriver/win64/122.0.6261.129/chromedriver.exe'\n",
    "service = Service(chromedriver_path)\n",
    "driver = webdriver.Chrome(service=service)"
   ]
  },
  {
   "cell_type": "code",
   "execution_count": null,
   "id": "60c8b106-0ae7-449f-9c25-c13c8f4f8eb2",
   "metadata": {},
   "outputs": [],
   "source": [
    "cur_month = 1\n",
    "cur_year = 2010\n",
    "target_year = 2023\n",
    "\n",
    "while cur_year <= target_year:\n",
    "    \n",
    "    url = f\"https://www.google.com/search?q=crude+oil&tbs=cdr:1,cd_min:{cur_month}/1/{cur_year},cd_max:{cur_month}/31/{cur_year}&tbm=nws\"\n",
    "    driver.get(url)\n",
    "    \n",
    "    time.sleep(30)\n",
    "    \n",
    "    while True:\n",
    "        news_results = driver.find_elements(By.CSS_SELECTOR, 'div#rso > div >div>div>div')\n",
    "        for news_div in news_results:\n",
    "            try:\n",
    "                news_link = news_div.find_element(By.TAG_NAME, 'a').get_attribute('href')\n",
    "                news_text_elements = news_div.find_elements(By.CSS_SELECTOR, 'a>div>div>div')\n",
    "                news_item = [elem.text for elem in news_text_elements]\n",
    "                if len(news_item) >= 5:\n",
    "                    Link = news_link\n",
    "                    Title = news_item[2]\n",
    "                    Date = news_item[4]\n",
    "                \n",
    "                new_df.loc[idx] = [Title, Link, Date]\n",
    "                idx += 1\n",
    "            except Exception as e:\n",
    "                print(e)\n",
    "        \n",
    "        try:\n",
    "            next_button = driver.find_element(By.ID, 'pnnext')\n",
    "            next_button.click()\n",
    "            time.sleep(2)\n",
    "        except NoSuchElementException:\n",
    "            break\n",
    "    if cur_month == 12:  \n",
    "        cur_month = 1\n",
    "        cur_year += 1\n",
    "    else: \n",
    "        cur_month += 1\n"
   ]
  }
 ],
 "metadata": {
  "kernelspec": {
   "display_name": "Python 3 (ipykernel)",
   "language": "python",
   "name": "python3"
  },
  "language_info": {
   "codemirror_mode": {
    "name": "ipython",
    "version": 3
   },
   "file_extension": ".py",
   "mimetype": "text/x-python",
   "name": "python",
   "nbconvert_exporter": "python",
   "pygments_lexer": "ipython3",
   "version": "3.9.13"
  }
 },
 "nbformat": 4,
 "nbformat_minor": 5
}
