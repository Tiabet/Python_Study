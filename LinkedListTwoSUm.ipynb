{
 "cells": [
  {
   "cell_type": "code",
   "execution_count": null,
   "id": "a692c9a1-264e-4d7f-a739-49ba8caa0400",
   "metadata": {},
   "outputs": [],
   "source": [
    "# Definition for singly-linked list.\n",
    "# class ListNode(object):\n",
    "#     def __init__(self, val=0, next=None):\n",
    "#         self.val = val\n",
    "#         self.next = next\n",
    "class ListNode:\n",
    "    def __init__(self, val=0, next=None):\n",
    "        self.val = val\n",
    "        self.next = next\n",
    "class Solution:\n",
    "    def addTwoNumbers(self, l1, l2):\n",
    "        dummyHead = ListNode(0)\n",
    "        curr = dummyHead\n",
    "        carry = 0\n",
    "        while l1 != None or l2 != None or carry != 0:\n",
    "            l1Val = l1.val if l1 else 0\n",
    "            l2Val = l2.val if l2 else 0\n",
    "            columnSum = l1Val + l2Val + carry\n",
    "            carry = columnSum // 10\n",
    "            newNode = ListNode(columnSum % 10)\n",
    "            curr.next = newNode\n",
    "            curr = newNode\n",
    "            l1 = l1.next if l1 else None\n",
    "            l2 = l2.next if l2 else None\n",
    "        return dummyHead.next\n",
    "\n",
    "        "
   ]
  }
 ],
 "metadata": {
  "kernelspec": {
   "display_name": "Python 3 (ipykernel)",
   "language": "python",
   "name": "python3"
  },
  "language_info": {
   "codemirror_mode": {
    "name": "ipython",
    "version": 3
   },
   "file_extension": ".py",
   "mimetype": "text/x-python",
   "name": "python",
   "nbconvert_exporter": "python",
   "pygments_lexer": "ipython3",
   "version": "3.9.13"
  }
 },
 "nbformat": 4,
 "nbformat_minor": 5
}
