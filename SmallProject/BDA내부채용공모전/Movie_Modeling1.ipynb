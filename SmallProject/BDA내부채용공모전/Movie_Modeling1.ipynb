{
 "cells": [
  {
   "cell_type": "markdown",
   "metadata": {},
   "source": [
    "## 모델링 1"
   ]
  },
  {
   "cell_type": "code",
   "execution_count": 1,
   "metadata": {
    "id": "FAUqd2lFZdMj"
   },
   "outputs": [],
   "source": [
    "import pandas as pd"
   ]
  },
  {
   "cell_type": "code",
   "execution_count": 2,
   "metadata": {
    "colab": {
     "base_uri": "https://localhost:8080/",
     "height": 411
    },
    "id": "gYP2qCNsaIQu",
    "outputId": "40d47d5a-9db6-4772-cdca-bc37686ef23e"
   },
   "outputs": [
    {
     "data": {
      "text/html": [
       "<div>\n",
       "<style scoped>\n",
       "    .dataframe tbody tr th:only-of-type {\n",
       "        vertical-align: middle;\n",
       "    }\n",
       "\n",
       "    .dataframe tbody tr th {\n",
       "        vertical-align: top;\n",
       "    }\n",
       "\n",
       "    .dataframe thead th {\n",
       "        text-align: right;\n",
       "    }\n",
       "</style>\n",
       "<table border=\"1\" class=\"dataframe\">\n",
       "  <thead>\n",
       "    <tr style=\"text-align: right;\">\n",
       "      <th></th>\n",
       "      <th>Movie</th>\n",
       "      <th>Date</th>\n",
       "      <th>Total Sales</th>\n",
       "      <th>Sales Share</th>\n",
       "      <th>Cumulative Sales</th>\n",
       "      <th>Total Attendance</th>\n",
       "      <th>Cumulative Attendance</th>\n",
       "      <th>Screen Count</th>\n",
       "      <th>Show Count</th>\n",
       "      <th>Country</th>\n",
       "      <th>...</th>\n",
       "      <th>소비지출</th>\n",
       "      <th>비소비지출</th>\n",
       "      <th>ViewCount</th>\n",
       "      <th>LikeCount</th>\n",
       "      <th>Actor1</th>\n",
       "      <th>Actor2</th>\n",
       "      <th>Actor3</th>\n",
       "      <th>Month</th>\n",
       "      <th>GENRE1</th>\n",
       "      <th>GENRE2</th>\n",
       "    </tr>\n",
       "  </thead>\n",
       "  <tbody>\n",
       "    <tr>\n",
       "      <th>0</th>\n",
       "      <td>서울의 봄</td>\n",
       "      <td>2023-11-22</td>\n",
       "      <td>127926589712</td>\n",
       "      <td>0.051</td>\n",
       "      <td>127926589712</td>\n",
       "      <td>13128020</td>\n",
       "      <td>13128020</td>\n",
       "      <td>2463</td>\n",
       "      <td>374531</td>\n",
       "      <td>한국</td>\n",
       "      <td>...</td>\n",
       "      <td>1895.0</td>\n",
       "      <td>288.0</td>\n",
       "      <td>3322023.0</td>\n",
       "      <td>18708.0</td>\n",
       "      <td>7424560.0</td>\n",
       "      <td>6676369.0</td>\n",
       "      <td>7593444.5</td>\n",
       "      <td>11</td>\n",
       "      <td>0.12</td>\n",
       "      <td>NaN</td>\n",
       "    </tr>\n",
       "    <tr>\n",
       "      <th>1</th>\n",
       "      <td>범죄도시2</td>\n",
       "      <td>2022-05-18</td>\n",
       "      <td>129317928648</td>\n",
       "      <td>0.052</td>\n",
       "      <td>131298796478</td>\n",
       "      <td>12510481</td>\n",
       "      <td>12693415</td>\n",
       "      <td>2521</td>\n",
       "      <td>353993</td>\n",
       "      <td>한국</td>\n",
       "      <td>...</td>\n",
       "      <td>1512.0</td>\n",
       "      <td>292.0</td>\n",
       "      <td>3910955.0</td>\n",
       "      <td>23841.0</td>\n",
       "      <td>7994955.7</td>\n",
       "      <td>6832765.5</td>\n",
       "      <td>12693415.0</td>\n",
       "      <td>5</td>\n",
       "      <td>0.17</td>\n",
       "      <td>0.13</td>\n",
       "    </tr>\n",
       "    <tr>\n",
       "      <th>2</th>\n",
       "      <td>파묘</td>\n",
       "      <td>2024-02-22</td>\n",
       "      <td>115063079635</td>\n",
       "      <td>0.046</td>\n",
       "      <td>115063079635</td>\n",
       "      <td>11904253</td>\n",
       "      <td>11904253</td>\n",
       "      <td>2367</td>\n",
       "      <td>363781</td>\n",
       "      <td>한국</td>\n",
       "      <td>...</td>\n",
       "      <td>NaN</td>\n",
       "      <td>NaN</td>\n",
       "      <td>3107834.0</td>\n",
       "      <td>11026.0</td>\n",
       "      <td>11904253.0</td>\n",
       "      <td>7589735.5</td>\n",
       "      <td>4794673.6</td>\n",
       "      <td>2</td>\n",
       "      <td>0.30</td>\n",
       "      <td>0.17</td>\n",
       "    </tr>\n",
       "    <tr>\n",
       "      <th>3</th>\n",
       "      <td>아바타: 물의 길</td>\n",
       "      <td>2022-12-14</td>\n",
       "      <td>137647702899</td>\n",
       "      <td>0.055</td>\n",
       "      <td>137647702899</td>\n",
       "      <td>10805065</td>\n",
       "      <td>10805065</td>\n",
       "      <td>2809</td>\n",
       "      <td>283037</td>\n",
       "      <td>미국</td>\n",
       "      <td>...</td>\n",
       "      <td>1802.0</td>\n",
       "      <td>367.0</td>\n",
       "      <td>2385290.0</td>\n",
       "      <td>12620.0</td>\n",
       "      <td>5081675.7</td>\n",
       "      <td>5517888.5</td>\n",
       "      <td>5517888.5</td>\n",
       "      <td>12</td>\n",
       "      <td>0.06</td>\n",
       "      <td>0.19</td>\n",
       "    </tr>\n",
       "    <tr>\n",
       "      <th>4</th>\n",
       "      <td>범죄도시3</td>\n",
       "      <td>2023-05-31</td>\n",
       "      <td>104687737771</td>\n",
       "      <td>0.042</td>\n",
       "      <td>104687737771</td>\n",
       "      <td>10682813</td>\n",
       "      <td>10682813</td>\n",
       "      <td>2582</td>\n",
       "      <td>311915</td>\n",
       "      <td>한국</td>\n",
       "      <td>...</td>\n",
       "      <td>1718.0</td>\n",
       "      <td>261.0</td>\n",
       "      <td>1995731.0</td>\n",
       "      <td>5738.0</td>\n",
       "      <td>10682813.0</td>\n",
       "      <td>7994955.7</td>\n",
       "      <td>10682813.0</td>\n",
       "      <td>5</td>\n",
       "      <td>0.17</td>\n",
       "      <td>0.13</td>\n",
       "    </tr>\n",
       "  </tbody>\n",
       "</table>\n",
       "<p>5 rows × 39 columns</p>\n",
       "</div>"
      ],
      "text/plain": [
       "       Movie        Date   Total Sales  Sales Share  Cumulative Sales  \\\n",
       "0      서울의 봄  2023-11-22  127926589712        0.051      127926589712   \n",
       "1      범죄도시2  2022-05-18  129317928648        0.052      131298796478   \n",
       "2         파묘  2024-02-22  115063079635        0.046      115063079635   \n",
       "3  아바타: 물의 길  2022-12-14  137647702899        0.055      137647702899   \n",
       "4      범죄도시3  2023-05-31  104687737771        0.042      104687737771   \n",
       "\n",
       "   Total Attendance  Cumulative Attendance  Screen Count  Show Count Country  \\\n",
       "0          13128020               13128020          2463      374531      한국   \n",
       "1          12510481               12693415          2521      353993      한국   \n",
       "2          11904253               11904253          2367      363781      한국   \n",
       "3          10805065               10805065          2809      283037      미국   \n",
       "4          10682813               10682813          2582      311915      한국   \n",
       "\n",
       "   ...    소비지출  비소비지출  ViewCount LikeCount      Actor1     Actor2      Actor3  \\\n",
       "0  ...  1895.0  288.0  3322023.0   18708.0   7424560.0  6676369.0   7593444.5   \n",
       "1  ...  1512.0  292.0  3910955.0   23841.0   7994955.7  6832765.5  12693415.0   \n",
       "2  ...     NaN    NaN  3107834.0   11026.0  11904253.0  7589735.5   4794673.6   \n",
       "3  ...  1802.0  367.0  2385290.0   12620.0   5081675.7  5517888.5   5517888.5   \n",
       "4  ...  1718.0  261.0  1995731.0    5738.0  10682813.0  7994955.7  10682813.0   \n",
       "\n",
       "  Month GENRE1 GENRE2  \n",
       "0    11   0.12    NaN  \n",
       "1     5   0.17   0.13  \n",
       "2     2   0.30   0.17  \n",
       "3    12   0.06   0.19  \n",
       "4     5   0.17   0.13  \n",
       "\n",
       "[5 rows x 39 columns]"
      ]
     },
     "execution_count": 2,
     "metadata": {},
     "output_type": "execute_result"
    }
   ],
   "source": [
    "data = pd.read_csv(\"영화_최종데이터_v3.csv\", encoding = 'UTF8')\n",
    "data.head()"
   ]
  },
  {
   "cell_type": "code",
   "execution_count": 3,
   "metadata": {
    "id": "22AkAMF6fdyq"
   },
   "outputs": [],
   "source": [
    "data['Date'] = pd.to_datetime(data['Date'])\n",
    "data['Month'] = data['Date'].dt.month"
   ]
  },
  {
   "cell_type": "code",
   "execution_count": 4,
   "metadata": {
    "id": "R6ud-wDPalIq"
   },
   "outputs": [],
   "source": [
    "columns_to_include = [\"Movie\", \"Month\",\n",
    "                    #   \"Production Country\", \"Production Company\", \"Distributor\", \"Director\", \"Level\"\n",
    "                      \"sentiment\", \"rating\", \"ViewCount\", \"LikeCount\",\n",
    "                      \"Actor1\", \"Actor2\", \"Actor3\", \"GENRE1\", \"Success\",\n",
    "                      \"남자 인구수\", \"여자 인구수\", \"총인구수\", \"가계지출\", \"소비지출\", \"Total Sales\"]"
   ]
  },
  {
   "cell_type": "code",
   "execution_count": 5,
   "metadata": {
    "id": "WFw64IJeeoh_"
   },
   "outputs": [],
   "source": [
    "data = data[columns_to_include]"
   ]
  },
  {
   "cell_type": "code",
   "execution_count": 6,
   "metadata": {
    "colab": {
     "base_uri": "https://localhost:8080/"
    },
    "id": "-jP3qd4dgtlT",
    "outputId": "67569718-3692-4f31-d506-a0e70ab17853"
   },
   "outputs": [
    {
     "data": {
      "text/plain": [
       "Movie           0\n",
       "Month           0\n",
       "sentiment       0\n",
       "rating          0\n",
       "ViewCount       3\n",
       "LikeCount       3\n",
       "Actor1         15\n",
       "Actor2         18\n",
       "Actor3         27\n",
       "GENRE1          0\n",
       "Success         0\n",
       "남자 인구수          2\n",
       "여자 인구수          2\n",
       "총인구수            2\n",
       "가계지출           29\n",
       "소비지출           29\n",
       "Total Sales     0\n",
       "dtype: int64"
      ]
     },
     "execution_count": 6,
     "metadata": {},
     "output_type": "execute_result"
    }
   ],
   "source": [
    "data.isnull().sum()"
   ]
  },
  {
   "cell_type": "code",
   "execution_count": 7,
   "metadata": {
    "id": "zTMxr8fdinsz"
   },
   "outputs": [],
   "source": [
    "data['ViewCount'].fillna(data['ViewCount'].mean(), inplace = True)\n",
    "data['LikeCount'].fillna(data['LikeCount'].mean(), inplace = True)\n",
    "data['남자 인구수'].fillna(data['남자 인구수'].mean(), inplace = True)\n",
    "data['여자 인구수'].fillna(data['여자 인구수'].mean(), inplace = True)\n",
    "data['총인구수'].fillna(data['총인구수'].mean(), inplace = True)\n",
    "data['가계지출'].fillna(data['가계지출'].mean(), inplace = True)\n",
    "data['소비지출'].fillna(data['소비지출'].mean(), inplace = True)\n",
    "\n",
    "data['Actor1'].fillna(0, inplace = True)\n",
    "data['Actor2'].fillna(0, inplace = True)\n",
    "data['Actor3'].fillna(0, inplace = True)"
   ]
  },
  {
   "cell_type": "code",
   "execution_count": 8,
   "metadata": {
    "colab": {
     "base_uri": "https://localhost:8080/"
    },
    "id": "T_eANO6meqAu",
    "outputId": "c121e009-7675-4ab7-f6f1-4598e91b8d9d"
   },
   "outputs": [
    {
     "name": "stdout",
     "output_type": "stream",
     "text": [
      "Fitting 5 folds for each of 648 candidates, totalling 3240 fits\n"
     ]
    }
   ],
   "source": [
    "from sklearn.model_selection import train_test_split, GridSearchCV\n",
    "from sklearn.ensemble import RandomForestClassifier\n",
    "from sklearn.metrics import accuracy_score, confusion_matrix\n",
    "import matplotlib.pyplot as plt\n",
    "import seaborn as sns\n",
    "\n",
    "X = data.drop(columns = [\"Success\", \"Movie\"])\n",
    "y = data[\"Success\"]\n",
    "\n",
    "X_train, X_test, y_train, y_test = train_test_split(X, y, test_size = 0.2, random_state = 42)\n",
    "\n",
    "param_grid = {\n",
    "    'n_estimators': [50, 100, 200],\n",
    "    'max_features': ['auto', 'sqrt', 'log2'],\n",
    "    'max_depth': [None, 10, 20, 30],\n",
    "    'min_samples_split': [2, 5, 10],\n",
    "    'min_samples_leaf': [1, 2, 4],\n",
    "    'bootstrap': [True, False]\n",
    "}\n",
    "\n",
    "grid_search = GridSearchCV(estimator = RandomForestClassifier(random_state = 42), param_grid = param_grid, cv = 5, n_jobs = -1, verbose = 2)\n",
    "grid_search.fit(X_train, y_train)\n",
    "\n",
    "# model.fit(X_train, y_train)\n",
    "best_model = grid_search.best_estimator_\n",
    "y_pred = best_model.predict(X_test)"
   ]
  },
  {
   "cell_type": "code",
   "execution_count": 9,
   "metadata": {
    "colab": {
     "base_uri": "https://localhost:8080/",
     "height": 658
    },
    "id": "HAPGO8JqgOcY",
    "outputId": "02b4b736-fb2d-44a0-80d1-876b023dd11f"
   },
   "outputs": [
    {
     "name": "stdout",
     "output_type": "stream",
     "text": [
      "Accuracy: 0.6060606060606061\n"
     ]
    },
    {
     "data": {
      "image/png": "[encoded data removed]",
      "text/plain": [
       "<Figure size 1000x700 with 2 Axes>"
      ]
     },
     "metadata": {},
     "output_type": "display_data"
    }
   ],
   "source": [
    "accuracy = accuracy_score(y_test, y_pred)\n",
    "print(\"Accuracy:\", accuracy)\n",
    "\n",
    "cm = confusion_matrix(y_test, y_pred)\n",
    "plt.figure(figsize = (10, 7))\n",
    "sns.heatmap(cm, annot = True, fmt = 'd', cmap = 'Blues')\n",
    "plt.xlabel('Predicted')\n",
    "plt.ylabel('True')\n",
    "plt.title('Confusion Matrix')\n",
    "plt.show()"
   ]
  },
  {
   "cell_type": "code",
   "execution_count": 10,
   "metadata": {
    "colab": {
     "base_uri": "https://localhost:8080/"
    },
    "id": "jWv7S4O-jCq3",
    "outputId": "b19f30cf-60ad-40cb-e99b-968207c789af"
   },
   "outputs": [
    {
     "name": "stdout",
     "output_type": "stream",
     "text": [
      "Accuracy: 0.6060606060606061\n"
     ]
    }
   ],
   "source": [
    "from sklearn.svm import SVC\n",
    "\n",
    "# 모델 생성 및 학습\n",
    "model = SVC(random_state = 42)\n",
    "model.fit(X_train, y_train)\n",
    "\n",
    "# 예측\n",
    "y_pred = model.predict(X_test)\n",
    "\n",
    "# 평가\n",
    "accuracy = accuracy_score(y_test, y_pred)\n",
    "print(\"Accuracy:\", accuracy)\n"
   ]
  },
  {
   "cell_type": "code",
   "execution_count": 11,
   "metadata": {
    "colab": {
     "base_uri": "https://localhost:8080/"
    },
    "id": "KPRxKC_ZpfGh",
    "outputId": "c1e039fe-083d-4b07-9fca-d009d9c21eab"
   },
   "outputs": [
    {
     "name": "stdout",
     "output_type": "stream",
     "text": [
      "Accuracy: 0.6666666666666666\n"
     ]
    }
   ],
   "source": [
    "from sklearn.ensemble import GradientBoostingClassifier\n",
    "\n",
    "# 모델 생성 및 학습\n",
    "model = GradientBoostingClassifier(random_state=42)\n",
    "model.fit(X_train, y_train)\n",
    "\n",
    "# 예측\n",
    "y_pred = model.predict(X_test)\n",
    "\n",
    "# 평가\n",
    "accuracy = accuracy_score(y_test, y_pred)\n",
    "print(\"Accuracy:\", accuracy)\n"
   ]
  },
  {
   "cell_type": "code",
   "execution_count": 12,
   "metadata": {
    "colab": {
     "base_uri": "https://localhost:8080/"
    },
    "id": "jESHDT1NplSQ",
    "outputId": "051ed846-23d7-4fb3-b66d-e6dbbeb88add"
   },
   "outputs": [
    {
     "name": "stdout",
     "output_type": "stream",
     "text": [
      "Accuracy: 0.5757575757575758\n"
     ]
    }
   ],
   "source": [
    "import xgboost as xgb\n",
    "\n",
    "# 모델 생성 및 학습\n",
    "model = xgb.XGBClassifier(random_state=42)\n",
    "model.fit(X_train, y_train)\n",
    "\n",
    "# 예측\n",
    "y_pred = model.predict(X_test)\n",
    "\n",
    "# 평가\n",
    "accuracy = accuracy_score(y_test, y_pred)\n",
    "print(\"Accuracy:\", accuracy)"
   ]
  }
 ],
 "metadata": {
  "colab": {
   "provenance": []
  },
  "kernelspec": {
   "display_name": "Python 3 (ipykernel)",
   "language": "python",
   "name": "python3"
  },
  "language_info": {
   "codemirror_mode": {
    "name": "ipython",
    "version": 3
   },
   "file_extension": ".py",
   "mimetype": "text/x-python",
   "name": "python",
   "nbconvert_exporter": "python",
   "pygments_lexer": "ipython3",
   "version": "3.9.13"
  }
 },
 "nbformat": 4,
 "nbformat_minor": 4
}
