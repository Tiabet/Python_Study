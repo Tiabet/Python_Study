{
 "cells": [
  {
   "cell_type": "markdown",
   "metadata": {},
   "source": [
    "## 왓챠피디아 리뷰 크롤링"
   ]
  },
  {
   "cell_type": "code",
   "execution_count": 1,
   "metadata": {
    "id": "ISDKRnX2pTzW"
   },
   "outputs": [],
   "source": [
    "import pandas as pd"
   ]
  },
  {
   "cell_type": "code",
   "execution_count": 2,
   "metadata": {
    "executionInfo": {
     "elapsed": 309,
     "status": "ok",
     "timestamp": 1719793995382,
     "user": {
      "displayName": "김정현",
      "userId": "08330403295617770299"
     },
     "user_tz": -540
    },
    "id": "uD8ThzM3pg1p"
   },
   "outputs": [],
   "source": [
    "df = pd.read_csv('영화정보_2224_최종.csv',encoding = 'cp949')"
   ]
  },
  {
   "cell_type": "code",
   "execution_count": 3,
   "metadata": {
    "colab": {
     "base_uri": "https://localhost:8080/",
     "height": 1000
    },
    "executionInfo": {
     "elapsed": 7,
     "status": "ok",
     "timestamp": 1719793996333,
     "user": {
      "displayName": "김정현",
      "userId": "08330403295617770299"
     },
     "user_tz": -540
    },
    "id": "QGh3i7NNtYIJ",
    "outputId": "2be004a0-90b2-471c-ea8b-218bc8f60a0e"
   },
   "outputs": [
    {
     "data": {
      "text/html": [
       "<div>\n",
       "<style scoped>\n",
       "    .dataframe tbody tr th:only-of-type {\n",
       "        vertical-align: middle;\n",
       "    }\n",
       "\n",
       "    .dataframe tbody tr th {\n",
       "        vertical-align: top;\n",
       "    }\n",
       "\n",
       "    .dataframe thead th {\n",
       "        text-align: right;\n",
       "    }\n",
       "</style>\n",
       "<table border=\"1\" class=\"dataframe\">\n",
       "  <thead>\n",
       "    <tr style=\"text-align: right;\">\n",
       "      <th></th>\n",
       "      <th>Rank</th>\n",
       "      <th>Movie</th>\n",
       "      <th>Date</th>\n",
       "      <th>Total Sales</th>\n",
       "      <th>Sales Share</th>\n",
       "      <th>Cumulative Sales</th>\n",
       "      <th>Total Attendance</th>\n",
       "      <th>Cumulative Attendance</th>\n",
       "      <th>Screen Count</th>\n",
       "      <th>Show Count</th>\n",
       "      <th>Country</th>\n",
       "      <th>Production Country</th>\n",
       "      <th>Production Company</th>\n",
       "      <th>Distributor</th>\n",
       "      <th>Level</th>\n",
       "      <th>Genre</th>\n",
       "      <th>Director</th>\n",
       "      <th>Actor</th>\n",
       "    </tr>\n",
       "  </thead>\n",
       "  <tbody>\n",
       "    <tr>\n",
       "      <th>0</th>\n",
       "      <td>1</td>\n",
       "      <td>서울의 봄</td>\n",
       "      <td>2023-11-22</td>\n",
       "      <td>127926589712</td>\n",
       "      <td>0.051</td>\n",
       "      <td>127926589712</td>\n",
       "      <td>13128020</td>\n",
       "      <td>13128020</td>\n",
       "      <td>2463</td>\n",
       "      <td>374531</td>\n",
       "      <td>한국</td>\n",
       "      <td>한국</td>\n",
       "      <td>(주)하이브미디어코프</td>\n",
       "      <td>플러스 엔터테인먼트</td>\n",
       "      <td>12세이상관람가</td>\n",
       "      <td>드라마</td>\n",
       "      <td>김성수</td>\n",
       "      <td>황정민,윤호림,이미라,정우성,이성민,박해준,김성균,김의성,정동환,안내상,유성주,최병...</td>\n",
       "    </tr>\n",
       "    <tr>\n",
       "      <th>1</th>\n",
       "      <td>2</td>\n",
       "      <td>범죄도시2</td>\n",
       "      <td>2022-05-18</td>\n",
       "      <td>129317928648</td>\n",
       "      <td>0.052</td>\n",
       "      <td>131298796478</td>\n",
       "      <td>12510481</td>\n",
       "      <td>12693415</td>\n",
       "      <td>2521</td>\n",
       "      <td>353993</td>\n",
       "      <td>한국</td>\n",
       "      <td>한국</td>\n",
       "      <td>주식회사 빅펀치픽쳐스,(주)홍필름,(주)비에이엔터테인먼트</td>\n",
       "      <td>주식회사 에이비오엔터테인먼트,플러스 엔터테인먼트</td>\n",
       "      <td>15세이상관람가</td>\n",
       "      <td>범죄,액션</td>\n",
       "      <td>이상용</td>\n",
       "      <td>마동석,손석구,최귀화,박지환,허동원,하준,정재광,남문철,박지영,이주원,음문석,김찬형...</td>\n",
       "    </tr>\n",
       "    <tr>\n",
       "      <th>2</th>\n",
       "      <td>3</td>\n",
       "      <td>파묘</td>\n",
       "      <td>2024-02-22</td>\n",
       "      <td>115063079635</td>\n",
       "      <td>0.046</td>\n",
       "      <td>115063079635</td>\n",
       "      <td>11904253</td>\n",
       "      <td>11904253</td>\n",
       "      <td>2367</td>\n",
       "      <td>363781</td>\n",
       "      <td>한국</td>\n",
       "      <td>한국</td>\n",
       "      <td>(주)쇼박스</td>\n",
       "      <td>(주)쇼박스</td>\n",
       "      <td>15세이상관람가</td>\n",
       "      <td>미스터리,공포(호러)</td>\n",
       "      <td>장재현</td>\n",
       "      <td>최민식,김고은,유해진,이도현,김재철,김민준,김병오,전진기,박정자,박지일,이종구,이영...</td>\n",
       "    </tr>\n",
       "    <tr>\n",
       "      <th>3</th>\n",
       "      <td>4</td>\n",
       "      <td>아바타: 물의 길</td>\n",
       "      <td>2022-12-14</td>\n",
       "      <td>137647702899</td>\n",
       "      <td>0.055</td>\n",
       "      <td>137647702899</td>\n",
       "      <td>10805065</td>\n",
       "      <td>10805065</td>\n",
       "      <td>2809</td>\n",
       "      <td>283037</td>\n",
       "      <td>미국</td>\n",
       "      <td>미국</td>\n",
       "      <td>NaN</td>\n",
       "      <td>월트디즈니컴퍼니코리아 유한책임회사</td>\n",
       "      <td>12세이상관람가</td>\n",
       "      <td>액션,어드벤처,SF,스릴러</td>\n",
       "      <td>제임스 카메</td>\n",
       "      <td>조 샐다나,샘 워싱턴,시고니 위버,스티븐 랭,케이트 윈슬렛</td>\n",
       "    </tr>\n",
       "    <tr>\n",
       "      <th>4</th>\n",
       "      <td>5</td>\n",
       "      <td>범죄도시3</td>\n",
       "      <td>2023-05-31</td>\n",
       "      <td>104687737771</td>\n",
       "      <td>0.042</td>\n",
       "      <td>104687737771</td>\n",
       "      <td>10682813</td>\n",
       "      <td>10682813</td>\n",
       "      <td>2582</td>\n",
       "      <td>311915</td>\n",
       "      <td>한국</td>\n",
       "      <td>한국</td>\n",
       "      <td>주식회사 빅펀치픽쳐스,(주)홍필름,(주)비에이엔터테인먼트</td>\n",
       "      <td>주식회사 에이비오엔터테인먼트,플러스 엔터테인먼트</td>\n",
       "      <td>15세이상관람가</td>\n",
       "      <td>범죄,액션</td>\n",
       "      <td>이상용</td>\n",
       "      <td>정호진,마동석,황순명,이준혁,아오키 무네타카,이범수,김민재,이지훈,김도건,고규필,전...</td>\n",
       "    </tr>\n",
       "    <tr>\n",
       "      <th>...</th>\n",
       "      <td>...</td>\n",
       "      <td>...</td>\n",
       "      <td>...</td>\n",
       "      <td>...</td>\n",
       "      <td>...</td>\n",
       "      <td>...</td>\n",
       "      <td>...</td>\n",
       "      <td>...</td>\n",
       "      <td>...</td>\n",
       "      <td>...</td>\n",
       "      <td>...</td>\n",
       "      <td>...</td>\n",
       "      <td>...</td>\n",
       "      <td>...</td>\n",
       "      <td>...</td>\n",
       "      <td>...</td>\n",
       "      <td>...</td>\n",
       "      <td>...</td>\n",
       "    </tr>\n",
       "    <tr>\n",
       "      <th>159</th>\n",
       "      <td>160</td>\n",
       "      <td>스마일</td>\n",
       "      <td>2022-10-06</td>\n",
       "      <td>1124306658</td>\n",
       "      <td>0.000</td>\n",
       "      <td>1124306658</td>\n",
       "      <td>105651</td>\n",
       "      <td>105651</td>\n",
       "      <td>455</td>\n",
       "      <td>7659</td>\n",
       "      <td>미국</td>\n",
       "      <td>미국</td>\n",
       "      <td>NaN</td>\n",
       "      <td>롯데컬처웍스(주)롯데엔터테인먼트</td>\n",
       "      <td>청소년관람불가</td>\n",
       "      <td>미스터리,공포(호러)</td>\n",
       "      <td>파커 핀</td>\n",
       "      <td>소지 베이컨,제시 어셔,카일 갈너,케이틀린 스테이시,칼 펜,롭 모건</td>\n",
       "    </tr>\n",
       "    <tr>\n",
       "      <th>160</th>\n",
       "      <td>161</td>\n",
       "      <td>뉴 노멀</td>\n",
       "      <td>2023-11-08</td>\n",
       "      <td>987958873</td>\n",
       "      <td>0.000</td>\n",
       "      <td>987958873</td>\n",
       "      <td>103037</td>\n",
       "      <td>103037</td>\n",
       "      <td>546</td>\n",
       "      <td>10934</td>\n",
       "      <td>한국</td>\n",
       "      <td>한국</td>\n",
       "      <td>언파스튜디오</td>\n",
       "      <td>(주)바이포엠스튜디오</td>\n",
       "      <td>15세이상관람가</td>\n",
       "      <td>스릴러,드라마,코미디</td>\n",
       "      <td>정범식</td>\n",
       "      <td>최지우,이유미,최민호,표지훈,하다인,정동원,이문식,이주실,이동규,황승언,김미화,이주...</td>\n",
       "    </tr>\n",
       "    <tr>\n",
       "      <th>161</th>\n",
       "      <td>162</td>\n",
       "      <td>비키퍼</td>\n",
       "      <td>2024-04-03</td>\n",
       "      <td>962290905</td>\n",
       "      <td>0.000</td>\n",
       "      <td>962290905</td>\n",
       "      <td>102969</td>\n",
       "      <td>102969</td>\n",
       "      <td>713</td>\n",
       "      <td>13022</td>\n",
       "      <td>미국</td>\n",
       "      <td>미국</td>\n",
       "      <td>NaN</td>\n",
       "      <td>(주)바른손이앤에이</td>\n",
       "      <td>청소년관람불가</td>\n",
       "      <td>액션,스릴러</td>\n",
       "      <td>데이비드 에이어</td>\n",
       "      <td>제이슨 스타뎀,조쉬 허처슨,제레미 아이언스</td>\n",
       "    </tr>\n",
       "    <tr>\n",
       "      <th>162</th>\n",
       "      <td>163</td>\n",
       "      <td>엘비스</td>\n",
       "      <td>2022-07-13</td>\n",
       "      <td>1098745318</td>\n",
       "      <td>0.000</td>\n",
       "      <td>1098745318</td>\n",
       "      <td>101522</td>\n",
       "      <td>101522</td>\n",
       "      <td>665</td>\n",
       "      <td>10094</td>\n",
       "      <td>미국</td>\n",
       "      <td>미국</td>\n",
       "      <td>NaN</td>\n",
       "      <td>워너브러더스 코리아(주)</td>\n",
       "      <td>15세이상관람가</td>\n",
       "      <td>드라마</td>\n",
       "      <td>바즈 루어만</td>\n",
       "      <td>오스틴 버틀러,톰 행크스,올리비아 데</td>\n",
       "    </tr>\n",
       "    <tr>\n",
       "      <th>163</th>\n",
       "      <td>합계</td>\n",
       "      <td>NaN</td>\n",
       "      <td>NaN</td>\n",
       "      <td>2489156580644</td>\n",
       "      <td>NaN</td>\n",
       "      <td>7705479103444</td>\n",
       "      <td>245310874</td>\n",
       "      <td>897439983</td>\n",
       "      <td>243127</td>\n",
       "      <td>10957993</td>\n",
       "      <td>NaN</td>\n",
       "      <td>NaN</td>\n",
       "      <td>NaN</td>\n",
       "      <td>NaN</td>\n",
       "      <td>NaN</td>\n",
       "      <td>NaN</td>\n",
       "      <td>NaN</td>\n",
       "      <td>NaN</td>\n",
       "    </tr>\n",
       "  </tbody>\n",
       "</table>\n",
       "<p>164 rows × 18 columns</p>\n",
       "</div>"
      ],
      "text/plain": [
       "    Rank      Movie        Date    Total Sales  Sales Share  Cumulative Sales  \\\n",
       "0      1      서울의 봄  2023-11-22   127926589712        0.051      127926589712   \n",
       "1      2      범죄도시2  2022-05-18   129317928648        0.052      131298796478   \n",
       "2      3         파묘  2024-02-22   115063079635        0.046      115063079635   \n",
       "3      4  아바타: 물의 길  2022-12-14   137647702899        0.055      137647702899   \n",
       "4      5      범죄도시3  2023-05-31   104687737771        0.042      104687737771   \n",
       "..   ...        ...         ...            ...          ...               ...   \n",
       "159  160        스마일  2022-10-06     1124306658        0.000        1124306658   \n",
       "160  161       뉴 노멀  2023-11-08      987958873        0.000         987958873   \n",
       "161  162        비키퍼  2024-04-03      962290905        0.000         962290905   \n",
       "162  163        엘비스  2022-07-13     1098745318        0.000        1098745318   \n",
       "163   합계        NaN         NaN  2489156580644          NaN     7705479103444   \n",
       "\n",
       "     Total Attendance  Cumulative Attendance  Screen Count  Show Count  \\\n",
       "0            13128020               13128020          2463      374531   \n",
       "1            12510481               12693415          2521      353993   \n",
       "2            11904253               11904253          2367      363781   \n",
       "3            10805065               10805065          2809      283037   \n",
       "4            10682813               10682813          2582      311915   \n",
       "..                ...                    ...           ...         ...   \n",
       "159            105651                 105651           455        7659   \n",
       "160            103037                 103037           546       10934   \n",
       "161            102969                 102969           713       13022   \n",
       "162            101522                 101522           665       10094   \n",
       "163         245310874              897439983        243127    10957993   \n",
       "\n",
       "    Country Production Country               Production Company  \\\n",
       "0        한국                 한국                      (주)하이브미디어코프   \n",
       "1        한국                 한국  주식회사 빅펀치픽쳐스,(주)홍필름,(주)비에이엔터테인먼트   \n",
       "2        한국                 한국                           (주)쇼박스   \n",
       "3        미국                 미국                              NaN   \n",
       "4        한국                 한국  주식회사 빅펀치픽쳐스,(주)홍필름,(주)비에이엔터테인먼트   \n",
       "..      ...                ...                              ...   \n",
       "159      미국                 미국                              NaN   \n",
       "160      한국                 한국                           언파스튜디오   \n",
       "161      미국                 미국                              NaN   \n",
       "162      미국                 미국                              NaN   \n",
       "163     NaN                NaN                              NaN   \n",
       "\n",
       "                    Distributor     Level           Genre  Director  \\\n",
       "0                    플러스 엔터테인먼트  12세이상관람가             드라마       김성수   \n",
       "1    주식회사 에이비오엔터테인먼트,플러스 엔터테인먼트  15세이상관람가           범죄,액션       이상용   \n",
       "2                        (주)쇼박스  15세이상관람가     미스터리,공포(호러)       장재현   \n",
       "3            월트디즈니컴퍼니코리아 유한책임회사  12세이상관람가  액션,어드벤처,SF,스릴러    제임스 카메   \n",
       "4    주식회사 에이비오엔터테인먼트,플러스 엔터테인먼트  15세이상관람가           범죄,액션       이상용   \n",
       "..                          ...       ...             ...       ...   \n",
       "159           롯데컬처웍스(주)롯데엔터테인먼트   청소년관람불가     미스터리,공포(호러)      파커 핀   \n",
       "160                 (주)바이포엠스튜디오  15세이상관람가     스릴러,드라마,코미디       정범식   \n",
       "161                  (주)바른손이앤에이   청소년관람불가          액션,스릴러  데이비드 에이어   \n",
       "162               워너브러더스 코리아(주)  15세이상관람가             드라마    바즈 루어만   \n",
       "163                         NaN       NaN             NaN       NaN   \n",
       "\n",
       "                                                 Actor  \n",
       "0    황정민,윤호림,이미라,정우성,이성민,박해준,김성균,김의성,정동환,안내상,유성주,최병...  \n",
       "1    마동석,손석구,최귀화,박지환,허동원,하준,정재광,남문철,박지영,이주원,음문석,김찬형...  \n",
       "2    최민식,김고은,유해진,이도현,김재철,김민준,김병오,전진기,박정자,박지일,이종구,이영...  \n",
       "3                     조 샐다나,샘 워싱턴,시고니 위버,스티븐 랭,케이트 윈슬렛  \n",
       "4    정호진,마동석,황순명,이준혁,아오키 무네타카,이범수,김민재,이지훈,김도건,고규필,전...  \n",
       "..                                                 ...  \n",
       "159              소지 베이컨,제시 어셔,카일 갈너,케이틀린 스테이시,칼 펜,롭 모건  \n",
       "160  최지우,이유미,최민호,표지훈,하다인,정동원,이문식,이주실,이동규,황승언,김미화,이주...  \n",
       "161                            제이슨 스타뎀,조쉬 허처슨,제레미 아이언스  \n",
       "162                               오스틴 버틀러,톰 행크스,올리비아 데  \n",
       "163                                                NaN  \n",
       "\n",
       "[164 rows x 18 columns]"
      ]
     },
     "execution_count": 3,
     "metadata": {},
     "output_type": "execute_result"
    }
   ],
   "source": [
    "df"
   ]
  },
  {
   "cell_type": "code",
   "execution_count": 4,
   "metadata": {
    "executionInfo": {
     "elapsed": 330,
     "status": "ok",
     "timestamp": 1719794016190,
     "user": {
      "displayName": "김정현",
      "userId": "08330403295617770299"
     },
     "user_tz": -540
    },
    "id": "jj6zcCOStYVP"
   },
   "outputs": [],
   "source": [
    "movie_list = df['Movie']"
   ]
  },
  {
   "cell_type": "code",
   "execution_count": 5,
   "metadata": {
    "colab": {
     "base_uri": "https://localhost:8080/"
    },
    "executionInfo": {
     "elapsed": 457,
     "status": "ok",
     "timestamp": 1719797896491,
     "user": {
      "displayName": "김정현",
      "userId": "08330403295617770299"
     },
     "user_tz": -540
    },
    "id": "q5djIYlqthy-",
    "outputId": "a1dd1b16-3936-4eeb-c918-6b234ba9e082"
   },
   "outputs": [
    {
     "data": {
      "text/plain": [
       "0          서울의 봄\n",
       "1          범죄도시2\n",
       "2             파묘\n",
       "3      아바타: 물의 길\n",
       "4          범죄도시3\n",
       "         ...    \n",
       "158          블랙폰\n",
       "159          스마일\n",
       "160         뉴 노멀\n",
       "161          비키퍼\n",
       "162          엘비스\n",
       "Name: Movie, Length: 163, dtype: object"
      ]
     },
     "execution_count": 5,
     "metadata": {},
     "output_type": "execute_result"
    }
   ],
   "source": [
    "movie_list = movie_list[:-1]\n",
    "movie_list"
   ]
  },
  {
   "cell_type": "code",
   "execution_count": 6,
   "metadata": {
    "colab": {
     "base_uri": "https://localhost:8080/"
    },
    "executionInfo": {
     "elapsed": 44197,
     "status": "ok",
     "timestamp": 1719794432103,
     "user": {
      "displayName": "김정현",
      "userId": "08330403295617770299"
     },
     "user_tz": -540
    },
    "id": "K_4krAAHuO_E",
    "outputId": "5f1868b8-053b-4f7a-ecaa-65e0dfc40459"
   },
   "outputs": [
    {
     "name": "stdout",
     "output_type": "stream",
     "text": [
      "Requirement already satisfied: selenium in c:\\anaconda\\lib\\site-packages (4.10.0)\n",
      "Requirement already satisfied: urllib3[socks]<3,>=1.26 in c:\\anaconda\\lib\\site-packages (from selenium) (2.0.4)\n",
      "Requirement already satisfied: trio~=0.17 in c:\\anaconda\\lib\\site-packages (from selenium) (0.22.2)\n",
      "Requirement already satisfied: certifi>=2021.10.8 in c:\\anaconda\\lib\\site-packages (from selenium) (2023.7.22)\n",
      "Requirement already satisfied: trio-websocket~=0.9 in c:\\anaconda\\lib\\site-packages (from selenium) (0.10.3)\n",
      "Requirement already satisfied: outcome in c:\\anaconda\\lib\\site-packages (from trio~=0.17->selenium) (1.2.0)\n",
      "Requirement already satisfied: attrs>=20.1.0 in c:\\anaconda\\lib\\site-packages (from trio~=0.17->selenium) (23.1.0)\n",
      "Requirement already satisfied: cffi>=1.14 in c:\\anaconda\\lib\\site-packages (from trio~=0.17->selenium) (1.15.1)\n",
      "Requirement already satisfied: sortedcontainers in c:\\anaconda\\lib\\site-packages (from trio~=0.17->selenium) (2.4.0)\n",
      "Requirement already satisfied: exceptiongroup>=1.0.0rc9 in c:\\anaconda\\lib\\site-packages (from trio~=0.17->selenium) (1.1.2)\n",
      "Requirement already satisfied: sniffio in c:\\anaconda\\lib\\site-packages (from trio~=0.17->selenium) (1.3.0)\n",
      "Requirement already satisfied: idna in c:\\anaconda\\lib\\site-packages (from trio~=0.17->selenium) (3.4)\n",
      "Requirement already satisfied: wsproto>=0.14 in c:\\anaconda\\lib\\site-packages (from trio-websocket~=0.9->selenium) (1.2.0)\n",
      "Requirement already satisfied: pysocks!=1.5.7,<2.0,>=1.5.6 in c:\\anaconda\\lib\\site-packages (from urllib3[socks]<3,>=1.26->selenium) (1.7.1)\n",
      "Requirement already satisfied: pycparser in c:\\anaconda\\lib\\site-packages (from cffi>=1.14->trio~=0.17->selenium) (2.21)\n",
      "Requirement already satisfied: h11<1,>=0.9.0 in c:\\anaconda\\lib\\site-packages (from wsproto>=0.14->trio-websocket~=0.9->selenium) (0.14.0)\n"
     ]
    },
    {
     "name": "stderr",
     "output_type": "stream",
     "text": [
      "'apt-get'은(는) 내부 또는 외부 명령, 실행할 수 있는 프로그램, 또는\n",
      "배치 파일이 아닙니다.\n",
      "'apt'은(는) 내부 또는 외부 명령, 실행할 수 있는 프로그램, 또는\n",
      "배치 파일이 아닙니다.\n",
      "'cp'은(는) 내부 또는 외부 명령, 실행할 수 있는 프로그램, 또는\n",
      "배치 파일이 아닙니다.\n"
     ]
    },
    {
     "name": "stdout",
     "output_type": "stream",
     "text": [
      "Collecting chromedriver-autoinstaller\n",
      "  Downloading chromedriver_autoinstaller-0.6.4-py3-none-any.whl (7.6 kB)\n",
      "Requirement already satisfied: packaging>=23.1 in c:\\anaconda\\lib\\site-packages (from chromedriver-autoinstaller) (23.1)\n",
      "Installing collected packages: chromedriver-autoinstaller\n",
      "Successfully installed chromedriver-autoinstaller-0.6.4\n"
     ]
    }
   ],
   "source": [
    "#한글폰트 설치\n",
    "#코랩환경에서 실행했기 때문에 실행 안 될 수도 있습니다.\n",
    "\n",
    "!pip install selenium\n",
    "!apt-get update\n",
    "\n",
    "# (최초 1회)\n",
    "!apt install chromium-chromedriver\n",
    "!cp /usr/lib/chromium-browser/chromedriver '/content/drive/MyDrive/Colab Notebooks' #\n",
    "!pip install chromedriver-autoinstaller"
   ]
  },
  {
   "cell_type": "code",
   "execution_count": 7,
   "metadata": {
    "executionInfo": {
     "elapsed": 351,
     "status": "ok",
     "timestamp": 1719797908856,
     "user": {
      "displayName": "김정현",
      "userId": "08330403295617770299"
     },
     "user_tz": -540
    },
    "id": "UDY5HGLhufJM"
   },
   "outputs": [],
   "source": [
    "chrome_path = \"/content/drive/MyDrive/Colab Notebooks/chromedriver\""
   ]
  },
  {
   "cell_type": "code",
   "execution_count": 8,
   "metadata": {
    "executionInfo": {
     "elapsed": 3,
     "status": "ok",
     "timestamp": 1719797909336,
     "user": {
      "displayName": "김정현",
      "userId": "08330403295617770299"
     },
     "user_tz": -540
    },
    "id": "f7Gz_WlnvJZb"
   },
   "outputs": [
    {
     "data": {
      "text/plain": [
       "'C:\\\\Anaconda\\\\lib\\\\site-packages\\\\chromedriver_autoinstaller\\\\126\\\\chromedriver.exe'"
      ]
     },
     "execution_count": 8,
     "metadata": {},
     "output_type": "execute_result"
    }
   ],
   "source": [
    "from selenium import webdriver\n",
    "from selenium.webdriver.support.ui import WebDriverWait\n",
    "from selenium.webdriver.support import expected_conditions as EC\n",
    "from selenium.webdriver.common.by import By\n",
    "import sys\n",
    "from selenium.webdriver.common.keys import Keys\n",
    "import urllib.request\n",
    "import os\n",
    "from urllib.request import urlretrieve\n",
    "\n",
    "import time\n",
    "import pandas as pd\n",
    "import chromedriver_autoinstaller  # setup chrome options\n",
    "\n",
    "sys.path.insert(0,chrome_path)\n",
    "chrome_options = webdriver.ChromeOptions()\n",
    "chrome_options.add_argument('--headless')\n",
    "chrome_options.add_argument('--no-sandbox')\n",
    "chrome_options.add_argument('--disable-dev-shm-usage')\n",
    "chrome_options.add_argument('--disable-gpu')\n",
    "chrome_options.add_argument('--window-size=1920x1080')\n",
    "chrome_options.add_argument('--start-maximized')\n",
    "\n",
    "chrome_options.add_argument('lang=ko_KR') # 한국어\n",
    "\n",
    "chromedriver_autoinstaller.install()  # set the target URL"
   ]
  },
  {
   "cell_type": "code",
   "execution_count": 9,
   "metadata": {
    "executionInfo": {
     "elapsed": 963,
     "status": "ok",
     "timestamp": 1719797997755,
     "user": {
      "displayName": "김정현",
      "userId": "08330403295617770299"
     },
     "user_tz": -540
    },
    "id": "Hjqj19tzvLBW"
   },
   "outputs": [],
   "source": [
    "driver = webdriver.Chrome(options=chrome_options)"
   ]
  },
  {
   "cell_type": "code",
   "execution_count": 10,
   "metadata": {
    "executionInfo": {
     "elapsed": 332,
     "status": "ok",
     "timestamp": 1719797998987,
     "user": {
      "displayName": "김정현",
      "userId": "08330403295617770299"
     },
     "user_tz": -540
    },
    "id": "XpJBhjgsvVtT"
   },
   "outputs": [],
   "source": [
    "# Function to get ratings and reviews from Watcha Pedia\n",
    "def get_movie_data(movie_title):\n",
    "    url = \"https://pedia.watcha.com/ko-KR/\"\n",
    "    driver.get(url)\n",
    "\n",
    "    try:\n",
    "        search_bar = WebDriverWait(driver, 10).until(\n",
    "            EC.element_to_be_clickable((By.ID, \"desktop-search-field\"))\n",
    "        )\n",
    "        print(movie_title + \" FIRST STEP\")\n",
    "        search_bar.send_keys(movie_title)\n",
    "        search_bar.send_keys(Keys.RETURN)\n",
    "        print(movie_title + \" DONE\")\n",
    "\n",
    "        first_result = WebDriverWait(driver, 10).until(\n",
    "            EC.element_to_be_clickable((By.CSS_SELECTOR, \"#root > div > div.css-pw7jst.ed8qmey1 > section > section > div.WCogg > div.css-13o7eu2.e19z6fy40 > section > section.Kb9Sb > div > div.risud > div > ul > li > a\"))\n",
    "        )\n",
    "        first_result.click()\n",
    "\n",
    "        print(movie_title+\" Click DONE\")\n",
    "\n",
    "        rating = WebDriverWait(driver, 10).until(\n",
    "        EC.visibility_of_element_located((By.CSS_SELECTOR, \"#root > div > div.css-pw7jst.ed8qmey1 > section > div > div.MGiY3 > div > div > div.JeeFJ.zRYDv > section > div.r6x6F > section.mpdfe.wEYbw > div.m6I4g > div > div.bunOX.QCY16\"))\n",
    "        ).text\n",
    "\n",
    "        print(movie_title + \" RATING DONE\")\n",
    "\n",
    "        reviews_elements = WebDriverWait(driver, 10).until(\n",
    "            EC.presence_of_all_elements_located((By.CSS_SELECTOR, \"#root > div > div.css-pw7jst.ed8qmey1 > section > div > div.MGiY3 > section > section:nth-child(2) > ul > li\"))\n",
    "        )[:8]\n",
    "\n",
    "        reviews = []\n",
    "        for review_element in reviews_elements:\n",
    "            try:\n",
    "                \n",
    "                more_button = review_element.find_element(By.CSS_SELECTOR, \"span > button\")\n",
    "                more_button.click()\n",
    "                time.sleep(1) \n",
    "            except:\n",
    "                pass\n",
    "            # Extract the review text\n",
    "            review_text = review_element.find_element(By.CSS_SELECTOR, \"div.DuZ3S.ugaiG > a > div > div\").text\n",
    "            reviews.append(review_text)\n",
    "\n",
    "\n",
    "        print(movie_title + \" REVIEWS DONE\")\n",
    "\n",
    "        return {\n",
    "            \"title\": movie_title,\n",
    "            \"rating\": rating,\n",
    "            \"reviews\": reviews\n",
    "        }\n",
    "    except Exception as e:\n",
    "        return {\n",
    "            \"title\": movie_title,\n",
    "            \"error\": str(e)\n",
    "        }"
   ]
  },
  {
   "cell_type": "code",
   "execution_count": 12,
   "metadata": {
    "colab": {
     "base_uri": "https://localhost:8080/"
    },
    "executionInfo": {
     "elapsed": 938482,
     "status": "ok",
     "timestamp": 1719798938327,
     "user": {
      "displayName": "김정현",
      "userId": "08330403295617770299"
     },
     "user_tz": -540
    },
    "id": "wvAIL1rsvYFQ",
    "outputId": "82559c2f-c467-4fc8-c4ff-4bdc13cfb77f"
   },
   "outputs": [
    {
     "name": "stdout",
     "output_type": "stream",
     "text": [
      "서울의 봄 FIRST STEP\n",
      "서울의 봄 DONE\n"
     ]
    },
    {
     "ename": "KeyboardInterrupt",
     "evalue": "",
     "output_type": "error",
     "traceback": [
      "\u001b[1;31m---------------------------------------------------------------------------\u001b[0m",
      "\u001b[1;31mKeyboardInterrupt\u001b[0m                         Traceback (most recent call last)",
      "\u001b[1;32m~\\AppData\\Local\\Temp\\ipykernel_15800\\1788354389.py\u001b[0m in \u001b[0;36m<module>\u001b[1;34m\u001b[0m\n\u001b[0;32m      1\u001b[0m \u001b[0mmovie_data\u001b[0m \u001b[1;33m=\u001b[0m \u001b[1;33m[\u001b[0m\u001b[1;33m]\u001b[0m\u001b[1;33m\u001b[0m\u001b[1;33m\u001b[0m\u001b[0m\n\u001b[0;32m      2\u001b[0m \u001b[1;32mfor\u001b[0m \u001b[0mmovie\u001b[0m \u001b[1;32min\u001b[0m \u001b[0mmovie_list\u001b[0m \u001b[1;33m:\u001b[0m\u001b[1;33m\u001b[0m\u001b[1;33m\u001b[0m\u001b[0m\n\u001b[1;32m----> 3\u001b[1;33m     \u001b[0mdata\u001b[0m \u001b[1;33m=\u001b[0m \u001b[0mget_movie_data\u001b[0m\u001b[1;33m(\u001b[0m\u001b[0mmovie\u001b[0m\u001b[1;33m)\u001b[0m\u001b[1;33m\u001b[0m\u001b[1;33m\u001b[0m\u001b[0m\n\u001b[0m\u001b[0;32m      4\u001b[0m     \u001b[0mmovie_data\u001b[0m\u001b[1;33m.\u001b[0m\u001b[0mappend\u001b[0m\u001b[1;33m(\u001b[0m\u001b[0mdata\u001b[0m\u001b[1;33m)\u001b[0m\u001b[1;33m\u001b[0m\u001b[1;33m\u001b[0m\u001b[0m\n\u001b[0;32m      5\u001b[0m \u001b[1;33m\u001b[0m\u001b[0m\n",
      "\u001b[1;32m~\\AppData\\Local\\Temp\\ipykernel_15800\\1748135094.py\u001b[0m in \u001b[0;36mget_movie_data\u001b[1;34m(movie_title)\u001b[0m\n\u001b[0;32m     16\u001b[0m \u001b[1;33m\u001b[0m\u001b[0m\n\u001b[0;32m     17\u001b[0m         \u001b[1;31m# Wait for the search results to load\u001b[0m\u001b[1;33m\u001b[0m\u001b[1;33m\u001b[0m\u001b[0m\n\u001b[1;32m---> 18\u001b[1;33m         first_result = WebDriverWait(driver, 10).until(\n\u001b[0m\u001b[0;32m     19\u001b[0m             \u001b[0mEC\u001b[0m\u001b[1;33m.\u001b[0m\u001b[0melement_to_be_clickable\u001b[0m\u001b[1;33m(\u001b[0m\u001b[1;33m(\u001b[0m\u001b[0mBy\u001b[0m\u001b[1;33m.\u001b[0m\u001b[0mCSS_SELECTOR\u001b[0m\u001b[1;33m,\u001b[0m \u001b[1;34m\"#root > div > div.css-pw7jst.ed8qmey1 > section > section > div.WCogg > div.css-13o7eu2.e19z6fy40 > section > section.Kb9Sb > div > div.risud > div > ul > li > a\"\u001b[0m\u001b[1;33m)\u001b[0m\u001b[1;33m)\u001b[0m\u001b[1;33m\u001b[0m\u001b[1;33m\u001b[0m\u001b[0m\n\u001b[0;32m     20\u001b[0m         )\n",
      "\u001b[1;32mC:\\Anaconda\\lib\\site-packages\\selenium\\webdriver\\support\\wait.py\u001b[0m in \u001b[0;36muntil\u001b[1;34m(self, method, message)\u001b[0m\n\u001b[0;32m     90\u001b[0m                 \u001b[0mscreen\u001b[0m \u001b[1;33m=\u001b[0m \u001b[0mgetattr\u001b[0m\u001b[1;33m(\u001b[0m\u001b[0mexc\u001b[0m\u001b[1;33m,\u001b[0m \u001b[1;34m\"screen\"\u001b[0m\u001b[1;33m,\u001b[0m \u001b[1;32mNone\u001b[0m\u001b[1;33m)\u001b[0m\u001b[1;33m\u001b[0m\u001b[1;33m\u001b[0m\u001b[0m\n\u001b[0;32m     91\u001b[0m                 \u001b[0mstacktrace\u001b[0m \u001b[1;33m=\u001b[0m \u001b[0mgetattr\u001b[0m\u001b[1;33m(\u001b[0m\u001b[0mexc\u001b[0m\u001b[1;33m,\u001b[0m \u001b[1;34m\"stacktrace\"\u001b[0m\u001b[1;33m,\u001b[0m \u001b[1;32mNone\u001b[0m\u001b[1;33m)\u001b[0m\u001b[1;33m\u001b[0m\u001b[1;33m\u001b[0m\u001b[0m\n\u001b[1;32m---> 92\u001b[1;33m             \u001b[0mtime\u001b[0m\u001b[1;33m.\u001b[0m\u001b[0msleep\u001b[0m\u001b[1;33m(\u001b[0m\u001b[0mself\u001b[0m\u001b[1;33m.\u001b[0m\u001b[0m_poll\u001b[0m\u001b[1;33m)\u001b[0m\u001b[1;33m\u001b[0m\u001b[1;33m\u001b[0m\u001b[0m\n\u001b[0m\u001b[0;32m     93\u001b[0m             \u001b[1;32mif\u001b[0m \u001b[0mtime\u001b[0m\u001b[1;33m.\u001b[0m\u001b[0mmonotonic\u001b[0m\u001b[1;33m(\u001b[0m\u001b[1;33m)\u001b[0m \u001b[1;33m>\u001b[0m \u001b[0mend_time\u001b[0m\u001b[1;33m:\u001b[0m\u001b[1;33m\u001b[0m\u001b[1;33m\u001b[0m\u001b[0m\n\u001b[0;32m     94\u001b[0m                 \u001b[1;32mbreak\u001b[0m\u001b[1;33m\u001b[0m\u001b[1;33m\u001b[0m\u001b[0m\n",
      "\u001b[1;31mKeyboardInterrupt\u001b[0m: "
     ]
    }
   ],
   "source": [
    "\n",
    "movie_data = []\n",
    "for movie in movie_list :\n",
    "    data = get_movie_data(movie)\n",
    "    movie_data.append(data)\n",
    "\n",
    "df = pd.DataFrame(movie_data)\n",
    "print(df)\n",
    "\n",
    "driver.quit()"
   ]
  },
  {
   "cell_type": "code",
   "execution_count": null,
   "metadata": {
    "colab": {
     "base_uri": "https://localhost:8080/",
     "height": 423
    },
    "executionInfo": {
     "elapsed": 647,
     "status": "ok",
     "timestamp": 1719798944677,
     "user": {
      "displayName": "김정현",
      "userId": "08330403295617770299"
     },
     "user_tz": -540
    },
    "id": "5JmclTJwxApZ",
    "outputId": "333a97ff-e351-4bfe-a2bd-f728225fdb77"
   },
   "outputs": [],
   "source": [
    "df"
   ]
  },
  {
   "cell_type": "code",
   "execution_count": null,
   "metadata": {
    "colab": {
     "base_uri": "https://localhost:8080/",
     "height": 89
    },
    "executionInfo": {
     "elapsed": 525,
     "status": "ok",
     "timestamp": 1719798957647,
     "user": {
      "displayName": "김정현",
      "userId": "08330403295617770299"
     },
     "user_tz": -540
    },
    "id": "c7zxZsno7znT",
    "outputId": "23abf5ae-d03f-4734-f8d8-2c88a40af076"
   },
   "outputs": [],
   "source": [
    "df.drop('error', axis=1, inplace=True)"
   ]
  },
  {
   "cell_type": "code",
   "execution_count": null,
   "metadata": {
    "executionInfo": {
     "elapsed": 346,
     "status": "ok",
     "timestamp": 1719799019281,
     "user": {
      "displayName": "김정현",
      "userId": "08330403295617770299"
     },
     "user_tz": -540
    },
    "id": "mlZ5fusnAb77"
   },
   "outputs": [],
   "source": [
    "df.to_csv(\"영화리뷰.csv\",index = False)"
   ]
  },
  {
   "cell_type": "code",
   "execution_count": null,
   "metadata": {
    "id": "j7Q9Me9CAvFq"
   },
   "outputs": [],
   "source": []
  }
 ],
 "metadata": {
  "colab": {
   "authorship_tag": "ABX9TyNSd2dwEkBULj3erRYhIqRX",
   "provenance": []
  },
  "kernelspec": {
   "display_name": "Python 3 (ipykernel)",
   "language": "python",
   "name": "python3"
  },
  "language_info": {
   "codemirror_mode": {
    "name": "ipython",
    "version": 3
   },
   "file_extension": ".py",
   "mimetype": "text/x-python",
   "name": "python",
   "nbconvert_exporter": "python",
   "pygments_lexer": "ipython3",
   "version": "3.9.13"
  }
 },
 "nbformat": 4,
 "nbformat_minor": 4
}
