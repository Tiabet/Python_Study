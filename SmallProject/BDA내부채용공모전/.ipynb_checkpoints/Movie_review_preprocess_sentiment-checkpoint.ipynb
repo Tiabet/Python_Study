{
 "cells": [
  {
   "cell_type": "markdown",
   "metadata": {},
   "source": [
    "## 결측치 데이터 전처리 및 감정지수 분석"
   ]
  },
  {
   "cell_type": "code",
   "execution_count": 42,
   "metadata": {
    "executionInfo": {
     "elapsed": 903,
     "status": "ok",
     "timestamp": 1719882115311,
     "user": {
      "displayName": "김정현",
      "userId": "08330403295617770299"
     },
     "user_tz": -540
    },
    "id": "DCupXNpE9TUb"
   },
   "outputs": [],
   "source": [
    "import pandas as pd"
   ]
  },
  {
   "cell_type": "code",
   "execution_count": 43,
   "metadata": {
    "colab": {
     "base_uri": "https://localhost:8080/",
     "height": 533
    },
    "executionInfo": {
     "elapsed": 507,
     "status": "ok",
     "timestamp": 1719882166658,
     "user": {
      "displayName": "김정현",
      "userId": "08330403295617770299"
     },
     "user_tz": -540
    },
    "id": "kWAagaf29mJ5",
    "outputId": "6647007c-b0cf-470b-c153-eb4016eb477e"
   },
   "outputs": [
    {
     "data": {
      "text/html": [
       "<div>\n",
       "<style scoped>\n",
       "    .dataframe tbody tr th:only-of-type {\n",
       "        vertical-align: middle;\n",
       "    }\n",
       "\n",
       "    .dataframe tbody tr th {\n",
       "        vertical-align: top;\n",
       "    }\n",
       "\n",
       "    .dataframe thead th {\n",
       "        text-align: right;\n",
       "    }\n",
       "</style>\n",
       "<table border=\"1\" class=\"dataframe\">\n",
       "  <thead>\n",
       "    <tr style=\"text-align: right;\">\n",
       "      <th></th>\n",
       "      <th>Unnamed: 0</th>\n",
       "      <th>Rank</th>\n",
       "      <th>Movie</th>\n",
       "      <th>Date</th>\n",
       "      <th>Total Sales</th>\n",
       "      <th>Sales Share</th>\n",
       "      <th>Cumulative Sales</th>\n",
       "      <th>Total Attendance</th>\n",
       "      <th>Cumulative Attendance</th>\n",
       "      <th>Screen Count</th>\n",
       "      <th>...</th>\n",
       "      <th>Distributor</th>\n",
       "      <th>Level</th>\n",
       "      <th>Director</th>\n",
       "      <th>Production Budgets</th>\n",
       "      <th>Success</th>\n",
       "      <th>actor1</th>\n",
       "      <th>actor2</th>\n",
       "      <th>actor3</th>\n",
       "      <th>genre1</th>\n",
       "      <th>genre2</th>\n",
       "    </tr>\n",
       "  </thead>\n",
       "  <tbody>\n",
       "    <tr>\n",
       "      <th>0</th>\n",
       "      <td>0</td>\n",
       "      <td>1</td>\n",
       "      <td>서울의 봄</td>\n",
       "      <td>2023-11-22</td>\n",
       "      <td>127926589712</td>\n",
       "      <td>0.051</td>\n",
       "      <td>127926589712</td>\n",
       "      <td>13128020</td>\n",
       "      <td>13128020</td>\n",
       "      <td>2463</td>\n",
       "      <td>...</td>\n",
       "      <td>플러스 엔터테인먼트</td>\n",
       "      <td>12세이상관람가</td>\n",
       "      <td>김성수</td>\n",
       "      <td>233.0</td>\n",
       "      <td>1.0</td>\n",
       "      <td>황정민</td>\n",
       "      <td>윤호림</td>\n",
       "      <td>이미라</td>\n",
       "      <td>드라마</td>\n",
       "      <td>NaN</td>\n",
       "    </tr>\n",
       "    <tr>\n",
       "      <th>1</th>\n",
       "      <td>1</td>\n",
       "      <td>2</td>\n",
       "      <td>범죄도시2</td>\n",
       "      <td>2022-05-18</td>\n",
       "      <td>129317928648</td>\n",
       "      <td>0.052</td>\n",
       "      <td>131298796478</td>\n",
       "      <td>12510481</td>\n",
       "      <td>12693415</td>\n",
       "      <td>2521</td>\n",
       "      <td>...</td>\n",
       "      <td>주식회사 에이비오엔터테인먼트,플러스 엔터테인먼트</td>\n",
       "      <td>15세이상관람가</td>\n",
       "      <td>이상용</td>\n",
       "      <td>130.0</td>\n",
       "      <td>1.0</td>\n",
       "      <td>마동석</td>\n",
       "      <td>손석구</td>\n",
       "      <td>최귀화</td>\n",
       "      <td>범죄</td>\n",
       "      <td>액션</td>\n",
       "    </tr>\n",
       "    <tr>\n",
       "      <th>2</th>\n",
       "      <td>2</td>\n",
       "      <td>3</td>\n",
       "      <td>파묘</td>\n",
       "      <td>2024-02-22</td>\n",
       "      <td>115063079635</td>\n",
       "      <td>0.046</td>\n",
       "      <td>115063079635</td>\n",
       "      <td>11904253</td>\n",
       "      <td>11904253</td>\n",
       "      <td>2367</td>\n",
       "      <td>...</td>\n",
       "      <td>(주)쇼박스</td>\n",
       "      <td>15세이상관람가</td>\n",
       "      <td>장재현</td>\n",
       "      <td>140.0</td>\n",
       "      <td>1.0</td>\n",
       "      <td>최민식</td>\n",
       "      <td>김고은</td>\n",
       "      <td>유해진</td>\n",
       "      <td>미스터리</td>\n",
       "      <td>공포(호러)</td>\n",
       "    </tr>\n",
       "    <tr>\n",
       "      <th>3</th>\n",
       "      <td>3</td>\n",
       "      <td>4</td>\n",
       "      <td>아바타: 물의 길</td>\n",
       "      <td>2022-12-14</td>\n",
       "      <td>137647702899</td>\n",
       "      <td>0.055</td>\n",
       "      <td>137647702899</td>\n",
       "      <td>10805065</td>\n",
       "      <td>10805065</td>\n",
       "      <td>2809</td>\n",
       "      <td>...</td>\n",
       "      <td>월트디즈니컴퍼니코리아 유한책임회사</td>\n",
       "      <td>12세이상관람가</td>\n",
       "      <td>제임스 카메</td>\n",
       "      <td>3250.0</td>\n",
       "      <td>NaN</td>\n",
       "      <td>조 샐다나</td>\n",
       "      <td>샘 워싱턴</td>\n",
       "      <td>시고니 위버</td>\n",
       "      <td>액션</td>\n",
       "      <td>어드벤처</td>\n",
       "    </tr>\n",
       "    <tr>\n",
       "      <th>4</th>\n",
       "      <td>4</td>\n",
       "      <td>5</td>\n",
       "      <td>범죄도시3</td>\n",
       "      <td>2023-05-31</td>\n",
       "      <td>104687737771</td>\n",
       "      <td>0.042</td>\n",
       "      <td>104687737771</td>\n",
       "      <td>10682813</td>\n",
       "      <td>10682813</td>\n",
       "      <td>2582</td>\n",
       "      <td>...</td>\n",
       "      <td>주식회사 에이비오엔터테인먼트,플러스 엔터테인먼트</td>\n",
       "      <td>15세이상관람가</td>\n",
       "      <td>이상용</td>\n",
       "      <td>135.0</td>\n",
       "      <td>1.0</td>\n",
       "      <td>정호진</td>\n",
       "      <td>마동석</td>\n",
       "      <td>황순명</td>\n",
       "      <td>범죄</td>\n",
       "      <td>액션</td>\n",
       "    </tr>\n",
       "  </tbody>\n",
       "</table>\n",
       "<p>5 rows × 24 columns</p>\n",
       "</div>"
      ],
      "text/plain": [
       "   Unnamed: 0  Rank      Movie        Date   Total Sales  Sales Share  \\\n",
       "0           0     1      서울의 봄  2023-11-22  127926589712        0.051   \n",
       "1           1     2      범죄도시2  2022-05-18  129317928648        0.052   \n",
       "2           2     3         파묘  2024-02-22  115063079635        0.046   \n",
       "3           3     4  아바타: 물의 길  2022-12-14  137647702899        0.055   \n",
       "4           4     5      범죄도시3  2023-05-31  104687737771        0.042   \n",
       "\n",
       "   Cumulative Sales  Total Attendance  Cumulative Attendance  Screen Count  \\\n",
       "0      127926589712          13128020               13128020          2463   \n",
       "1      131298796478          12510481               12693415          2521   \n",
       "2      115063079635          11904253               11904253          2367   \n",
       "3      137647702899          10805065               10805065          2809   \n",
       "4      104687737771          10682813               10682813          2582   \n",
       "\n",
       "   ...                 Distributor     Level Director Production Budgets  \\\n",
       "0  ...                  플러스 엔터테인먼트  12세이상관람가      김성수              233.0   \n",
       "1  ...  주식회사 에이비오엔터테인먼트,플러스 엔터테인먼트  15세이상관람가      이상용              130.0   \n",
       "2  ...                      (주)쇼박스  15세이상관람가      장재현              140.0   \n",
       "3  ...          월트디즈니컴퍼니코리아 유한책임회사  12세이상관람가   제임스 카메             3250.0   \n",
       "4  ...  주식회사 에이비오엔터테인먼트,플러스 엔터테인먼트  15세이상관람가      이상용              135.0   \n",
       "\n",
       "  Success actor1 actor2  actor3  genre1  genre2  \n",
       "0     1.0    황정민    윤호림     이미라     드라마     NaN  \n",
       "1     1.0    마동석    손석구     최귀화      범죄      액션  \n",
       "2     1.0    최민식    김고은     유해진    미스터리  공포(호러)  \n",
       "3     NaN  조 샐다나  샘 워싱턴  시고니 위버      액션    어드벤처  \n",
       "4     1.0    정호진    마동석     황순명      범죄      액션  \n",
       "\n",
       "[5 rows x 24 columns]"
      ]
     },
     "execution_count": 43,
     "metadata": {},
     "output_type": "execute_result"
    }
   ],
   "source": [
    "df = pd.read_csv(\"영화정보_2224_흥행여부추가_배우_장르_수정.csv\")\n",
    "df.head()"
   ]
  },
  {
   "cell_type": "code",
   "execution_count": 44,
   "metadata": {
    "colab": {
     "base_uri": "https://localhost:8080/",
     "height": 423
    },
    "executionInfo": {
     "elapsed": 360,
     "status": "ok",
     "timestamp": 1719882237003,
     "user": {
      "displayName": "김정현",
      "userId": "08330403295617770299"
     },
     "user_tz": -540
    },
    "id": "Tl_STRup9xsf",
    "outputId": "5e1e43ed-3d7d-4a91-a124-338948ff8060"
   },
   "outputs": [
    {
     "data": {
      "text/html": [
       "<div>\n",
       "<style scoped>\n",
       "    .dataframe tbody tr th:only-of-type {\n",
       "        vertical-align: middle;\n",
       "    }\n",
       "\n",
       "    .dataframe tbody tr th {\n",
       "        vertical-align: top;\n",
       "    }\n",
       "\n",
       "    .dataframe thead th {\n",
       "        text-align: right;\n",
       "    }\n",
       "</style>\n",
       "<table border=\"1\" class=\"dataframe\">\n",
       "  <thead>\n",
       "    <tr style=\"text-align: right;\">\n",
       "      <th></th>\n",
       "      <th>title</th>\n",
       "      <th>rating</th>\n",
       "      <th>reviews</th>\n",
       "    </tr>\n",
       "  </thead>\n",
       "  <tbody>\n",
       "    <tr>\n",
       "      <th>0</th>\n",
       "      <td>싱글 인 서울</td>\n",
       "      <td>6.0</td>\n",
       "      <td>박범수 감독이 연출한 &lt;싱글 인 서울&gt;은 책을 출판하기 위해 함께하는 두 남녀의 사...</td>\n",
       "    </tr>\n",
       "    <tr>\n",
       "      <th>1</th>\n",
       "      <td>싱글 인 서울</td>\n",
       "      <td>10.0</td>\n",
       "      <td>한국에서 청년층이 연애하지 않는 이유를 사회적인 제약으로만 생각하려는 경향이 강하다...</td>\n",
       "    </tr>\n",
       "    <tr>\n",
       "      <th>2</th>\n",
       "      <td>싱글 인 서울</td>\n",
       "      <td>8.0</td>\n",
       "      <td>평범하면서 가을 느낌을 솔솔 풍기며 힐링을 주는 로맨틱코미디영화였습니다! 싱글을 전...</td>\n",
       "    </tr>\n",
       "    <tr>\n",
       "      <th>3</th>\n",
       "      <td>아바타: 물의 길</td>\n",
       "      <td>8.0</td>\n",
       "      <td>제임스 카메론 감독이 연출한 &lt;아바타: 물의 길&gt;은 13년 만에 제작된 &lt;아바타&gt;의...</td>\n",
       "    </tr>\n",
       "    <tr>\n",
       "      <th>4</th>\n",
       "      <td>아바타: 물의 길</td>\n",
       "      <td>10.0</td>\n",
       "      <td>존재 자체로 각인되는 아바타 두 번째 이야기 ‘물의 길’은 감독 제임스 카메론의 본...</td>\n",
       "    </tr>\n",
       "    <tr>\n",
       "      <th>...</th>\n",
       "      <td>...</td>\n",
       "      <td>...</td>\n",
       "      <td>...</td>\n",
       "    </tr>\n",
       "    <tr>\n",
       "      <th>642</th>\n",
       "      <td>더 문</td>\n",
       "      <td>8.0</td>\n",
       "      <td>달과 우주를 배경으로 긴장과 몰입 그리고 감동을 함께 선사한 SF영화였습니다! 한국...</td>\n",
       "    </tr>\n",
       "    <tr>\n",
       "      <th>643</th>\n",
       "      <td>더 문</td>\n",
       "      <td>10.0</td>\n",
       "      <td>Actor Doh Kyungsoo's big screen comeback!</td>\n",
       "    </tr>\n",
       "    <tr>\n",
       "      <th>644</th>\n",
       "      <td>타겟</td>\n",
       "      <td>6.0</td>\n",
       "      <td>억울한 일을 당하는 역할은 서영희 이후 신혜선이 갑</td>\n",
       "    </tr>\n",
       "    <tr>\n",
       "      <th>645</th>\n",
       "      <td>타겟</td>\n",
       "      <td>5.0</td>\n",
       "      <td>박희곤 감독이 연출한 &lt;타겟&gt;은 중고거래 사기를 당한 여성이 복수를 하려다 벌어지는...</td>\n",
       "    </tr>\n",
       "    <tr>\n",
       "      <th>646</th>\n",
       "      <td>타겟</td>\n",
       "      <td>8.0</td>\n",
       "      <td>소름돋으면서 긴장감을 형성시킨 서스펜스범죄영화였습니다! 중고거래를 명목으로 사기 및...</td>\n",
       "    </tr>\n",
       "  </tbody>\n",
       "</table>\n",
       "<p>647 rows × 3 columns</p>\n",
       "</div>"
      ],
      "text/plain": [
       "         title  rating                                            reviews\n",
       "0      싱글 인 서울     6.0  박범수 감독이 연출한 <싱글 인 서울>은 책을 출판하기 위해 함께하는 두 남녀의 사...\n",
       "1      싱글 인 서울    10.0  한국에서 청년층이 연애하지 않는 이유를 사회적인 제약으로만 생각하려는 경향이 강하다...\n",
       "2      싱글 인 서울     8.0  평범하면서 가을 느낌을 솔솔 풍기며 힐링을 주는 로맨틱코미디영화였습니다! 싱글을 전...\n",
       "3    아바타: 물의 길     8.0  제임스 카메론 감독이 연출한 <아바타: 물의 길>은 13년 만에 제작된 <아바타>의...\n",
       "4    아바타: 물의 길    10.0  존재 자체로 각인되는 아바타 두 번째 이야기 ‘물의 길’은 감독 제임스 카메론의 본...\n",
       "..         ...     ...                                                ...\n",
       "642        더 문     8.0  달과 우주를 배경으로 긴장과 몰입 그리고 감동을 함께 선사한 SF영화였습니다! 한국...\n",
       "643        더 문    10.0          Actor Doh Kyungsoo's big screen comeback!\n",
       "644         타겟     6.0                       억울한 일을 당하는 역할은 서영희 이후 신혜선이 갑\n",
       "645         타겟     5.0  박희곤 감독이 연출한 <타겟>은 중고거래 사기를 당한 여성이 복수를 하려다 벌어지는...\n",
       "646         타겟     8.0  소름돋으면서 긴장감을 형성시킨 서스펜스범죄영화였습니다! 중고거래를 명목으로 사기 및...\n",
       "\n",
       "[647 rows x 3 columns]"
      ]
     },
     "execution_count": 44,
     "metadata": {},
     "output_type": "execute_result"
    }
   ],
   "source": [
    "df_cine = pd.read_csv(\"영화리뷰_씨네21.csv\")\n",
    "df_cine"
   ]
  },
  {
   "cell_type": "code",
   "execution_count": 45,
   "metadata": {
    "colab": {
     "base_uri": "https://localhost:8080/"
    },
    "executionInfo": {
     "elapsed": 372,
     "status": "ok",
     "timestamp": 1719882395417,
     "user": {
      "displayName": "김정현",
      "userId": "08330403295617770299"
     },
     "user_tz": -540
    },
    "id": "2O8f5slH-Sw8",
    "outputId": "1f2d3fe0-5598-4b96-c49b-83db5d1db001"
   },
   "outputs": [
    {
     "data": {
      "text/plain": [
       "149"
      ]
     },
     "execution_count": 45,
     "metadata": {},
     "output_type": "execute_result"
    }
   ],
   "source": [
    "df_cine['title'].nunique()"
   ]
  },
  {
   "cell_type": "code",
   "execution_count": 46,
   "metadata": {
    "colab": {
     "base_uri": "https://localhost:8080/"
    },
    "executionInfo": {
     "elapsed": 380,
     "status": "ok",
     "timestamp": 1719885101003,
     "user": {
      "displayName": "김정현",
      "userId": "08330403295617770299"
     },
     "user_tz": -540
    },
    "id": "7i80QxtvIzDf",
    "outputId": "53b19a3d-7602-4d08-a0be-8d19860ebe8e"
   },
   "outputs": [
    {
     "data": {
      "text/plain": [
       "0      3.0\n",
       "1      5.0\n",
       "2      4.0\n",
       "3      4.0\n",
       "4      5.0\n",
       "      ... \n",
       "642    4.0\n",
       "643    5.0\n",
       "644    3.0\n",
       "645    5.0\n",
       "646    4.0\n",
       "Name: rating, Length: 647, dtype: float64"
      ]
     },
     "execution_count": 46,
     "metadata": {},
     "output_type": "execute_result"
    }
   ],
   "source": [
    "df_cine['rating'].apply(lambda x: x / 2 if x > 5 else x)"
   ]
  },
  {
   "cell_type": "code",
   "execution_count": 47,
   "metadata": {
    "colab": {
     "base_uri": "https://localhost:8080/",
     "height": 423
    },
    "executionInfo": {
     "elapsed": 548,
     "status": "ok",
     "timestamp": 1719882435745,
     "user": {
      "displayName": "김정현",
      "userId": "08330403295617770299"
     },
     "user_tz": -540
    },
    "id": "vTDS0mWu-qvc",
    "outputId": "02d48287-1839-4b7f-d8cb-be9507a6f67f"
   },
   "outputs": [
    {
     "data": {
      "text/html": [
       "<div>\n",
       "<style scoped>\n",
       "    .dataframe tbody tr th:only-of-type {\n",
       "        vertical-align: middle;\n",
       "    }\n",
       "\n",
       "    .dataframe tbody tr th {\n",
       "        vertical-align: top;\n",
       "    }\n",
       "\n",
       "    .dataframe thead th {\n",
       "        text-align: right;\n",
       "    }\n",
       "</style>\n",
       "<table border=\"1\" class=\"dataframe\">\n",
       "  <thead>\n",
       "    <tr style=\"text-align: right;\">\n",
       "      <th></th>\n",
       "      <th>title</th>\n",
       "      <th>rating</th>\n",
       "      <th>reviews</th>\n",
       "    </tr>\n",
       "  </thead>\n",
       "  <tbody>\n",
       "    <tr>\n",
       "      <th>0</th>\n",
       "      <td>서울의 봄</td>\n",
       "      <td>3.9</td>\n",
       "      <td>['하아 대머리 죽었지만 다시 죽이고픔', '야만과 무능의 그 겨울밤에 대한 분노가...</td>\n",
       "    </tr>\n",
       "    <tr>\n",
       "      <th>1</th>\n",
       "      <td>범죄도시2</td>\n",
       "      <td>3.5</td>\n",
       "      <td>['“돈 필요해? 5대 5로 나눌까?”\\n\\n“누가 5야?”', '스토리가 좀 빈약...</td>\n",
       "    </tr>\n",
       "    <tr>\n",
       "      <th>2</th>\n",
       "      <td>파묘</td>\n",
       "      <td>3.5</td>\n",
       "      <td>['왜놈새끼 죽어서도 지랄이네…', '돼지띠 청년들 이 영화 보시고 일자리 정보 얻...</td>\n",
       "    </tr>\n",
       "    <tr>\n",
       "      <th>3</th>\n",
       "      <td>아바타: 물의 길</td>\n",
       "      <td>3.7</td>\n",
       "      <td>['3시간 12분은 이 혁명적인 영상미가 무뎌지기에 충분한 시간이었고, 그럼에도 대...</td>\n",
       "    </tr>\n",
       "    <tr>\n",
       "      <th>4</th>\n",
       "      <td>범죄도시3</td>\n",
       "      <td>3.0</td>\n",
       "      <td>['고착화의 불안감이 엄습해오나 아직까진 관객에게 유효타가 먹혀든 후속작.', '기...</td>\n",
       "    </tr>\n",
       "    <tr>\n",
       "      <th>...</th>\n",
       "      <td>...</td>\n",
       "      <td>...</td>\n",
       "      <td>...</td>\n",
       "    </tr>\n",
       "    <tr>\n",
       "      <th>158</th>\n",
       "      <td>블랙폰</td>\n",
       "      <td>2.8</td>\n",
       "      <td>['이유없이 갈팡질팡.', '긴장감과 답답함도 많은 부분을 차지했지만 해소되는 느낌...</td>\n",
       "    </tr>\n",
       "    <tr>\n",
       "      <th>159</th>\n",
       "      <td>스마일</td>\n",
       "      <td>3.8</td>\n",
       "      <td>['여자판 죽은 시인의 사회라는 왓챠 코멘트가 질색날 정도로 싫다. 뜬 구름 잡던 ...</td>\n",
       "    </tr>\n",
       "    <tr>\n",
       "      <th>160</th>\n",
       "      <td>뉴 노멀</td>\n",
       "      <td>NaN</td>\n",
       "      <td>NaN</td>\n",
       "    </tr>\n",
       "    <tr>\n",
       "      <th>161</th>\n",
       "      <td>비키퍼</td>\n",
       "      <td>2.8</td>\n",
       "      <td>['무난하게 즐길 수 있는 양산형 일당백 액션물이지만, 제이슨 스타뎀 형님만의 무자...</td>\n",
       "    </tr>\n",
       "    <tr>\n",
       "      <th>162</th>\n",
       "      <td>엘비스</td>\n",
       "      <td>3.5</td>\n",
       "      <td>['영화 자체가 폭죽 같다. 그 끝이 아련하고 스산해서 더욱 그렇다.', '빛이 비...</td>\n",
       "    </tr>\n",
       "  </tbody>\n",
       "</table>\n",
       "<p>163 rows × 3 columns</p>\n",
       "</div>"
      ],
      "text/plain": [
       "         title  rating                                            reviews\n",
       "0        서울의 봄     3.9  ['하아 대머리 죽었지만 다시 죽이고픔', '야만과 무능의 그 겨울밤에 대한 분노가...\n",
       "1        범죄도시2     3.5  ['“돈 필요해? 5대 5로 나눌까?”\\n\\n“누가 5야?”', '스토리가 좀 빈약...\n",
       "2           파묘     3.5  ['왜놈새끼 죽어서도 지랄이네…', '돼지띠 청년들 이 영화 보시고 일자리 정보 얻...\n",
       "3    아바타: 물의 길     3.7  ['3시간 12분은 이 혁명적인 영상미가 무뎌지기에 충분한 시간이었고, 그럼에도 대...\n",
       "4        범죄도시3     3.0  ['고착화의 불안감이 엄습해오나 아직까진 관객에게 유효타가 먹혀든 후속작.', '기...\n",
       "..         ...     ...                                                ...\n",
       "158        블랙폰     2.8  ['이유없이 갈팡질팡.', '긴장감과 답답함도 많은 부분을 차지했지만 해소되는 느낌...\n",
       "159        스마일     3.8  ['여자판 죽은 시인의 사회라는 왓챠 코멘트가 질색날 정도로 싫다. 뜬 구름 잡던 ...\n",
       "160       뉴 노멀     NaN                                                NaN\n",
       "161        비키퍼     2.8  ['무난하게 즐길 수 있는 양산형 일당백 액션물이지만, 제이슨 스타뎀 형님만의 무자...\n",
       "162        엘비스     3.5  ['영화 자체가 폭죽 같다. 그 끝이 아련하고 스산해서 더욱 그렇다.', '빛이 비...\n",
       "\n",
       "[163 rows x 3 columns]"
      ]
     },
     "execution_count": 47,
     "metadata": {},
     "output_type": "execute_result"
    }
   ],
   "source": [
    "df_tmp = pd.read_csv(\"영화리뷰.csv\")\n",
    "df_tmp"
   ]
  },
  {
   "cell_type": "code",
   "execution_count": 48,
   "metadata": {
    "colab": {
     "base_uri": "https://localhost:8080/",
     "height": 269
    },
    "executionInfo": {
     "elapsed": 360,
     "status": "ok",
     "timestamp": 1719882512517,
     "user": {
      "displayName": "김정현",
      "userId": "08330403295617770299"
     },
     "user_tz": -540
    },
    "id": "DODg1CAT-4kQ",
    "outputId": "ac454918-07ec-4660-d53a-375de557dd7e"
   },
   "outputs": [
    {
     "data": {
      "text/html": [
       "<div>\n",
       "<style scoped>\n",
       "    .dataframe tbody tr th:only-of-type {\n",
       "        vertical-align: middle;\n",
       "    }\n",
       "\n",
       "    .dataframe tbody tr th {\n",
       "        vertical-align: top;\n",
       "    }\n",
       "\n",
       "    .dataframe thead th {\n",
       "        text-align: right;\n",
       "    }\n",
       "</style>\n",
       "<table border=\"1\" class=\"dataframe\">\n",
       "  <thead>\n",
       "    <tr style=\"text-align: right;\">\n",
       "      <th></th>\n",
       "      <th>title</th>\n",
       "      <th>rating</th>\n",
       "      <th>reviews</th>\n",
       "    </tr>\n",
       "  </thead>\n",
       "  <tbody>\n",
       "    <tr>\n",
       "      <th>9</th>\n",
       "      <td>공조2: 인터내셔</td>\n",
       "      <td>NaN</td>\n",
       "      <td>NaN</td>\n",
       "    </tr>\n",
       "    <tr>\n",
       "      <th>40</th>\n",
       "      <td>NaN</td>\n",
       "      <td>NaN</td>\n",
       "      <td>NaN</td>\n",
       "    </tr>\n",
       "    <tr>\n",
       "      <th>77</th>\n",
       "      <td>귀멸의 칼날: 상현집결, 그리 도공 마을로</td>\n",
       "      <td>NaN</td>\n",
       "      <td>NaN</td>\n",
       "    </tr>\n",
       "    <tr>\n",
       "      <th>81</th>\n",
       "      <td>귀멸의 칼날: 인연의 기적, 그리 합동 강화 훈련으로</td>\n",
       "      <td>NaN</td>\n",
       "      <td>NaN</td>\n",
       "    </tr>\n",
       "    <tr>\n",
       "      <th>85</th>\n",
       "      <td>늑대사냥</td>\n",
       "      <td>NaN</td>\n",
       "      <td>NaN</td>\n",
       "    </tr>\n",
       "    <tr>\n",
       "      <th>114</th>\n",
       "      <td>포켓 몬스터 DP: 아르세우스 초극의 시공으로</td>\n",
       "      <td>NaN</td>\n",
       "      <td>NaN</td>\n",
       "    </tr>\n",
       "    <tr>\n",
       "      <th>160</th>\n",
       "      <td>뉴 노멀</td>\n",
       "      <td>NaN</td>\n",
       "      <td>NaN</td>\n",
       "    </tr>\n",
       "  </tbody>\n",
       "</table>\n",
       "</div>"
      ],
      "text/plain": [
       "                             title  rating reviews\n",
       "9                        공조2: 인터내셔     NaN     NaN\n",
       "40                             NaN     NaN     NaN\n",
       "77         귀멸의 칼날: 상현집결, 그리 도공 마을로     NaN     NaN\n",
       "81   귀멸의 칼날: 인연의 기적, 그리 합동 강화 훈련으로     NaN     NaN\n",
       "85                            늑대사냥     NaN     NaN\n",
       "114      포켓 몬스터 DP: 아르세우스 초극의 시공으로     NaN     NaN\n",
       "160                           뉴 노멀     NaN     NaN"
      ]
     },
     "execution_count": 48,
     "metadata": {},
     "output_type": "execute_result"
    }
   ],
   "source": [
    "df_tmp[df_tmp['rating'].isna()]"
   ]
  },
  {
   "cell_type": "code",
   "execution_count": 49,
   "metadata": {
    "colab": {
     "base_uri": "https://localhost:8080/"
    },
    "executionInfo": {
     "elapsed": 325,
     "status": "ok",
     "timestamp": 1719882648727,
     "user": {
      "displayName": "김정현",
      "userId": "08330403295617770299"
     },
     "user_tz": -540
    },
    "id": "w-R-7qHC_D0x",
    "outputId": "89c36697-bded-4bfa-ad33-6d470a0324d2"
   },
   "outputs": [
    {
     "name": "stderr",
     "output_type": "stream",
     "text": [
      "C:\\Users\\kkksk\\AppData\\Local\\Temp\\ipykernel_6712\\1301954876.py:5: SettingWithCopyWarning: \n",
      "A value is trying to be set on a copy of a slice from a DataFrame.\n",
      "Try using .loc[row_indexer,col_indexer] = value instead\n",
      "\n",
      "See the caveats in the documentation: https://pandas.pydata.org/pandas-docs/stable/user_guide/indexing.html#returning-a-view-versus-a-copy\n",
      "  reviews_df['reviews'] = reviews_df['reviews'].apply(ast.literal_eval)\n"
     ]
    }
   ],
   "source": [
    "import ast\n",
    "\n",
    "reviews_df = df_tmp.dropna()\n",
    "\n",
    "reviews_df['reviews'] = reviews_df['reviews'].apply(ast.literal_eval)"
   ]
  },
  {
   "cell_type": "code",
   "execution_count": 50,
   "metadata": {
    "executionInfo": {
     "elapsed": 362,
     "status": "ok",
     "timestamp": 1719882662448,
     "user": {
      "displayName": "김정현",
      "userId": "08330403295617770299"
     },
     "user_tz": -540
    },
    "id": "D9YSfAb1_oly"
   },
   "outputs": [],
   "source": [
    "# Explode the dataframe to create one row per review\n",
    "expanded_reviews_df = reviews_df.explode('reviews').reset_index(drop=True)"
   ]
  },
  {
   "cell_type": "code",
   "execution_count": 51,
   "metadata": {
    "executionInfo": {
     "elapsed": 341,
     "status": "ok",
     "timestamp": 1719882723314,
     "user": {
      "displayName": "김정현",
      "userId": "08330403295617770299"
     },
     "user_tz": -540
    },
    "id": "_J-7RqJ9_r7_"
   },
   "outputs": [],
   "source": [
    "df_watcha = expanded_reviews_df"
   ]
  },
  {
   "cell_type": "code",
   "execution_count": 52,
   "metadata": {
    "colab": {
     "base_uri": "https://localhost:8080/",
     "height": 300
    },
    "executionInfo": {
     "elapsed": 403,
     "status": "ok",
     "timestamp": 1719882817686,
     "user": {
      "displayName": "김정현",
      "userId": "08330403295617770299"
     },
     "user_tz": -540
    },
    "id": "X4OCaX4Y_s9P",
    "outputId": "492d394c-fe4e-4e97-f8b2-fd3465622a1b"
   },
   "outputs": [
    {
     "data": {
      "text/html": [
       "<div>\n",
       "<style scoped>\n",
       "    .dataframe tbody tr th:only-of-type {\n",
       "        vertical-align: middle;\n",
       "    }\n",
       "\n",
       "    .dataframe tbody tr th {\n",
       "        vertical-align: top;\n",
       "    }\n",
       "\n",
       "    .dataframe thead th {\n",
       "        text-align: right;\n",
       "    }\n",
       "</style>\n",
       "<table border=\"1\" class=\"dataframe\">\n",
       "  <thead>\n",
       "    <tr style=\"text-align: right;\">\n",
       "      <th></th>\n",
       "      <th>title</th>\n",
       "      <th>rating</th>\n",
       "      <th>reviews</th>\n",
       "    </tr>\n",
       "  </thead>\n",
       "  <tbody>\n",
       "    <tr>\n",
       "      <th>914</th>\n",
       "      <td>젠틀맨</td>\n",
       "      <td>3.0</td>\n",
       "      <td>성매매boy가 무슨 결혼이야 뒤질려고</td>\n",
       "    </tr>\n",
       "    <tr>\n",
       "      <th>915</th>\n",
       "      <td>젠틀맨</td>\n",
       "      <td>3.0</td>\n",
       "      <td>다프네 결혼 생활이 더 궁금한 거부터 문제</td>\n",
       "    </tr>\n",
       "    <tr>\n",
       "      <th>916</th>\n",
       "      <td>젠틀맨</td>\n",
       "      <td>3.0</td>\n",
       "      <td>- 아주 귀엽고 쌔끈하고 콩닥거리고 다 했던 시즌1과는 비교조차 안됨. 일단 남녀주...</td>\n",
       "    </tr>\n",
       "    <tr>\n",
       "      <th>917</th>\n",
       "      <td>젠틀맨</td>\n",
       "      <td>3.0</td>\n",
       "      <td>구레나룻 좀 잘랐다고 이렇게 핫해져도 되는 거임? 앤소니도?</td>\n",
       "    </tr>\n",
       "    <tr>\n",
       "      <th>918</th>\n",
       "      <td>젠틀맨</td>\n",
       "      <td>3.0</td>\n",
       "      <td>둘의 케미는 좋은데 7화까지 고구마먹다가 겨우 이뤄진다. 진도가 너무 안나감... ...</td>\n",
       "    </tr>\n",
       "    <tr>\n",
       "      <th>919</th>\n",
       "      <td>젠틀맨</td>\n",
       "      <td>3.0</td>\n",
       "      <td>다프네가 갓캐였다.. 무매력인 형제들</td>\n",
       "    </tr>\n",
       "    <tr>\n",
       "      <th>920</th>\n",
       "      <td>젠틀맨</td>\n",
       "      <td>3.0</td>\n",
       "      <td>걍... 부잣집 브리저튼 둘째 셋째 아들내미들\\n팔자가 제일 부러움....</td>\n",
       "    </tr>\n",
       "    <tr>\n",
       "      <th>921</th>\n",
       "      <td>젠틀맨</td>\n",
       "      <td>3.0</td>\n",
       "      <td>하는 짓이 하도 답답해서 로맨스 빼고 보니까 갑자기 이해됨 뭐지??? 이마를 탁쳤다...</td>\n",
       "    </tr>\n",
       "  </tbody>\n",
       "</table>\n",
       "</div>"
      ],
      "text/plain": [
       "    title  rating                                            reviews\n",
       "914   젠틀맨     3.0                               성매매boy가 무슨 결혼이야 뒤질려고\n",
       "915   젠틀맨     3.0                            다프네 결혼 생활이 더 궁금한 거부터 문제\n",
       "916   젠틀맨     3.0  - 아주 귀엽고 쌔끈하고 콩닥거리고 다 했던 시즌1과는 비교조차 안됨. 일단 남녀주...\n",
       "917   젠틀맨     3.0                  구레나룻 좀 잘랐다고 이렇게 핫해져도 되는 거임? 앤소니도?\n",
       "918   젠틀맨     3.0  둘의 케미는 좋은데 7화까지 고구마먹다가 겨우 이뤄진다. 진도가 너무 안나감... ...\n",
       "919   젠틀맨     3.0                               다프네가 갓캐였다.. 무매력인 형제들\n",
       "920   젠틀맨     3.0          걍... 부잣집 브리저튼 둘째 셋째 아들내미들\\n팔자가 제일 부러움....\n",
       "921   젠틀맨     3.0  하는 짓이 하도 답답해서 로맨스 빼고 보니까 갑자기 이해됨 뭐지??? 이마를 탁쳤다..."
      ]
     },
     "execution_count": 52,
     "metadata": {},
     "output_type": "execute_result"
    }
   ],
   "source": [
    "df_watcha.loc[df_watcha['title'] == ' 틀맨','title'] = '젠틀맨'\n",
    "df_watcha[df_watcha['title'] == '젠틀맨']"
   ]
  },
  {
   "cell_type": "code",
   "execution_count": 53,
   "metadata": {
    "colab": {
     "base_uri": "https://localhost:8080/"
    },
    "executionInfo": {
     "elapsed": 427,
     "status": "ok",
     "timestamp": 1719882837572,
     "user": {
      "displayName": "김정현",
      "userId": "08330403295617770299"
     },
     "user_tz": -540
    },
    "id": "uRcbVoRSAFYf",
    "outputId": "2fda27c6-655e-4bfa-f508-a1181cc7f771"
   },
   "outputs": [
    {
     "data": {
      "text/plain": [
       "title       156\n",
       "rating       27\n",
       "reviews    1235\n",
       "dtype: int64"
      ]
     },
     "execution_count": 53,
     "metadata": {},
     "output_type": "execute_result"
    }
   ],
   "source": [
    "df_watcha.nunique()"
   ]
  },
  {
   "cell_type": "code",
   "execution_count": 54,
   "metadata": {
    "executionInfo": {
     "elapsed": 339,
     "status": "ok",
     "timestamp": 1719882867385,
     "user": {
      "displayName": "김정현",
      "userId": "08330403295617770299"
     },
     "user_tz": -540
    },
    "id": "P-Y8nyS8AUv0"
   },
   "outputs": [],
   "source": [
    "df_watcha['reviews'] = df_watcha['reviews'].apply(lambda x: x.replace('\\n\\n', ''))\n",
    "df_watcha['reviews'] = df_watcha['reviews'].apply(lambda x: x.replace('\\n', ''))"
   ]
  },
  {
   "cell_type": "code",
   "execution_count": 55,
   "metadata": {
    "colab": {
     "base_uri": "https://localhost:8080/"
    },
    "executionInfo": {
     "elapsed": 345,
     "status": "ok",
     "timestamp": 1719882903864,
     "user": {
      "displayName": "김정현",
      "userId": "08330403295617770299"
     },
     "user_tz": -540
    },
    "id": "y6STMYHfAaDv",
    "outputId": "ca1910ba-8681-44d1-fa63-511f94b73394"
   },
   "outputs": [
    {
     "data": {
      "text/plain": [
       "120"
      ]
     },
     "execution_count": 55,
     "metadata": {},
     "output_type": "execute_result"
    }
   ],
   "source": [
    "watcha_titles = df_watcha['title'].unique()\n",
    "df_cine_filtered = df_cine[df_cine['title'].isin(watcha_titles)]\n",
    "df_cine_filtered['title'].nunique()"
   ]
  },
  {
   "cell_type": "code",
   "execution_count": 56,
   "metadata": {
    "colab": {
     "base_uri": "https://localhost:8080/",
     "height": 532
    },
    "executionInfo": {
     "elapsed": 398,
     "status": "ok",
     "timestamp": 1719885214046,
     "user": {
      "displayName": "김정현",
      "userId": "08330403295617770299"
     },
     "user_tz": -540
    },
    "id": "cLnjaYgUJI0N",
    "outputId": "9ab479cf-3749-416c-8e0d-04943a46d991"
   },
   "outputs": [
    {
     "name": "stderr",
     "output_type": "stream",
     "text": [
      "C:\\Users\\kkksk\\AppData\\Local\\Temp\\ipykernel_6712\\3841955132.py:1: SettingWithCopyWarning: \n",
      "A value is trying to be set on a copy of a slice from a DataFrame.\n",
      "Try using .loc[row_indexer,col_indexer] = value instead\n",
      "\n",
      "See the caveats in the documentation: https://pandas.pydata.org/pandas-docs/stable/user_guide/indexing.html#returning-a-view-versus-a-copy\n",
      "  df_cine_filtered['rating'] = df_cine_filtered['rating'].apply(lambda x: x / 2 if x > 5 else x)\n"
     ]
    },
    {
     "data": {
      "text/html": [
       "<div>\n",
       "<style scoped>\n",
       "    .dataframe tbody tr th:only-of-type {\n",
       "        vertical-align: middle;\n",
       "    }\n",
       "\n",
       "    .dataframe tbody tr th {\n",
       "        vertical-align: top;\n",
       "    }\n",
       "\n",
       "    .dataframe thead th {\n",
       "        text-align: right;\n",
       "    }\n",
       "</style>\n",
       "<table border=\"1\" class=\"dataframe\">\n",
       "  <thead>\n",
       "    <tr style=\"text-align: right;\">\n",
       "      <th></th>\n",
       "      <th>title</th>\n",
       "      <th>rating</th>\n",
       "      <th>reviews</th>\n",
       "    </tr>\n",
       "  </thead>\n",
       "  <tbody>\n",
       "    <tr>\n",
       "      <th>0</th>\n",
       "      <td>싱글 인 서울</td>\n",
       "      <td>3.0</td>\n",
       "      <td>박범수 감독이 연출한 &lt;싱글 인 서울&gt;은 책을 출판하기 위해 함께하는 두 남녀의 사...</td>\n",
       "    </tr>\n",
       "    <tr>\n",
       "      <th>1</th>\n",
       "      <td>싱글 인 서울</td>\n",
       "      <td>5.0</td>\n",
       "      <td>한국에서 청년층이 연애하지 않는 이유를 사회적인 제약으로만 생각하려는 경향이 강하다...</td>\n",
       "    </tr>\n",
       "    <tr>\n",
       "      <th>2</th>\n",
       "      <td>싱글 인 서울</td>\n",
       "      <td>4.0</td>\n",
       "      <td>평범하면서 가을 느낌을 솔솔 풍기며 힐링을 주는 로맨틱코미디영화였습니다! 싱글을 전...</td>\n",
       "    </tr>\n",
       "    <tr>\n",
       "      <th>3</th>\n",
       "      <td>아바타: 물의 길</td>\n",
       "      <td>4.0</td>\n",
       "      <td>제임스 카메론 감독이 연출한 &lt;아바타: 물의 길&gt;은 13년 만에 제작된 &lt;아바타&gt;의...</td>\n",
       "    </tr>\n",
       "    <tr>\n",
       "      <th>4</th>\n",
       "      <td>아바타: 물의 길</td>\n",
       "      <td>5.0</td>\n",
       "      <td>존재 자체로 각인되는 아바타 두 번째 이야기 ‘물의 길’은 감독 제임스 카메론의 본...</td>\n",
       "    </tr>\n",
       "    <tr>\n",
       "      <th>...</th>\n",
       "      <td>...</td>\n",
       "      <td>...</td>\n",
       "      <td>...</td>\n",
       "    </tr>\n",
       "    <tr>\n",
       "      <th>642</th>\n",
       "      <td>더 문</td>\n",
       "      <td>4.0</td>\n",
       "      <td>달과 우주를 배경으로 긴장과 몰입 그리고 감동을 함께 선사한 SF영화였습니다! 한국...</td>\n",
       "    </tr>\n",
       "    <tr>\n",
       "      <th>643</th>\n",
       "      <td>더 문</td>\n",
       "      <td>5.0</td>\n",
       "      <td>Actor Doh Kyungsoo's big screen comeback!</td>\n",
       "    </tr>\n",
       "    <tr>\n",
       "      <th>644</th>\n",
       "      <td>타겟</td>\n",
       "      <td>3.0</td>\n",
       "      <td>억울한 일을 당하는 역할은 서영희 이후 신혜선이 갑</td>\n",
       "    </tr>\n",
       "    <tr>\n",
       "      <th>645</th>\n",
       "      <td>타겟</td>\n",
       "      <td>5.0</td>\n",
       "      <td>박희곤 감독이 연출한 &lt;타겟&gt;은 중고거래 사기를 당한 여성이 복수를 하려다 벌어지는...</td>\n",
       "    </tr>\n",
       "    <tr>\n",
       "      <th>646</th>\n",
       "      <td>타겟</td>\n",
       "      <td>4.0</td>\n",
       "      <td>소름돋으면서 긴장감을 형성시킨 서스펜스범죄영화였습니다! 중고거래를 명목으로 사기 및...</td>\n",
       "    </tr>\n",
       "  </tbody>\n",
       "</table>\n",
       "<p>478 rows × 3 columns</p>\n",
       "</div>"
      ],
      "text/plain": [
       "         title  rating                                            reviews\n",
       "0      싱글 인 서울     3.0  박범수 감독이 연출한 <싱글 인 서울>은 책을 출판하기 위해 함께하는 두 남녀의 사...\n",
       "1      싱글 인 서울     5.0  한국에서 청년층이 연애하지 않는 이유를 사회적인 제약으로만 생각하려는 경향이 강하다...\n",
       "2      싱글 인 서울     4.0  평범하면서 가을 느낌을 솔솔 풍기며 힐링을 주는 로맨틱코미디영화였습니다! 싱글을 전...\n",
       "3    아바타: 물의 길     4.0  제임스 카메론 감독이 연출한 <아바타: 물의 길>은 13년 만에 제작된 <아바타>의...\n",
       "4    아바타: 물의 길     5.0  존재 자체로 각인되는 아바타 두 번째 이야기 ‘물의 길’은 감독 제임스 카메론의 본...\n",
       "..         ...     ...                                                ...\n",
       "642        더 문     4.0  달과 우주를 배경으로 긴장과 몰입 그리고 감동을 함께 선사한 SF영화였습니다! 한국...\n",
       "643        더 문     5.0          Actor Doh Kyungsoo's big screen comeback!\n",
       "644         타겟     3.0                       억울한 일을 당하는 역할은 서영희 이후 신혜선이 갑\n",
       "645         타겟     5.0  박희곤 감독이 연출한 <타겟>은 중고거래 사기를 당한 여성이 복수를 하려다 벌어지는...\n",
       "646         타겟     4.0  소름돋으면서 긴장감을 형성시킨 서스펜스범죄영화였습니다! 중고거래를 명목으로 사기 및...\n",
       "\n",
       "[478 rows x 3 columns]"
      ]
     },
     "execution_count": 56,
     "metadata": {},
     "output_type": "execute_result"
    }
   ],
   "source": [
    "df_cine_filtered['rating'] = df_cine_filtered['rating'].apply(lambda x: x / 2 if x > 5 else x)\n",
    "df_cine_filtered"
   ]
  },
  {
   "cell_type": "code",
   "execution_count": 57,
   "metadata": {
    "executionInfo": {
     "elapsed": 323,
     "status": "ok",
     "timestamp": 1719885220669,
     "user": {
      "displayName": "김정현",
      "userId": "08330403295617770299"
     },
     "user_tz": -540
    },
    "id": "UnGAy6xEAm4A"
   },
   "outputs": [],
   "source": [
    "reviews_df = pd.concat([expanded_reviews_df, df_cine_filtered], axis=0)"
   ]
  },
  {
   "cell_type": "code",
   "execution_count": 58,
   "metadata": {
    "colab": {
     "base_uri": "https://localhost:8080/"
    },
    "executionInfo": {
     "elapsed": 2,
     "status": "ok",
     "timestamp": 1719885222137,
     "user": {
      "displayName": "김정현",
      "userId": "08330403295617770299"
     },
     "user_tz": -540
    },
    "id": "DxVZpWkNAx7D",
    "outputId": "dd231878-d3a8-439c-e3e1-e0f898af5ef1"
   },
   "outputs": [
    {
     "name": "stdout",
     "output_type": "stream",
     "text": [
      "156\n"
     ]
    }
   ],
   "source": [
    "reviews_df.sort_values(by='title', inplace=True)\n",
    "reviews_df.reset_index(inplace=True)\n",
    "print(reviews_df['title'].nunique())"
   ]
  },
  {
   "cell_type": "code",
   "execution_count": 59,
   "metadata": {
    "colab": {
     "base_uri": "https://localhost:8080/",
     "height": 423
    },
    "executionInfo": {
     "elapsed": 10,
     "status": "ok",
     "timestamp": 1719885222607,
     "user": {
      "displayName": "김정현",
      "userId": "08330403295617770299"
     },
     "user_tz": -540
    },
    "id": "4YUcplleA28w",
    "outputId": "9da367f0-c755-4ef1-edf7-3fa63390c865"
   },
   "outputs": [
    {
     "data": {
      "text/html": [
       "<div>\n",
       "<style scoped>\n",
       "    .dataframe tbody tr th:only-of-type {\n",
       "        vertical-align: middle;\n",
       "    }\n",
       "\n",
       "    .dataframe tbody tr th {\n",
       "        vertical-align: top;\n",
       "    }\n",
       "\n",
       "    .dataframe thead th {\n",
       "        text-align: right;\n",
       "    }\n",
       "</style>\n",
       "<table border=\"1\" class=\"dataframe\">\n",
       "  <thead>\n",
       "    <tr style=\"text-align: right;\">\n",
       "      <th></th>\n",
       "      <th>index</th>\n",
       "      <th>title</th>\n",
       "      <th>rating</th>\n",
       "      <th>reviews</th>\n",
       "    </tr>\n",
       "  </thead>\n",
       "  <tbody>\n",
       "    <tr>\n",
       "      <th>0</th>\n",
       "      <td>88</td>\n",
       "      <td>1947 보스톤</td>\n",
       "      <td>5.0</td>\n",
       "      <td>2023.9.18. '국립국어원(온라인가나다 상세보기)'이 답변한 내용에 따르면 ,...</td>\n",
       "    </tr>\n",
       "    <tr>\n",
       "      <th>1</th>\n",
       "      <td>377</td>\n",
       "      <td>1947 보스톤</td>\n",
       "      <td>2.9</td>\n",
       "      <td>올드하고 촌스러운 구석들이 있지만 후반부의 담백하면서도 몰입감을 선사한 가족용 한국...</td>\n",
       "    </tr>\n",
       "    <tr>\n",
       "      <th>2</th>\n",
       "      <td>374</td>\n",
       "      <td>1947 보스톤</td>\n",
       "      <td>2.9</td>\n",
       "      <td>실화 인물 바탕의 영화 초반 너무 공식을 따르긴 했지만 기름기는 잘 뺐다임시완은 배...</td>\n",
       "    </tr>\n",
       "    <tr>\n",
       "      <th>3</th>\n",
       "      <td>373</td>\n",
       "      <td>1947 보스톤</td>\n",
       "      <td>2.9</td>\n",
       "      <td>누군가가 간절히 노력하는 모습이 좋지 않았을 리 없다누군가의 희망은 여전히 뛰고 있...</td>\n",
       "    </tr>\n",
       "    <tr>\n",
       "      <th>4</th>\n",
       "      <td>372</td>\n",
       "      <td>1947 보스톤</td>\n",
       "      <td>2.9</td>\n",
       "      <td>Good : 런복동은 너무 나갔다. 임시완은 빛났다.Caution : 국뽕도 나라가...</td>\n",
       "    </tr>\n",
       "    <tr>\n",
       "      <th>...</th>\n",
       "      <td>...</td>\n",
       "      <td>...</td>\n",
       "      <td>...</td>\n",
       "      <td>...</td>\n",
       "    </tr>\n",
       "    <tr>\n",
       "      <th>1709</th>\n",
       "      <td>584</td>\n",
       "      <td>화란</td>\n",
       "      <td>3.0</td>\n",
       "      <td>분노를 표출시키면서 한편으로 투박하고 뭔가 되게 짠한 범죄느와르영화였습니다! 지옥 ...</td>\n",
       "    </tr>\n",
       "    <tr>\n",
       "      <th>1710</th>\n",
       "      <td>585</td>\n",
       "      <td>화란</td>\n",
       "      <td>5.0</td>\n",
       "      <td>한국 느와르에 등장하는 조폭은 미화의 대상이다. 현실에서 난폭한 범죄자일 따름이지만...</td>\n",
       "    </tr>\n",
       "    <tr>\n",
       "      <th>1711</th>\n",
       "      <td>587</td>\n",
       "      <td>화란</td>\n",
       "      <td>4.0</td>\n",
       "      <td>물에 빠진 관객은 누가 건져주나</td>\n",
       "    </tr>\n",
       "    <tr>\n",
       "      <th>1712</th>\n",
       "      <td>828</td>\n",
       "      <td>화란</td>\n",
       "      <td>3.0</td>\n",
       "      <td>무관심은 결핍을 낳고 갈구는 폭력으로부터 비롯된다 “돌아가면 그 곳이 네 집이야. ...</td>\n",
       "    </tr>\n",
       "    <tr>\n",
       "      <th>1713</th>\n",
       "      <td>586</td>\n",
       "      <td>화란</td>\n",
       "      <td>3.5</td>\n",
       "      <td>김창훈 감독이 연출한 &lt;화란&gt;은 지옥 같은 현실에서 벗어나고 싶은 소년과 그가 동경...</td>\n",
       "    </tr>\n",
       "  </tbody>\n",
       "</table>\n",
       "<p>1714 rows × 4 columns</p>\n",
       "</div>"
      ],
      "text/plain": [
       "      index     title  rating  \\\n",
       "0        88  1947 보스톤     5.0   \n",
       "1       377  1947 보스톤     2.9   \n",
       "2       374  1947 보스톤     2.9   \n",
       "3       373  1947 보스톤     2.9   \n",
       "4       372  1947 보스톤     2.9   \n",
       "...     ...       ...     ...   \n",
       "1709    584        화란     3.0   \n",
       "1710    585        화란     5.0   \n",
       "1711    587        화란     4.0   \n",
       "1712    828        화란     3.0   \n",
       "1713    586        화란     3.5   \n",
       "\n",
       "                                                reviews  \n",
       "0     2023.9.18. '국립국어원(온라인가나다 상세보기)'이 답변한 내용에 따르면 ,...  \n",
       "1     올드하고 촌스러운 구석들이 있지만 후반부의 담백하면서도 몰입감을 선사한 가족용 한국...  \n",
       "2     실화 인물 바탕의 영화 초반 너무 공식을 따르긴 했지만 기름기는 잘 뺐다임시완은 배...  \n",
       "3     누군가가 간절히 노력하는 모습이 좋지 않았을 리 없다누군가의 희망은 여전히 뛰고 있...  \n",
       "4     Good : 런복동은 너무 나갔다. 임시완은 빛났다.Caution : 국뽕도 나라가...  \n",
       "...                                                 ...  \n",
       "1709  분노를 표출시키면서 한편으로 투박하고 뭔가 되게 짠한 범죄느와르영화였습니다! 지옥 ...  \n",
       "1710  한국 느와르에 등장하는 조폭은 미화의 대상이다. 현실에서 난폭한 범죄자일 따름이지만...  \n",
       "1711                                  물에 빠진 관객은 누가 건져주나  \n",
       "1712  무관심은 결핍을 낳고 갈구는 폭력으로부터 비롯된다 “돌아가면 그 곳이 네 집이야. ...  \n",
       "1713  김창훈 감독이 연출한 <화란>은 지옥 같은 현실에서 벗어나고 싶은 소년과 그가 동경...  \n",
       "\n",
       "[1714 rows x 4 columns]"
      ]
     },
     "execution_count": 59,
     "metadata": {},
     "output_type": "execute_result"
    }
   ],
   "source": [
    "reviews_df"
   ]
  },
  {
   "cell_type": "code",
   "execution_count": 60,
   "metadata": {
    "colab": {
     "base_uri": "https://localhost:8080/",
     "height": 269
    },
    "executionInfo": {
     "elapsed": 9,
     "status": "ok",
     "timestamp": 1719885222608,
     "user": {
      "displayName": "김정현",
      "userId": "08330403295617770299"
     },
     "user_tz": -540
    },
    "id": "wtMZYrFZA4d_",
    "outputId": "effa2808-4df9-46c7-dbb7-16e573b3341f"
   },
   "outputs": [
    {
     "data": {
      "text/html": [
       "<div>\n",
       "<style scoped>\n",
       "    .dataframe tbody tr th:only-of-type {\n",
       "        vertical-align: middle;\n",
       "    }\n",
       "\n",
       "    .dataframe tbody tr th {\n",
       "        vertical-align: top;\n",
       "    }\n",
       "\n",
       "    .dataframe thead th {\n",
       "        text-align: right;\n",
       "    }\n",
       "</style>\n",
       "<table border=\"1\" class=\"dataframe\">\n",
       "  <thead>\n",
       "    <tr style=\"text-align: right;\">\n",
       "      <th></th>\n",
       "      <th>title</th>\n",
       "      <th>rating</th>\n",
       "      <th>reviews</th>\n",
       "    </tr>\n",
       "  </thead>\n",
       "  <tbody>\n",
       "    <tr>\n",
       "      <th>9</th>\n",
       "      <td>공조2: 인터내셔</td>\n",
       "      <td>NaN</td>\n",
       "      <td>NaN</td>\n",
       "    </tr>\n",
       "    <tr>\n",
       "      <th>40</th>\n",
       "      <td>NaN</td>\n",
       "      <td>NaN</td>\n",
       "      <td>NaN</td>\n",
       "    </tr>\n",
       "    <tr>\n",
       "      <th>77</th>\n",
       "      <td>귀멸의 칼날: 상현집결, 그리 도공 마을로</td>\n",
       "      <td>NaN</td>\n",
       "      <td>NaN</td>\n",
       "    </tr>\n",
       "    <tr>\n",
       "      <th>81</th>\n",
       "      <td>귀멸의 칼날: 인연의 기적, 그리 합동 강화 훈련으로</td>\n",
       "      <td>NaN</td>\n",
       "      <td>NaN</td>\n",
       "    </tr>\n",
       "    <tr>\n",
       "      <th>85</th>\n",
       "      <td>늑대사냥</td>\n",
       "      <td>NaN</td>\n",
       "      <td>NaN</td>\n",
       "    </tr>\n",
       "    <tr>\n",
       "      <th>114</th>\n",
       "      <td>포켓 몬스터 DP: 아르세우스 초극의 시공으로</td>\n",
       "      <td>NaN</td>\n",
       "      <td>NaN</td>\n",
       "    </tr>\n",
       "    <tr>\n",
       "      <th>160</th>\n",
       "      <td>뉴 노멀</td>\n",
       "      <td>NaN</td>\n",
       "      <td>NaN</td>\n",
       "    </tr>\n",
       "  </tbody>\n",
       "</table>\n",
       "</div>"
      ],
      "text/plain": [
       "                             title  rating reviews\n",
       "9                        공조2: 인터내셔     NaN     NaN\n",
       "40                             NaN     NaN     NaN\n",
       "77         귀멸의 칼날: 상현집결, 그리 도공 마을로     NaN     NaN\n",
       "81   귀멸의 칼날: 인연의 기적, 그리 합동 강화 훈련으로     NaN     NaN\n",
       "85                            늑대사냥     NaN     NaN\n",
       "114      포켓 몬스터 DP: 아르세우스 초극의 시공으로     NaN     NaN\n",
       "160                           뉴 노멀     NaN     NaN"
      ]
     },
     "execution_count": 60,
     "metadata": {},
     "output_type": "execute_result"
    }
   ],
   "source": [
    "df_tmp[df_tmp['rating'].isna()]"
   ]
  },
  {
   "cell_type": "code",
   "execution_count": 61,
   "metadata": {
    "executionInfo": {
     "elapsed": 7,
     "status": "ok",
     "timestamp": 1719885224105,
     "user": {
      "displayName": "김정현",
      "userId": "08330403295617770299"
     },
     "user_tz": -540
    },
    "id": "GcOQfv3sBFA9"
   },
   "outputs": [],
   "source": [
    "reviews_df = pd.concat([reviews_df,df_cine[df_cine['title'].str.contains('뉴 노멀')]])\n",
    "reviews_df = pd.concat([reviews_df,df_cine[df_cine['title'].str.contains('잠')]])\n",
    "reviews_df = pd.concat([reviews_df,df_cine[df_cine['title'].str.contains('공조')]])\n",
    "reviews_df = pd.concat([reviews_df,df_cine[df_cine['title'].str.contains('늑대사냥')]])\n"
   ]
  },
  {
   "cell_type": "code",
   "execution_count": 62,
   "metadata": {
    "colab": {
     "base_uri": "https://localhost:8080/"
    },
    "executionInfo": {
     "elapsed": 4,
     "status": "ok",
     "timestamp": 1719885228915,
     "user": {
      "displayName": "김정현",
      "userId": "08330403295617770299"
     },
     "user_tz": -540
    },
    "id": "944n93o-DUDM",
    "outputId": "44a314c6-510e-44fc-aa00-fc3c2c46e7f0"
   },
   "outputs": [
    {
     "name": "stdout",
     "output_type": "stream",
     "text": [
      "<class 'pandas.core.frame.DataFrame'>\n",
      "Index: 1737 entries, 0 to 58\n",
      "Data columns (total 4 columns):\n",
      " #   Column   Non-Null Count  Dtype  \n",
      "---  ------   --------------  -----  \n",
      " 0   index    1714 non-null   float64\n",
      " 1   title    1737 non-null   object \n",
      " 2   rating   1737 non-null   float64\n",
      " 3   reviews  1737 non-null   object \n",
      "dtypes: float64(2), object(2)\n",
      "memory usage: 67.9+ KB\n"
     ]
    }
   ],
   "source": [
    "reviews_df.info()"
   ]
  },
  {
   "cell_type": "code",
   "execution_count": 63,
   "metadata": {
    "executionInfo": {
     "elapsed": 357,
     "status": "ok",
     "timestamp": 1719885257792,
     "user": {
      "displayName": "김정현",
      "userId": "08330403295617770299"
     },
     "user_tz": -540
    },
    "id": "qzEn1E8pB1Z1"
   },
   "outputs": [],
   "source": [
    "reviews_df.drop('index', axis=1, inplace=True)\n",
    "reviews_df.to_csv(\"영화리뷰_최종.csv\", index = False, escapechar='\\\\')"
   ]
  },
  {
   "cell_type": "code",
   "execution_count": null,
   "metadata": {
    "colab": {
     "base_uri": "https://localhost:8080/"
    },
    "executionInfo": {
     "elapsed": 131973,
     "status": "ok",
     "timestamp": 1719885391078,
     "user": {
      "displayName": "김정현",
      "userId": "08330403295617770299"
     },
     "user_tz": -540
    },
    "id": "QMXNv74jD0Ox",
    "outputId": "81e357c3-985a-4560-918e-2b2ea1b47da2"
   },
   "outputs": [
    {
     "name": "stderr",
     "output_type": "stream",
     "text": [
      "C:\\Anaconda\\lib\\site-packages\\huggingface_hub\\file_download.py:1132: FutureWarning: `resume_download` is deprecated and will be removed in version 1.0.0. Downloads always resume when possible. If you want to force a new download, use `force_download=True`.\n",
      "  warnings.warn(\n"
     ]
    }
   ],
   "source": [
    "# 허깅페이스에서 한국어 영화 리뷰 데이터에 파인튜닝된 BERT 불러와서 사용\n",
    "\n",
    "import pandas as pd\n",
    "from transformers import BertTokenizer, BertForSequenceClassification\n",
    "import torch\n",
    "\n",
    "tokenizer = BertTokenizer.from_pretrained('sangrimlee/bert-base-multilingual-cased-nsmc')\n",
    "model = BertForSequenceClassification.from_pretrained('sangrimlee/bert-base-multilingual-cased-nsmc')\n",
    "\n",
    "def predict_sentiment(review):\n",
    "    inputs = tokenizer(review, return_tensors=\"pt\", truncation=True, padding=True)\n",
    "    outputs = model(**inputs)\n",
    "    probs = torch.nn.functional.softmax(outputs.logits, dim=-1)\n",
    "    positive_logit = probs[0][1].item() * 100\n",
    "    positive_logit_int = int(round(positive_logit))\n",
    "    return positive_logit_int\n",
    "\n",
    "reviews_df['sentiment'] = reviews_df['reviews'].apply(predict_sentiment)\n",
    "\n",
    "print(reviews_df)\n"
   ]
  },
  {
   "cell_type": "code",
   "execution_count": null,
   "metadata": {
    "colab": {
     "base_uri": "https://localhost:8080/",
     "height": 423
    },
    "executionInfo": {
     "elapsed": 325,
     "status": "ok",
     "timestamp": 1719885398371,
     "user": {
      "displayName": "김정현",
      "userId": "08330403295617770299"
     },
     "user_tz": -540
    },
    "id": "V5tHo_3WFlnv",
    "outputId": "baab2cd7-5989-45a4-8e51-467e4a2f1a91"
   },
   "outputs": [],
   "source": [
    "import numpy as np\n",
    "\n",
    "mean_values = reviews_df.groupby('title').agg({'rating': 'mean', 'sentiment': 'mean'}).reset_index()\n",
    "mean_values['rating'] = np.round(mean_values['rating'], 2)\n",
    "mean_values['sentiment'] = np.round(mean_values['sentiment'], 2)\n",
    "mean_values"
   ]
  },
  {
   "cell_type": "code",
   "execution_count": null,
   "metadata": {
    "colab": {
     "base_uri": "https://localhost:8080/",
     "height": 423
    },
    "executionInfo": {
     "elapsed": 580,
     "status": "ok",
     "timestamp": 1719885631800,
     "user": {
      "displayName": "김정현",
      "userId": "08330403295617770299"
     },
     "user_tz": -540
    },
    "id": "GtHuiZomIMrH",
    "outputId": "23c8682c-e241-48c8-ba09-7a11fa34904d"
   },
   "outputs": [],
   "source": [
    "mean_values.rename(columns = {'title' : 'Movie'}, inplace = True)\n",
    "mean_values"
   ]
  },
  {
   "cell_type": "code",
   "execution_count": null,
   "metadata": {
    "executionInfo": {
     "elapsed": 367,
     "status": "ok",
     "timestamp": 1719885652082,
     "user": {
      "displayName": "김정현",
      "userId": "08330403295617770299"
     },
     "user_tz": -540
    },
    "id": "V_Ut2iT8KV1B"
   },
   "outputs": [],
   "source": [
    "df_final = df.merge(mean_values, on='Movie', how='left')"
   ]
  },
  {
   "cell_type": "code",
   "execution_count": null,
   "metadata": {
    "colab": {
     "base_uri": "https://localhost:8080/",
     "height": 669
    },
    "executionInfo": {
     "elapsed": 474,
     "status": "ok",
     "timestamp": 1719885690291,
     "user": {
      "displayName": "김정현",
      "userId": "08330403295617770299"
     },
     "user_tz": -540
    },
    "id": "B6jQzvAZLER3",
    "outputId": "824ff9da-61af-4737-bd0e-442c3d8591e2"
   },
   "outputs": [],
   "source": [
    "df_final.drop('Unnamed: 0', axis = 1, inplace = True)\n",
    "df_final"
   ]
  },
  {
   "cell_type": "code",
   "execution_count": null,
   "metadata": {
    "colab": {
     "base_uri": "https://localhost:8080/",
     "height": 758
    },
    "executionInfo": {
     "elapsed": 420,
     "status": "ok",
     "timestamp": 1719885730251,
     "user": {
      "displayName": "김정현",
      "userId": "08330403295617770299"
     },
     "user_tz": -540
    },
    "id": "dLBbJpdaLGqW",
    "outputId": "d54be199-93fa-4d60-9885-27d28dba3995"
   },
   "outputs": [],
   "source": [
    "df_final[df_final['sentiment'].isna()]"
   ]
  },
  {
   "cell_type": "code",
   "execution_count": null,
   "metadata": {
    "colab": {
     "base_uri": "https://localhost:8080/",
     "height": 81
    },
    "executionInfo": {
     "elapsed": 337,
     "status": "ok",
     "timestamp": 1719886052975,
     "user": {
      "displayName": "김정현",
      "userId": "08330403295617770299"
     },
     "user_tz": -540
    },
    "id": "vYUcOVdHLUZW",
    "outputId": "35b2ca17-b066-4334-d4f6-626082e035a1"
   },
   "outputs": [],
   "source": [
    "mean_values[mean_values['Movie'].str.contains('젠틀맨')]"
   ]
  },
  {
   "cell_type": "code",
   "execution_count": null,
   "metadata": {
    "executionInfo": {
     "elapsed": 498,
     "status": "ok",
     "timestamp": 1719886064009,
     "user": {
      "displayName": "김정현",
      "userId": "08330403295617770299"
     },
     "user_tz": -540
    },
    "id": "vzE-5XEVLkdz"
   },
   "outputs": [],
   "source": [
    "df_final.iloc[9, -2:] = [7.2,64.0 ]"
   ]
  },
  {
   "cell_type": "code",
   "execution_count": null,
   "metadata": {
    "executionInfo": {
     "elapsed": 357,
     "status": "ok",
     "timestamp": 1719886067009,
     "user": {
      "displayName": "김정현",
      "userId": "08330403295617770299"
     },
     "user_tz": -540
    },
    "id": "9dddxG1oLxA0"
   },
   "outputs": [],
   "source": [
    "df_final.iloc[121, -2:] = [3.1, 30.0]"
   ]
  },
  {
   "cell_type": "code",
   "execution_count": null,
   "metadata": {
    "executionInfo": {
     "elapsed": 399,
     "status": "ok",
     "timestamp": 1719886108658,
     "user": {
      "displayName": "김정현",
      "userId": "08330403295617770299"
     },
     "user_tz": -540
    },
    "id": "DS1bowl8MpUd"
   },
   "outputs": [],
   "source": [
    "df_final.iloc[9,1] = '공조2 : 인터내셔널'"
   ]
  },
  {
   "cell_type": "code",
   "execution_count": null,
   "metadata": {
    "colab": {
     "base_uri": "https://localhost:8080/",
     "height": 669
    },
    "executionInfo": {
     "elapsed": 484,
     "status": "ok",
     "timestamp": 1719886110579,
     "user": {
      "displayName": "김정현",
      "userId": "08330403295617770299"
     },
     "user_tz": -540
    },
    "id": "zB_csSguMvbh",
    "outputId": "0b5f186e-df2f-4741-e1b0-3db64dda2d89"
   },
   "outputs": [],
   "source": [
    "df_final"
   ]
  },
  {
   "cell_type": "code",
   "execution_count": null,
   "metadata": {
    "executionInfo": {
     "elapsed": 4,
     "status": "ok",
     "timestamp": 1719886166499,
     "user": {
      "displayName": "김정현",
      "userId": "08330403295617770299"
     },
     "user_tz": -540
    },
    "id": "DHbVMQ-PMwXl"
   },
   "outputs": [],
   "source": [
    "df_final.to_csv(\"영화데이터_0702.csv\", index = False)"
   ]
  },
  {
   "cell_type": "code",
   "execution_count": null,
   "metadata": {
    "colab": {
     "base_uri": "https://localhost:8080/",
     "height": 146
    },
    "executionInfo": {
     "elapsed": 356,
     "status": "error",
     "timestamp": 1719886229693,
     "user": {
      "displayName": "김정현",
      "userId": "08330403295617770299"
     },
     "user_tz": -540
    },
    "id": "hMXngtCANDeV",
    "outputId": "51b15082-068d-41bf-a0df-ad0c444bb0b0"
   },
   "outputs": [],
   "source": [
    "reviews_df.to_csv(\"리뷰별별점데이터.csv\", index = False)"
   ]
  },
  {
   "cell_type": "code",
   "execution_count": null,
   "metadata": {
    "executionInfo": {
     "elapsed": 372,
     "status": "ok",
     "timestamp": 1719886272205,
     "user": {
      "displayName": "김정현",
      "userId": "08330403295617770299"
     },
     "user_tz": -540
    },
    "id": "tr-Ae21aNUYI"
   },
   "outputs": [],
   "source": [
    "reviews_df.drop('index', axis=1, inplace=True)\n",
    "reviews_df.to_csv(\"영화리뷰_최종.csv\", index = False, escapechar='\\\\')"
   ]
  }
 ],
 "metadata": {
  "accelerator": "GPU",
  "colab": {
   "authorship_tag": "ABX9TyPl9r9EzSwQHVMTvEZrB2fn",
   "gpuType": "L4",
   "machine_shape": "hm",
   "provenance": []
  },
  "kernelspec": {
   "display_name": "Python 3 (ipykernel)",
   "language": "python",
   "name": "python3"
  },
  "language_info": {
   "codemirror_mode": {
    "name": "ipython",
    "version": 3
   },
   "file_extension": ".py",
   "mimetype": "text/x-python",
   "name": "python",
   "nbconvert_exporter": "python",
   "pygments_lexer": "ipython3",
   "version": "3.9.13"
  }
 },
 "nbformat": 4,
 "nbformat_minor": 4
}
