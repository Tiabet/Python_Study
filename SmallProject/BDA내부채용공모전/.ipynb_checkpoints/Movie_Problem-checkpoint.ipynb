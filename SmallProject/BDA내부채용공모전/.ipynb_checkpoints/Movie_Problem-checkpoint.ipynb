{
 "cells": [
  {
   "cell_type": "markdown",
   "id": "31918650-8d82-483f-84b9-019d59c5637e",
   "metadata": {},
   "source": [
    "## 코로나 이전인 17 ~ 19년과 이후인 22 ~ 24년의 데이터를 비교해보면서 영화계에 생긴 문제를 확인한 과정"
   ]
  },
  {
   "cell_type": "code",
   "execution_count": 2,
   "id": "6e473a08-6c63-4ad9-8c6a-b36ab33c5685",
   "metadata": {},
   "outputs": [],
   "source": [
    "# 전처리 과정 (다소 복잡)\n",
    "\n",
    "import pandas as pd\n",
    "\n",
    "def clean_text_data(df):\n",
    "    df_cleaned = df.astype(str).applymap(lambda x: x.encode('latin1').decode('utf-8', errors='ignore'))\n",
    "    return df_cleaned\n",
    "\n",
    "file_17_19_path = 'KOBIS_기간별박스오피스_17년~19년.xls'\n",
    "file_22_24_path = 'KOBIS_기간별박스오피스_22년~24년.xls'\n",
    "\n",
    "tables_17_19 = pd.read_html(file_17_19_path)\n",
    "tables_22_24 = pd.read_html(file_22_24_path)\n",
    "\n",
    "cleaned_tables_17_19 = [clean_text_data(table) for table in tables_17_19]\n",
    "cleaned_tables_22_24 = [clean_text_data(table) for table in tables_22_24]"
   ]
  },
  {
   "cell_type": "code",
   "execution_count": 3,
   "id": "f2e3676c-11e9-4c7a-9d5f-383ac94c3af2",
   "metadata": {},
   "outputs": [],
   "source": [
    "df_17_19 = cleaned_tables_17_19[1]\n",
    "df_22_24 = cleaned_tables_22_24[1]"
   ]
  },
  {
   "cell_type": "code",
   "execution_count": 12,
   "id": "977cf9e5-2e5f-480a-bd82-20056a19d505",
   "metadata": {},
   "outputs": [
    {
     "data": {
      "text/plain": [
       "Rank                                                                     1\n",
       "Movie                                                                  극한직\n",
       "Date                                                            2019-01-23\n",
       "Total Sales                                                   139640669516\n",
       "Sales Share                                                          0.039\n",
       "Cumulative Sales                                              139640669516\n",
       "Total Attendance                                                  16263525\n",
       "Cumulative Attendance                                             16263525\n",
       "Screen Count                                                          2003\n",
       "Show Count                                                          292556\n",
       "Country                                                                 한국\n",
       "Production Country                                                      한국\n",
       "Production Company                           (주)어바웃잇,영화사 해그림 주식회사,(주)씨제이이엔\n",
       "Distributor                                                       (주)씨제이이엔\n",
       "Level                                                             15세이상관람가\n",
       "Genre                                                                  코미디\n",
       "Director                                                               이병헌\n",
       "Actor                    류승룡,이하늬,진선규,이동휘,공명,양현민,장진희,한준우,김명준,나철,정재광,정원창,...\n",
       "Name: 0, dtype: object"
      ]
     },
     "execution_count": 12,
     "metadata": {},
     "output_type": "execute_result"
    }
   ],
   "source": [
    "df_17_19.loc[0,:]"
   ]
  },
  {
   "cell_type": "code",
   "execution_count": 13,
   "id": "c18fc66f-690a-4a84-9fd5-decbb37c153b",
   "metadata": {},
   "outputs": [],
   "source": [
    "columns = ['Rank', 'Movie', 'Date', 'Total Sales', 'Sales Share', 'Cumulative Sales', 'Total Attendance', 'Cumulative Attendance', 'Screen Count', 'Show Count', 'Country', 'Production Country', 'Production Company', 'Distributor', 'Level', 'Genre', 'Director', 'Actor']"
   ]
  },
  {
   "cell_type": "code",
   "execution_count": 14,
   "id": "0a446748-988f-4df8-8faf-af4ee042177b",
   "metadata": {},
   "outputs": [],
   "source": [
    "df_17_19.columns = columns\n",
    "df_22_24.columns = columns"
   ]
  },
  {
   "cell_type": "code",
   "execution_count": 15,
   "id": "1df682d7-0826-4fac-b285-50ab345f5931",
   "metadata": {},
   "outputs": [],
   "source": [
    "df_17_19.to_csv(\"영화정보_1719.csv\",index = False)\n",
    "df_22_24.to_csv(\"영화정보_2224.csv\",index = False)"
   ]
  },
  {
   "cell_type": "code",
   "execution_count": 25,
   "id": "e8a287a1-4fa1-4a4b-8a4d-65f1ef0ad2c3",
   "metadata": {},
   "outputs": [],
   "source": [
    "file_1719 = pd.read_csv('영화정보_1719.csv')\n",
    "file_2224 = pd.read_csv('영화정보_2224.csv')\n",
    "\n",
    "filtered_1719 = file_1719[file_1719['Total Attendance'] > 100000]\n",
    "filtered_2224 = file_2224[file_2224['Total Attendance'] > 100000]"
   ]
  },
  {
   "cell_type": "code",
   "execution_count": 26,
   "id": "a84a6ba9-a2ba-41b1-8645-955c3edc5e1d",
   "metadata": {},
   "outputs": [
    {
     "name": "stdout",
     "output_type": "stream",
     "text": [
      "(243, 18)\n",
      "(164, 18)\n"
     ]
    }
   ],
   "source": [
    "print(filtered_1719.shape)\n",
    "print(filtered_2224.shape)"
   ]
  },
  {
   "cell_type": "code",
   "execution_count": 27,
   "id": "8db44cb0-127c-4590-98e5-1d55f9e6a1e3",
   "metadata": {},
   "outputs": [
    {
     "data": {
      "text/plain": [
       "<bound method DataFrame.reset_index of      Rank       Movie        Date    Total Sales  Sales Share  \\\n",
       "0       1         극한직  2019-01-23   139640669516        0.039   \n",
       "1       2   신과함께-죄와 벌  2017-12-20   115706080137        0.032   \n",
       "2       3  어벤져스: 엔드게임  2019-04-24   122092503670        0.034   \n",
       "3       4   신과함께-인과 연  2018-08-01   102676333909        0.029   \n",
       "4       5       택시운전사  2017-08-02    95842642649        0.027   \n",
       "...   ...         ...         ...            ...          ...   \n",
       "238   239      라스트 미션  2019-03-14      837108639        0.000   \n",
       "239   240        기방도령  2019-07-10      776625210        0.000   \n",
       "240   241         게이트  2018-02-28      821271100        0.000   \n",
       "241   242      미니특공대X  2018-03-22      746262200        0.000   \n",
       "6526   합계         NaN         NaN  3586369392439          NaN   \n",
       "\n",
       "      Cumulative Sales  Total Attendance  Cumulative Attendance  Screen Count  \\\n",
       "0         139640669516          16263525               16263525          2003   \n",
       "1         115706080137          14411502               14411502          1912   \n",
       "2         122092503670          13924001               13924001          2835   \n",
       "3         102676333909          12276115               12276115          2235   \n",
       "4          95869480649          12185107               12189325          1906   \n",
       "...                ...               ...                    ...           ...   \n",
       "238          837108639            101465                 101465           472   \n",
       "239          776625210            101406                 101406           625   \n",
       "240          821271100            101381                 101381           208   \n",
       "241          746262200            100164                 100164           458   \n",
       "6526     8322906892795         430980506             1055452768        256824   \n",
       "\n",
       "      Show Count Country Production Country             Production Company  \\\n",
       "0         292556      한국                 한국  (주)어바웃잇,영화사 해그림 주식회사,(주)씨제이이엔   \n",
       "1         213262      한국                 한국         리얼라이즈픽쳐스(주),(주)덱스터스튜디오   \n",
       "2         241645      미국                 미국                            NaN   \n",
       "3         179986      한국                 한국         리얼라이즈픽쳐스(주),(주)덱스터스튜디오   \n",
       "4         184134      한국                 한국                         더램프(주)   \n",
       "...          ...     ...                ...                            ...   \n",
       "238         8614      미국                 미국                            NaN   \n",
       "239         5154      한국                 한국         주식회사 브레인샤워,(주)제이와이피픽쳐스   \n",
       "240         5474      한국                 한국                      삼삼공구 브라더스   \n",
       "241         5452      한국                 한국                (주)에스에이엠지엔터테인먼트   \n",
       "6526    11945983     NaN                NaN                            NaN   \n",
       "\n",
       "             Distributor     Level    Genre     Director  \\\n",
       "0               (주)씨제이이엔  15세이상관람가      코미디          이병헌   \n",
       "1          롯데쇼핑㈜롯데엔터테인먼트  12세이상관람가  판타지,드라마          김용화   \n",
       "2     월트디즈니컴퍼니코리아 유한책임회사  12세이상관람가    액션,SF  안소니 루소,조 루소   \n",
       "3      롯데컬처웍스(주)롯데엔터테인먼트  12세이상관람가  판타지,드라마          김용화   \n",
       "4                 (주)쇼박스  15세이상관람가      드라마           장훈   \n",
       "...                  ...       ...      ...          ...   \n",
       "238        워너브러더스 코리아(주)  15세이상관람가      드라마    클린트 이스트우드   \n",
       "239              판씨네마(주)  15세이상관람가   코미디,사극          남대중   \n",
       "240         (주)제이앤씨미디어그룹  15세이상관람가   범죄,코미디          신재호   \n",
       "241      (주)에스에이엠지엔터테인먼트     전체관람가    애니메이션          이영준   \n",
       "6526                 NaN       NaN      NaN          NaN   \n",
       "\n",
       "                                                  Actor  \n",
       "0     류승룡,이하늬,진선규,이동휘,공명,양현민,장진희,한준우,김명준,나철,정재광,정원창,...  \n",
       "1     하정우,차태현,주지훈,김향기,김동욱,오달수,임원희,도경수,이준혁,예수정,장광,정해균...  \n",
       "2     로버트 다우니 주니어,크리스 에반스,마크 러팔로,크리스 헴스워스,스칼렛 요한슨,제레...  \n",
       "3     하정우,주지훈,김향기,마동석,김동욱,도경수,이준혁,정지훈,김동욱,조한철,장광,이정재...  \n",
       "4     이수민,송강호,토마스 크레취만,유해진,류준열,박혁권,최귀화,이창섭,이호균,송병철,안...  \n",
       "...                                                 ...  \n",
       "238                    클린트 이스트우드,타이사 파미가,브래들리 쿠퍼,마이클 페나  \n",
       "239   이준호,정소민,최귀화,예지원,공명,장세아,조이현,김동영,이일화,이상희,나승용,남선중...  \n",
       "240   정려원,임창정,정상훈,이경영,이문식,이세랑,윤송아,이수아,김지성,김보민,김보민,김연...  \n",
       "241                             엄상현,전태열,이소영,신용우,이민규,이소영  \n",
       "6526                                                NaN  \n",
       "\n",
       "[243 rows x 18 columns]>"
      ]
     },
     "execution_count": 27,
     "metadata": {},
     "output_type": "execute_result"
    }
   ],
   "source": [
    "filtered_2224.reset_index\n",
    "filtered_1719.reset_index"
   ]
  },
  {
   "cell_type": "code",
   "execution_count": 28,
   "id": "9ab5ffa6-8438-4410-a5c4-2a59a88c14b2",
   "metadata": {},
   "outputs": [
    {
     "data": {
      "text/plain": [
       "(67643709.70840362, 70004143.712142)"
      ]
     },
     "execution_count": 28,
     "metadata": {},
     "output_type": "execute_result"
    }
   ],
   "source": [
    "std_dev_1719 = filtered_1719['Cumulative Attendance'].std()\n",
    "std_dev_2224 = filtered_2224['Cumulative Attendance'].std()\n",
    "\n",
    "std_dev_1719, std_dev_2224"
   ]
  },
  {
   "cell_type": "code",
   "execution_count": 24,
   "id": "f3d209ef-91a6-4d32-8c7f-fd0c1d0acd79",
   "metadata": {},
   "outputs": [
    {
     "name": "stdout",
     "output_type": "stream",
     "text": [
      "(204, 18)\n",
      "(130, 18)\n"
     ]
    },
    {
     "data": {
      "text/plain": [
       "(73801336.10610436, 78594130.87173954)"
      ]
     },
     "execution_count": 24,
     "metadata": {},
     "output_type": "execute_result"
    }
   ],
   "source": [
    "filtered_1719_v2 = file_1719[file_1719['Total Attendance'] > 200000]\n",
    "filtered_2224_v2 = file_2224[file_2224['Total Attendance'] > 200000]\n",
    "\n",
    "print(filtered_1719_v2.shape)\n",
    "print(filtered_2224_v2.shape)\n",
    "\n",
    "filtered_2224_v2.reset_index\n",
    "filtered_1719_v2.reset_index\n",
    "\n",
    "std_dev_1719_v2 = filtered_1719_v2['Cumulative Attendance'].std()\n",
    "std_dev_2224_v2 = filtered_2224_v2['Cumulative Attendance'].std()\n",
    "\n",
    "std_dev_1719_v2, std_dev_2224_v2"
   ]
  },
  {
   "cell_type": "markdown",
   "id": "56649b0c-9281-4170-9c26-03f78e4a0f15",
   "metadata": {},
   "source": [
    "### 10만명 이상, 20만명 이상 관람 영화 기준 표준편차를 비교해본 결과, 22~24년의 표준편차가 더 크다는 결과를 얻을 수 있음."
   ]
  },
  {
   "cell_type": "code",
   "execution_count": 21,
   "id": "c541c11d-7c04-4530-ba22-8037a15e1d6d",
   "metadata": {},
   "outputs": [],
   "source": [
    "filtered_1719 = filtered_1719.iloc[:-1,:]\n",
    "filtered_2224 = filtered_2224.iloc[:-1,:]"
   ]
  },
  {
   "cell_type": "code",
   "execution_count": 101,
   "id": "81f30427-c507-4748-9091-d33e0311e4a2",
   "metadata": {},
   "outputs": [],
   "source": [
    "filtered_1719.to_csv(\"영화정보_1719_최종.csv\", encoding = 'cp949', index = False)\n",
    "filtered_2224.to_csv(\"영화정보_2224_최종.csv\", encoding = 'cp949', index = False)"
   ]
  },
  {
   "cell_type": "code",
   "execution_count": 99,
   "id": "cf12e0ec-8b51-4264-88ce-7cbb4331069d",
   "metadata": {},
   "outputs": [
    {
     "name": "stdout",
     "output_type": "stream",
     "text": [
      "0.7448559670781894\n",
      "0.8170731707317073\n"
     ]
    }
   ],
   "source": [
    "#우선 10만명 이상 관람, 200만명 이하로 관람한 영화들의 비율을 계산해봄.\n",
    "#이 기준을 우선적으로 흥행하지 못한 영화로 분류. (후에 흥행 여부 칼럼 추가)\n",
    "#흥행하지 못한 영화의 비율이 22~24년 기준으로 훨씬 높았음.\n",
    "\n",
    "filtered_range_1719 = filtered_1719[(filtered_1719['Total Attendance'] > 100000) & (filtered_1719['Total Attendance'] < 2000000)]\n",
    "filtered_range_2224 = filtered_2224[(filtered_2224['Total Attendance'] > 100000) & (filtered_2224['Total Attendance'] < 2000000)]\n",
    "\n",
    "count_1719 = filtered_range_1719.shape[0]\n",
    "count_2224 = filtered_range_2224.shape[0]\n",
    "\n",
    "count_1719, count_2224\n",
    "\n",
    "print(filtered_range_1719.shape[0]/filtered_1719.shape[0])\n",
    "print(filtered_range_2224.shape[0]/filtered_2224.shape[0])"
   ]
  },
  {
   "cell_type": "code",
   "execution_count": 91,
   "id": "8cc230f9-e693-4d36-a1c5-b96b5c76dba4",
   "metadata": {},
   "outputs": [
    {
     "data": {
      "image/png": "[encoded data removed]",
      "text/plain": [
       "<Figure size 1400x700 with 2 Axes>"
      ]
     },
     "metadata": {},
     "output_type": "display_data"
    }
   ],
   "source": [
    "plt.figure(figsize=(14, 7))\n",
    "\n",
    "plt.subplot(1, 2, 1)\n",
    "plt.hist(filtered_1719['Total Attendance'], bins=30, color='blue', edgecolor='black')\n",
    "plt.title('Distribution of Total Attendance (2017-2019)')\n",
    "plt.xlabel('Total Attendance')\n",
    "plt.ylabel('Frequency')\n",
    "plt.ylim(0, 150)\n",
    "plt.xlim(0, 15000000)\n",
    "\n",
    "plt.subplot(1, 2, 2)\n",
    "plt.hist(filtered_2224['Total Attendance'], bins=30, color='green', edgecolor='black')\n",
    "plt.title('Distribution of Total Attendance (2022-2024)')\n",
    "plt.xlabel('Total Attendance')\n",
    "plt.ylabel('Frequency')\n",
    "plt.ylim(0, 150)\n",
    "plt.xlim(0, 15000000)\n",
    "\n",
    "plt.tight_layout()\n",
    "plt.show()\n"
   ]
  },
  {
   "cell_type": "markdown",
   "id": "3964d621-d779-4934-bba7-a84225eb982f",
   "metadata": {},
   "source": []
  },
  {
   "cell_type": "code",
   "execution_count": null,
   "id": "61bf3acc-a7b0-47ea-95de-f56a6d0b0efb",
   "metadata": {},
   "outputs": [],
   "source": []
  }
 ],
 "metadata": {
  "kernelspec": {
   "display_name": "Python 3 (ipykernel)",
   "language": "python",
   "name": "python3"
  },
  "language_info": {
   "codemirror_mode": {
    "name": "ipython",
    "version": 3
   },
   "file_extension": ".py",
   "mimetype": "text/x-python",
   "name": "python",
   "nbconvert_exporter": "python",
   "pygments_lexer": "ipython3",
   "version": "3.9.13"
  }
 },
 "nbformat": 4,
 "nbformat_minor": 5
}
