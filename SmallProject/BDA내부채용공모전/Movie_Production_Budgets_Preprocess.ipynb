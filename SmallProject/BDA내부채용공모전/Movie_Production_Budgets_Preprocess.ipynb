{
 "cells": [
  {
   "cell_type": "markdown",
   "metadata": {
    "tags": []
   },
   "source": [
    "## 제작비 구글을 통해 직접 수집 후 흥행 여부 판단"
   ]
  },
  {
   "cell_type": "code",
   "execution_count": 2,
   "metadata": {
    "executionInfo": {
     "elapsed": 342,
     "status": "ok",
     "timestamp": 1719818133499,
     "user": {
      "displayName": "김정현",
      "userId": "08330403295617770299"
     },
     "user_tz": -540
    },
    "id": "5CrkS_Dg2HZg"
   },
   "outputs": [],
   "source": [
    "production_budgets = [{'title': '서울의 봄', 'budget': '233'},\n",
    " {'title': '범죄도시2', 'budget': '130'},\n",
    " {'title': '파묘', 'budget': '140'},\n",
    " {'title': '아바타: 물의 길', 'budget': '25000'},\n",
    " {'title': '범죄도시3', 'budget': '135'},\n",
    " {'title': '범죄도시4', 'budget': '140'},\n",
    " {'title': '탑건: 매버릭', 'budget': '17000'},\n",
    " {'title': '한산: 용의 출현', 'budget': '312'},\n",
    " {'title': '엘리멘탈', 'budget': '20000'},\n",
    " {'title': '공조2: 인터내셔', 'budget': '155'},\n",
    " {'title': '밀수', 'budget': '175'},\n",
    " {'title': '더 퍼스트 슬램덩크', 'budget': '200'},\n",
    " {'title': '노량: 죽음의 바다', 'budget': '312'},\n",
    " {'title': '헌트', 'budget': '250'},\n",
    " {'title': '가디언즈 오브 갤럭시: Volume 3', 'budget': '25000'},\n",
    " {'title': '미션 임파서블: 데드 레코닝 PART ONE', 'budget': '22000'},\n",
    " {'title': '콘크리트 유토피아', 'budget': '220'},\n",
    " {'title': '웡카', 'budget': '12500'},\n",
    " {'title': '올빼미', 'budget': '90'},\n",
    " {'title': '영', 'budget': '140'}, #영웅\n",
    " {'title': '오펜하이머', 'budget': '10000'},\n",
    " {'title': '쥬라기 월드: 도미니언', 'budget': '18500'},\n",
    " {'title': '마녀(魔女) Part2. The Other One', 'budget': '105'},\n",
    " {'title': '토르: 러브 앤 썬더', 'budget': '25000'},\n",
    " {'title': '슈퍼 마리오 브라더스', 'budget': '10000'},\n",
    " {'title': '미니언즈2', 'budget': '8000'},\n",
    " {'title': '30일', 'budget': '80'},\n",
    " {'title': '블랙 팬서: 와칸다 포에버', 'budget': '25000'},\n",
    " {'title': '비상선언', 'budget': '300'},\n",
    " {'title': '듄: 파트2', 'budget': '19000'},\n",
    " {'title': '육사오(6/45)', 'budget': '50'},\n",
    " {'title': '존  4', 'budget': '9000'},\n",
    " {'title': '천박사 퇴마 연구소: 설경의 비밀', 'budget': '113'},\n",
    " {'title': '헤어질 결심', 'budget': '130'},\n",
    " {'title': '분노의 질주: 라이드 오어 다이', 'budget': '34000'},\n",
    " {'title': '쿵푸팬더4', 'budget': '8500'},\n",
    " {'title': '교섭', 'budget': '150'},\n",
    " {'title': '시민덕희', 'budget': '65'},\n",
    " {'title': '앤트맨과 와스프: 퀀텀매니아', 'budget': '13000'},\n",
    " {'title': '외계+인 1부', 'budget': '360'},\n",
    " {'title': '잠', 'budget': '50'}, #잠\n",
    " {'title': '외계+인 2부', 'budget': '340'},\n",
    " {'title': '위시', 'budget': '20000'},\n",
    " {'title': '달짝지근해: 7510', 'budget': '65'},\n",
    " {'title': '브로커', 'budget': '90'},\n",
    " {'title': '건국전쟁', 'budget': '3'},\n",
    " {'title': '인생은 아름다워', 'budget': '117'},\n",
    " {'title': '드림', 'budget': '139'},\n",
    " {'title': '비공식작전', 'budget': '200'},\n",
    " {'title': '1947 보스톤', 'budget': '210'},\n",
    " {'title': '댓글부대', 'budget': '70'},\n",
    " {'title': '신차원! 짱구는 못말려 더 무비 초능력 대결전 ~날아라 수제김밥~', 'budget': '90'},\n",
    " {'title': '스파이더맨: 어크로스 더 유니버스', 'budget': '10000'},\n",
    " {'title': '데시벨', 'budget': '120'},\n",
    " {'title': '정직한 후보2', 'budget': '60'},\n",
    " {'title': '닥터 스트레인지: 대혼돈의 멀티버스', 'budget': '25000'},\n",
    " {'title': '아쿠아맨과 로스트 킹덤', 'budget': '21000'},\n",
    " {'title': '인디아나 존스: 운명의 다이얼', 'budget': '29500'},\n",
    " {'title': '극장판 짱구는 못말려: 수수께끼! 꽃피는 천하떡잎학교', 'budget': '90'},\n",
    " {'title': '장화신은 고양이: 끝내주는 모험', 'budget': '8500'},\n",
    " {'title': '명탐정코난: 흑철의 어영', 'budget': '180'},\n",
    " {'title': '블랙 아담', 'budget': '26000'},\n",
    " {'title': '트랜스포머: 비스트의 서막', 'budget': '20000'},\n",
    " {'title': '대외비', 'budget': '102'},\n",
    " {'title': '자백', 'budget': '79'},\n",
    " {'title': '극장판 짱구는 못말려: 동물소환 닌자 배꼽수비대', 'budget': '90'},\n",
    " {'title': '프레디의 피자가게', 'budget': '2000'},\n",
    " {'title': '리바운드', 'budget': '70'},\n",
    " {'title': '더 마블스', 'budget': '22000'},\n",
    " {'title': '귀공자', 'budget': '100'},\n",
    " {'title': '유령', 'budget': '137'},\n",
    " {'title': '인어공주', 'budget': '25000'},\n",
    " {'title': '플래시', 'budget': '22000'},\n",
    " {'title': '혹성탈출: 새로운 시대', 'budget': '16000'},\n",
    " {'title': '압꾸정', 'budget': '99'},\n",
    " {'title': '바비', 'budget': '14500'},\n",
    " {'title': '극장판 포켓몬스터DP: 기라티나와 하늘의 꽃다발 쉐이미', 'budget': '180'},\n",
    " {'title': '귀멸의 칼날: 상현집결, 그리 도공 마을로', 'budget': '200'},\n",
    " {'title': '3일의 휴가', 'budget': '20'},\n",
    " {'title': '더 문', 'budget': '280'},\n",
    " {'title': '고질라 X 콩: 뉴 엠파이어', 'budget': '13500'},\n",
    " {'title': '귀멸의 칼날: 인연의 기적, 그리 합동 강화 훈련으로', 'budget': '200'},\n",
    " {'title': '명탐정 코난: 할로윈의 신부', 'budget': '180'},\n",
    " {'title': '동감', 'budget': '30'},\n",
    " {'title': '소년들', 'budget': '100'},\n",
    " {'title': '늑대사냥', 'budget': '130'},\n",
    " {'title': '뽀로로 극장판 드래곤캐슬 대모험', 'budget': '20'},\n",
    " {'title': '신비아파트 극장판 차원도깨비와 7개의 세계', 'budget': '20'},\n",
    " {'title': '타겟', 'budget': '45'},\n",
    " {'title': '스위치', 'budget': '48'},\n",
    " {'title': '놉', 'budget': '6800'},\n",
    " {'title': '서치 2', 'budget': '700'},\n",
    " {'title': '리멤버', 'budget': '50'},\n",
    " {'title': '트롤: 밴드 투게더', 'budget': '9500'},\n",
    " {'title': '인시디어스: 빨간 문', 'budget': '1600'},\n",
    " {'title': '싱글 인 서울', 'budget': '45'},\n",
    " {'title': '카운트', 'budget': '50'},\n",
    " {'title': '뽀로로 극장판 슈퍼스타 대모험', 'budget': '10'},\n",
    " {'title': '상견니', 'budget': '30'},\n",
    " {'title': '도그데이즈', 'budget': '82'},\n",
    " {'title': '더 넌 2', 'budget': '3900'},\n",
    " {'title': '탄생', 'budget': '150'},\n",
    " {'title': '인투 더 월드', 'budget': '7200'},\n",
    " {'title': '버즈 라이트이어', 'budget': '20000'},\n",
    " {'title': '웅남이', 'budget': '40'},\n",
    " {'title': '거미집', 'budget': '96'},\n",
    " {'title': '던전 앤 드래곤: 도적들의 명예', 'budget': '15000'},\n",
    " {'title': '극장판 스파이 패밀리 코드 : 화이트', 'budget': '30'},\n",
    " {'title': '용감한 시민', 'budget': '80'},\n",
    " {'title': '화란', 'budget': '38'},\n",
    " {'title': '크리에이터', 'budget': '8000'},\n",
    " {'title': '옥수역귀', 'budget': '30'}, #옥수역귀신\n",
    " {'title': '아임 히어로 더 파이널', 'budget': '3'},\n",
    " {'title': 'DC 리그 오브 슈퍼-펫', 'budget': '9000'},\n",
    " {'title': '포켓 몬스터 DP: 아르세우스 초극의 시공으로', 'budget': '180'},\n",
    " {'title': '데드맨', 'budget': '75'},\n",
    " {'title': '소울메이트', 'budget': '45'},\n",
    " {'title': '극장판 헬로카봇: 수상한 마술단의 비밀', 'budget': '10'},\n",
    " {'title': '메간', 'budget': '1200'},\n",
    " {'title': '아바타 리마스터링', 'budget': '40000'},\n",
    " {'title': '나폴레옹', 'budget': '13000'},\n",
    " {'title': ' 틀맨', 'budget': '50'}, #젠틀맨\n",
    " {'title': '극장판 뽀로로와 친구들: 바이러스를 없애줘!', 'budget': '10'},\n",
    " {'title': '바빌', 'budget': '8000'}, #바빌론\n",
    " {'title': '스턴트맨', 'budget': '12500'},\n",
    " {'title': '원피스 필름 레드', 'budget': '200'},\n",
    " {'title': '베니스 유령 살인사건', 'budget': '6000'},\n",
    " {'title': '극장판 하이큐!! 쓰레기장의 결전', 'budget': '30'},\n",
    " {'title': '브레드이발소: 셀럽 인 베이커리타운', 'budget': '10'},\n",
    " {'title': '멍뭉이', 'budget': '30'},\n",
    " {'title': '킬링 로맨스', 'budget': '76'},\n",
    " {'title': '헝거게임: 노래하는 새와 뱀의 발라드', 'budget': '10000'},\n",
    " {'title': '오멘: 저주의 시작', 'budget': '3000'},\n",
    " {'title': '오펀: 천사의 탄생', 'budget': '1000'},\n",
    " {'title': '극장판 엄마 까투리: 도시로 간 까투리 가족', 'budget': '10'},\n",
    " {'title': '퍼피 구조대: 더 마이티 무비', 'budget': '20'},\n",
    " {'title': '플라워 킬링 문', 'budget': '20000'},\n",
    " {'title': '가문의 영광: 리턴즈', 'budget': '40'},\n",
    " {'title': '마루이 비디오', 'budget': '30'},\n",
    "{'title': '포켓몬스터: 성도지방 이야기, 최종장', 'budget': '150'},\n",
    " {'title': '그녀가 죽었다', 'budget': '70'},\n",
    " {'title': '불릿 트레인', 'budget': '8590'},\n",
    " {'title': '눈의 여왕5: 스노우 프린세스와 미러랜드의 비밀', 'budget': '20'},\n",
    " {'title': '극장판 엉덩이 탐정: 미스터리 가면 ~최강의 대결', 'budget': '10'},\n",
    " {'title': '아가일', 'budget': '20000'},\n",
    " {'title': '극장판 슈퍼윙스: 맥시멈 스피드', 'budget': '20'},\n",
    " {'title': '보호자', 'budget': '80'},\n",
    " {'title': '패스트 라이브즈', 'budget': '500'},\n",
    " {'title': '두다다쿵: 후후섬의 비밀', 'budget': '10'},\n",
    " {'title': '메가로돈 2', 'budget': '12900'},\n",
    " {'title': '너의 이름은.', 'budget': '37'},\n",
    " {'title': '그란 투리스모', 'budget': '6000'},\n",
    " {'title': '말하 싶은 비밀', 'budget': '30'}, #말하고 싶은 비밀\n",
    " {'title': '스트레인지 월드', 'budget': '12000'},\n",
    " {'title': '에브리씽 에브리웨어 올 앳 원스+', 'budget': '1430'},\n",
    " {'title': '캐리와 슈퍼콜라', 'budget': '10'},\n",
    " {'title': '에어', 'budget': '7000'},\n",
    " {'title': '가필드 더 무비', 'budget': '6000'},\n",
    " {'title': '블랙폰', 'budget': '1700'},\n",
    " {'title': '스마일', 'budget': '1700'},\n",
    " {'title': '뉴 노멀', 'budget': '38'},\n",
    " {'title': '비키퍼', 'budget': '4000'},\n",
    " {'title': '엘비스', 'budget': '8500'},]"
   ]
  },
  {
   "cell_type": "code",
   "execution_count": 3,
   "metadata": {
    "executionInfo": {
     "elapsed": 334,
     "status": "ok",
     "timestamp": 1719817973413,
     "user": {
      "displayName": "김정현",
      "userId": "08330403295617770299"
     },
     "user_tz": -540
    },
    "id": "FGm7_Bo9Ipgk"
   },
   "outputs": [],
   "source": [
    "import pandas as pd\n",
    "\n",
    "df = pd.read_csv('영화정보_2224_최종.csv', encoding = 'cp949')"
   ]
  },
  {
   "cell_type": "code",
   "execution_count": 4,
   "metadata": {
    "executionInfo": {
     "elapsed": 346,
     "status": "ok",
     "timestamp": 1719817992215,
     "user": {
      "displayName": "김정현",
      "userId": "08330403295617770299"
     },
     "user_tz": -540
    },
    "id": "J13iHzxtIp4o"
   },
   "outputs": [],
   "source": [
    "#마지막열은 합산이라 제외\n",
    "df = df.iloc[:-1,:]"
   ]
  },
  {
   "cell_type": "code",
   "execution_count": 5,
   "metadata": {
    "executionInfo": {
     "elapsed": 323,
     "status": "ok",
     "timestamp": 1719818138830,
     "user": {
      "displayName": "김정현",
      "userId": "08330403295617770299"
     },
     "user_tz": -540
    },
    "id": "rLR7zpsNIywJ"
   },
   "outputs": [],
   "source": [
    "budgets = [movie['budget'] for movie in production_budgets]\n",
    "df['Production Budgets'] = budgets"
   ]
  },
  {
   "cell_type": "code",
   "execution_count": 6,
   "metadata": {
    "colab": {
     "base_uri": "https://localhost:8080/"
    },
    "executionInfo": {
     "elapsed": 348,
     "status": "ok",
     "timestamp": 1719818266050,
     "user": {
      "displayName": "김정현",
      "userId": "08330403295617770299"
     },
     "user_tz": -540
    },
    "id": "URNPXAnEI5mR",
    "outputId": "9111cd19-f66c-441d-9466-9a668600e1cc"
   },
   "outputs": [
    {
     "name": "stderr",
     "output_type": "stream",
     "text": [
      "C:\\Users\\kkksk\\AppData\\Local\\Temp\\ipykernel_12820\\3055765510.py:1: SettingWithCopyWarning: \n",
      "A value is trying to be set on a copy of a slice from a DataFrame.\n",
      "Try using .loc[row_indexer,col_indexer] = value instead\n",
      "\n",
      "See the caveats in the documentation: https://pandas.pydata.org/pandas-docs/stable/user_guide/indexing.html#returning-a-view-versus-a-copy\n",
      "  df[df['Movie']=='영']['Movie'] = '영웅'\n"
     ]
    }
   ],
   "source": [
    "df[df['Movie']=='영']['Movie'] = '영웅'"
   ]
  },
  {
   "cell_type": "code",
   "execution_count": 7,
   "metadata": {
    "executionInfo": {
     "elapsed": 393,
     "status": "ok",
     "timestamp": 1719818656139,
     "user": {
      "displayName": "김정현",
      "userId": "08330403295617770299"
     },
     "user_tz": -540
    },
    "id": "gLU8QgX_JK4B"
   },
   "outputs": [],
   "source": [
    "#환율 적용\n",
    "df['Production Budgets'] = pd.to_numeric(df['Production Budgets'])\n",
    "\n",
    "df.loc[df['Country'] == '미국', 'Production Budgets'] *= 0.13"
   ]
  },
  {
   "cell_type": "code",
   "execution_count": 12,
   "metadata": {
    "executionInfo": {
     "elapsed": 370,
     "status": "ok",
     "timestamp": 1719819023650,
     "user": {
      "displayName": "김정현",
      "userId": "08330403295617770299"
     },
     "user_tz": -540
    },
    "id": "KJRSe1HYKFwH"
   },
   "outputs": [],
   "source": [
    "#제작비의 2배 이상을 벌어들이지 못했다면 흥행 실패로 판단\n",
    "import numpy as np\n",
    "\n",
    "df['Success'] = np.where(df['Country'] == '한국', df['Cumulative Sales'] > df['Production Budgets'] * 200000000, np.nan)"
   ]
  },
  {
   "cell_type": "code",
   "execution_count": 13,
   "metadata": {
    "colab": {
     "base_uri": "https://localhost:8080/",
     "height": 1000
    },
    "executionInfo": {
     "elapsed": 491,
     "status": "ok",
     "timestamp": 1719819027356,
     "user": {
      "displayName": "김정현",
      "userId": "08330403295617770299"
     },
     "user_tz": -540
    },
    "id": "ZNTI542QLKEH",
    "outputId": "f7cb748b-5e6e-4761-c43a-ad0637ae6254"
   },
   "outputs": [
    {
     "data": {
      "text/html": [
       "<div>\n",
       "<style scoped>\n",
       "    .dataframe tbody tr th:only-of-type {\n",
       "        vertical-align: middle;\n",
       "    }\n",
       "\n",
       "    .dataframe tbody tr th {\n",
       "        vertical-align: top;\n",
       "    }\n",
       "\n",
       "    .dataframe thead th {\n",
       "        text-align: right;\n",
       "    }\n",
       "</style>\n",
       "<table border=\"1\" class=\"dataframe\">\n",
       "  <thead>\n",
       "    <tr style=\"text-align: right;\">\n",
       "      <th></th>\n",
       "      <th>Rank</th>\n",
       "      <th>Movie</th>\n",
       "      <th>Date</th>\n",
       "      <th>Total Sales</th>\n",
       "      <th>Sales Share</th>\n",
       "      <th>Cumulative Sales</th>\n",
       "      <th>Total Attendance</th>\n",
       "      <th>Cumulative Attendance</th>\n",
       "      <th>Screen Count</th>\n",
       "      <th>Show Count</th>\n",
       "      <th>Country</th>\n",
       "      <th>Production Country</th>\n",
       "      <th>Production Company</th>\n",
       "      <th>Distributor</th>\n",
       "      <th>Level</th>\n",
       "      <th>Genre</th>\n",
       "      <th>Director</th>\n",
       "      <th>Actor</th>\n",
       "      <th>Production Budgets</th>\n",
       "      <th>Success</th>\n",
       "    </tr>\n",
       "  </thead>\n",
       "  <tbody>\n",
       "    <tr>\n",
       "      <th>0</th>\n",
       "      <td>1</td>\n",
       "      <td>서울의 봄</td>\n",
       "      <td>2023-11-22</td>\n",
       "      <td>127926589712</td>\n",
       "      <td>0.051</td>\n",
       "      <td>127926589712</td>\n",
       "      <td>13128020</td>\n",
       "      <td>13128020</td>\n",
       "      <td>2463</td>\n",
       "      <td>374531</td>\n",
       "      <td>한국</td>\n",
       "      <td>한국</td>\n",
       "      <td>(주)하이브미디어코프</td>\n",
       "      <td>플러스 엔터테인먼트</td>\n",
       "      <td>12세이상관람가</td>\n",
       "      <td>드라마</td>\n",
       "      <td>김성수</td>\n",
       "      <td>황정민,윤호림,이미라,정우성,이성민,박해준,김성균,김의성,정동환,안내상,유성주,최병...</td>\n",
       "      <td>233.0</td>\n",
       "      <td>1.0</td>\n",
       "    </tr>\n",
       "    <tr>\n",
       "      <th>1</th>\n",
       "      <td>2</td>\n",
       "      <td>범죄도시2</td>\n",
       "      <td>2022-05-18</td>\n",
       "      <td>129317928648</td>\n",
       "      <td>0.052</td>\n",
       "      <td>131298796478</td>\n",
       "      <td>12510481</td>\n",
       "      <td>12693415</td>\n",
       "      <td>2521</td>\n",
       "      <td>353993</td>\n",
       "      <td>한국</td>\n",
       "      <td>한국</td>\n",
       "      <td>주식회사 빅펀치픽쳐스,(주)홍필름,(주)비에이엔터테인먼트</td>\n",
       "      <td>주식회사 에이비오엔터테인먼트,플러스 엔터테인먼트</td>\n",
       "      <td>15세이상관람가</td>\n",
       "      <td>범죄,액션</td>\n",
       "      <td>이상용</td>\n",
       "      <td>마동석,손석구,최귀화,박지환,허동원,하준,정재광,남문철,박지영,이주원,음문석,김찬형...</td>\n",
       "      <td>130.0</td>\n",
       "      <td>1.0</td>\n",
       "    </tr>\n",
       "    <tr>\n",
       "      <th>2</th>\n",
       "      <td>3</td>\n",
       "      <td>파묘</td>\n",
       "      <td>2024-02-22</td>\n",
       "      <td>115063079635</td>\n",
       "      <td>0.046</td>\n",
       "      <td>115063079635</td>\n",
       "      <td>11904253</td>\n",
       "      <td>11904253</td>\n",
       "      <td>2367</td>\n",
       "      <td>363781</td>\n",
       "      <td>한국</td>\n",
       "      <td>한국</td>\n",
       "      <td>(주)쇼박스</td>\n",
       "      <td>(주)쇼박스</td>\n",
       "      <td>15세이상관람가</td>\n",
       "      <td>미스터리,공포(호러)</td>\n",
       "      <td>장재현</td>\n",
       "      <td>최민식,김고은,유해진,이도현,김재철,김민준,김병오,전진기,박정자,박지일,이종구,이영...</td>\n",
       "      <td>140.0</td>\n",
       "      <td>1.0</td>\n",
       "    </tr>\n",
       "    <tr>\n",
       "      <th>3</th>\n",
       "      <td>4</td>\n",
       "      <td>아바타: 물의 길</td>\n",
       "      <td>2022-12-14</td>\n",
       "      <td>137647702899</td>\n",
       "      <td>0.055</td>\n",
       "      <td>137647702899</td>\n",
       "      <td>10805065</td>\n",
       "      <td>10805065</td>\n",
       "      <td>2809</td>\n",
       "      <td>283037</td>\n",
       "      <td>미국</td>\n",
       "      <td>미국</td>\n",
       "      <td>NaN</td>\n",
       "      <td>월트디즈니컴퍼니코리아 유한책임회사</td>\n",
       "      <td>12세이상관람가</td>\n",
       "      <td>액션,어드벤처,SF,스릴러</td>\n",
       "      <td>제임스 카메</td>\n",
       "      <td>조 샐다나,샘 워싱턴,시고니 위버,스티븐 랭,케이트 윈슬렛</td>\n",
       "      <td>3250.0</td>\n",
       "      <td>NaN</td>\n",
       "    </tr>\n",
       "    <tr>\n",
       "      <th>4</th>\n",
       "      <td>5</td>\n",
       "      <td>범죄도시3</td>\n",
       "      <td>2023-05-31</td>\n",
       "      <td>104687737771</td>\n",
       "      <td>0.042</td>\n",
       "      <td>104687737771</td>\n",
       "      <td>10682813</td>\n",
       "      <td>10682813</td>\n",
       "      <td>2582</td>\n",
       "      <td>311915</td>\n",
       "      <td>한국</td>\n",
       "      <td>한국</td>\n",
       "      <td>주식회사 빅펀치픽쳐스,(주)홍필름,(주)비에이엔터테인먼트</td>\n",
       "      <td>주식회사 에이비오엔터테인먼트,플러스 엔터테인먼트</td>\n",
       "      <td>15세이상관람가</td>\n",
       "      <td>범죄,액션</td>\n",
       "      <td>이상용</td>\n",
       "      <td>정호진,마동석,황순명,이준혁,아오키 무네타카,이범수,김민재,이지훈,김도건,고규필,전...</td>\n",
       "      <td>135.0</td>\n",
       "      <td>1.0</td>\n",
       "    </tr>\n",
       "  </tbody>\n",
       "</table>\n",
       "</div>"
      ],
      "text/plain": [
       "  Rank      Movie        Date   Total Sales  Sales Share  Cumulative Sales  \\\n",
       "0    1      서울의 봄  2023-11-22  127926589712        0.051      127926589712   \n",
       "1    2      범죄도시2  2022-05-18  129317928648        0.052      131298796478   \n",
       "2    3         파묘  2024-02-22  115063079635        0.046      115063079635   \n",
       "3    4  아바타: 물의 길  2022-12-14  137647702899        0.055      137647702899   \n",
       "4    5      범죄도시3  2023-05-31  104687737771        0.042      104687737771   \n",
       "\n",
       "   Total Attendance  Cumulative Attendance  Screen Count  Show Count Country  \\\n",
       "0          13128020               13128020          2463      374531      한국   \n",
       "1          12510481               12693415          2521      353993      한국   \n",
       "2          11904253               11904253          2367      363781      한국   \n",
       "3          10805065               10805065          2809      283037      미국   \n",
       "4          10682813               10682813          2582      311915      한국   \n",
       "\n",
       "  Production Country               Production Company  \\\n",
       "0                 한국                      (주)하이브미디어코프   \n",
       "1                 한국  주식회사 빅펀치픽쳐스,(주)홍필름,(주)비에이엔터테인먼트   \n",
       "2                 한국                           (주)쇼박스   \n",
       "3                 미국                              NaN   \n",
       "4                 한국  주식회사 빅펀치픽쳐스,(주)홍필름,(주)비에이엔터테인먼트   \n",
       "\n",
       "                  Distributor     Level           Genre Director  \\\n",
       "0                  플러스 엔터테인먼트  12세이상관람가             드라마      김성수   \n",
       "1  주식회사 에이비오엔터테인먼트,플러스 엔터테인먼트  15세이상관람가           범죄,액션      이상용   \n",
       "2                      (주)쇼박스  15세이상관람가     미스터리,공포(호러)      장재현   \n",
       "3          월트디즈니컴퍼니코리아 유한책임회사  12세이상관람가  액션,어드벤처,SF,스릴러   제임스 카메   \n",
       "4  주식회사 에이비오엔터테인먼트,플러스 엔터테인먼트  15세이상관람가           범죄,액션      이상용   \n",
       "\n",
       "                                               Actor  Production Budgets  \\\n",
       "0  황정민,윤호림,이미라,정우성,이성민,박해준,김성균,김의성,정동환,안내상,유성주,최병...               233.0   \n",
       "1  마동석,손석구,최귀화,박지환,허동원,하준,정재광,남문철,박지영,이주원,음문석,김찬형...               130.0   \n",
       "2  최민식,김고은,유해진,이도현,김재철,김민준,김병오,전진기,박정자,박지일,이종구,이영...               140.0   \n",
       "3                   조 샐다나,샘 워싱턴,시고니 위버,스티븐 랭,케이트 윈슬렛              3250.0   \n",
       "4  정호진,마동석,황순명,이준혁,아오키 무네타카,이범수,김민재,이지훈,김도건,고규필,전...               135.0   \n",
       "\n",
       "   Success  \n",
       "0      1.0  \n",
       "1      1.0  \n",
       "2      1.0  \n",
       "3      NaN  \n",
       "4      1.0  "
      ]
     },
     "execution_count": 13,
     "metadata": {},
     "output_type": "execute_result"
    }
   ],
   "source": [
    "df.head()"
   ]
  },
  {
   "cell_type": "code",
   "execution_count": 10,
   "metadata": {
    "executionInfo": {
     "elapsed": 4,
     "status": "ok",
     "timestamp": 1719819123470,
     "user": {
      "displayName": "김정현",
      "userId": "08330403295617770299"
     },
     "user_tz": -540
    },
    "id": "4_ExQCKfNMdr"
   },
   "outputs": [],
   "source": [
    "df.to_csv(\"영화정보_2224_흥행여부추가.csv\",index = False)"
   ]
  }
 ],
 "metadata": {
  "colab": {
   "authorship_tag": "ABX9TyOb9CMax9Adf6LJxcO5LNcy",
   "provenance": []
  },
  "kernelspec": {
   "display_name": "Python 3 (ipykernel)",
   "language": "python",
   "name": "python3"
  },
  "language_info": {
   "codemirror_mode": {
    "name": "ipython",
    "version": 3
   },
   "file_extension": ".py",
   "mimetype": "text/x-python",
   "name": "python",
   "nbconvert_exporter": "python",
   "pygments_lexer": "ipython3",
   "version": "3.9.13"
  }
 },
 "nbformat": 4,
 "nbformat_minor": 4
}
