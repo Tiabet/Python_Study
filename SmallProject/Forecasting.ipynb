{
 "cells": [
  {
   "cell_type": "markdown",
   "id": "c231fdf6-7bb3-4335-88db-8c7bb0a4d7e1",
   "metadata": {},
   "source": [
    "1번"
   ]
  },
  {
   "cell_type": "code",
   "execution_count": 1,
   "id": "1ddd4a37-9f30-4cd9-8026-b89d6a6fd9b4",
   "metadata": {},
   "outputs": [],
   "source": [
    "lst = [22, 21, 24, 30, 25, 25, 33, 40, 36, 39, 50, 55, 44, 48, 55, 47, 61, 58, 55, 60]"
   ]
  },
  {
   "cell_type": "code",
   "execution_count": 2,
   "id": "9ac91692-cebd-42a6-ab20-73bd5c2533f4",
   "metadata": {},
   "outputs": [
    {
     "name": "stdout",
     "output_type": "stream",
     "text": [
      "24.4\n",
      "25.0\n",
      "27.4\n",
      "30.6\n",
      "31.8\n",
      "34.6\n",
      "39.6\n",
      "44.0\n",
      "44.8\n",
      "47.2\n",
      "50.4\n",
      "49.8\n",
      "51.0\n",
      "53.8\n",
      "55.2\n"
     ]
    }
   ],
   "source": [
    "result5 = []\n",
    "for i in range(5,20):\n",
    "    result = lst[i-5] + lst[i-4] + lst[i-3] + lst[i-2] + lst[i-1]\n",
    "    result = result/5\n",
    "    print(result)\n",
    "    result5.append(result)"
   ]
  },
  {
   "cell_type": "code",
   "execution_count": 3,
   "id": "114a6665-557d-4807-8cce-efa2b7d8328e",
   "metadata": {},
   "outputs": [
    {
     "name": "stdout",
     "output_type": "stream",
     "text": [
      "25.714285714285715\n",
      "28.285714285714285\n",
      "30.428571428571427\n",
      "32.57142857142857\n",
      "35.42857142857143\n",
      "39.714285714285715\n",
      "42.42857142857143\n",
      "44.57142857142857\n",
      "46.714285714285715\n",
      "48.285714285714285\n",
      "51.42857142857143\n",
      "52.57142857142857\n",
      "52.57142857142857\n"
     ]
    }
   ],
   "source": [
    "result7 = []\n",
    "for i in range(7,20):\n",
    "    result = lst[i-7] +lst[i-6] +lst[i-5] + lst[i-4] + lst[i-3] + lst[i-2] + lst[i-1]\n",
    "    result = result/7\n",
    "    print(result)\n",
    "    result7.append(result)  "
   ]
  },
  {
   "cell_type": "code",
   "execution_count": 4,
   "id": "94cb61b7-eb3a-4dc8-9c6c-a105af99a320",
   "metadata": {},
   "outputs": [],
   "source": [
    "def mad(lst, result):\n",
    "    mad=0\n",
    "    for i in range(len(lst)):\n",
    "        mad+=abs(lst[i]-result[i])\n",
    "        \n",
    "    mad = mad/len(result)\n",
    "    return mad"
   ]
  },
  {
   "cell_type": "code",
   "execution_count": 5,
   "id": "0ab45b0c-5adb-4d64-b1a1-0dcc48eb23b2",
   "metadata": {},
   "outputs": [],
   "source": [
    "def msd(lst, result):\n",
    "    msd = 0\n",
    "    for i in range(len(lst)):\n",
    "        msd+=(lst[i]-result[i])**2\n",
    "    msd = msd/len(result)\n",
    "    return msd"
   ]
  },
  {
   "cell_type": "code",
   "execution_count": 6,
   "id": "34a36b00-9bb5-4496-846c-46c804e0a593",
   "metadata": {},
   "outputs": [],
   "source": [
    "def ES(alpha, lst):\n",
    "    result = []\n",
    "    result.append(lst[0])\n",
    "    for i in range(1,len(lst)-1):\n",
    "        result.append(alpha*lst[i]+(1-alpha)*result[i-1])\n",
    "    return result"
   ]
  },
  {
   "cell_type": "code",
   "execution_count": 7,
   "id": "afd373e8-c6c8-4905-9600-4c66e277f668",
   "metadata": {},
   "outputs": [
    {
     "name": "stdout",
     "output_type": "stream",
     "text": [
      "[22, 21.8, 22.240000000000002, 23.792, 24.033600000000003, 24.226880000000005, 25.981504000000008, 28.78520320000001, 30.22816256000001, 31.982530048000008, 35.58602403840001, 39.468819230720015, 40.375055384576015, 41.900044307660814, 44.52003544612865, 45.01602835690292, 48.21282268552234, 50.17025814841788, 51.136206518734305]\n"
     ]
    }
   ],
   "source": [
    "ES2 = ES(0.2,lst)\n",
    "print(ES2)"
   ]
  },
  {
   "cell_type": "code",
   "execution_count": 8,
   "id": "f0b0261f-697c-4b56-9ca1-301e577542fe",
   "metadata": {},
   "outputs": [
    {
     "name": "stdout",
     "output_type": "stream",
     "text": [
      "[22, 21.900000000000002, 22.11, 22.899, 23.1091, 23.29819, 24.268371000000002, 25.8415339, 26.857380510000002, 28.071642459000003, 30.264478213100002, 32.738030391790005, 33.864227352611, 35.2778046173499, 37.25002415561491, 38.22502174005342, 40.50251956604808, 42.25226760944328, 43.527040848498956]\n"
     ]
    }
   ],
   "source": [
    "ES1 = ES(0.1,lst)\n",
    "print(ES1)"
   ]
  },
  {
   "cell_type": "code",
   "execution_count": 9,
   "id": "0b9804e1-e71e-46de-9c45-5459927ae36f",
   "metadata": {},
   "outputs": [
    {
     "data": {
      "text/plain": [
       "8.239201372365107"
      ]
     },
     "execution_count": 9,
     "metadata": {},
     "output_type": "execute_result"
    }
   ],
   "source": [
    "mad(lst[1:],ES2)"
   ]
  },
  {
   "cell_type": "code",
   "execution_count": 10,
   "id": "5553ffd1-4f5d-4abd-91b9-3cc899db41ca",
   "metadata": {},
   "outputs": [
    {
     "data": {
      "text/plain": [
       "12.302282507183707"
      ]
     },
     "execution_count": 10,
     "metadata": {},
     "output_type": "execute_result"
    }
   ],
   "source": [
    "mad(lst[1:],ES1)"
   ]
  },
  {
   "cell_type": "code",
   "execution_count": 11,
   "id": "caee5e12-1df1-4b01-bdc4-d054ff3c64d1",
   "metadata": {},
   "outputs": [
    {
     "data": {
      "text/plain": [
       "99.05613905420999"
      ]
     },
     "execution_count": 11,
     "metadata": {},
     "output_type": "execute_result"
    }
   ],
   "source": [
    "msd(lst[1:],ES2)"
   ]
  },
  {
   "cell_type": "code",
   "execution_count": 12,
   "id": "9fbb696c-8766-4745-a70a-bb97eb60e05e",
   "metadata": {},
   "outputs": [
    {
     "data": {
      "text/plain": [
       "201.5790096967331"
      ]
     },
     "execution_count": 12,
     "metadata": {},
     "output_type": "execute_result"
    }
   ],
   "source": [
    "msd(lst[1:],ES1) "
   ]
  },
  {
   "cell_type": "code",
   "execution_count": 13,
   "id": "c9d6f5a4-0d3d-4bb8-b7e8-b9f51c1200df",
   "metadata": {},
   "outputs": [
    {
     "name": "stdout",
     "output_type": "stream",
     "text": [
      "0.69 40.482824114530715\n"
     ]
    }
   ],
   "source": [
    "#1-c\n",
    "min_alpha = 1\n",
    "min_value = 10000\n",
    "\n",
    "for i in range(1, 101):\n",
    "    alpha = i / 100\n",
    "    if  msd(lst[1:], ES(alpha, lst)) < min_value:\n",
    "        min_value = msd(lst[1:], ES(alpha, lst))\n",
    "        min_alpha = alpha\n",
    "\n",
    "print(min_alpha, min_value)\n"
   ]
  },
  {
   "cell_type": "code",
   "execution_count": 14,
   "id": "cd7ab002-e8b0-4872-b715-35657b40dbb4",
   "metadata": {},
   "outputs": [
    {
     "name": "stdout",
     "output_type": "stream",
     "text": [
      "1.0 2.0\n"
     ]
    }
   ],
   "source": [
    "min_alpha = 1\n",
    "min_value = 10000\n",
    "\n",
    "def bias(lst, result):\n",
    "    bias = 0\n",
    "    for i in range(len(result)):\n",
    "        bias+=(lst[i]-result[i])\n",
    "    bias = bias/len(result)\n",
    "    return bias\n",
    "\n",
    "for i in range(1, 101):\n",
    "    alpha = i / 100\n",
    "    if  bias(lst[1:],ES(alpha, lst))< min_value:\n",
    "        min_value = bias(lst[1:], ES(alpha, lst))\n",
    "        min_alpha = alpha\n",
    "\n",
    "print(min_alpha, min_value)\n"
   ]
  },
  {
   "cell_type": "code",
   "execution_count": 15,
   "id": "e6dd844f-aa54-4ae6-825d-f3b099c46172",
   "metadata": {},
   "outputs": [
    {
     "data": {
      "text/plain": [
       "[22,\n",
       " 21.520000000000003,\n",
       " 22.6304,\n",
       " 26.286208000000002,\n",
       " 26.37679616,\n",
       " 26.321005363199998,\n",
       " 30.021850456063998,\n",
       " 35.84060947529728,\n",
       " 37.74461612881347,\n",
       " 40.187450830618104,\n",
       " 46.838155585251435,\n",
       " 53.48152599121132,\n",
       " 52.30902615549035,\n",
       " 52.86080416161853,\n",
       " 56.16300663236596,\n",
       " 54.21128758422514,\n",
       " 59.18335314860265,\n",
       " 60.871924235340934,\n",
       " 60.21531294855663]"
      ]
     },
     "execution_count": 15,
     "metadata": {},
     "output_type": "execute_result"
    }
   ],
   "source": [
    "# 1-d\n",
    "\n",
    "def ES_T(alpha,beta, lst):\n",
    "    result = []\n",
    "    trend = []\n",
    "    result.append(lst[0])\n",
    "    trend.append(0)\n",
    "    forecast = []\n",
    "    forecast.append(lst[0])\n",
    "    for i in range(1,len(lst)-1):\n",
    "        result.append(alpha*lst[i]+(1-alpha)*(result[i-1]+trend[i-1]))\n",
    "        trend.append(beta*(result[i]-result[i-1])+(1-beta)*trend[i-1])\n",
    "        forecast.append(result[i]+trend[i])\n",
    "    return forecast\n",
    "                     \n",
    "ES_T(0.4,0.2,lst)"
   ]
  },
  {
   "cell_type": "code",
   "execution_count": 16,
   "id": "00f8d075-1b1a-458f-81c4-fb8c0789d28e",
   "metadata": {},
   "outputs": [],
   "source": [
    "EST = ES_T(0.4,0.2,lst)"
   ]
  },
  {
   "cell_type": "code",
   "execution_count": 17,
   "id": "b253549a-e439-489c-b9ad-ffed1f1f2843",
   "metadata": {},
   "outputs": [
    {
     "data": {
      "text/plain": [
       "4.668998615077889"
      ]
     },
     "execution_count": 17,
     "metadata": {},
     "output_type": "execute_result"
    }
   ],
   "source": [
    "mad(lst[1:],EST)"
   ]
  },
  {
   "cell_type": "code",
   "execution_count": 18,
   "id": "c51a85be-33c6-468f-9bf6-9a584bb347d2",
   "metadata": {},
   "outputs": [
    {
     "data": {
      "text/plain": [
       "34.35282345898732"
      ]
     },
     "execution_count": 18,
     "metadata": {},
     "output_type": "execute_result"
    }
   ],
   "source": [
    "msd(lst[1:],EST)"
   ]
  },
  {
   "cell_type": "markdown",
   "id": "142859cd-5235-47d8-bd2d-66c232a69453",
   "metadata": {},
   "source": [
    "2번"
   ]
  },
  {
   "cell_type": "code",
   "execution_count": 19,
   "id": "558ed8ac-dbb4-4a3b-856c-0b06c61b4cb3",
   "metadata": {},
   "outputs": [],
   "source": [
    "lst2 = [25, 120, 40, 60, 30, 140, 60, 80, 35, 150, 55, 90]"
   ]
  },
  {
   "cell_type": "code",
   "execution_count": 20,
   "id": "55368d04-ff4f-4bf9-bb68-9dd3d99d81ac",
   "metadata": {},
   "outputs": [],
   "source": [
    "#a"
   ]
  },
  {
   "cell_type": "code",
   "execution_count": 21,
   "id": "8d4ef114-8354-4a98-8990-d6dfe7d7b145",
   "metadata": {},
   "outputs": [
    {
     "name": "stdout",
     "output_type": "stream",
     "text": [
      "[25, 44.0, 43.2, 46.56, 43.248000000000005, 62.598400000000005, 62.078720000000004, 65.66297600000001, 59.53038080000002, 77.62430464000002, 73.09944371200001]\n"
     ]
    }
   ],
   "source": [
    "print(ES(0.2, lst2))"
   ]
  },
  {
   "cell_type": "code",
   "execution_count": 22,
   "id": "bf92f6ec-069c-479b-a474-667f21ad17b8",
   "metadata": {},
   "outputs": [
    {
     "data": {
      "text/plain": [
       "2655.3459201868513"
      ]
     },
     "execution_count": 22,
     "metadata": {},
     "output_type": "execute_result"
    }
   ],
   "source": [
    "msd(lst2[1:],ES(0.2,lst2))"
   ]
  },
  {
   "cell_type": "code",
   "execution_count": 23,
   "id": "8782f523-d715-487b-a65e-98cb9db7a985",
   "metadata": {},
   "outputs": [
    {
     "name": "stdout",
     "output_type": "stream",
     "text": [
      "[25, 47.8, 49.728, 55.68128, 53.41665280000001, 77.06828492800001, 79.30685923328002, 85.12544430817283, 78.77529459576017, 99.54416304199962, 95.37749127731121]\n"
     ]
    }
   ],
   "source": [
    "#b\n",
    "print(ES_T(0.2,0.2,lst2))"
   ]
  },
  {
   "cell_type": "code",
   "execution_count": 24,
   "id": "c897061b-7931-44fb-b352-1bab5aa832fc",
   "metadata": {},
   "outputs": [
    {
     "data": {
      "text/plain": [
       "2476.180330351119"
      ]
     },
     "execution_count": 24,
     "metadata": {},
     "output_type": "execute_result"
    }
   ],
   "source": [
    "msd(lst2[1:],ES_T(0.2,0.2,lst2))"
   ]
  },
  {
   "cell_type": "code",
   "execution_count": 25,
   "id": "a40824b0-1114-4b97-b11a-cf16138021f4",
   "metadata": {},
   "outputs": [],
   "source": [
    "#c"
   ]
  },
  {
   "cell_type": "code",
   "execution_count": 26,
   "id": "e8996d34-6f43-46ff-a9f4-ccece60297d9",
   "metadata": {},
   "outputs": [],
   "source": [
    "sf_lst2 = []\n",
    "for i in range(len(lst2)):\n",
    "    if i in range(0,4):\n",
    "        sf_lst2.append(lst2[i]/(sum(lst2[0:4])/4))"
   ]
  },
  {
   "cell_type": "code",
   "execution_count": 27,
   "id": "0d9a502e-d0be-45e5-884d-f4778b2ea5fd",
   "metadata": {},
   "outputs": [
    {
     "data": {
      "text/plain": [
       "[0.40816326530612246,\n",
       " 1.9591836734693877,\n",
       " 0.6530612244897959,\n",
       " 0.9795918367346939]"
      ]
     },
     "execution_count": 27,
     "metadata": {},
     "output_type": "execute_result"
    }
   ],
   "source": [
    "sf_lst2"
   ]
  },
  {
   "cell_type": "code",
   "execution_count": 28,
   "id": "f346ea59-465f-47c7-9d27-f3590e5ea296",
   "metadata": {},
   "outputs": [],
   "source": [
    "def Winters(lst2, sf_lst2, alpha, beta, gamma):\n",
    "    result = [0]*3\n",
    "    trend = [0]*4\n",
    "    seasonal = sf_lst2[0:4]\n",
    "    forecast = []\n",
    "    result.append(sum(lst2[0:4])/4)\n",
    "    for i in range(4,len(lst2)):\n",
    "        result.append(alpha*(lst2[i]/seasonal[i-4])+(1-alpha)*(result[i-1]+trend[i-1]))\n",
    "        trend.append(beta*(result[i]-result[i-1])+(1-beta)*trend[i-1])\n",
    "        seasonal.append(gamma*lst2[i]/result[i]+(1-gamma)*seasonal[i-4])\n",
    "        forecast.append((result[i-1]+trend[i-1])*seasonal[i-4])\n",
    "        \n",
    "    return seasonal, forecast"
   ]
  },
  {
   "cell_type": "code",
   "execution_count": 29,
   "id": "59778a2e-99f3-4a2b-8b9f-b9da9013b365",
   "metadata": {},
   "outputs": [
    {
     "ename": "ValueError",
     "evalue": "not enough values to unpack (expected 4, got 2)",
     "output_type": "error",
     "traceback": [
      "\u001b[1;31m---------------------------------------------------------------------------\u001b[0m",
      "\u001b[1;31mValueError\u001b[0m                                Traceback (most recent call last)",
      "\u001b[1;32m~\\AppData\\Local\\Temp\\ipykernel_14244\\1217411195.py\u001b[0m in \u001b[0;36m<module>\u001b[1;34m\u001b[0m\n\u001b[1;32m----> 1\u001b[1;33m \u001b[0mresult_w\u001b[0m\u001b[1;33m,\u001b[0m \u001b[0mtrend_w\u001b[0m\u001b[1;33m,\u001b[0m \u001b[0mseasonal\u001b[0m\u001b[1;33m,\u001b[0m \u001b[0mforecast\u001b[0m \u001b[1;33m=\u001b[0m \u001b[0mWinters\u001b[0m\u001b[1;33m(\u001b[0m\u001b[0mlst2\u001b[0m\u001b[1;33m,\u001b[0m \u001b[0msf_lst2\u001b[0m\u001b[1;33m,\u001b[0m \u001b[1;36m0.2\u001b[0m\u001b[1;33m,\u001b[0m \u001b[1;36m0.2\u001b[0m\u001b[1;33m,\u001b[0m \u001b[1;36m0.2\u001b[0m\u001b[1;33m)\u001b[0m\u001b[1;33m\u001b[0m\u001b[1;33m\u001b[0m\u001b[0m\n\u001b[0m",
      "\u001b[1;31mValueError\u001b[0m: not enough values to unpack (expected 4, got 2)"
     ]
    }
   ],
   "source": [
    "result_w, trend_w, seasonal, forecast = Winters(lst2, sf_lst2, 0.2, 0.2, 0.2)"
   ]
  },
  {
   "cell_type": "code",
   "execution_count": null,
   "id": "a92a6f48-dd2a-4283-8004-288d09209cfe",
   "metadata": {},
   "outputs": [],
   "source": [
    "result_w"
   ]
  },
  {
   "cell_type": "code",
   "execution_count": null,
   "id": "546e7fa5-4b5f-42a5-b061-c60d43057c12",
   "metadata": {},
   "outputs": [],
   "source": [
    "trend_w"
   ]
  },
  {
   "cell_type": "code",
   "execution_count": null,
   "id": "530c3cbe-5da2-4340-9000-c505b675508c",
   "metadata": {},
   "outputs": [],
   "source": [
    "seasonal"
   ]
  },
  {
   "cell_type": "code",
   "execution_count": null,
   "id": "08b5f574-ea65-415e-9338-c3643dc56144",
   "metadata": {},
   "outputs": [],
   "source": [
    "forecast"
   ]
  },
  {
   "cell_type": "code",
   "execution_count": null,
   "id": "7f9c202c-53a8-4369-a2f1-46fa942c0b27",
   "metadata": {},
   "outputs": [],
   "source": [
    "msd(lst2[4:],forecast)"
   ]
  },
  {
   "cell_type": "markdown",
   "id": "a803d0bf-becc-4eae-8f71-06ac103200d7",
   "metadata": {},
   "source": [
    "#d"
   ]
  },
  {
   "cell_type": "markdown",
   "id": "90e2fc77-de40-41df-9c27-6da8cde94cdc",
   "metadata": {},
   "source": [
    "min_alpha = 1\n",
    "min_beta = 1\n",
    "min_gamma = 1\n",
    "min_value = 10000\n",
    "\n",
    "for i in range(0, 1001):\n",
    "    for j in range(0, 1001):\n",
    "        for k in range(0, 1001):\n",
    "            alpha = i / 1000\n",
    "            beta = j / 1000\n",
    "            gamma = k / 1000\n",
    "            forecast = Winters(lst2, sf_lst2, alpha, beta, gamma)\n",
    "            if  msd(lst2[4:],forecast)< min_value:\n",
    "                min_value = msd(lst2[4:],forecast)\n",
    "                min_alpha = alpha\n",
    "                min_beta = beta\n",
    "                min_gamma = gamma\n",
    "\n",
    "print(min_alpha,min_beta,min_gamma, min_value)"
   ]
  },
  {
   "cell_type": "code",
   "execution_count": 33,
   "id": "22021cd5-0b3f-4996-83c3-2ca5cbab22d5",
   "metadata": {},
   "outputs": [
    {
     "ename": "TypeError",
     "evalue": "minimize() missing 1 required positional argument: 'x0'",
     "output_type": "error",
     "traceback": [
      "\u001b[1;31m---------------------------------------------------------------------------\u001b[0m",
      "\u001b[1;31mTypeError\u001b[0m                                 Traceback (most recent call last)",
      "\u001b[1;32m~\\AppData\\Local\\Temp\\ipykernel_14244\\2929837088.py\u001b[0m in \u001b[0;36m<module>\u001b[1;34m\u001b[0m\n\u001b[0;32m      8\u001b[0m \u001b[0minitial_guess\u001b[0m \u001b[1;33m=\u001b[0m \u001b[1;33m[\u001b[0m\u001b[1;36m0.5\u001b[0m\u001b[1;33m,\u001b[0m \u001b[1;36m0.5\u001b[0m\u001b[1;33m,\u001b[0m \u001b[1;36m0.5\u001b[0m\u001b[1;33m]\u001b[0m\u001b[1;33m\u001b[0m\u001b[1;33m\u001b[0m\u001b[0m\n\u001b[0;32m      9\u001b[0m \u001b[0mbounds\u001b[0m \u001b[1;33m=\u001b[0m \u001b[1;33m[\u001b[0m\u001b[1;33m(\u001b[0m\u001b[1;36m0\u001b[0m\u001b[1;33m,\u001b[0m \u001b[1;36m1\u001b[0m\u001b[1;33m)\u001b[0m\u001b[1;33m,\u001b[0m \u001b[1;33m(\u001b[0m\u001b[1;36m0\u001b[0m\u001b[1;33m,\u001b[0m \u001b[1;36m1\u001b[0m\u001b[1;33m)\u001b[0m\u001b[1;33m,\u001b[0m \u001b[1;33m(\u001b[0m\u001b[1;36m0\u001b[0m\u001b[1;33m,\u001b[0m \u001b[1;36m1\u001b[0m\u001b[1;33m)\u001b[0m\u001b[1;33m]\u001b[0m\u001b[1;33m\u001b[0m\u001b[1;33m\u001b[0m\u001b[0m\n\u001b[1;32m---> 10\u001b[1;33m \u001b[0mresult\u001b[0m \u001b[1;33m=\u001b[0m \u001b[0mminimize\u001b[0m\u001b[1;33m(\u001b[0m\u001b[0mobjective\u001b[0m\u001b[1;33m)\u001b[0m\u001b[1;33m\u001b[0m\u001b[1;33m\u001b[0m\u001b[0m\n\u001b[0m\u001b[0;32m     11\u001b[0m \u001b[0mprint\u001b[0m\u001b[1;33m(\u001b[0m\u001b[0mresult\u001b[0m\u001b[1;33m.\u001b[0m\u001b[0mx\u001b[0m\u001b[1;33m)\u001b[0m\u001b[1;33m\u001b[0m\u001b[1;33m\u001b[0m\u001b[0m\n\u001b[0;32m     12\u001b[0m \u001b[0mprint\u001b[0m\u001b[1;33m(\u001b[0m\u001b[0mresult\u001b[0m\u001b[1;33m.\u001b[0m\u001b[0mfun\u001b[0m\u001b[1;33m)\u001b[0m\u001b[1;33m\u001b[0m\u001b[1;33m\u001b[0m\u001b[0m\n",
      "\u001b[1;31mTypeError\u001b[0m: minimize() missing 1 required positional argument: 'x0'"
     ]
    }
   ],
   "source": [
    "from scipy.optimize import minimize\n",
    "\n",
    "def objective(x):\n",
    "    alpha, beta, gamma = x\n",
    "    sesonal, forecast = Winters(lst2, sf_lst2, alpha, beta, gamma)\n",
    "    return msd(lst2[4:], forecast)\n",
    "\n",
    "initial_guess = [0.5, 0.5, 0.5]  \n",
    "bounds = [(0, 1), (0, 1), (0, 1)] \n",
    "result = minimize(objective, initial_guess, bounds=bounds)\n",
    "\n",
    "print(result.x)  \n",
    "print(result.fun)  \n"
   ]
  },
  {
   "cell_type": "code",
   "execution_count": null,
   "id": "01be3f8b-e44d-45cc-bb64-090f3a176e8f",
   "metadata": {},
   "outputs": [],
   "source": [
    "msd(lst2[8:],Winters(lst2, sf_lst2, 0.77, 0.0, 0.94)[4:])"
   ]
  },
  {
   "cell_type": "code",
   "execution_count": null,
   "id": "f70ee466-5b1f-4220-b9d6-cf6b2bf5a1d9",
   "metadata": {},
   "outputs": [],
   "source": [
    "Winters(lst2, sf_lst2, 0.77, 0.0, 0.94)[4:]"
   ]
  },
  {
   "cell_type": "code",
   "execution_count": null,
   "id": "3f72e9a6-0fcf-446e-af22-fb0315077967",
   "metadata": {},
   "outputs": [],
   "source": [
    "#e"
   ]
  },
  {
   "cell_type": "code",
   "execution_count": null,
   "id": "1f41c5d9-8bc9-4ea6-9527-21ba12fb6294",
   "metadata": {},
   "outputs": [],
   "source": [
    "from scipy.optimize import minimize\n",
    "\n",
    "def my_function(x):\n",
    "    alpha, beta, gamma = x\n",
    "    forecast = Winters(lst2, sf_lst2, alpha, beta, gamma)\n",
    "    return msd(lst2[8:],forecast[4:])\n",
    "\n",
    "bounds = [(0, 1), (0, 1), (0, 1)]\n",
    "\n",
    "result = minimize(my_function, (1, 1, 1), bounds=bounds)\n",
    "\n",
    "print(result.x)\n",
    "print(result.fun)\n"
   ]
  },
  {
   "cell_type": "code",
   "execution_count": null,
   "id": "b74cfc7f-e7f9-4263-8f8b-c58d1a7699e7",
   "metadata": {},
   "outputs": [],
   "source": [
    "Winters(lst2, sf_lst2, 0.054, 1, 0.121)"
   ]
  }
 ],
 "metadata": {
  "kernelspec": {
   "display_name": "Python 3 (ipykernel)",
   "language": "python",
   "name": "python3"
  },
  "language_info": {
   "codemirror_mode": {
    "name": "ipython",
    "version": 3
   },
   "file_extension": ".py",
   "mimetype": "text/x-python",
   "name": "python",
   "nbconvert_exporter": "python",
   "pygments_lexer": "ipython3",
   "version": "3.9.13"
  }
 },
 "nbformat": 4,
 "nbformat_minor": 5
}
