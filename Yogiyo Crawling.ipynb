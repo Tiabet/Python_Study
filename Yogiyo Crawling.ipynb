{
 "cells": [
  {
   "cell_type": "code",
   "execution_count": 11,
   "id": "d21d1b6b-7325-41c6-b25a-f28a96db0030",
   "metadata": {},
   "outputs": [],
   "source": [
    "from selenium import webdriver\n",
    "from selenium.webdriver.chrome.service import Service\n",
    "from webdriver_manager.chrome import ChromeDriverManager\n",
    "from selenium.webdriver.common.by import By\n",
    "from selenium.webdriver.common.keys import Keys\n",
    "import time\n",
    "from bs4 import BeautifulSoup\n",
    "\n",
    "driver = webdriver.Chrome(service=Service(ChromeDriverManager().install())) #크롬이랑 파이썬 연결"
   ]
  },
  {
   "cell_type": "code",
   "execution_count": 138,
   "id": "c626ed20-a30c-4547-84e2-126bd3546886",
   "metadata": {},
   "outputs": [],
   "source": [
    "url = 'https://www.yogiyo.co.kr/mobile/#/1149066/'\n",
    "driver.get(url)"
   ]
  },
  {
   "cell_type": "code",
   "execution_count": 139,
   "id": "f4bbc7ad-e05b-4018-8cab-b6d64ba98240",
   "metadata": {},
   "outputs": [],
   "source": [
    "review_button = driver.find_element(By.CSS_SELECTOR, \"#content > div.restaurant-detail.row.ng-scope > div.col-sm-8 > ul > li:nth-child(2) > a\")\n",
    "review_button.click()"
   ]
  },
  {
   "cell_type": "code",
   "execution_count": 140,
   "id": "700f8570-f338-46bc-a18a-3bbc4dc97453",
   "metadata": {},
   "outputs": [],
   "source": [
    "test = driver.find_elements(By.XPATH, '//*[@id=\"review\"]/li[3]/p')"
   ]
  },
  {
   "cell_type": "code",
   "execution_count": 141,
   "id": "0490ef13-9cf6-4cc2-a1ee-66ad89e934fb",
   "metadata": {},
   "outputs": [
    {
     "name": "stdout",
     "output_type": "stream",
     "text": [
      "바삭하고 토핑도 아낌없이 주십니다 항상 맛있게 먹고있어요 !\n"
     ]
    }
   ],
   "source": [
    "for review in test:\n",
    "    print(review.text)"
   ]
  },
  {
   "cell_type": "code",
   "execution_count": 142,
   "id": "19ad0fc6-959a-49ea-8dd0-96a38ed4b27d",
   "metadata": {},
   "outputs": [],
   "source": [
    "for i in range(2,12):\n",
    "    tmp = driver.find_elements(By.XPATH, f'//*[@id=\"review\"]/li[{i}]/p')\n",
    "    for review in tmp:\n",
    "        reviews.append(review.text)"
   ]
  },
  {
   "cell_type": "code",
   "execution_count": 143,
   "id": "662ee918-409f-4489-a079-bc73480556ae",
   "metadata": {},
   "outputs": [
    {
     "data": {
      "text/plain": [
       "['굿입니다~~~~~~',\n",
       " '넘너무빠르고 맛있어여 ㅎㅎ',\n",
       " '감사합니다!!!!!!!',\n",
       " '잘먹었습니다 감사합니다',\n",
       " '배달만 개선되묜 좋겟다..',\n",
       " '세트메뉴에서 감자튀김 없길래 전화했더니 연결도 안되네요',\n",
       " '맥-기쁨을 느낄 수 있었어요',\n",
       " '다식었어 감튀는 차갑다 이걸 먹으라고 배달하냐 햄버거는 미적지근이라 참는다만 감튀 다시 에프돌렸다 하 한양대점은 배달이 진짜 윤석렬거니같네',\n",
       " '존맛탱 ㅠ 역시 맛나용',\n",
       " '넘나 맛있어요 요즘 호시기만 먹어용',\n",
       " '맛있게 잘 먹었어요~',\n",
       " '맛있게 잘먹었습니다',\n",
       " '맛있게 잘먹었습니다',\n",
       " '맛있게 먹었습니다아',\n",
       " '맛도 좋고 양도 많고 배달도 빨라요.',\n",
       " '오늘도 감자튀김이 아닌 감자볼ㅜㅜ 아이가 안먹어서 처치 곤란하네요',\n",
       " '맛있고 양도 많고 배달도 빠르고 호식이 너무 좋습니다. 리뷰이벤트 치즈볼 감사합니다',\n",
       " '닭다리 큼직하고 매운양념, 간장 둘다 넘나 맛있습니다',\n",
       " '맛잇는 호식이 매운 간장은 언제 먹어도 맛있어요',\n",
       " '혼자먹기 괜찮은 양같아요 적당합니다 맛도 괜찮구요',\n",
       " '밥2공기도 뚝딱이네요~ 맛있게 잘먹었습니다!',\n",
       " '맛있습니다.',\n",
       " '맛있어요.맛있어요 또시킬게요',\n",
       " '다음에도 시켜먹을게요~~',\n",
       " '배터지게 맛있게먹었어용 감사람니당',\n",
       " '아주 맛있어서 좋아오, 자주 시켜 먹고 싶어져요',\n",
       " '한끼 잘 먹었습니다',\n",
       " '존맛탱입니다. 양도 많아요',\n",
       " '맛있게 잘먹었습니다',\n",
       " '맛있었어요~ 양도 생각보다 많아요',\n",
       " '맛있게 잘 먹었습니다',\n",
       " '맛이없어요 김치찌개맛이 아니나봐요...',\n",
       " '잘 먹었습니다. 너무 맛있어요',\n",
       " '찜이라기보다는 찌게에 가까운것 같아요 맛은좋았어요',\n",
       " '오늘도 맛있게 잘먹었습니다@',\n",
       " \"밥 눌은거 밑에 잔뜩 이였어요. 밥은 복불복이라고 해도 진짜 계란찜 이렇게 비린곳 처음 봐요.. 계란찜 괜히 '대'사이즈로 추가해서 남김... 차가워도, 뜨거워도 비림.. 그 용기째로 전자레인지에 돌린 계란찜 스타일인데 전날건건지 가에는 스폰지 식감이고.. 물생기고.. 여튼 진짜 심하게 비렸어요... 밥도 눌은거 밑에 깔아주는거 실수셨겠지만.. 너무 잔뜩이였어서.. 그런건 보이면 담아주지 말으셨으면... 아 김치찜 맛이랑 양은 좋았구요, 나머지 추가한 동치미도 맛있었고 배달도 빨랐어요.\",\n",
       " '김치찜보단 김치찌개 느낌이 났어요…',\n",
       " '혼자 먹기에 부족하지 않았고 충분히 맛도있었습니다. 무엇보다 배달이 빨라서 기분이 좋았네요~',\n",
       " '사진을 까먹어서 다먹고 찍네요.. 맛있게 잘먹었습니다',\n",
       " '맛이 정말 심각해요',\n",
       " '맛있게 잘먹었습니다',\n",
       " '너무 맛있게 잘먹었습니다 추천',\n",
       " '냉면 육수를 얼린게 아니라 얼음을 넣어서 밍밍해짐. 면이 뭉친부분이 있었음.',\n",
       " '냉면은 평범하고 고기는 괜찮았는데 날씨 때문인지 모르겠는데 기름이 다 굳어서 먹을때 느글거리고 기름 특유의 맛이 같이남',\n",
       " '처음 보는 구성이라 시켜봤어요. 맛도 있고 배달도 느리지 않았어요. 다만 젓가락도 같이 시켰는데 안 왔어요. 그래서 전화했는데 곧바로 끊었어요. 계속 5번이나 전화했는데 계속 끊어요. 손님대응은 별로에요',\n",
       " '맛은 괜찮았는데요. 양보고 너무 놀래서요. 직화양념쪽갈비+순살양념바베큐치킨 24,000원 양이예요. ‘소’자라 하지만 너무 했네요!!',\n",
       " '맛나요~~ 맛나요~~ 맛나요~~',\n",
       " '진짜 맛있게 먹었어요!!',\n",
       " '아.. 애매해요 짜글이 스타일인데 흠.... 보통맛은 매운느낌이 1도없는데 짜긴짜고ㅠ 물부어서 전자렌지 데워먹었거든요. 먹는내내 뭔가 애매하고 부족한느낌ㅠ 다른집들 리뷰랑 비교해가면서(타어플도 참조) 고민하다 시켰는데 솔직히좀 실망을.. 일부러 국물많이 요청했는데도ㅎㅎ 요새 물가반영해서 가격대비 양에대해선 얘기안할거구요 맛은 많이 실망입니다. 대창많이 질겨요 냉동새우 냄새(살짝 비림)나구요. 그나마 낙지는 괜찮았어요~ 타어플보니 고추장맛이심하단 얘기가있네요 저걸 진작 봤으면ㅠ 그래도 입맛에 맛으신분은 많나봐요. #식후감',\n",
       " '요기요에서 주문하니까 계란찜을 안주네요 천원 덜내고 다른 어플에서 주문하세요...',\n",
       " '배달이 좀 많이 늦고 그렇지만 다쿠아즈 스콘 맛있어요 브라우니는 진짜 찐한 초코 쫀득 커피랑 잘맞아요',\n",
       " '다 달콤하고 맛있었어요. 잘 먹어했습니다.',\n",
       " 'ㅇㅇㅇㅇㅇㅇㅇㅇㅇㅇㅇㅇ',\n",
       " '배달 빠르네요 잘 먹겠습니다',\n",
       " '항상 주문해서 먹고있는데 이번에도 배달 빨리 해주셔서 아주 맛있게 잘먹었습니다. 급하게 먹다보니 사진을 못찍었는데 다음에는 꼭 올려 드리겠습니다. 감사합니다.',\n",
       " '안좋은 리뷰 처음 남겨보는데요 만두국은 그냥 먹을 수 없을 정도로 짠데다가 김밥은 쉰내가 나고 어떻게 이럴 수가 있는지.. 만두국 물부어서 먹다가 포기하고 그대로 다 버렸습니다. 심지어 배달도 늦게왔네요ㅠㅠ',\n",
       " '맛있게잘먹었습니다 양대박~',\n",
       " '맛있습니당 감사합니당',\n",
       " '맛있게 잘 먹었습니다 :)',\n",
       " '맛있게 잘 먹었습니다 :)',\n",
       " '진짜 이런 리뷰 첨 남겨보는데요,, 평점이랑 후기보고 시킬걸 후회되는 집은 처음이에요 진지하게 김밥집이라는 타이틀이 맞느냐 의문이들어요 쉰내에 비릿한 맛까지 대체 얼마나 오래된거면 냄새랑 맛까지 이러는지 ; 새벽에 시킬곳 없어서 시켯는데 김밥 재료 어떻게 쓰시는지 궁금할정도에요 ;; 새벽에 몇개 먹고 영 찝찝해서 냅둿는데 아침에 일어나서 배아파서 화장실 갔다왔네요 진지하게 음식점 하시는게 맞는건지 진짜 ㅋㅋ 다신 안 시킬거 같네요 재료관리라도 하셔야 되는거 아닌가요? 역대급 김밥 맛이였어요 실망이 큽니다 이렇게 길게 남긴것도 처음.',\n",
       " '오늘도 배달 엄청 빨리 해주셔서 우동과 모듬튀김 뜨겁게 아주 맛있게 잘먹었습니다. 감사합니다.',\n",
       " '전체적으로 부드럽고 맛있었습니다 밥이 조금인게 좀 아쉬웠네요 잘 먹었습니다',\n",
       " '맛있어요 오랜만에 제대로된 경양식 돈까스를 먹은거같아요',\n",
       " '제육덮밥도 맛나고 돈까스도 바싹해서 맛나요',\n",
       " '맛있네요 ㅎㅎ 배부릅니다요',\n",
       " '맛있어요👍👍👍👍👍',\n",
       " '맛있게 잘먹었어요 ~',\n",
       " '냉모밀에 돈까스 최고입니다.',\n",
       " '사진이 왜 자꾸 옆으로 올려지는지ㅠㅠ 돈까스 양 엄청 푸짐해요!!! 덕분에 배터지게 먹었습니다 그리고 스프도 제공해주시는점이 너무 좋은 것 같아요..♡ 위치도 가까워서 자주 먹을 것 같아요♡♡ 맛있게 잘먹었습니다! 아까 바빠서 인사도 제대로 못하고 나왔는데ㅠㅠ죄송해요!!!',\n",
       " '맛있게잘먹었숩니다.^^',\n",
       " '* 별1개도아까움',\n",
       " '31000원 주고 주문한 탕수육인데 너무 딱딱해서 아무도 안먹음',\n",
       " '맛있게 잘 먹었습니다 다음에 또 시켜먹을게요',\n",
       " '딸내미가 잘 먹어요 양도 많고 배달도 빠릅니다.~',\n",
       " '맛있었습니다.！！！！！',\n",
       " '맛있게 늘 잘먹고 있어요',\n",
       " '일주일에 세번이상 시켜먹고 있어요. 우리딸 최애인데 저도 같이 먹다보니 중되 된듯 너무 맛나요',\n",
       " '일주일에 세번이상 시켜먹고 있어요. 우리딸 최애인데 저도 같이 먹다보니 중되 된듯 너무 맛나요',\n",
       " '일주일에 세번이상 시켜먹고 있어요. 우리딸 최애인데 저도 같이 먹다보니 중되 된듯 너무 맛나요',\n",
       " '마라탕은 여기서만 먹음 찐 맛도리 ㅇㅈ',\n",
       " '셀프 마라샹궈라 원하는 것만 골라 담기 좋아요',\n",
       " '꿔바로우 진짜 역대급 최고로 맛없다. 어의가 없어 당면 시켰는데 당면도 안 주고 최악이다',\n",
       " '고기도 뻣뻣하고 고기가 불리되어 맛이 없고 둒껍고 계란찜도 엉망으로 해오고 먹으란건지 의문',\n",
       " '처음 시켜봤어요 앞으로도 장사 번창 하시길 바라겠습니다',\n",
       " '맛있게 잘 먹었어요',\n",
       " '배달도 빠르고 양도 많아요. 맛있게 먹었습니다~',\n",
       " '배달이 살짝 늦었어요 그치만 받는 순간 그런건 중요하지않았습니다 족발 보쌈 둘 다 맛있었구요 같이 주신 계란찜과 불족발도 훌륭했습니다 많이많이 파셔요~~',\n",
       " '저번에 처음 여기서 시켜먹은 후로 여기서만 시킵니다.. 여기 메뉴랑 구성이 제일 맘에듭니다 맛도 최고!!',\n",
       " '바삭하고 토핑도 아낌없이 주십니다 항상 맛있게 먹고있어요 !',\n",
       " '배달은 좀 걸렸지만 역시 맛있네용',\n",
       " '시킬때마다 크로플 서비스 넘감사해여!~ 크로필은 여기가 젤맛잇는듯요 ! 배달하는분들은 요청사항을 잘 안보나봐여…가게탓은 아니니ㅜㅜ잘먹었어용~~',\n",
       " '크로플덕은 진짜 커스터드 크림이 미쳤어요...♡ 커스터드크림 대존맛',\n",
       " '👍👍👍👍👍',\n",
       " '너무맛있어요. 서비스 감사합니다. 밀크티가 정말 맛있네요',\n",
       " '처음 시켜봤는데 엄청 맛있네요 잘먹었습니다 !',\n",
       " '크림브뤨레라뇨...대박이에여 어떻게 리뷰 이벤트로 크로플을 주시는거죠...! 사장님 남는거 있으신거죠? ㅠㅠ 반창하세요!',\n",
       " '여기는 항상 맛있는곳입니다. 로제떡뽁이 주문했눈데 크림하고 거의 가까운맛이지만 그래도 맛있게 먹었습니다. 🥰👍🏻👍🏻']"
      ]
     },
     "execution_count": 143,
     "metadata": {},
     "output_type": "execute_result"
    }
   ],
   "source": [
    "reviews"
   ]
  },
  {
   "cell_type": "code",
   "execution_count": 144,
   "id": "d4f66905-e2f7-4685-8c60-d2f784606132",
   "metadata": {},
   "outputs": [
    {
     "data": {
      "text/plain": [
       "98"
      ]
     },
     "execution_count": 144,
     "metadata": {},
     "output_type": "execute_result"
    }
   ],
   "source": [
    "len(reviews)"
   ]
  },
  {
   "cell_type": "code",
   "execution_count": 145,
   "id": "89f7f9fb-953b-4d6f-bb54-e0f4e3c6ef9c",
   "metadata": {},
   "outputs": [],
   "source": [
    "import pandas as pd"
   ]
  },
  {
   "cell_type": "code",
   "execution_count": 148,
   "id": "84d7b637-ad7f-4ff5-bae2-78130765aeba",
   "metadata": {},
   "outputs": [],
   "source": [
    "reviews_df = pd.DataFrame(reviews)"
   ]
  },
  {
   "cell_type": "code",
   "execution_count": 167,
   "id": "43f78ed7-376b-4312-8496-8e0eb2ab2780",
   "metadata": {},
   "outputs": [],
   "source": [
    "from pykospacing import Spacing\n",
    "spacing = Spacing(rules=['KoNLPy'])"
   ]
  },
  {
   "cell_type": "code",
   "execution_count": 168,
   "id": "f1ace4b6-8991-43c7-8bbe-79cf61616278",
   "metadata": {
    "tags": []
   },
   "outputs": [],
   "source": [
    "spell_checked = []\n",
    "\n",
    "for review in reviews:\n",
    "    spell_checked.append(spacing(review))"
   ]
  },
  {
   "cell_type": "code",
   "execution_count": 169,
   "id": "46695805-0477-4234-b4a5-249ae3890913",
   "metadata": {},
   "outputs": [
    {
     "data": {
      "text/plain": [
       "['굿입니다~~~~~~',\n",
       " '넘너무 빠르고 맛있어 여 ㅎㅎ',\n",
       " '감사합니다!!!!!!!',\n",
       " '잘 먹었습니다 감사합니다',\n",
       " '배달만 개선되 묜 좋겟다..',\n",
       " '세트메뉴에서 감자튀김 없길래 전화했더니 연결도 안 되네요',\n",
       " '맥-기쁨을 느낄 수 있었어요',\n",
       " '다식었어 감 튀는 차갑다 이걸 먹으라고 배달하냐 햄버거는 미적지근이라 참는 다만 감 튀 다시 에 프돌렸다 하 한양대점은 배달이 진짜 윤석렬거니 같네',\n",
       " '존 맛탱 ㅠ 역시 맛나용',\n",
       " '넘나 맛있어요 요즘 호 시기만 먹어용',\n",
       " '맛있게 잘 먹었어요~',\n",
       " '맛있게 잘 먹었습니다',\n",
       " '맛있게 잘 먹었습니다',\n",
       " '맛있게 먹었습니다아',\n",
       " '맛도 좋고 양도 많고 배달도 빨라요.',\n",
       " '오늘도 감자 튀김이 아닌 감자 볼 ㅜㅜ 아이가 안 먹어서 처치 곤란하네요',\n",
       " '맛있고 양도 많고 배달도 빠르고 호식이 너무 좋습니다. 리뷰 이벤트 치즈볼 감사합니다',\n",
       " '닭다리 큼직하고 매운 양념, 간장 둘 다 넘나 맛있습니다',\n",
       " '맛잇는 호식이 매운 간장은 언제 먹어도 맛있어요',\n",
       " '혼자 먹기 괜찮은 양 같아 요 적당합니다 맛도 괜찮구요',\n",
       " '밥 2공기도 뚝딱이네요~ 맛있게 잘 먹었습니다!',\n",
       " '맛있습니다.',\n",
       " '맛있어요. 맛있어요 또 시킬게요',\n",
       " '다음에도 시켜 먹을 게요~~',\n",
       " '배터지게 맛있게 먹었어 용 감 사람니당',\n",
       " '아주 맛있어서 좋아 오, 자주 시켜 먹고 싶어져요',\n",
       " '한 끼 잘 먹었습니다',\n",
       " '존 맛 탱입니다. 양도 많아요',\n",
       " '맛있게 잘 먹었습니다',\n",
       " '맛있었어요~ 양도 생각보다 많아요',\n",
       " '맛있게 잘 먹었습니다',\n",
       " '맛이 없어요 김치찌개맛이 아니나 봐요...',\n",
       " '잘 먹었습니다. 너무 맛있어요',\n",
       " '찜이라기보다는 찌게에 가까운 것 같아 요 맛은 좋았어요',\n",
       " '오늘도 맛있게 잘 먹었습니다 @',\n",
       " \"밥 눌은 거 밑에 잔뜩 이였어요. 밥은 복 불복이라고 해도 진짜 계란찜 이렇게 비린 곳 처음 봐요.. 계란찜 괜히 '대' 사이즈로 추가해서 남김... 차가워도, 뜨거워도 비림.. 그 용 기째로 전자 레인지에 돌린 계란찜 스타일인데 전날 건건지 가에는 스폰지 식감이고.. 물 생기고.. 여튼 진짜 심하게 비렸어요... 밥도 눌은 거 밑에 깔아주는 거 실수셨겠지만.. 너무 잔 뜩이였어서.. 그런 건 보이면 담아주지 말으셨으면... 아 김치찜 맛이랑 양은 좋았구요, 나머지 추가한 동치미도 맛있었고 배달도 빨랐어요.\",\n",
       " '김치찜보단 김치찌개 느낌이 났어요…',\n",
       " '혼자 먹기에 부족하지 않았고 충분히 맛도 있었습니다. 무엇보다 배달이 빨라서 기분이 좋았네요~',\n",
       " '사진을 까먹어서 다 먹고 찍네요.. 맛있게 잘 먹었습니다',\n",
       " '맛이 정말 심각해요',\n",
       " '맛있게 잘 먹었습니다',\n",
       " '너무 맛있게 잘 먹었습니다 추천',\n",
       " '냉면 육수를 얼린 게 아니라 얼음을 넣어서 밍밍해짐. 면이 뭉친 부분이 있었음.',\n",
       " '냉면은 평범하고 고기는 괜찮았는데 날씨 때문인지 모르겠는데 기름이 다 굳어서 먹을 때 느글거리고 기름 특유의 맛이 같이 남',\n",
       " '처음 보는 구성이라 시켜봤어요. 맛도 있고 배달도 느리지 않았어요. 다만 젓가락도 같이 시켰는데 안 왔어요. 그래서 전화했는데 곧바로 끊었어요. 계속 5번이나 전화했는데 계속 끊어요. 손님 대응은 별로에요',\n",
       " '맛은 괜찮았는데요. 양보고 너무 놀래서요. 직화양념 쪽 갈비+순살 양념 바베큐 치킨 24,000원 양이예요. ‘소’자라 하지만 너무 했네요!!',\n",
       " '맛나요~~ 맛나요~~ 맛나요~~',\n",
       " '진짜 맛있게 먹었어요!!',\n",
       " '아.. 애매해요 짜글이 스타일인데 흠.... 보통 맛은 매운 느낌이 1도 없는데 짜 긴 짜고 ㅠ 물 부어서 전자렌지 데워 먹었거든요. 먹는 내내 뭔가 애매하고 부족한 느낌 ㅠ 다른 집들 리뷰랑 비교해 가면서 (타 어플도 참조) 고민하다 시켰는데 솔직히 좀 실망을.. 일부러 국물 많이 요청했는데도 ㅎㅎ 요새 물가 반영해서 가격 대비 양에 대해선 얘기 안 할 거구 요 맛은 많이 실망입니다. 대창 많이  질겨요 냉동 새우 냄새(살짝 비림)나 구요. 그나마 낙지는 괜찮았어요~ 타 어플보니 고추장 맛이 심하단 얘기가 있네요 저걸 진작 봤으면 ㅠ 그래도 입맛에 맛으신 분은 많나 봐요. #식후감',\n",
       " '요기요에서 주문하니까 계란찜을 안주네요 천원 덜 내고 다른 어플에서 주문하세요...',\n",
       " '배달이 좀 많이 늦고 그렇지만 다 쿠아즈 스콘 맛있어요 브라우니는 진짜 찐한 초코 쫀득 커피랑 잘 맞아요',\n",
       " '다 달콤하고 맛있었어요. 잘 먹어했습니다.',\n",
       " 'ㅇㅇㅇㅇㅇㅇㅇㅇㅇㅇㅇㅇ',\n",
       " '배달 빠르네요 잘 먹겠습니다',\n",
       " '항상 주문해서 먹고 있는데 이번에도 배달 빨리 해주셔서 아주 맛있게 잘 먹었습니다. 급하게 먹다 보니 사진을 못 찍었는데 다음에는 꼭 올려 드리겠습니다. 감사합니다.',\n",
       " '안 좋은 리뷰 처음 남겨보는데요 만두국은 그냥 먹을 수 없을 정도로 짠데다가 김밥은 쉰 내가 나 고 어떻게 이럴 수가 있는지.. 만 두국 물 부어서 먹다가 포기하고 그대로 다 버렸습니다. 심지어 배달도 늦게 왔네요 ㅠㅠ',\n",
       " '맛있게 잘 먹었습니다 양대 박~',\n",
       " '맛있습니 당 감사합니당',\n",
       " '맛있게 잘 먹었습니다 :)',\n",
       " '맛있게 잘 먹었습니다 :)',\n",
       " '진짜 이런 리뷰 첨 남겨보는데요,, 평점이랑 후기 보고 시킬 걸 후회되는 집은 처음이에 요 진지하게 김밥집이라는 타이틀이 맞느냐 의문이 들어 요 쉰 내에 비릿한 맛까지 대체 얼마나 오래된 거면 냄새랑 맛까지 이러는지 ; 새벽에 시 킬 곳 없어서 시 켯는데 김밥 재료 어떻게 쓰시는지 궁금할 정도에 요 ;; 새벽에 몇 개 먹고 영 찝찝해서 냅둿는데 아침에 일어나서 배 아파서 화장실  갔다 왔네요 진지하게 음식점 하시는 게 맞는 건지 진짜 ㅋㅋ 다신 안 시킬 거 같네요 재료 관리라도 하셔야 되는 거 아닌가요? 역대급 김밥 맛이였어요 실망이 큽니 다 이렇게 길게 남긴 것도 처음.',\n",
       " '오늘도 배달 엄청 빨리 해주셔서 우동과 모듬튀김 뜨겁게 아주 맛있게 잘 먹었습니다. 감사합니다.',\n",
       " '전체적으로 부드럽고 맛있었습니다 밥이 조금인 게 좀 아쉬웠네요 잘 먹었습니다',\n",
       " '맛있어요 오랜만에 제대로 된 경양식 돈까스를 먹은 거 같아요',\n",
       " '제육덮밥도 맛나고 돈까스도 바싹해서 맛나요',\n",
       " '맛있네요 ㅎㅎ 배부릅니다요',\n",
       " '맛있어요 👍👍👍👍👍',\n",
       " '맛있게 잘 먹었어요 ~',\n",
       " '냉모밀에 돈까스 최고입니다.',\n",
       " '사진이 왜 자꾸 옆으로 올려지는지 ㅠㅠ 돈까스 양 엄청 푸짐해요!!! 덕분에 배터지게 먹었습니다 그리고 스프도 제공해주시는 점이 너무 좋은 것 같아요..♡ 위치도 가까워서 자주 먹을 것 같아 요♡ ♡ 맛있게 잘 먹었습니다! 아까 바빠서 인사도 제대로 못하고 나왔는데 ㅠㅠ 죄송해요!!!',\n",
       " '맛있게 잘 먹었숩니다.',\n",
       " '* 별 1개 도 아까움',\n",
       " '31000원 주고 주문한 탕수육인데 너무 딱딱해서 아무도 안 먹음',\n",
       " '맛있게 잘 먹었습니다 다음에 또 시켜 먹을 게요',\n",
       " '딸내미가 잘 먹어요 양도 많고 배달도 빠릅니다.~',\n",
       " '맛있었습니다.！！！！！',\n",
       " '맛있게 늘 잘 먹고 있어요',\n",
       " '일주일에 세 번 이상 시켜먹고 있어요. 우리 딸 최 애인데 저도 같이 먹다 보니 중되 된 듯 너무 맛나요',\n",
       " '일주일에 세 번 이상 시켜먹고 있어요. 우리 딸 최 애인데 저도 같이 먹다 보니 중되 된 듯 너무 맛나요',\n",
       " '일주일에 세 번 이상 시켜먹고 있어요. 우리 딸 최 애인데 저도 같이 먹다 보니 중되 된 듯 너무 맛나요',\n",
       " '마라탕은 여기서만 먹음 찐 맛도리 ㅇㅈ',\n",
       " '셀프 마라 샹궈라 원하는 것만 골라 담기 좋아요',\n",
       " '꿔바로우 진짜 역대급 최고로 맛 없다. 어의 가 없어 당면 시켰는데 당면도 안 주고 최악이다',\n",
       " '고기도 뻣뻣하고 고기가 불리되어 맛이 없고 둒껍고 계란찜도 엉망으로 해오고 먹으란 건지 의문',\n",
       " '처음 시켜봤어요 앞으로도 장사 번 창 하시길 바라겠습니다',\n",
       " '맛있게 잘 먹었어요',\n",
       " '배달도 빠르고 양도 많아요. 맛있게 먹었습니다~',\n",
       " '배달이 살짝 늦었어요 그치만 받는 순간 그런 건 중요하지 않았습니다 족 발 보쌈 둘 다 맛있었구요 같이 주신 계란찜과 불족발도 훌륭했습니다 많이 많이 파셔 요~~',\n",
       " '저번에 처음 여기서 시켜 먹은 후로 여기서만 시킵니다.. 여기 메뉴랑 구성이 제일 맘에 듭니다 맛도 최고!!',\n",
       " '바삭하고 토핑도 아낌없이 주십니다 항상 맛있게 먹고 있어요 !',\n",
       " '배달은 좀 걸렸지만 역시 맛있네용',\n",
       " '시킬 때마다 크로플 서비스 넘감사해 여!~ 크로필은 여기가 젤맛 잇는 듯 요 ! 배달하는 분들은 요청사항을 잘 안보나 봐 여… 가게 탓은 아니니 ㅜㅜ 잘 먹었어 용~~',\n",
       " '크로플덕은 진짜 커스터드 크림이 미쳤어요...♡ 커스터드 크림 대존 맛',\n",
       " '👍👍👍👍👍',\n",
       " '너무 맛있어요. 서비스 감사합니다. 밀크티가 정말 맛있네요',\n",
       " '처음 시켜봤는데 엄청 맛있네요 잘 먹었습니다 !',\n",
       " '크림브뤨레 라뇨...대박이에 여 어떻게 리뷰 이벤트로 크로플을 주시는 거죠...! 사장님 남는 거 있으신 거죠? ㅠㅠ 반창하세요!',\n",
       " '여기는 항상 맛있는 곳입니다. 로 제떡뽁이 주문했눈 데 크림하고 거의 가까운 맛이지만 그래도 맛있게 먹었습니다. 🥰👍🏻👍🏻']"
      ]
     },
     "execution_count": 169,
     "metadata": {},
     "output_type": "execute_result"
    }
   ],
   "source": [
    "spell_checked"
   ]
  },
  {
   "cell_type": "code",
   "execution_count": 178,
   "id": "69448e67-4870-4b8b-98a4-74414af69592",
   "metadata": {},
   "outputs": [],
   "source": [
    "reviews_df.columns = ['sentences']"
   ]
  },
  {
   "cell_type": "code",
   "execution_count": 179,
   "id": "2b198a17-808e-411a-9ad3-094dee7f9185",
   "metadata": {},
   "outputs": [
    {
     "data": {
      "text/html": [
       "<div>\n",
       "<style scoped>\n",
       "    .dataframe tbody tr th:only-of-type {\n",
       "        vertical-align: middle;\n",
       "    }\n",
       "\n",
       "    .dataframe tbody tr th {\n",
       "        vertical-align: top;\n",
       "    }\n",
       "\n",
       "    .dataframe thead th {\n",
       "        text-align: right;\n",
       "    }\n",
       "</style>\n",
       "<table border=\"1\" class=\"dataframe\">\n",
       "  <thead>\n",
       "    <tr style=\"text-align: right;\">\n",
       "      <th></th>\n",
       "      <th>sentences</th>\n",
       "    </tr>\n",
       "  </thead>\n",
       "  <tbody>\n",
       "    <tr>\n",
       "      <th>0</th>\n",
       "      <td>굿입니다~~~~~~</td>\n",
       "    </tr>\n",
       "    <tr>\n",
       "      <th>1</th>\n",
       "      <td>넘너무빠르고 맛있어여 ㅎㅎ</td>\n",
       "    </tr>\n",
       "    <tr>\n",
       "      <th>2</th>\n",
       "      <td>감사합니다!!!!!!!</td>\n",
       "    </tr>\n",
       "    <tr>\n",
       "      <th>3</th>\n",
       "      <td>잘먹었습니다 감사합니다</td>\n",
       "    </tr>\n",
       "    <tr>\n",
       "      <th>4</th>\n",
       "      <td>배달만 개선되묜 좋겟다..</td>\n",
       "    </tr>\n",
       "    <tr>\n",
       "      <th>...</th>\n",
       "      <td>...</td>\n",
       "    </tr>\n",
       "    <tr>\n",
       "      <th>93</th>\n",
       "      <td>👍👍👍👍👍</td>\n",
       "    </tr>\n",
       "    <tr>\n",
       "      <th>94</th>\n",
       "      <td>너무맛있어요. 서비스 감사합니다. 밀크티가 정말 맛있네요</td>\n",
       "    </tr>\n",
       "    <tr>\n",
       "      <th>95</th>\n",
       "      <td>처음 시켜봤는데 엄청 맛있네요 잘먹었습니다 !</td>\n",
       "    </tr>\n",
       "    <tr>\n",
       "      <th>96</th>\n",
       "      <td>크림브뤨레라뇨...대박이에여 어떻게 리뷰 이벤트로 크로플을 주시는거죠...! 사장님...</td>\n",
       "    </tr>\n",
       "    <tr>\n",
       "      <th>97</th>\n",
       "      <td>여기는 항상 맛있는곳입니다. 로제떡뽁이 주문했눈데 크림하고 거의 가까운맛이지만 그래...</td>\n",
       "    </tr>\n",
       "  </tbody>\n",
       "</table>\n",
       "<p>98 rows × 1 columns</p>\n",
       "</div>"
      ],
      "text/plain": [
       "                                            sentences\n",
       "0                                          굿입니다~~~~~~\n",
       "1                                      넘너무빠르고 맛있어여 ㅎㅎ\n",
       "2                                        감사합니다!!!!!!!\n",
       "3                                        잘먹었습니다 감사합니다\n",
       "4                                      배달만 개선되묜 좋겟다..\n",
       "..                                                ...\n",
       "93                                              👍👍👍👍👍\n",
       "94                    너무맛있어요. 서비스 감사합니다. 밀크티가 정말 맛있네요\n",
       "95                          처음 시켜봤는데 엄청 맛있네요 잘먹었습니다 !\n",
       "96  크림브뤨레라뇨...대박이에여 어떻게 리뷰 이벤트로 크로플을 주시는거죠...! 사장님...\n",
       "97  여기는 항상 맛있는곳입니다. 로제떡뽁이 주문했눈데 크림하고 거의 가까운맛이지만 그래...\n",
       "\n",
       "[98 rows x 1 columns]"
      ]
     },
     "execution_count": 179,
     "metadata": {},
     "output_type": "execute_result"
    }
   ],
   "source": [
    "reviews_df"
   ]
  },
  {
   "cell_type": "code",
   "execution_count": 184,
   "id": "7717e914-ad85-49d1-ba83-4e834f326ef4",
   "metadata": {},
   "outputs": [
    {
     "data": {
      "image/png": "[encoded data removed]",
      "text/plain": [
       "<Figure size 1000x600 with 1 Axes>"
      ]
     },
     "metadata": {},
     "output_type": "display_data"
    }
   ],
   "source": [
    "import matplotlib.pyplot as plt\n",
    "\n",
    "reviews_df['sentence_length'] = reviews_df['sentences'].apply(len)\n",
    "plt.figure(figsize=(10, 6))  # Adjust the figure size as needed\n",
    "plt.hist(reviews_df['sentence_length'], bins=20, color='blue', edgecolor='black')\n",
    "plt.title('Distribution of Sentence Lengths')\n",
    "plt.xlabel('Sentence Length')\n",
    "plt.ylabel('Frequency')\n",
    "plt.show()\n"
   ]
  },
  {
   "cell_type": "code",
   "execution_count": 187,
   "id": "9844d978-4350-44ec-ba36-32c79aa650e8",
   "metadata": {},
   "outputs": [],
   "source": [
    "reviews_df['sentences'].to_csv(\"리뷰 데이터.csv\", index = False)"
   ]
  },
  {
   "cell_type": "code",
   "execution_count": null,
   "id": "f69575ee-26af-49e8-83c9-d809c631f787",
   "metadata": {},
   "outputs": [],
   "source": []
  }
 ],
 "metadata": {
  "kernelspec": {
   "display_name": "Python 3 (ipykernel)",
   "language": "python",
   "name": "python3"
  },
  "language_info": {
   "codemirror_mode": {
    "name": "ipython",
    "version": 3
   },
   "file_extension": ".py",
   "mimetype": "text/x-python",
   "name": "python",
   "nbconvert_exporter": "python",
   "pygments_lexer": "ipython3",
   "version": "3.9.13"
  }
 },
 "nbformat": 4,
 "nbformat_minor": 5
}
