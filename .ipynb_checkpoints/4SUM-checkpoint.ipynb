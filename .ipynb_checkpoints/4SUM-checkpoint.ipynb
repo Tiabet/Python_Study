{
 "cells": [
  {
   "cell_type": "code",
   "execution_count": 47,
   "id": "8de01b59-f5a0-4358-b3f2-e2f7a22e19af",
   "metadata": {},
   "outputs": [],
   "source": [
    "def fourSum(nums, target):\n",
    "        result = []\n",
    "        for i in range(len(nums)-3):\n",
    "            for j in range(len(nums)-2):\n",
    "                if j>i :\n",
    "                    for k in range(len(nums)-1):\n",
    "                        if k>j :\n",
    "                            for l in range(len(nums)):\n",
    "                                if l>k :\n",
    "                                    if nums[i]+nums[j]+nums[k]+nums[l] == target:\n",
    "                                        tmp = [nums[i],nums[j],nums[k],nums[l]]\n",
    "                                        tmp.sort()\n",
    "                                        result.append(tmp)\n",
    "        result = list(set(result))\n",
    "        return result"
   ]
  },
  {
   "cell_type": "code",
   "execution_count": 48,
   "id": "b367fd79-54ee-4071-8c24-0736d02ad655",
   "metadata": {},
   "outputs": [],
   "source": [
    "nums = [-5,5,4,-3,0,0,4,-2]"
   ]
  },
  {
   "cell_type": "code",
   "execution_count": 49,
   "id": "c1fe5f25-4586-4149-aa66-9686e54680b5",
   "metadata": {},
   "outputs": [],
   "source": [
    "target = 4"
   ]
  },
  {
   "cell_type": "code",
   "execution_count": 50,
   "id": "98bd6ead-df64-4b5a-a4ce-f7da7c615534",
   "metadata": {},
   "outputs": [
    {
     "ename": "TypeError",
     "evalue": "unhashable type: 'list'",
     "output_type": "error",
     "traceback": [
      "\u001b[1;31m---------------------------------------------------------------------------\u001b[0m",
      "\u001b[1;31mTypeError\u001b[0m                                 Traceback (most recent call last)",
      "\u001b[1;32m~\\AppData\\Local\\Temp\\ipykernel_24728\\139331999.py\u001b[0m in \u001b[0;36m<module>\u001b[1;34m\u001b[0m\n\u001b[1;32m----> 1\u001b[1;33m \u001b[0mfourSum\u001b[0m\u001b[1;33m(\u001b[0m\u001b[0mnums\u001b[0m\u001b[1;33m,\u001b[0m \u001b[0mtarget\u001b[0m\u001b[1;33m)\u001b[0m\u001b[1;33m\u001b[0m\u001b[1;33m\u001b[0m\u001b[0m\n\u001b[0m",
      "\u001b[1;32m~\\AppData\\Local\\Temp\\ipykernel_24728\\2601614501.py\u001b[0m in \u001b[0;36mfourSum\u001b[1;34m(nums, target)\u001b[0m\n\u001b[0;32m     12\u001b[0m                                         \u001b[0mtmp\u001b[0m\u001b[1;33m.\u001b[0m\u001b[0msort\u001b[0m\u001b[1;33m(\u001b[0m\u001b[1;33m)\u001b[0m\u001b[1;33m\u001b[0m\u001b[1;33m\u001b[0m\u001b[0m\n\u001b[0;32m     13\u001b[0m                                         \u001b[0mresult\u001b[0m\u001b[1;33m.\u001b[0m\u001b[0mappend\u001b[0m\u001b[1;33m(\u001b[0m\u001b[0mtmp\u001b[0m\u001b[1;33m)\u001b[0m\u001b[1;33m\u001b[0m\u001b[1;33m\u001b[0m\u001b[0m\n\u001b[1;32m---> 14\u001b[1;33m         \u001b[0mresult\u001b[0m \u001b[1;33m=\u001b[0m \u001b[0mlist\u001b[0m\u001b[1;33m(\u001b[0m\u001b[0mset\u001b[0m\u001b[1;33m(\u001b[0m\u001b[0mresult\u001b[0m\u001b[1;33m)\u001b[0m\u001b[1;33m)\u001b[0m\u001b[1;33m\u001b[0m\u001b[1;33m\u001b[0m\u001b[0m\n\u001b[0m\u001b[0;32m     15\u001b[0m         \u001b[1;32mreturn\u001b[0m \u001b[0mresult\u001b[0m\u001b[1;33m\u001b[0m\u001b[1;33m\u001b[0m\u001b[0m\n",
      "\u001b[1;31mTypeError\u001b[0m: unhashable type: 'list'"
     ]
    }
   ],
   "source": [
    "fourSum(nums, target)"
   ]
  },
  {
   "cell_type": "code",
   "execution_count": 51,
   "id": "7bc97091-07de-463a-a990-414bb089045b",
   "metadata": {},
   "outputs": [],
   "source": [
    "def fourSum(nums, target):\n",
    "    nums.sort()\n",
    "    for i in range(n-3):\n",
    "        if i>0 and nums[i]==nums[i-1]:\n",
    "            continue\n",
    "        for j in range(i+1,n-2):\n",
    "            if j>i+1 and nums[j]==nums[j-1]:\n",
    "                continue\n",
    "            left, right = j+1,n-1\n",
    "            while left<right:\n",
    "                current_sum = nums[i]+nums[j]+nums[left]+nums[right]\n",
    "                if current_sum == target:\n",
    "                    result.append([nums[i],nums[j],nums[left],nums[right]])\n",
    "                    while left<right and nums[left]==nums[left+1]:\n",
    "                        left+=1\n",
    "                    while left<right and nums[right]==nums[right-1]:\n",
    "                        right-=1\n",
    "                elif current_sum < target :\n",
    "                    left+=1\n",
    "                else :\n",
    "                    right-=1\n",
    "                "
   ]
  },
  {
   "cell_type": "code",
   "execution_count": null,
   "id": "24b00ef5-0ffe-4b58-bd74-acdb5ba3f317",
   "metadata": {},
   "outputs": [],
   "source": []
  }
 ],
 "metadata": {
  "kernelspec": {
   "display_name": "Python 3 (ipykernel)",
   "language": "python",
   "name": "python3"
  },
  "language_info": {
   "codemirror_mode": {
    "name": "ipython",
    "version": 3
   },
   "file_extension": ".py",
   "mimetype": "text/x-python",
   "name": "python",
   "nbconvert_exporter": "python",
   "pygments_lexer": "ipython3",
   "version": "3.9.13"
  }
 },
 "nbformat": 4,
 "nbformat_minor": 5
}
