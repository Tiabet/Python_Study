{
 "cells": [
  {
   "cell_type": "code",
   "execution_count": 2,
   "id": "396ae32f-7163-4e3e-ad47-26e16d9888b5",
   "metadata": {},
   "outputs": [
    {
     "name": "stdout",
     "output_type": "stream",
     "text": [
      "[0 1 2 3 4 5] (6,)\n"
     ]
    }
   ],
   "source": [
    "import numpy as np\n",
    "\n",
    "d=np.arange(6)\n",
    "print(d, d.shape)"
   ]
  },
  {
   "cell_type": "code",
   "execution_count": 3,
   "id": "bdd380de-bc94-4095-a392-9cc865cb04cc",
   "metadata": {},
   "outputs": [
    {
     "name": "stdout",
     "output_type": "stream",
     "text": [
      "0 1 2 5 4\n"
     ]
    }
   ],
   "source": [
    "# 1차원 배열의 인덱싱\n",
    "print(d[0], d[1], d[2], d[-1], d[-2])"
   ]
  },
  {
   "cell_type": "code",
   "execution_count": 4,
   "id": "403c00d2-db1a-40d9-918e-9f91a36cbc3c",
   "metadata": {},
   "outputs": [
    {
     "name": "stdout",
     "output_type": "stream",
     "text": [
      "[2] [0 1 2 3 4 5] [0 1 2 3 4]\n",
      "[0 2 4] [5 4 3 2 1 0]\n",
      "[10  1  2  3  4  5]\n"
     ]
    }
   ],
   "source": [
    "# 1차원 배열의 슬라이싱\n",
    "print(d[2:3], d[:], d[:-1])\n",
    "print(d[::2], d[::-1])\n",
    "d[0]=10 # 요소 값 변경\n",
    "print(d)"
   ]
  },
  {
   "cell_type": "code",
   "execution_count": 5,
   "id": "637a0e5b-bfbc-42df-afce-6820c43da733",
   "metadata": {},
   "outputs": [
    {
     "name": "stdout",
     "output_type": "stream",
     "text": [
      "[[ 0  1  2  3]\n",
      " [ 4  5  6  7]\n",
      " [ 8  9 10 11]] (3, 4)\n"
     ]
    }
   ],
   "source": [
    "d=np.arange(12).reshape(3, 4)\n",
    "print(d, d.shape) #안맞아떨어지는걸로 하면 오류발생"
   ]
  },
  {
   "cell_type": "code",
   "execution_count": 7,
   "id": "0d52c50a-6cec-4979-9f8f-123b0e9f3030",
   "metadata": {},
   "outputs": [
    {
     "name": "stdout",
     "output_type": "stream",
     "text": [
      "[0 1 2 3]\n",
      "[0 1 2 3]\n",
      "[[ 0  1  2]\n",
      " [ 4  5  6]\n",
      " [ 8  9 10]]\n",
      "[[ 0  2]\n",
      " [ 8 10]]\n"
     ]
    }
   ],
   "source": [
    "# 2차원 배열의 슬라이싱\n",
    "print(d[0]) # 0행만 슬라이싱\n",
    "print(d[0,:]) # 0행의 전체 열 슬라이싱\n",
    "print(d[:,:-1]) # 마지막 열 제외한 전체 행과 열 슬라이싱\n",
    "print(d[::2,::2]) # 2행 2열 간격으로 전체 행과 열 슬라이싱"
   ]
  },
  {
   "cell_type": "code",
   "execution_count": 8,
   "id": "8670f9aa-17c4-4e73-b0ff-ca971f4e89ee",
   "metadata": {},
   "outputs": [
    {
     "name": "stdout",
     "output_type": "stream",
     "text": [
      "[[20 20 20 20]\n",
      " [ 4  5  6  7]\n",
      " [ 8  9 10 11]]\n"
     ]
    }
   ],
   "source": [
    "d[0]=20 # 0번 행 요소를 모두 20으로 변경\n",
    "print(d)"
   ]
  },
  {
   "cell_type": "code",
   "execution_count": 9,
   "id": "544ccc3c-9adf-4557-bab3-997b85900405",
   "metadata": {},
   "outputs": [
    {
     "name": "stdout",
     "output_type": "stream",
     "text": [
      "[[ True  True  True  True]\n",
      " [ True  True  True  True]\n",
      " [ True  True  True  True]]\n"
     ]
    }
   ],
   "source": [
    "print(d>2)"
   ]
  },
  {
   "cell_type": "code",
   "execution_count": 11,
   "id": "03320623-a0d0-4ec1-84fe-8b1de9621474",
   "metadata": {},
   "outputs": [
    {
     "name": "stdout",
     "output_type": "stream",
     "text": [
      "[20 20 20 20  4  5  6  7  8  9 10 11]\n"
     ]
    }
   ],
   "source": [
    "print(d[d>2])"
   ]
  },
  {
   "cell_type": "code",
   "execution_count": 12,
   "id": "fdb0c0f0-4665-4d41-8f4a-d7298f5b2e2a",
   "metadata": {},
   "outputs": [
    {
     "name": "stdout",
     "output_type": "stream",
     "text": [
      "[[[20 20 20 20]\n",
      "  [ 4  5  6  7]\n",
      "  [ 8  9 10 11]]]\n",
      "[]\n"
     ]
    }
   ],
   "source": [
    "print(d[True])\n",
    "print(d[False]) #기본적으로 True 속성을 갖고 있음"
   ]
  },
  {
   "cell_type": "code",
   "execution_count": null,
   "id": "5acd676a-4fbc-42bf-8484-436c9c4bf8e3",
   "metadata": {},
   "outputs": [],
   "source": []
  }
 ],
 "metadata": {
  "kernelspec": {
   "display_name": "Python 3 (ipykernel)",
   "language": "python",
   "name": "python3"
  },
  "language_info": {
   "codemirror_mode": {
    "name": "ipython",
    "version": 3
   },
   "file_extension": ".py",
   "mimetype": "text/x-python",
   "name": "python",
   "nbconvert_exporter": "python",
   "pygments_lexer": "ipython3",
   "version": "3.9.13"
  }
 },
 "nbformat": 4,
 "nbformat_minor": 5
}
