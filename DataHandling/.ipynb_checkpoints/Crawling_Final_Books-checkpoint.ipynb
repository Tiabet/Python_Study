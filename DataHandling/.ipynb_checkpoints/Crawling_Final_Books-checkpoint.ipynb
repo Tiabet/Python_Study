{
 "cells": [
  {
   "cell_type": "code",
   "execution_count": null,
   "id": "d3b91162-2994-401e-8dda-a7c6a4fbcfd8",
   "metadata": {},
   "outputs": [],
   "source": [
    "from selenium import webdriver\n",
    "from selenium.webdriver.common.by import By\n",
    "from selenium.webdriver.chrome.service import Service\n",
    "from selenium.common.exceptions import NoSuchElementException, ElementClickInterceptedException\n",
    "from webdriver_manager.chrome import ChromeDriverManager\n",
    "import time\n",
    "import mysql.connector\n"
   ]
  },
  {
   "cell_type": "code",
   "execution_count": null,
   "id": "1d7683f5-b162-481e-bcf7-821a8c93b6a5",
   "metadata": {},
   "outputs": [],
   "source": [
    "# MySQL connection setup\n",
    "db = mysql.connector.connect(\n",
    "    host=\"127.0.0.1\",  # Typically 'localhost' or '127.0.0.1'\n",
    "    user=\"root\",\n",
    "    password=\"kjhyun0221\",\n",
    "    database=\"news\"\n",
    ")\n",
    "cursor = db.cursor()\n",
    "\n",
    "# Create table if it doesn't exist\n",
    "cursor.execute(\"\"\"\n",
    "CREATE TABLE IF NOT EXISTS wti_books (\n",
    "    id INT AUTO_INCREMENT PRIMARY KEY,\n",
    "    title VARCHAR(255),\n",
    "    url VARCHAR(255),\n",
    "    published_date DATE\n",
    ")\n",
    "\"\"\")\n",
    "\n",
    "def insert_data(title, url, published_date):\n",
    "    # Remove the trailing period and any spaces\n",
    "    published_date = published_date.strip().rstrip('.')\n",
    "    \n",
    "    # Split the date string by periods\n",
    "    year, month, day = published_date.split('.')\n",
    "    \n",
    "    # Remove any leading or trailing spaces that may have been left over\n",
    "    year = year.strip()\n",
    "    month = month.strip()\n",
    "    day = day.strip()\n",
    "    \n",
    "    # Construct the MySQL-compatible date string\n",
    "    mysql_date = f\"{year}-{month.zfill(2)}-{day.zfill(2)}\"\n",
    "    \n",
    "    query = \"INSERT INTO wti_books (title, url, published_date) VALUES (%s, %s, %s)\"\n",
    "    cursor.execute(query, (title, url, mysql_date))\n",
    "    db.commit()"
   ]
  },
  {
   "cell_type": "code",
   "execution_count": null,
   "id": "54bfa710-cc83-4fed-b7ba-8508576f1d16",
   "metadata": {},
   "outputs": [],
   "source": [
    "\n",
    "chromedriver_path = 'C:/Users/kkksk/.wdm/drivers/chromedriver/win64/122.0.6261.129/chromedriver.exe'\n",
    "service = Service(chromedriver_path)\n",
    "driver = webdriver.Chrome(service=service)"
   ]
  },
  {
   "cell_type": "code",
   "execution_count": null,
   "id": "ae85db93-838b-4a1e-9cfb-cdf1b5960c18",
   "metadata": {},
   "outputs": [],
   "source": [
    "target_year = 2022\n",
    "\n",
    "current_year = 2024  \n",
    "\n",
    "try:\n",
    "    while target_year <= current_year:\n",
    "        \n",
    "        url = f\"https://www.google.com/search?q=crude+oil&tbs=cdr:1,cd_min:1/1/{target_year},cd_max:12/31/{target_year}&tbm=nws\"\n",
    "        driver.get(url)\n",
    "        \n",
    "        while True:\n",
    "            news_results = driver.find_elements(By.CSS_SELECTOR, 'div#rso > div >div>div>div')\n",
    "            for news_div in news_results:\n",
    "                try:\n",
    "                    news_link = news_div.find_element(By.TAG_NAME, 'a').get_attribute('href')\n",
    "                    news_text_elements = news_div.find_elements(By.CSS_SELECTOR, 'a>div>div>div')\n",
    "                    news_item = [elem.text for elem in news_text_elements]\n",
    "                    if len(news_item) >= 5:\n",
    "                        Link = news_link\n",
    "                        Title = news_item[2]\n",
    "                        Date = news_item[4]\n",
    "                        insert_data(Title,Link,Date)\n",
    "                except Exception as e:\n",
    "                    print(e)\n",
    "            \n",
    "            try:\n",
    "                next_button = driver.find_element(By.ID, 'pnnext')\n",
    "                next_button.click()\n",
    "                time.sleep(2)\n",
    "            except NoSuchElementException:\n",
    "                break\n",
    "        \n",
    "        target_year += 1\n",
    "\n",
    "except Exception as e:\n",
    "    print(f\"Encountered an exception: {e}\")\n",
    "\n",
    "finally:\n",
    "    driver.quit()\n"
   ]
  }
 ],
 "metadata": {
  "kernelspec": {
   "display_name": "Python 3 (ipykernel)",
   "language": "python",
   "name": "python3"
  },
  "language_info": {
   "codemirror_mode": {
    "name": "ipython",
    "version": 3
   },
   "file_extension": ".py",
   "mimetype": "text/x-python",
   "name": "python",
   "nbconvert_exporter": "python",
   "pygments_lexer": "ipython3",
   "version": "3.9.13"
  }
 },
 "nbformat": 4,
 "nbformat_minor": 5
}
