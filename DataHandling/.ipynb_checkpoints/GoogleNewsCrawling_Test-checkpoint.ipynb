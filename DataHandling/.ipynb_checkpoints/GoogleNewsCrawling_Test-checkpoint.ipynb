{
 "cells": [
  {
   "cell_type": "code",
   "execution_count": null,
   "id": "14db4d93-ec5a-417b-ae8d-f24f1530d57c",
   "metadata": {},
   "outputs": [],
   "source": [
    "import requests\n",
    "from bs4 import BeautifulSoup\n",
    "import mysql.connector\n",
    "import datetime\n",
    "import time\n",
    "\n",
    "# MySQL connection setup\n",
    "db = mysql.connector.connect(\n",
    "    host=\"your_host\",  # Typically 'localhost' or '127.0.0.1'\n",
    "    user=\"your_username\",\n",
    "    password=\"your_password\",\n",
    "    database=\"your_database_name\"\n",
    ")\n",
    "cursor = db.cursor()\n",
    "\n",
    "# Create table if it doesn't exist\n",
    "cursor.execute(\"\"\"\n",
    "CREATE TABLE IF NOT EXISTS wti_news (\n",
    "    id INT AUTO_INCREMENT PRIMARY KEY,\n",
    "    title VARCHAR(255),\n",
    "    url VARCHAR(255),\n",
    "    published_date DATE\n",
    ")\n",
    "\"\"\")\n",
    "\n",
    "# Function to insert data into MySQL\n",
    "def insert_data(title, url, published_date):\n",
    "    query = \"INSERT INTO wti_news (title, url, published_date) VALUES (%s, %s, %s)\"\n",
    "    cursor.execute(query, (title, url, published_date))\n",
    "    db.commit()\n",
    "    time.sleep(5)\n",
    "\n",
    "# Google News search URL\n",
    "search_url = \"https://www.google.com/search?q=WTI+crude+oil+news&tbm=nws\"\n",
    "\n",
    "# Send HTTP request\n",
    "response = requests.get(search_url)\n",
    "soup = BeautifulSoup(response.text, 'html.parser')\n",
    "\n",
    "# Extract news items\n",
    "for item in soup.select('.dbsr'):\n",
    "    title = item.select_one('.nDgy9d').text\n",
    "    url = item['href']\n",
    "    published_date = datetime.datetime.now().date()  # Simplification, real date extraction may vary\n",
    "\n",
    "    # Insert data into MySQL\n",
    "    insert_data(title, url, published_date)\n",
    "    \n",
    "\n",
    "# Close MySQL connection\n",
    "db.close()\n"
   ]
  }
 ],
 "metadata": {
  "kernelspec": {
   "display_name": "Python 3 (ipykernel)",
   "language": "python",
   "name": "python3"
  },
  "language_info": {
   "codemirror_mode": {
    "name": "ipython",
    "version": 3
   },
   "file_extension": ".py",
   "mimetype": "text/x-python",
   "name": "python",
   "nbconvert_exporter": "python",
   "pygments_lexer": "ipython3",
   "version": "3.9.13"
  }
 },
 "nbformat": 4,
 "nbformat_minor": 5
}
