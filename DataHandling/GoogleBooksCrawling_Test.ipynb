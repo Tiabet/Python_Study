{
 "cells": [
  {
   "cell_type": "code",
   "execution_count": null,
   "id": "3f46afd7-3637-4b63-b422-b1719c88d930",
   "metadata": {},
   "outputs": [],
   "source": [
    "https://www.google.com/search?sca_esv=37ec618459549654&sca_upv=1&sxsrf=ACQVn0_jeaX8S7UrIh4xBAsS-WNxAIxD7Q:1711605385762&q=google+books&tbm=bks&source=lnms&prmd=sivnbmz&sa=X&ved=2ahUKEwjr-434opaFAxVGqFYBHdq-BdcQ0pQJegQIPhAB&biw=1440&bih=765&dpr=2\n",
    "\n"
   ]
  },
  {
   "cell_type": "code",
   "execution_count": 1,
   "id": "fdeae48d-e145-4d83-bf42-7a04b7ba8c1d",
   "metadata": {},
   "outputs": [],
   "source": [
    "target_year = 1986\n",
    "\n",
    "current_year = 2024  \n",
    "\n",
    "url = f\"https://www.google.com/search?q=crude+oil&tbs=cdr:1,cd_min:1/1/{target_year},cd_max:12/31/{target_year}&tbm=nws\""
   ]
  },
  {
   "cell_type": "code",
   "execution_count": null,
   "id": "3a0e8c89-be3d-4d89-a231-e8e3c93606c7",
   "metadata": {},
   "outputs": [],
   "source": [
    "https://www.google.com/search?q=crude+oil&tbs=cdr:1,cd_min:1/1/{target_year},cd_max:12/31/{target_year}&tbm=nws"
   ]
  },
  {
   "cell_type": "code",
   "execution_count": null,
   "id": "4811fc49-ff5a-4597-9478-a7dfbe07cdda",
   "metadata": {},
   "outputs": [],
   "source": [
    "https://www.google.com/search?q=crude+oil&sca_esv=37ec618459549654&sca_upv=1&biw=1440&bih=765&sxsrf=ACQVn0_VT9q8_ZYvZj3r_flTbM0h6iWRqg%3A1711605571084&source=lnt&tbs=bkt%3As%2Ccdr%3A1%2Ccd_min%3A1986%2Ccd_max%3A1986&tbm=bks"
   ]
  }
 ],
 "metadata": {
  "kernelspec": {
   "display_name": "Python 3 (ipykernel)",
   "language": "python",
   "name": "python3"
  },
  "language_info": {
   "codemirror_mode": {
    "name": "ipython",
    "version": 3
   },
   "file_extension": ".py",
   "mimetype": "text/x-python",
   "name": "python",
   "nbconvert_exporter": "python",
   "pygments_lexer": "ipython3",
   "version": "3.9.13"
  }
 },
 "nbformat": 4,
 "nbformat_minor": 5
}
