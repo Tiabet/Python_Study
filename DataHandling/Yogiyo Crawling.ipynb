{
 "cells": [
  {
   "cell_type": "code",
   "execution_count": 1,
   "id": "d21d1b6b-7325-41c6-b25a-f28a96db0030",
   "metadata": {},
   "outputs": [],
   "source": [
    "from selenium import webdriver\n",
    "from selenium.webdriver.chrome.service import Service\n",
    "from webdriver_manager.chrome import ChromeDriverManager\n",
    "from selenium.webdriver.common.by import By\n",
    "from selenium.webdriver.common.keys import Keys\n",
    "import time\n",
    "from bs4 import BeautifulSoup\n",
    "\n",
    "driver = webdriver.Chrome(service=Service(ChromeDriverManager().install())) #크롬이랑 파이썬 연결"
   ]
  },
  {
   "cell_type": "code",
   "execution_count": 19,
   "id": "c626ed20-a30c-4547-84e2-126bd3546886",
   "metadata": {},
   "outputs": [],
   "source": [
    "url = 'https://www.yogiyo.co.kr/mobile/#/420255/'\n",
    "driver.get(url)"
   ]
  },
  {
   "cell_type": "code",
   "execution_count": 20,
   "id": "f4bbc7ad-e05b-4018-8cab-b6d64ba98240",
   "metadata": {},
   "outputs": [],
   "source": [
    "review_button = driver.find_element(By.CSS_SELECTOR, \"#content > div.restaurant-detail.row.ng-scope > div.col-sm-8 > ul > li:nth-child(2) > a\")\n",
    "review_button.click()"
   ]
  },
  {
   "cell_type": "code",
   "execution_count": 21,
   "id": "700f8570-f338-46bc-a18a-3bbc4dc97453",
   "metadata": {},
   "outputs": [],
   "source": [
    "test = driver.find_elements(By.XPATH, '//*[@id=\"review\"]/li[3]/p')"
   ]
  },
  {
   "cell_type": "code",
   "execution_count": 22,
   "id": "0490ef13-9cf6-4cc2-a1ee-66ad89e934fb",
   "metadata": {},
   "outputs": [
    {
     "name": "stdout",
     "output_type": "stream",
     "text": [
      "맛있게먹었습니다감사합니다.\n"
     ]
    }
   ],
   "source": [
    "for review in test:\n",
    "    print(review.text)"
   ]
  },
  {
   "cell_type": "code",
   "execution_count": 23,
   "id": "c5602006-7615-4a3b-b9ab-f271b215178c",
   "metadata": {},
   "outputs": [],
   "source": [
    "#reviews = []"
   ]
  },
  {
   "cell_type": "code",
   "execution_count": 24,
   "id": "19ad0fc6-959a-49ea-8dd0-96a38ed4b27d",
   "metadata": {},
   "outputs": [],
   "source": [
    "for i in range(2,12):\n",
    "    tmp = driver.find_elements(By.XPATH, f'//*[@id=\"review\"]/li[{i}]/p')\n",
    "    for review in tmp:\n",
    "        reviews.append(review.text)"
   ]
  },
  {
   "cell_type": "code",
   "execution_count": 25,
   "id": "662ee918-409f-4489-a079-bc73480556ae",
   "metadata": {},
   "outputs": [
    {
     "data": {
      "text/plain": [
       "['양 진짜 푸짐하고 너어무 맛있어요 앞으로 닭발은 여기서만 사먹을래요',\n",
       " '맛잇개먹엇어요. ㅋㅋㅋㅋ',\n",
       " '하 진짜진짜 맛있다.... 똥집튀김도 먹으면서 눈물 찔끔한듯... 다이어트 버려...',\n",
       " '맵기도 양도 적당하고 맛있게 잘먹었습니다',\n",
       " '세트가 엄청 푸짐하고 양이 많아요! 매운거 잘못먹어서 덜맵게 선택했는데 딱이였어요! 왜 이제야 알았나싶은곳이에요:) 맛있게 잘먹었습니다!!',\n",
       " '항상 잘 먹고있습니다',\n",
       " '양 많고 맛잇습니당',\n",
       " '맛있게 잘 먹었습니다',\n",
       " '양 푸짐하고 맛있게 잘 먹었습니다^^',\n",
       " '맛있어용 진짜 밤에 확 닭발 땡길때 딱이네요 ㅎㅎ',\n",
       " '맛있어요! 다음에 계속 주문할게요.',\n",
       " '맛있게먹었습니다감사합니다.',\n",
       " '맛있게먹었습니다감사합니다.',\n",
       " '30 분이나 일찍오셨네요 감사감사 배고팠는데 찌개 반찬 모두 모두 깔끔하구 맛 있어요 두부좋아하는데 엄청크구 나무랄데없네요 오랜만에 집밥 먹는거같아요 잘 먹구~~ 자주시킬 께용',\n",
       " '찌개 맛있어요 반찬은 좀 맛없어요 ㅋㅋㅋ',\n",
       " '맞과양모두.과하지않고.한끼로줄길수잊어요!',\n",
       " '잘먹었습니다 담에 또 시킬게요',\n",
       " '반찬이 겁나 많네여맛있어요 근데 콩나물 항이 이상해요',\n",
       " '어제 처음 주문했는데 맛있어서 오늘 저녁에 또 주문했어요 ㅎㅎ 맛있게 잘 먹었습니다~~ 다음에도 종종 주문할게요 ~',\n",
       " '넘 맛있어요 1인으루 시킨거 아쉬워서 담에 2인이나 3인으루 또 주문하려구요 반찬도 넘 좋앗어요 ❤️']"
      ]
     },
     "execution_count": 25,
     "metadata": {},
     "output_type": "execute_result"
    }
   ],
   "source": [
    "reviews"
   ]
  },
  {
   "cell_type": "code",
   "execution_count": 26,
   "id": "d4f66905-e2f7-4685-8c60-d2f784606132",
   "metadata": {},
   "outputs": [
    {
     "data": {
      "text/plain": [
       "20"
      ]
     },
     "execution_count": 26,
     "metadata": {},
     "output_type": "execute_result"
    }
   ],
   "source": [
    "len(reviews)"
   ]
  },
  {
   "cell_type": "code",
   "execution_count": 27,
   "id": "89f7f9fb-953b-4d6f-bb54-e0f4e3c6ef9c",
   "metadata": {},
   "outputs": [],
   "source": [
    "import pandas as pd"
   ]
  },
  {
   "cell_type": "code",
   "execution_count": 28,
   "id": "84d7b637-ad7f-4ff5-bae2-78130765aeba",
   "metadata": {},
   "outputs": [],
   "source": [
    "reviews_df = pd.DataFrame(reviews)"
   ]
  },
  {
   "cell_type": "code",
   "execution_count": 29,
   "id": "43f78ed7-376b-4312-8496-8e0eb2ab2780",
   "metadata": {},
   "outputs": [],
   "source": [
    "from pykospacing import Spacing\n",
    "spacing = Spacing(rules=['KoNLPy'])"
   ]
  },
  {
   "cell_type": "code",
   "execution_count": 30,
   "id": "f1ace4b6-8991-43c7-8bbe-79cf61616278",
   "metadata": {
    "tags": []
   },
   "outputs": [],
   "source": [
    "spell_checked = []\n",
    "\n",
    "for review in reviews:\n",
    "    spell_checked.append(spacing(review))"
   ]
  },
  {
   "cell_type": "code",
   "execution_count": 31,
   "id": "46695805-0477-4234-b4a5-249ae3890913",
   "metadata": {},
   "outputs": [
    {
     "data": {
      "text/plain": [
       "['양 진짜 푸짐하고 너어무 맛있어요 앞으로 닭발은 여기서만 사 먹을래요',\n",
       " '맛잇개 먹엇어요. ㅋㅋㅋㅋ',\n",
       " '하 진짜 진짜 맛있다.... 똥집 튀김도 먹으면서 눈물 찔끔한 듯... 다이어트 버려...',\n",
       " '맵기도 양도 적당하고 맛있게 잘 먹었습니다',\n",
       " '세트가 엄청 푸짐하고 양이 많아요! 매운 거 잘못 먹어서 덜맵 게 선택했는데 딱이였어요! 왜 이제야 알았나 싶은 곳이에요 :) 맛있게 잘 먹었습니다!!',\n",
       " '항상 잘 먹고 있습니다',\n",
       " '양 많고 맛잇습니당',\n",
       " '맛있게 잘 먹었습니다',\n",
       " '양 푸짐하고 맛있게 잘 먹었습니다',\n",
       " '맛있어 용 진짜 밤에 확 닭발 땡길 때 딱이네요 ㅎㅎ',\n",
       " '맛있어요! 다음에 계속 주문할 게요.',\n",
       " '맛있게 먹었습니다 감사합니다.',\n",
       " '맛있게 먹었습니다 감사합니다.',\n",
       " '30 분이나 일찍 오셨네요 감사 감사 배고팠는데 찌개 반찬 모두 모두 깔끔하구 맛 있어요 두부 좋아하는데 엄청 크구 나무랄 데 없네요 오랜만에 집밥 먹는 거 같아요 잘 먹구~~ 자주 시킬 께용',\n",
       " '찌개 맛있어요 반찬은 좀 맛 없어요 ㅋㅋㅋ',\n",
       " '맞과 양 모두.과하지 않고.한 끼로 줄길 수 잊어요!',\n",
       " '잘 먹었습니다 담에 또 시킬게요',\n",
       " '반찬이 겁나 많네 여 맛있어요 근데 콩나물 항이 이 상해요',\n",
       " '어제 처음 주문했는데 맛있어서 오늘 저녁에 또 주문했어요 ㅎㅎ 맛있게 잘 먹었습니다~~ 다음에도 종종 주문할 게요 ~',\n",
       " '넘 맛있어요 1인 으루 시킨 거 아쉬워서 담에 2인이나 3인 으루 또 주문하려 구요 반찬도 넘 좋앗어요 ❤️']"
      ]
     },
     "execution_count": 31,
     "metadata": {},
     "output_type": "execute_result"
    }
   ],
   "source": [
    "spell_checked"
   ]
  },
  {
   "cell_type": "code",
   "execution_count": 33,
   "id": "69448e67-4870-4b8b-98a4-74414af69592",
   "metadata": {},
   "outputs": [],
   "source": [
    "reviews_df.columns = ['sentences']"
   ]
  },
  {
   "cell_type": "code",
   "execution_count": 179,
   "id": "2b198a17-808e-411a-9ad3-094dee7f9185",
   "metadata": {},
   "outputs": [
    {
     "data": {
      "text/html": [
       "<div>\n",
       "<style scoped>\n",
       "    .dataframe tbody tr th:only-of-type {\n",
       "        vertical-align: middle;\n",
       "    }\n",
       "\n",
       "    .dataframe tbody tr th {\n",
       "        vertical-align: top;\n",
       "    }\n",
       "\n",
       "    .dataframe thead th {\n",
       "        text-align: right;\n",
       "    }\n",
       "</style>\n",
       "<table border=\"1\" class=\"dataframe\">\n",
       "  <thead>\n",
       "    <tr style=\"text-align: right;\">\n",
       "      <th></th>\n",
       "      <th>sentences</th>\n",
       "    </tr>\n",
       "  </thead>\n",
       "  <tbody>\n",
       "    <tr>\n",
       "      <th>0</th>\n",
       "      <td>굿입니다~~~~~~</td>\n",
       "    </tr>\n",
       "    <tr>\n",
       "      <th>1</th>\n",
       "      <td>넘너무빠르고 맛있어여 ㅎㅎ</td>\n",
       "    </tr>\n",
       "    <tr>\n",
       "      <th>2</th>\n",
       "      <td>감사합니다!!!!!!!</td>\n",
       "    </tr>\n",
       "    <tr>\n",
       "      <th>3</th>\n",
       "      <td>잘먹었습니다 감사합니다</td>\n",
       "    </tr>\n",
       "    <tr>\n",
       "      <th>4</th>\n",
       "      <td>배달만 개선되묜 좋겟다..</td>\n",
       "    </tr>\n",
       "    <tr>\n",
       "      <th>...</th>\n",
       "      <td>...</td>\n",
       "    </tr>\n",
       "    <tr>\n",
       "      <th>93</th>\n",
       "      <td>👍👍👍👍👍</td>\n",
       "    </tr>\n",
       "    <tr>\n",
       "      <th>94</th>\n",
       "      <td>너무맛있어요. 서비스 감사합니다. 밀크티가 정말 맛있네요</td>\n",
       "    </tr>\n",
       "    <tr>\n",
       "      <th>95</th>\n",
       "      <td>처음 시켜봤는데 엄청 맛있네요 잘먹었습니다 !</td>\n",
       "    </tr>\n",
       "    <tr>\n",
       "      <th>96</th>\n",
       "      <td>크림브뤨레라뇨...대박이에여 어떻게 리뷰 이벤트로 크로플을 주시는거죠...! 사장님...</td>\n",
       "    </tr>\n",
       "    <tr>\n",
       "      <th>97</th>\n",
       "      <td>여기는 항상 맛있는곳입니다. 로제떡뽁이 주문했눈데 크림하고 거의 가까운맛이지만 그래...</td>\n",
       "    </tr>\n",
       "  </tbody>\n",
       "</table>\n",
       "<p>98 rows × 1 columns</p>\n",
       "</div>"
      ],
      "text/plain": [
       "                                            sentences\n",
       "0                                          굿입니다~~~~~~\n",
       "1                                      넘너무빠르고 맛있어여 ㅎㅎ\n",
       "2                                        감사합니다!!!!!!!\n",
       "3                                        잘먹었습니다 감사합니다\n",
       "4                                      배달만 개선되묜 좋겟다..\n",
       "..                                                ...\n",
       "93                                              👍👍👍👍👍\n",
       "94                    너무맛있어요. 서비스 감사합니다. 밀크티가 정말 맛있네요\n",
       "95                          처음 시켜봤는데 엄청 맛있네요 잘먹었습니다 !\n",
       "96  크림브뤨레라뇨...대박이에여 어떻게 리뷰 이벤트로 크로플을 주시는거죠...! 사장님...\n",
       "97  여기는 항상 맛있는곳입니다. 로제떡뽁이 주문했눈데 크림하고 거의 가까운맛이지만 그래...\n",
       "\n",
       "[98 rows x 1 columns]"
      ]
     },
     "execution_count": 179,
     "metadata": {},
     "output_type": "execute_result"
    }
   ],
   "source": [
    "reviews_df"
   ]
  },
  {
   "cell_type": "code",
   "execution_count": 184,
   "id": "7717e914-ad85-49d1-ba83-4e834f326ef4",
   "metadata": {},
   "outputs": [
    {
     "data": {
      "image/png": "[encoded data removed]",
      "text/plain": [
       "<Figure size 1000x600 with 1 Axes>"
      ]
     },
     "metadata": {},
     "output_type": "display_data"
    }
   ],
   "source": [
    "import matplotlib.pyplot as plt\n",
    "\n",
    "reviews_df['sentence_length'] = reviews_df['sentences'].apply(len)\n",
    "plt.figure(figsize=(10, 6))  # Adjust the figure size as needed\n",
    "plt.hist(reviews_df['sentence_length'], bins=20, color='blue', edgecolor='black')\n",
    "plt.title('Distribution of Sentence Lengths')\n",
    "plt.xlabel('Sentence Length')\n",
    "plt.ylabel('Frequency')\n",
    "plt.show()\n"
   ]
  },
  {
   "cell_type": "code",
   "execution_count": 34,
   "id": "9844d978-4350-44ec-ba36-32c79aa650e8",
   "metadata": {},
   "outputs": [],
   "source": [
    "reviews_df['sentences'].to_csv(\"test_data.csv\", index = False)"
   ]
  },
  {
   "cell_type": "code",
   "execution_count": null,
   "id": "f69575ee-26af-49e8-83c9-d809c631f787",
   "metadata": {},
   "outputs": [],
   "source": []
  }
 ],
 "metadata": {
  "kernelspec": {
   "display_name": "Python 3 (ipykernel)",
   "language": "python",
   "name": "python3"
  },
  "language_info": {
   "codemirror_mode": {
    "name": "ipython",
    "version": 3
   },
   "file_extension": ".py",
   "mimetype": "text/x-python",
   "name": "python",
   "nbconvert_exporter": "python",
   "pygments_lexer": "ipython3",
   "version": "3.9.13"
  }
 },
 "nbformat": 4,
 "nbformat_minor": 5
}
