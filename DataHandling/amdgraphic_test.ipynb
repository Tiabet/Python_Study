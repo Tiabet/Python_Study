{
 "cells": [
  {
   "cell_type": "code",
   "execution_count": 1,
   "id": "80002f09-1b70-4135-84e9-8af0896d8022",
   "metadata": {},
   "outputs": [
    {
     "name": "stdout",
     "output_type": "stream",
     "text": [
      "Result on AMD GPU:\n",
      "tf.Tensor([[35.]], shape=(1, 1), dtype=float32)\n"
     ]
    }
   ],
   "source": [
    "import tensorflow as tf\n",
    "\n",
    "# AMD GPU를 사용하기 위해 ROCm을 선택합니다.\n",
    "tf.config.set_visible_devices([], 'GPU')\n",
    "\n",
    "# AMD GPU에서 TensorFlow 연산을 수행합니다.\n",
    "with tf.device('/device:GPU:0'):\n",
    "    a = tf.constant([1.0, 2.0, 3.0, 4.0, 5.0], shape=[1, 5], name='a')\n",
    "    b = tf.constant([5.0, 4.0, 3.0, 2.0, 1.0], shape=[5, 1], name='b')\n",
    "    c = tf.matmul(a, b)\n",
    "\n",
    "# 결과를 출력합니다.\n",
    "print(\"Result on AMD GPU:\")\n",
    "print(c)\n"
   ]
  },
  {
   "cell_type": "code",
   "execution_count": 2,
   "id": "f38d1472-b77c-41f6-b64c-7465b511985f",
   "metadata": {},
   "outputs": [
    {
     "name": "stdout",
     "output_type": "stream",
     "text": [
      "No GPU available\n"
     ]
    }
   ],
   "source": [
    "import tensorflow as tf\n",
    "\n",
    "# Get the list of available physical GPUs\n",
    "physical_devices = tf.config.list_physical_devices('GPU')\n",
    "\n",
    "if physical_devices:\n",
    "    for gpu_instance in physical_devices:\n",
    "        print(f\"GPU device name: {gpu_instance.name}\")\n",
    "else:\n",
    "    print(\"No GPU available\")\n"
   ]
  },
  {
   "cell_type": "code",
   "execution_count": null,
   "id": "68e05670-db21-44ec-a14c-d07bc4e1f36b",
   "metadata": {},
   "outputs": [],
   "source": []
  }
 ],
 "metadata": {
  "kernelspec": {
   "display_name": "Python 3 (ipykernel)",
   "language": "python",
   "name": "python3"
  },
  "language_info": {
   "codemirror_mode": {
    "name": "ipython",
    "version": 3
   },
   "file_extension": ".py",
   "mimetype": "text/x-python",
   "name": "python",
   "nbconvert_exporter": "python",
   "pygments_lexer": "ipython3",
   "version": "3.9.13"
  }
 },
 "nbformat": 4,
 "nbformat_minor": 5
}
