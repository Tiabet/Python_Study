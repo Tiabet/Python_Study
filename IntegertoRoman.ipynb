{
 "cells": [
  {
   "cell_type": "code",
   "execution_count": 2,
   "id": "8eafd6a2-7915-424a-a0a8-0e98537642ce",
   "metadata": {},
   "outputs": [],
   "source": [
    "tmp = \"IIIIIIIII\""
   ]
  },
  {
   "cell_type": "code",
   "execution_count": 7,
   "id": "5e8ddf5d-61d3-4487-b575-e19079e7edeb",
   "metadata": {},
   "outputs": [
    {
     "ename": "TypeError",
     "evalue": "replace expected at most 3 arguments, got 4",
     "output_type": "error",
     "traceback": [
      "\u001b[1;31m---------------------------------------------------------------------------\u001b[0m",
      "\u001b[1;31mTypeError\u001b[0m                                 Traceback (most recent call last)",
      "\u001b[1;32m~\\AppData\\Local\\Temp\\ipykernel_4740\\3088424210.py\u001b[0m in \u001b[0;36m<module>\u001b[1;34m\u001b[0m\n\u001b[1;32m----> 1\u001b[1;33m \u001b[0mtmp\u001b[0m\u001b[1;33m.\u001b[0m\u001b[0mreplace\u001b[0m\u001b[1;33m(\u001b[0m\u001b[1;34m\"IIIII\"\u001b[0m\u001b[1;33m,\u001b[0m\u001b[1;34m\"V\"\u001b[0m\u001b[1;33m,\u001b[0m\u001b[1;36m3\u001b[0m\u001b[1;33m,\u001b[0m\u001b[1;36m8\u001b[0m\u001b[1;33m)\u001b[0m\u001b[1;33m\u001b[0m\u001b[1;33m\u001b[0m\u001b[0m\n\u001b[0m",
      "\u001b[1;31mTypeError\u001b[0m: replace expected at most 3 arguments, got 4"
     ]
    }
   ],
   "source": [
    "tmp.replace(\"IIIII\",\"V\")"
   ]
  },
  {
   "cell_type": "code",
   "execution_count": 9,
   "id": "b1662f15-2c1b-4832-9bca-afeb14272398",
   "metadata": {},
   "outputs": [],
   "source": [
    "class Solution(object):\n",
    "    def intToRoman(self, num):\n",
    "        \"\"\"\n",
    "        :type num: int\n",
    "        :rtype: str\n",
    "        \"\"\"\n",
    "        result = \"\"\n",
    "        count=0\n",
    "        while num!=0:\n",
    "            num, now = divmod(num, 10)\n",
    "            if count == 0:\n",
    "                tmp = \"\"\n",
    "                while now !=0:\n",
    "                    now-=1\n",
    "                    tmp+=\"I\"\n",
    "                if len(tmp)==4:\n",
    "                    tmp = \"IV\"\n",
    "                elif len(tmp) ==9:\n",
    "                    tmp = \"IX\"\n",
    "                elif len(tmp)>4 and len(tmp)<9:\n",
    "                    tmp.replace(\"IIIII\",\"V\")\n",
    "                result = tmp + result\n",
    "\n",
    "            elif count == 1:\n",
    "                continue\n",
    "\n",
    "            elif count == 2:\n",
    "                continue\n",
    "            elif count == 3 :\n",
    "                continue\n",
    "            \n",
    "            return result\n"
   ]
  },
  {
   "cell_type": "code",
   "execution_count": 8,
   "id": "6e87aa63-7434-48ea-a754-414b4784c3e6",
   "metadata": {},
   "outputs": [],
   "source": [
    "class Solution:\n",
    "    def intToRoman(self, num: int) -> str:\n",
    "        Roman = \"\"\n",
    "        storeIntRoman = [[1000, \"M\"], [900, \"CM\"], [500, \"D\"], [400, \"CD\"], [100, \"C\"], [90, \"XC\"], [50, \"L\"], [40, \"XL\"], [10, \"X\"], [9, \"IX\"], [5, \"V\"], [4, \"IV\"], [1, \"I\"]]\n",
    "        for i in range(len(storeIntRoman)):\n",
    "            while num >= storeIntRoman[i][0]:\n",
    "                Roman += storeIntRoman[i][1]\n",
    "                num -= storeIntRoman[i][0]\n",
    "        return Roman"
   ]
  },
  {
   "cell_type": "code",
   "execution_count": null,
   "id": "33b9413f-b526-4a66-a0ff-e111bf0a066e",
   "metadata": {},
   "outputs": [],
   "source": []
  }
 ],
 "metadata": {
  "kernelspec": {
   "display_name": "Python 3 (ipykernel)",
   "language": "python",
   "name": "python3"
  },
  "language_info": {
   "codemirror_mode": {
    "name": "ipython",
    "version": 3
   },
   "file_extension": ".py",
   "mimetype": "text/x-python",
   "name": "python",
   "nbconvert_exporter": "python",
   "pygments_lexer": "ipython3",
   "version": "3.9.13"
  }
 },
 "nbformat": 4,
 "nbformat_minor": 5
}
