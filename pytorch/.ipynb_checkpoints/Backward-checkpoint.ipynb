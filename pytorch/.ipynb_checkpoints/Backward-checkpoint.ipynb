{
 "cells": [
  {
   "cell_type": "code",
   "execution_count": 1,
   "id": "51ff7c43-fd90-4831-a485-c04119442e3a",
   "metadata": {},
   "outputs": [
    {
     "name": "stdout",
     "output_type": "stream",
     "text": [
      "tensor([[1., 1.],\n",
      "        [1., 1.]])\n"
     ]
    }
   ],
   "source": [
    "import torch\n",
    "from torch.autograd import Variable\n",
    "\n",
    "x = Variable(2*torch.ones(2, 2), requires_grad=True)\n",
    "z = x\n",
    "z.backward(torch.ones_like(z))\n",
    "print(x.grad)"
   ]
  },
  {
   "cell_type": "code",
   "execution_count": 7,
   "id": "f73f9e79-b204-4bf6-899c-aaafc9d0d1d0",
   "metadata": {},
   "outputs": [
    {
     "name": "stdout",
     "output_type": "stream",
     "text": [
      "tensor([[2., 2.],\n",
      "        [2., 2.]])\n"
     ]
    }
   ],
   "source": [
    "x = Variable(2*torch.ones(2, 2), requires_grad=True)\n",
    "x.backward(x)\n",
    "print(x.grad)"
   ]
  },
  {
   "cell_type": "code",
   "execution_count": 8,
   "id": "ff9c9c6d-2e17-4219-ab42-b0e46695aff6",
   "metadata": {},
   "outputs": [
    {
     "ename": "RuntimeError",
     "evalue": "grad can be implicitly created only for scalar outputs",
     "output_type": "error",
     "traceback": [
      "\u001b[1;31m---------------------------------------------------------------------------\u001b[0m",
      "\u001b[1;31mRuntimeError\u001b[0m                              Traceback (most recent call last)",
      "\u001b[1;32m~\\AppData\\Local\\Temp\\ipykernel_25024\\479077285.py\u001b[0m in \u001b[0;36m<module>\u001b[1;34m\u001b[0m\n\u001b[1;32m----> 1\u001b[1;33m \u001b[0mx\u001b[0m\u001b[1;33m.\u001b[0m\u001b[0mbackward\u001b[0m\u001b[1;33m(\u001b[0m\u001b[1;33m)\u001b[0m\u001b[1;33m\u001b[0m\u001b[1;33m\u001b[0m\u001b[0m\n\u001b[0m",
      "\u001b[1;32mC:\\Anaconda\\lib\\site-packages\\torch\\_tensor.py\u001b[0m in \u001b[0;36mbackward\u001b[1;34m(self, gradient, retain_graph, create_graph, inputs)\u001b[0m\n\u001b[0;32m    579\u001b[0m                 \u001b[0minputs\u001b[0m\u001b[1;33m=\u001b[0m\u001b[0minputs\u001b[0m\u001b[1;33m,\u001b[0m\u001b[1;33m\u001b[0m\u001b[1;33m\u001b[0m\u001b[0m\n\u001b[0;32m    580\u001b[0m             )\n\u001b[1;32m--> 581\u001b[1;33m         torch.autograd.backward(\n\u001b[0m\u001b[0;32m    582\u001b[0m             \u001b[0mself\u001b[0m\u001b[1;33m,\u001b[0m \u001b[0mgradient\u001b[0m\u001b[1;33m,\u001b[0m \u001b[0mretain_graph\u001b[0m\u001b[1;33m,\u001b[0m \u001b[0mcreate_graph\u001b[0m\u001b[1;33m,\u001b[0m \u001b[0minputs\u001b[0m\u001b[1;33m=\u001b[0m\u001b[0minputs\u001b[0m\u001b[1;33m\u001b[0m\u001b[1;33m\u001b[0m\u001b[0m\n\u001b[0;32m    583\u001b[0m         )\n",
      "\u001b[1;32mC:\\Anaconda\\lib\\site-packages\\torch\\autograd\\__init__.py\u001b[0m in \u001b[0;36mbackward\u001b[1;34m(tensors, grad_tensors, retain_graph, create_graph, grad_variables, inputs)\u001b[0m\n\u001b[0;32m    338\u001b[0m \u001b[1;33m\u001b[0m\u001b[0m\n\u001b[0;32m    339\u001b[0m     \u001b[0mgrad_tensors_\u001b[0m \u001b[1;33m=\u001b[0m \u001b[0m_tensor_or_tensors_to_tuple\u001b[0m\u001b[1;33m(\u001b[0m\u001b[0mgrad_tensors\u001b[0m\u001b[1;33m,\u001b[0m \u001b[0mlen\u001b[0m\u001b[1;33m(\u001b[0m\u001b[0mtensors\u001b[0m\u001b[1;33m)\u001b[0m\u001b[1;33m)\u001b[0m\u001b[1;33m\u001b[0m\u001b[1;33m\u001b[0m\u001b[0m\n\u001b[1;32m--> 340\u001b[1;33m     \u001b[0mgrad_tensors_\u001b[0m \u001b[1;33m=\u001b[0m \u001b[0m_make_grads\u001b[0m\u001b[1;33m(\u001b[0m\u001b[0mtensors\u001b[0m\u001b[1;33m,\u001b[0m \u001b[0mgrad_tensors_\u001b[0m\u001b[1;33m,\u001b[0m \u001b[0mis_grads_batched\u001b[0m\u001b[1;33m=\u001b[0m\u001b[1;32mFalse\u001b[0m\u001b[1;33m)\u001b[0m\u001b[1;33m\u001b[0m\u001b[1;33m\u001b[0m\u001b[0m\n\u001b[0m\u001b[0;32m    341\u001b[0m     \u001b[1;32mif\u001b[0m \u001b[0mretain_graph\u001b[0m \u001b[1;32mis\u001b[0m \u001b[1;32mNone\u001b[0m\u001b[1;33m:\u001b[0m\u001b[1;33m\u001b[0m\u001b[1;33m\u001b[0m\u001b[0m\n\u001b[0;32m    342\u001b[0m         \u001b[0mretain_graph\u001b[0m \u001b[1;33m=\u001b[0m \u001b[0mcreate_graph\u001b[0m\u001b[1;33m\u001b[0m\u001b[1;33m\u001b[0m\u001b[0m\n",
      "\u001b[1;32mC:\\Anaconda\\lib\\site-packages\\torch\\autograd\\__init__.py\u001b[0m in \u001b[0;36m_make_grads\u001b[1;34m(outputs, grads, is_grads_batched)\u001b[0m\n\u001b[0;32m    196\u001b[0m                     \u001b[0mout_numel_is_1\u001b[0m \u001b[1;33m=\u001b[0m \u001b[0mout\u001b[0m\u001b[1;33m.\u001b[0m\u001b[0mnumel\u001b[0m\u001b[1;33m(\u001b[0m\u001b[1;33m)\u001b[0m \u001b[1;33m==\u001b[0m \u001b[1;36m1\u001b[0m\u001b[1;33m\u001b[0m\u001b[1;33m\u001b[0m\u001b[0m\n\u001b[0;32m    197\u001b[0m                 \u001b[1;32mif\u001b[0m \u001b[1;32mnot\u001b[0m \u001b[0mout_numel_is_1\u001b[0m\u001b[1;33m:\u001b[0m\u001b[1;33m\u001b[0m\u001b[1;33m\u001b[0m\u001b[0m\n\u001b[1;32m--> 198\u001b[1;33m                     raise RuntimeError(\n\u001b[0m\u001b[0;32m    199\u001b[0m                         \u001b[1;34m\"grad can be implicitly created only for scalar outputs\"\u001b[0m\u001b[1;33m\u001b[0m\u001b[1;33m\u001b[0m\u001b[0m\n\u001b[0;32m    200\u001b[0m                     )\n",
      "\u001b[1;31mRuntimeError\u001b[0m: grad can be implicitly created only for scalar outputs"
     ]
    }
   ],
   "source": [
    "x.backward()"
   ]
  },
  {
   "cell_type": "code",
   "execution_count": 17,
   "id": "97c4ba99-7aeb-4b9f-888e-0c08032c177d",
   "metadata": {},
   "outputs": [
    {
     "name": "stdout",
     "output_type": "stream",
     "text": [
      "tensor(6., requires_grad=True)\n"
     ]
    },
    {
     "name": "stderr",
     "output_type": "stream",
     "text": [
      "C:\\Users\\kkksk\\AppData\\Local\\Temp\\ipykernel_25024\\2811953256.py:8: UserWarning: To copy construct from a tensor, it is recommended to use sourceTensor.clone().detach() or sourceTensor.clone().detach().requires_grad_(True), rather than torch.tensor(sourceTensor).\n",
      "  z = torch.tensor(x * y, requires_grad = True)          # 곱셈 연산\n"
     ]
    }
   ],
   "source": [
    "import torch\n",
    "\n",
    "# 입력 데이터\n",
    "x = torch.tensor(2.0, requires_grad=True)  # 학습 가능한 변수\n",
    "y = torch.tensor(3.0, requires_grad=True)\n",
    "\n",
    "# Forward pass: 계산 그래프 생성\n",
    "z = torch.tensor(x * y, requires_grad = True)          # 곱셈 연산\n",
    "loss = z ** 2      # 손실 함수 (제곱)\n",
    "print(z)\n",
    "\n",
    "# # Backward pass: 기울기 계산\n",
    "# loss.backward()\n",
    "\n",
    "# # 출력\n",
    "# print(\"z:\", z.item())                   # z 값\n",
    "# print(\"Loss:\", loss.item())            # 손실 값\n",
    "# print(\"Gradient of x:\", x.grad.item()) # x에 대한 기울기\n",
    "# print(\"Gradient of y:\", y.grad.item()) # y에 대한 기울기\n",
    "# print(\"Gradient of z:\", z)\n"
   ]
  },
  {
   "cell_type": "code",
   "execution_count": 18,
   "id": "65d4f44c-c49d-4fae-a7ca-cc8b7c370a0e",
   "metadata": {},
   "outputs": [
    {
     "name": "stdout",
     "output_type": "stream",
     "text": [
      "z: 6.0\n",
      "Loss: 36.0\n",
      "Gradient of x: 36.0\n",
      "Gradient of y: 24.0\n"
     ]
    }
   ],
   "source": [
    "import torch\n",
    "\n",
    "# 입력 데이터\n",
    "x = torch.tensor(2.0, requires_grad=True)  # 학습 가능한 변수\n",
    "y = torch.tensor(3.0, requires_grad=True)\n",
    "\n",
    "# Forward pass: 계산 그래프 생성\n",
    "z = x * y          # 곱셈 연산\n",
    "loss = z ** 2      # 손실 함수 (제곱)\n",
    "\n",
    "# Backward pass: 기울기 계산\n",
    "loss.backward()\n",
    "\n",
    "# 출력\n",
    "print(\"z:\", z.item())                   # z 값\n",
    "print(\"Loss:\", loss.item())            # 손실 값\n",
    "print(\"Gradient of x:\", x.grad.item()) # x에 대한 기울기\n",
    "print(\"Gradient of y:\", y.grad.item()) # y에 대한 기울기\n"
   ]
  },
  {
   "cell_type": "code",
   "execution_count": 19,
   "id": "48f5082f-ec6a-448c-95a7-d1cecf58c6c0",
   "metadata": {},
   "outputs": [
    {
     "name": "stdout",
     "output_type": "stream",
     "text": [
      "Epoch [10/100], Loss: 0.8507\n",
      "Epoch [20/100], Loss: 0.0311\n",
      "Epoch [30/100], Loss: 0.0094\n",
      "Epoch [40/100], Loss: 0.0083\n",
      "Epoch [50/100], Loss: 0.0078\n",
      "Epoch [60/100], Loss: 0.0074\n",
      "Epoch [70/100], Loss: 0.0069\n",
      "Epoch [80/100], Loss: 0.0065\n",
      "Epoch [90/100], Loss: 0.0061\n",
      "Epoch [100/100], Loss: 0.0058\n",
      "Learned weight (w): 2.0631320476531982\n",
      "Learned bias (b): 0.8143841624259949\n"
     ]
    }
   ],
   "source": [
    "import torch\n",
    "import torch.nn as nn\n",
    "import torch.optim as optim\n",
    "\n",
    "# 1. 데이터 정의 (y = 2x + 1)\n",
    "x_data = torch.tensor([[1.0], [2.0], [3.0], [4.0]])  # 입력 데이터\n",
    "y_data = torch.tensor([[3.0], [5.0], [7.0], [9.0]])  # 출력 데이터\n",
    "\n",
    "# 2. 모델 정의\n",
    "class LinearRegressionModel(nn.Module):\n",
    "    def __init__(self):\n",
    "        super(LinearRegressionModel, self).__init__()\n",
    "        self.linear = nn.Linear(1, 1)  # 1 input feature, 1 output feature\n",
    "\n",
    "    def forward(self, x):\n",
    "        return self.linear(x)\n",
    "\n",
    "model = LinearRegressionModel()\n",
    "\n",
    "# 3. 손실 함수와 옵티마이저 정의\n",
    "criterion = nn.MSELoss()  # Mean Squared Error\n",
    "optimizer = optim.SGD(model.parameters(), lr=0.01)  # Stochastic Gradient Descent\n",
    "\n",
    "# 4. 학습 루프\n",
    "num_epochs = 100\n",
    "for epoch in range(num_epochs):\n",
    "    # Forward Pass: 예측값 계산\n",
    "    predictions = model(x_data)\n",
    "    loss = criterion(predictions, y_data)\n",
    "\n",
    "    # Backward Pass: 기울기 계산\n",
    "    optimizer.zero_grad()  # 기존 기울기 초기화\n",
    "    loss.backward()  # 손실에 대한 기울기 계산\n",
    "\n",
    "    # 가중치 업데이트\n",
    "    optimizer.step()  # 가중치 업데이트\n",
    "\n",
    "    # 10번마다 학습 상태 출력\n",
    "    if (epoch + 1) % 10 == 0:\n",
    "        print(f\"Epoch [{epoch+1}/{num_epochs}], Loss: {loss.item():.4f}\")\n",
    "\n",
    "# 5. 학습된 파라미터 출력\n",
    "print(\"Learned weight (w):\", model.linear.weight.item())\n",
    "print(\"Learned bias (b):\", model.linear.bias.item())\n"
   ]
  },
  {
   "cell_type": "code",
   "execution_count": null,
   "id": "d37385f7-9c1f-498f-a82e-7a72e16ae850",
   "metadata": {},
   "outputs": [],
   "source": []
  }
 ],
 "metadata": {
  "kernelspec": {
   "display_name": "Python 3 (ipykernel)",
   "language": "python",
   "name": "python3"
  },
  "language_info": {
   "codemirror_mode": {
    "name": "ipython",
    "version": 3
   },
   "file_extension": ".py",
   "mimetype": "text/x-python",
   "name": "python",
   "nbconvert_exporter": "python",
   "pygments_lexer": "ipython3",
   "version": "3.9.13"
  }
 },
 "nbformat": 4,
 "nbformat_minor": 5
}
