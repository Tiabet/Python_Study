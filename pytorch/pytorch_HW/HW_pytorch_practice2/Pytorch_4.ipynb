{
  "nbformat": 4,
  "nbformat_minor": 0,
  "metadata": {
    "colab": {
      "provenance": []
    },
    "kernelspec": {
      "name": "python3",
      "display_name": "Python 3"
    },
    "language_info": {
      "name": "python"
    }
  },
  "cells": [
    {
      "cell_type": "markdown",
      "source": [
        "4.1 로지스틱 회귀분석"
      ],
      "metadata": {
        "id": "1BzYu13EHIQm"
      }
    },
    {
      "cell_type": "code",
      "execution_count": null,
      "metadata": {
        "id": "ZOJOK_A_A7_C"
      },
      "outputs": [],
      "source": [
        "import statsmodels.api as sm\n",
        "import pandas as pd"
      ]
    },
    {
      "cell_type": "code",
      "source": [
        "df = pd.read_csv('/content/sample_data/student_admission_train.csv', index_col = 0)\n",
        "print(df.info())"
      ],
      "metadata": {
        "colab": {
          "base_uri": "https://localhost:8080/"
        },
        "id": "9A89YZodEIUV",
        "outputId": "34172194-bc81-411a-f857-acf80f4fda8a"
      },
      "execution_count": null,
      "outputs": [
        {
          "output_type": "stream",
          "name": "stdout",
          "text": [
            "<class 'pandas.core.frame.DataFrame'>\n",
            "Int64Index: 30 entries, 16 to 19\n",
            "Data columns (total 4 columns):\n",
            " #   Column           Non-Null Count  Dtype  \n",
            "---  ------           --------------  -----  \n",
            " 0   gmat             30 non-null     int64  \n",
            " 1   gpa              30 non-null     float64\n",
            " 2   work_experience  30 non-null     int64  \n",
            " 3   admitted         30 non-null     int64  \n",
            "dtypes: float64(1), int64(3)\n",
            "memory usage: 1.2 KB\n",
            "None\n"
          ]
        }
      ]
    },
    {
      "cell_type": "code",
      "source": [
        "print(df.head())"
      ],
      "metadata": {
        "colab": {
          "base_uri": "https://localhost:8080/"
        },
        "id": "hRNAxCRFEQr2",
        "outputId": "ee50f886-4ab7-4682-b297-fbb5f67ecea6"
      },
      "execution_count": null,
      "outputs": [
        {
          "output_type": "stream",
          "name": "stdout",
          "text": [
            "    gmat  gpa  work_experience  admitted\n",
            "16   580  2.7                4         0\n",
            "33   660  3.3                6         1\n",
            "8    740  3.3                5         1\n",
            "38   590  1.7                4         0\n",
            "32   660  4.0                4         1\n"
          ]
        }
      ]
    },
    {
      "cell_type": "code",
      "source": [
        "X = df[['gmat', 'gpa','work_experience']]\n",
        "Y = df[['admitted']]\n",
        "\n",
        "print(type(X))\n",
        "print(type(Y))\n",
        "print(X.shape)\n",
        "print(Y.shape)"
      ],
      "metadata": {
        "colab": {
          "base_uri": "https://localhost:8080/"
        },
        "id": "vrFrLg6cEh9L",
        "outputId": "8854b080-6808-4af3-a2a4-972b215e0cb7"
      },
      "execution_count": null,
      "outputs": [
        {
          "output_type": "stream",
          "name": "stdout",
          "text": [
            "<class 'pandas.core.frame.DataFrame'>\n",
            "<class 'pandas.core.frame.DataFrame'>\n",
            "(30, 3)\n",
            "(30, 1)\n"
          ]
        }
      ]
    },
    {
      "cell_type": "code",
      "source": [
        "X = sm.add_constant(X)\n",
        "model = sm.Logit(Y, X)\n",
        "results = model.fit()"
      ],
      "metadata": {
        "colab": {
          "base_uri": "https://localhost:8080/"
        },
        "id": "bd85YUZRElgY",
        "outputId": "b6645bb2-91cf-4e9b-eee9-825b9b331400"
      },
      "execution_count": null,
      "outputs": [
        {
          "output_type": "stream",
          "name": "stdout",
          "text": [
            "Optimization terminated successfully.\n",
            "         Current function value: 0.247296\n",
            "         Iterations 8\n"
          ]
        }
      ]
    },
    {
      "cell_type": "code",
      "source": [
        "print(results.summary())"
      ],
      "metadata": {
        "colab": {
          "base_uri": "https://localhost:8080/"
        },
        "id": "ENNVqL9LE8nA",
        "outputId": "acb954ee-3053-4534-a174-e4b9f701fc20"
      },
      "execution_count": null,
      "outputs": [
        {
          "output_type": "stream",
          "name": "stdout",
          "text": [
            "                           Logit Regression Results                           \n",
            "==============================================================================\n",
            "Dep. Variable:               admitted   No. Observations:                   30\n",
            "Model:                          Logit   Df Residuals:                       26\n",
            "Method:                           MLE   Df Model:                            3\n",
            "Date:                Tue, 04 Apr 2023   Pseudo R-squ.:                  0.6432\n",
            "Time:                        07:04:33   Log-Likelihood:                -7.4189\n",
            "converged:                       True   LL-Null:                       -20.794\n",
            "Covariance Type:            nonrobust   LLR p-value:                 6.639e-06\n",
            "===================================================================================\n",
            "                      coef    std err          z      P>|z|      [0.025      0.975]\n",
            "-----------------------------------------------------------------------------------\n",
            "const             -16.3315      8.601     -1.899      0.058     -33.189       0.526\n",
            "gmat                0.0025      0.018      0.141      0.888      -0.032       0.037\n",
            "gpa                 3.3208      2.397      1.385      0.166      -1.378       8.020\n",
            "work_experience     0.9975      0.585      1.704      0.088      -0.150       2.145\n",
            "===================================================================================\n"
          ]
        }
      ]
    },
    {
      "cell_type": "code",
      "source": [
        "#Logit.from_formula() 함수 이용\n",
        "model = sm.Logit.from_formula('admitted ~ gmat + gpa + work_experience', df)\n",
        "results = model.fit()\n",
        "\n",
        "print(results.summary())"
      ],
      "metadata": {
        "colab": {
          "base_uri": "https://localhost:8080/"
        },
        "id": "hLRoY8E5FOGx",
        "outputId": "6cd68ba2-271e-44b2-a514-aea181acc63d"
      },
      "execution_count": null,
      "outputs": [
        {
          "output_type": "stream",
          "name": "stdout",
          "text": [
            "Optimization terminated successfully.\n",
            "         Current function value: 0.247296\n",
            "         Iterations 8\n",
            "                           Logit Regression Results                           \n",
            "==============================================================================\n",
            "Dep. Variable:               admitted   No. Observations:                   30\n",
            "Model:                          Logit   Df Residuals:                       26\n",
            "Method:                           MLE   Df Model:                            3\n",
            "Date:                Tue, 04 Apr 2023   Pseudo R-squ.:                  0.6432\n",
            "Time:                        07:06:51   Log-Likelihood:                -7.4189\n",
            "converged:                       True   LL-Null:                       -20.794\n",
            "Covariance Type:            nonrobust   LLR p-value:                 6.639e-06\n",
            "===================================================================================\n",
            "                      coef    std err          z      P>|z|      [0.025      0.975]\n",
            "-----------------------------------------------------------------------------------\n",
            "Intercept         -16.3315      8.601     -1.899      0.058     -33.189       0.526\n",
            "gmat                0.0025      0.018      0.141      0.888      -0.032       0.037\n",
            "gpa                 3.3208      2.397      1.385      0.166      -1.378       8.020\n",
            "work_experience     0.9975      0.585      1.704      0.088      -0.150       2.145\n",
            "===================================================================================\n"
          ]
        }
      ]
    },
    {
      "cell_type": "code",
      "source": [
        "new_candidates = {'const':[1],\n",
        "                  'gmat': [590],\n",
        "                  'gpa': [2],\n",
        "                  'work_experience': [3]\n",
        "                  }\n",
        "df2 = pd.DataFrame(new_candidates)\n",
        "print(df2)"
      ],
      "metadata": {
        "colab": {
          "base_uri": "https://localhost:8080/"
        },
        "id": "sUb8b2wkFv7q",
        "outputId": "839a720c-c408-48b0-a85d-1acf601e890b"
      },
      "execution_count": null,
      "outputs": [
        {
          "output_type": "stream",
          "name": "stdout",
          "text": [
            "   const  gmat  gpa  work_experience\n",
            "0      1   590    2                3\n"
          ]
        }
      ]
    },
    {
      "cell_type": "code",
      "source": [
        "y_pred=results.predict(df2)\n",
        "print (y_pred)"
      ],
      "metadata": {
        "colab": {
          "base_uri": "https://localhost:8080/"
        },
        "id": "-Qsr_rbeGHHk",
        "outputId": "5835273a-613a-460c-8928-c04a687c699e"
      },
      "execution_count": null,
      "outputs": [
        {
          "output_type": "stream",
          "name": "stdout",
          "text": [
            "0    0.005377\n",
            "dtype: float64\n"
          ]
        }
      ]
    },
    {
      "cell_type": "code",
      "source": [
        "import numpy as np\n",
        "threshold = 0.5\n",
        "\n",
        "y_pred = (y_pred > threshold).astype(np.int8) \n",
        "print(y_pred)"
      ],
      "metadata": {
        "colab": {
          "base_uri": "https://localhost:8080/"
        },
        "id": "qKbVJ8X-GJGp",
        "outputId": "ae53cc81-232c-47bd-a463-fdc58a674afe"
      },
      "execution_count": null,
      "outputs": [
        {
          "output_type": "stream",
          "name": "stdout",
          "text": [
            "0    0\n",
            "dtype: int8\n"
          ]
        }
      ]
    },
    {
      "cell_type": "code",
      "source": [
        "new_candidates = {'const':[1,1,1,1,1],\n",
        "                  'gmat': [590,740,680,610,710],\n",
        "                  'gpa': [2,3.7,3.3,2.3,3],\n",
        "                  'work_experience': [3,4,6,1,5]\n",
        "                  }\n",
        "\n",
        "df2 = pd.DataFrame(new_candidates,columns= ['const', 'gmat', 'gpa','work_experience'])\n",
        "\n",
        "print(df2)"
      ],
      "metadata": {
        "colab": {
          "base_uri": "https://localhost:8080/"
        },
        "id": "xkoPwv2iGj91",
        "outputId": "2dc48376-ef86-49b9-b70b-559b30893635"
      },
      "execution_count": null,
      "outputs": [
        {
          "output_type": "stream",
          "name": "stdout",
          "text": [
            "   const  gmat  gpa  work_experience\n",
            "0      1   590  2.0                3\n",
            "1      1   740  3.7                4\n",
            "2      1   680  3.3                6\n",
            "3      1   610  2.3                1\n",
            "4      1   710  3.0                5\n"
          ]
        }
      ]
    },
    {
      "cell_type": "code",
      "source": [
        "y_pred=results.predict(df2)\n",
        "print (y_pred)"
      ],
      "metadata": {
        "colab": {
          "base_uri": "https://localhost:8080/"
        },
        "id": "FD6HTNaYG73-",
        "outputId": "98d6d7b6-974c-49dc-a8f1-3dd01f3199dd"
      },
      "execution_count": null,
      "outputs": [
        {
          "output_type": "stream",
          "name": "stdout",
          "text": [
            "0    0.005377\n",
            "1    0.857911\n",
            "2    0.910066\n",
            "3    0.002089\n",
            "4    0.597692\n",
            "dtype: float64\n"
          ]
        }
      ]
    },
    {
      "cell_type": "code",
      "source": [
        "y_pred = (y_pred > threshold).astype(np.int8) \n",
        "print(y_pred)"
      ],
      "metadata": {
        "colab": {
          "base_uri": "https://localhost:8080/"
        },
        "id": "3dJ9d1JxG_rH",
        "outputId": "3b9943d9-0804-46da-a1dd-13cb55736b18"
      },
      "execution_count": null,
      "outputs": [
        {
          "output_type": "stream",
          "name": "stdout",
          "text": [
            "0    0\n",
            "1    1\n",
            "2    1\n",
            "3    0\n",
            "4    1\n",
            "dtype: int8\n"
          ]
        }
      ]
    },
    {
      "cell_type": "markdown",
      "source": [
        "4.2 머신러닝 기반 로지스틱 회귀분석"
      ],
      "metadata": {
        "id": "RpGsdAKwHLwh"
      }
    },
    {
      "cell_type": "markdown",
      "source": [
        "1) scikit-learn을 이용한 머신러닝"
      ],
      "metadata": {
        "id": "BfP1MRE9H_9a"
      }
    },
    {
      "cell_type": "code",
      "source": [
        "import pandas as pd\n",
        "from sklearn.linear_model import LogisticRegression"
      ],
      "metadata": {
        "id": "7FiIgvXQHDTr"
      },
      "execution_count": null,
      "outputs": []
    },
    {
      "cell_type": "code",
      "source": [
        "df = pd.read_csv('/content/sample_data/student_admission_train.csv', index_col = 0)\n",
        "print(df.info())"
      ],
      "metadata": {
        "colab": {
          "base_uri": "https://localhost:8080/"
        },
        "id": "z9xvrAkbIFNL",
        "outputId": "d55324f7-5787-4c12-c4c9-1f33bbc5504e"
      },
      "execution_count": null,
      "outputs": [
        {
          "output_type": "stream",
          "name": "stdout",
          "text": [
            "<class 'pandas.core.frame.DataFrame'>\n",
            "Int64Index: 30 entries, 16 to 19\n",
            "Data columns (total 4 columns):\n",
            " #   Column           Non-Null Count  Dtype  \n",
            "---  ------           --------------  -----  \n",
            " 0   gmat             30 non-null     int64  \n",
            " 1   gpa              30 non-null     float64\n",
            " 2   work_experience  30 non-null     int64  \n",
            " 3   admitted         30 non-null     int64  \n",
            "dtypes: float64(1), int64(3)\n",
            "memory usage: 1.2 KB\n",
            "None\n"
          ]
        }
      ]
    },
    {
      "cell_type": "code",
      "source": [
        "print(df.head())"
      ],
      "metadata": {
        "colab": {
          "base_uri": "https://localhost:8080/"
        },
        "id": "L-7k0mIdIKJ_",
        "outputId": "cd78460f-f20e-4196-ee1b-9cd09326315c"
      },
      "execution_count": null,
      "outputs": [
        {
          "output_type": "stream",
          "name": "stdout",
          "text": [
            "    gmat  gpa  work_experience  admitted\n",
            "16   580  2.7                4         0\n",
            "33   660  3.3                6         1\n",
            "8    740  3.3                5         1\n",
            "38   590  1.7                4         0\n",
            "32   660  4.0                4         1\n"
          ]
        }
      ]
    },
    {
      "cell_type": "code",
      "source": [
        "X = df[['gmat', 'gpa','work_experience']]\n",
        "y = df['admitted']\n",
        "print(X.shape)\n",
        "print(y.shape)"
      ],
      "metadata": {
        "colab": {
          "base_uri": "https://localhost:8080/"
        },
        "id": "_8ylzcRFIMRx",
        "outputId": "15026d66-3082-4578-b935-9ae5a4877af9"
      },
      "execution_count": null,
      "outputs": [
        {
          "output_type": "stream",
          "name": "stdout",
          "text": [
            "(30, 3)\n",
            "(30,)\n"
          ]
        }
      ]
    },
    {
      "cell_type": "code",
      "source": [
        "model = LogisticRegression(random_state=0, fit_intercept = True)\n",
        "model.fit(X, y)"
      ],
      "metadata": {
        "colab": {
          "base_uri": "https://localhost:8080/",
          "height": 75
        },
        "id": "DFJmjanLIch6",
        "outputId": "b11632b3-32e1-45d2-ab95-e125b080865e"
      },
      "execution_count": null,
      "outputs": [
        {
          "output_type": "execute_result",
          "data": {
            "text/plain": [
              "LogisticRegression(random_state=0)"
            ],
            "text/html": [
              "<style>#sk-container-id-2 {color: black;background-color: white;}#sk-container-id-2 pre{padding: 0;}#sk-container-id-2 div.sk-toggleable {background-color: white;}#sk-container-id-2 label.sk-toggleable__label {cursor: pointer;display: block;width: 100%;margin-bottom: 0;padding: 0.3em;box-sizing: border-box;text-align: center;}#sk-container-id-2 label.sk-toggleable__label-arrow:before {content: \"▸\";float: left;margin-right: 0.25em;color: #696969;}#sk-container-id-2 label.sk-toggleable__label-arrow:hover:before {color: black;}#sk-container-id-2 div.sk-estimator:hover label.sk-toggleable__label-arrow:before {color: black;}#sk-container-id-2 div.sk-toggleable__content {max-height: 0;max-width: 0;overflow: hidden;text-align: left;background-color: #f0f8ff;}#sk-container-id-2 div.sk-toggleable__content pre {margin: 0.2em;color: black;border-radius: 0.25em;background-color: #f0f8ff;}#sk-container-id-2 input.sk-toggleable__control:checked~div.sk-toggleable__content {max-height: 200px;max-width: 100%;overflow: auto;}#sk-container-id-2 input.sk-toggleable__control:checked~label.sk-toggleable__label-arrow:before {content: \"▾\";}#sk-container-id-2 div.sk-estimator input.sk-toggleable__control:checked~label.sk-toggleable__label {background-color: #d4ebff;}#sk-container-id-2 div.sk-label input.sk-toggleable__control:checked~label.sk-toggleable__label {background-color: #d4ebff;}#sk-container-id-2 input.sk-hidden--visually {border: 0;clip: rect(1px 1px 1px 1px);clip: rect(1px, 1px, 1px, 1px);height: 1px;margin: -1px;overflow: hidden;padding: 0;position: absolute;width: 1px;}#sk-container-id-2 div.sk-estimator {font-family: monospace;background-color: #f0f8ff;border: 1px dotted black;border-radius: 0.25em;box-sizing: border-box;margin-bottom: 0.5em;}#sk-container-id-2 div.sk-estimator:hover {background-color: #d4ebff;}#sk-container-id-2 div.sk-parallel-item::after {content: \"\";width: 100%;border-bottom: 1px solid gray;flex-grow: 1;}#sk-container-id-2 div.sk-label:hover label.sk-toggleable__label {background-color: #d4ebff;}#sk-container-id-2 div.sk-serial::before {content: \"\";position: absolute;border-left: 1px solid gray;box-sizing: border-box;top: 0;bottom: 0;left: 50%;z-index: 0;}#sk-container-id-2 div.sk-serial {display: flex;flex-direction: column;align-items: center;background-color: white;padding-right: 0.2em;padding-left: 0.2em;position: relative;}#sk-container-id-2 div.sk-item {position: relative;z-index: 1;}#sk-container-id-2 div.sk-parallel {display: flex;align-items: stretch;justify-content: center;background-color: white;position: relative;}#sk-container-id-2 div.sk-item::before, #sk-container-id-2 div.sk-parallel-item::before {content: \"\";position: absolute;border-left: 1px solid gray;box-sizing: border-box;top: 0;bottom: 0;left: 50%;z-index: -1;}#sk-container-id-2 div.sk-parallel-item {display: flex;flex-direction: column;z-index: 1;position: relative;background-color: white;}#sk-container-id-2 div.sk-parallel-item:first-child::after {align-self: flex-end;width: 50%;}#sk-container-id-2 div.sk-parallel-item:last-child::after {align-self: flex-start;width: 50%;}#sk-container-id-2 div.sk-parallel-item:only-child::after {width: 0;}#sk-container-id-2 div.sk-dashed-wrapped {border: 1px dashed gray;margin: 0 0.4em 0.5em 0.4em;box-sizing: border-box;padding-bottom: 0.4em;background-color: white;}#sk-container-id-2 div.sk-label label {font-family: monospace;font-weight: bold;display: inline-block;line-height: 1.2em;}#sk-container-id-2 div.sk-label-container {text-align: center;}#sk-container-id-2 div.sk-container {/* jupyter's `normalize.less` sets `[hidden] { display: none; }` but bootstrap.min.css set `[hidden] { display: none !important; }` so we also need the `!important` here to be able to override the default hidden behavior on the sphinx rendered scikit-learn.org. See: https://github.com/scikit-learn/scikit-learn/issues/21755 */display: inline-block !important;position: relative;}#sk-container-id-2 div.sk-text-repr-fallback {display: none;}</style><div id=\"sk-container-id-2\" class=\"sk-top-container\"><div class=\"sk-text-repr-fallback\"><pre>LogisticRegression(random_state=0)</pre><b>In a Jupyter environment, please rerun this cell to show the HTML representation or trust the notebook. <br />On GitHub, the HTML representation is unable to render, please try loading this page with nbviewer.org.</b></div><div class=\"sk-container\" hidden><div class=\"sk-item\"><div class=\"sk-estimator sk-toggleable\"><input class=\"sk-toggleable__control sk-hidden--visually\" id=\"sk-estimator-id-2\" type=\"checkbox\" checked><label for=\"sk-estimator-id-2\" class=\"sk-toggleable__label sk-toggleable__label-arrow\">LogisticRegression</label><div class=\"sk-toggleable__content\"><pre>LogisticRegression(random_state=0)</pre></div></div></div></div></div>"
            ]
          },
          "metadata": {},
          "execution_count": 25
        }
      ]
    },
    {
      "cell_type": "code",
      "source": [
        "#절편\n",
        "print('Intercept:', model.intercept_)\n",
        "#기울기\n",
        "print('Coefficient:', model.coef_)"
      ],
      "metadata": {
        "colab": {
          "base_uri": "https://localhost:8080/"
        },
        "id": "E8ryR1wkIxR-",
        "outputId": "4f3552fd-5f14-4c80-f425-cb1599aeb579"
      },
      "execution_count": null,
      "outputs": [
        {
          "output_type": "stream",
          "name": "stdout",
          "text": [
            "Intercept: [-17.61897717]\n",
            "Coefficient: [[0.01779153 0.83599655 0.87068199]]\n"
          ]
        }
      ]
    },
    {
      "cell_type": "code",
      "source": [
        "#4번째 자리까지 출력\n",
        "#절편\n",
        "print('Intercept: {:.4f}'.format(model.intercept_[0]))\n",
        "#기울기\n",
        "print('Coefficient: {:.4f}, {:.4f}, {:.4f}'.format(model.coef_[0][0], model.coef_[0][1], model.coef_[0][2]))"
      ],
      "metadata": {
        "colab": {
          "base_uri": "https://localhost:8080/"
        },
        "id": "BHzM6di2I4Mn",
        "outputId": "7532f9a2-95b5-4440-bc29-cfeedab82a08"
      },
      "execution_count": null,
      "outputs": [
        {
          "output_type": "stream",
          "name": "stdout",
          "text": [
            "Intercept: -17.6190\n",
            "Coefficient: 0.0178, 0.8360, 0.8707\n"
          ]
        }
      ]
    },
    {
      "cell_type": "code",
      "source": [
        "new_candidates = {'gmat': [590],\n",
        "                  'gpa': [2],\n",
        "                  'work_experience': [3]\n",
        "                  }\n",
        "df2 = pd.DataFrame(new_candidates)\n",
        "print(df2)\n",
        "\n",
        "model.predict_proba(df2)"
      ],
      "metadata": {
        "colab": {
          "base_uri": "https://localhost:8080/"
        },
        "id": "GiKgk5IbJlwD",
        "outputId": "579e15b2-af10-45a3-d97b-1fbe4972ad64"
      },
      "execution_count": null,
      "outputs": [
        {
          "output_type": "stream",
          "name": "stdout",
          "text": [
            "   gmat  gpa  work_experience\n",
            "0   590    2                3\n"
          ]
        },
        {
          "output_type": "execute_result",
          "data": {
            "text/plain": [
              "array([[0.9446918, 0.0553082]])"
            ]
          },
          "metadata": {},
          "execution_count": 30
        }
      ]
    },
    {
      "cell_type": "code",
      "source": [
        "model.predict(df2)\n",
        "#임계값은 0.5가 디폴트 in scikit-learn"
      ],
      "metadata": {
        "colab": {
          "base_uri": "https://localhost:8080/"
        },
        "id": "h7hixinIJsE4",
        "outputId": "30c97083-21eb-4b97-d573-2e69527133bf"
      },
      "execution_count": null,
      "outputs": [
        {
          "output_type": "execute_result",
          "data": {
            "text/plain": [
              "array([0])"
            ]
          },
          "metadata": {},
          "execution_count": 31
        }
      ]
    },
    {
      "cell_type": "code",
      "source": [
        "new_candidates = { 'gmat': [590,740,680,610,710],\n",
        "                  'gpa': [2,3.7,3.3,2.3,3],\n",
        "                  'work_experience': [3,4,6,1,5]\n",
        "                  }\n",
        "df2 = pd.DataFrame(new_candidates)\n",
        "print(df2)\n",
        "\n",
        "model.predict(df2)"
      ],
      "metadata": {
        "colab": {
          "base_uri": "https://localhost:8080/"
        },
        "id": "tX6uHBO0J8VS",
        "outputId": "2088ded3-aa18-4852-8952-65e12ca64557"
      },
      "execution_count": null,
      "outputs": [
        {
          "output_type": "stream",
          "name": "stdout",
          "text": [
            "   gmat  gpa  work_experience\n",
            "0   590  2.0                3\n",
            "1   740  3.7                4\n",
            "2   680  3.3                6\n",
            "3   610  2.3                1\n",
            "4   710  3.0                5\n"
          ]
        },
        {
          "output_type": "execute_result",
          "data": {
            "text/plain": [
              "array([0, 1, 1, 0, 1])"
            ]
          },
          "metadata": {},
          "execution_count": 36
        }
      ]
    },
    {
      "cell_type": "markdown",
      "source": [
        "2) 파이토치를 이용한 머신러닝"
      ],
      "metadata": {
        "id": "rzjOcl_-KVWT"
      }
    },
    {
      "cell_type": "code",
      "source": [
        "df = pd.read_csv('/content/sample_data/student_admission_train.csv', index_col = 0)\n",
        "\n",
        "X = df.drop('admitted' , axis = 1).values #independent Feature\n",
        "y = df['admitted'].values #dependent Feature\n",
        "print(X.shape)\n",
        "print(y.shape)"
      ],
      "metadata": {
        "colab": {
          "base_uri": "https://localhost:8080/"
        },
        "id": "M3_Ain58KCFq",
        "outputId": "1f2f37e3-9af8-413f-f8b7-89329462ae98"
      },
      "execution_count": null,
      "outputs": [
        {
          "output_type": "stream",
          "name": "stdout",
          "text": [
            "(30, 3)\n",
            "(30,)\n"
          ]
        }
      ]
    },
    {
      "cell_type": "code",
      "source": [
        "import torch\n",
        "from torch import sigmoid\n",
        "import torch.nn.functional as F\n",
        "\n",
        "device = torch.device(\"cuda\" if torch.cuda.is_available() else \"cpu\")\n",
        "\n",
        "X_tensor = torch.FloatTensor(X).to(device)\n",
        "y_tensor = torch.FloatTensor(y).view(-1,1).to(device)\n",
        "\n",
        "torch.manual_seed(1)\n",
        "\n",
        "W = torch.zeros((3, 1), device=device, requires_grad=True)\n",
        "b = torch.zeros(1, device=device, requires_grad=True)\n",
        "\n",
        "learning_rate = 0.01\n",
        "optimizer=torch.optim.Adam([W,b],lr=learning_rate)\n",
        "epochs=10000\n",
        "\n",
        "for epoch in range(epochs):\n",
        "    y_pred = torch.sigmoid(X_tensor.matmul(W)+ b).to(device)\n",
        "    #y_pred = torch.sigmoid(torch.matmul(X_tensor, W)+ b)     \n",
        "    #loss = F.binary_cross_entropy(y_pred, y_tensor)\n",
        "    loss = -(y_tensor * torch.log(y_pred) + \n",
        "             (1 - y_tensor) * torch.log(1 - y_pred)).mean()\n",
        "\n",
        "    optimizer.zero_grad()\n",
        "    loss.backward()\n",
        "    optimizer.step()\n",
        "   \n",
        "    if (epoch+1) % 1000 == 0:\n",
        "        print('epoch=',epoch+1, 'a=',W.detach().cpu().numpy(),\n",
        "              'b=',b.detach().cpu().numpy(),'loss=',loss.detach().cpu().numpy())"
      ],
      "metadata": {
        "colab": {
          "base_uri": "https://localhost:8080/"
        },
        "id": "Xd5DRvsHKhj_",
        "outputId": "dbc45505-85b3-4f0f-8c50-9aa69b4ffb45"
      },
      "execution_count": null,
      "outputs": [
        {
          "output_type": "stream",
          "name": "stdout",
          "text": [
            "epoch= 1000 a= [[-0.01169533]\n",
            " [ 1.9504068 ]\n",
            " [ 1.0378833 ]] b= [-2.3987286] loss= 0.3374268\n",
            "epoch= 2000 a= [[-0.01215906]\n",
            " [ 3.02203   ]\n",
            " [ 1.0444835 ]] b= [-5.65858] loss= 0.2865036\n",
            "epoch= 3000 a= [[-0.00905139]\n",
            " [ 3.3388727 ]\n",
            " [ 1.0346771 ]] b= [-8.758429] loss= 0.26448506\n",
            "epoch= 4000 a= [[-0.00574107]\n",
            " [ 3.3621984 ]\n",
            " [ 1.0197347 ]] b= [-11.048932] loss= 0.2550341\n",
            "epoch= 5000 a= [[-3.1664595e-03]\n",
            " [ 3.3428645e+00]\n",
            " [ 1.0143321e+00]] b= [-12.676987] loss= 0.2507847\n",
            "epoch= 6000 a= [[-5.4285501e-04]\n",
            " [ 3.3283570e+00]\n",
            " [ 1.0063078e+00]] b= [-13.817906] loss= 0.25441018\n",
            "epoch= 7000 a= [[-1.8135099e-04]\n",
            " [ 3.3231766e+00]\n",
            " [ 1.0071698e+00]] b= [-14.613123] loss= 0.24813141\n",
            "epoch= 8000 a= [[7.680818e-04]\n",
            " [3.322818e+00]\n",
            " [1.003675e+00]] b= [-15.162708] loss= 0.24764942\n",
            "epoch= 9000 a= [[2.1154077e-03]\n",
            " [3.3249831e+00]\n",
            " [1.0027202e+00]] b= [-15.540647] loss= 0.25541458\n",
            "epoch= 10000 a= [[1.5273218e-03]\n",
            " [3.3263190e+00]\n",
            " [1.0019617e+00]] b= [-15.805741] loss= 0.2476507\n"
          ]
        }
      ]
    },
    {
      "cell_type": "code",
      "source": [
        "new_candidates = {'gmat': [590],\n",
        "                  'gpa': [2],\n",
        "                  'work_experience': [3]\n",
        "                  }\n",
        "df2 = pd.DataFrame(new_candidates)\n",
        "print(df2)\n",
        "\n",
        "X = df2.values\n",
        "X_tensor = torch.FloatTensor(X).to(device)\n",
        "print(X_tensor)"
      ],
      "metadata": {
        "colab": {
          "base_uri": "https://localhost:8080/"
        },
        "id": "AZuDQ8SvL5Eb",
        "outputId": "6ab53274-c491-472d-ced0-ea529d514007"
      },
      "execution_count": null,
      "outputs": [
        {
          "output_type": "stream",
          "name": "stdout",
          "text": [
            "   gmat  gpa  work_experience\n",
            "0   590    2                3\n",
            "tensor([[590.,   2.,   3.]])\n"
          ]
        }
      ]
    },
    {
      "cell_type": "code",
      "source": [
        "threshold = 0.5\n",
        "y_pred = torch.sigmoid(X_tensor.matmul(W)+ b).to(device)\n",
        "print(y_pred) \n",
        "prediction = y_pred >= torch.FloatTensor([0.5]).to(device)\n",
        "print(prediction)\n",
        "prediction = (y_pred.detach().cpu().numpy() > threshold).astype(np.int8)\n",
        "print(prediction)"
      ],
      "metadata": {
        "colab": {
          "base_uri": "https://localhost:8080/"
        },
        "id": "XWdbt9ihMrK1",
        "outputId": "0c0f837d-12aa-4ecf-9c34-eb6220c19429"
      },
      "execution_count": null,
      "outputs": [
        {
          "output_type": "stream",
          "name": "stdout",
          "text": [
            "tensor([[0.0052]], grad_fn=<SigmoidBackward0>)\n",
            "tensor([[False]])\n",
            "[[0]]\n"
          ]
        }
      ]
    },
    {
      "cell_type": "code",
      "source": [
        "new_candidates = { 'gmat': [590,740,680,610,710],\n",
        "                  'gpa': [2,3.7,3.3,2.3,3],\n",
        "                  'work_experience': [3,4,6,1,5]\n",
        "                  }\n",
        "df2 = pd.DataFrame(new_candidates)\n",
        "print(df2)\n",
        "\n",
        "X = df2.values\n",
        "X_tensor = torch.FloatTensor(X).to(device)\n",
        "print(X_tensor)"
      ],
      "metadata": {
        "colab": {
          "base_uri": "https://localhost:8080/"
        },
        "id": "UiHZNEBJM6oJ",
        "outputId": "c6786d73-901a-4ca1-d4e5-c9d951129c5a"
      },
      "execution_count": null,
      "outputs": [
        {
          "output_type": "stream",
          "name": "stdout",
          "text": [
            "   gmat  gpa  work_experience\n",
            "0   590  2.0                3\n",
            "1   740  3.7                4\n",
            "2   680  3.3                6\n",
            "3   610  2.3                1\n",
            "4   710  3.0                5\n",
            "tensor([[590.0000,   2.0000,   3.0000],\n",
            "        [740.0000,   3.7000,   4.0000],\n",
            "        [680.0000,   3.3000,   6.0000],\n",
            "        [610.0000,   2.3000,   1.0000],\n",
            "        [710.0000,   3.0000,   5.0000]])\n"
          ]
        }
      ]
    },
    {
      "cell_type": "code",
      "source": [
        "y_pred = torch.sigmoid(X_tensor.matmul(W)+ b).to(device)\n",
        "print(y_pred)\n",
        "prediction = y_pred >= torch.FloatTensor([0.5]).to(device)\n",
        "print(prediction)\n",
        "prediction = (y_pred.detach().cpu().numpy() > threshold).astype(np.int8) \n",
        "print(prediction)"
      ],
      "metadata": {
        "colab": {
          "base_uri": "https://localhost:8080/"
        },
        "id": "gpQ2K9QmM9I2",
        "outputId": "74de8583-65b5-4222-cafc-0d82b82d8176"
      },
      "execution_count": null,
      "outputs": [
        {
          "output_type": "stream",
          "name": "stdout",
          "text": [
            "tensor([[0.0052],\n",
            "        [0.8375],\n",
            "        [0.9022],\n",
            "        [0.0020],\n",
            "        [0.5665]], grad_fn=<SigmoidBackward0>)\n",
            "tensor([[False],\n",
            "        [ True],\n",
            "        [ True],\n",
            "        [False],\n",
            "        [ True]])\n",
            "[[0]\n",
            " [1]\n",
            " [1]\n",
            " [0]\n",
            " [1]]\n"
          ]
        }
      ]
    },
    {
      "cell_type": "markdown",
      "source": [
        "* 크로스 엔트로피 함수"
      ],
      "metadata": {
        "id": "L6lw7t3MPeyr"
      }
    },
    {
      "cell_type": "code",
      "source": [
        "import torch\n",
        "import torch.nn as nn\n",
        "\n",
        "output =torch.tensor([[0.1, 0.2, 0.6, 0.1]],dtype=torch.float)\n",
        "target = torch.tensor([2],dtype=torch.long)\n",
        "ce_loss = nn.CrossEntropyLoss()\n",
        "loss = ce_loss(output, target)\n",
        "print('ce_loss :', loss.item())"
      ],
      "metadata": {
        "colab": {
          "base_uri": "https://localhost:8080/"
        },
        "id": "2yCRm2t4NBmd",
        "outputId": "6deca2e5-bd2d-40a8-c3e3-fa49bf956f97"
      },
      "execution_count": null,
      "outputs": [
        {
          "output_type": "stream",
          "name": "stdout",
          "text": [
            "ce_loss : 1.058963656425476\n"
          ]
        }
      ]
    },
    {
      "cell_type": "code",
      "source": [
        "#식 직접 구현\n",
        "output =torch.tensor([[0.1, 0.2, 0.6, 0.1]],dtype=torch.float)\n",
        "target = torch.tensor([0.0, 0.0, 1.0, 0.0])\n",
        "softmax = nn.functional.softmax(output, dim=1)\n",
        "print('output : ', output)\n",
        "print('softmax :', softmax)\n",
        "print('target : ', target)\n",
        "ce_loss= -torch.sum(target*torch.log(softmax))\n",
        "print('ce_loss :', ce_loss.item())"
      ],
      "metadata": {
        "colab": {
          "base_uri": "https://localhost:8080/"
        },
        "id": "tAHF0TXBPxcr",
        "outputId": "28aa0c8c-6b13-42c2-ac8e-26ee3dd41b18"
      },
      "execution_count": null,
      "outputs": [
        {
          "output_type": "stream",
          "name": "stdout",
          "text": [
            "output :  tensor([[0.1000, 0.2000, 0.6000, 0.1000]])\n",
            "softmax : tensor([[0.2104, 0.2325, 0.3468, 0.2104]])\n",
            "target :  tensor([0., 0., 1., 0.])\n",
            "ce_loss : 1.0589637756347656\n"
          ]
        }
      ]
    },
    {
      "cell_type": "code",
      "source": [
        "#binary target\n",
        "output =torch.tensor([6, 4],dtype=torch.float)\n",
        "target = torch.tensor([1.0, 0.0])\n",
        "softmax = nn.functional.softmax(output, dim=0)\n",
        "bce_loss = nn.BCELoss()\n",
        "loss = bce_loss(softmax, target)\n",
        "print('bce_loss :', loss.item())"
      ],
      "metadata": {
        "colab": {
          "base_uri": "https://localhost:8080/"
        },
        "id": "jj2ayAuxP2ja",
        "outputId": "03d73a4e-2b93-442c-8b09-f29a258e29e6"
      },
      "execution_count": null,
      "outputs": [
        {
          "output_type": "stream",
          "name": "stdout",
          "text": [
            "bce_loss : 0.12692803144454956\n"
          ]
        }
      ]
    },
    {
      "cell_type": "code",
      "source": [
        "#직접 구현\n",
        "output =torch.tensor([6, 4],dtype=torch.float)\n",
        "target = torch.tensor([1.0, 0.0])\n",
        "softmax = nn.functional.softmax(output, dim=0)\n",
        "print('output : ', output)\n",
        "print('softmax :', softmax)\n",
        "print('target : ', target)\n",
        "bce_loss= -torch.sum(target*torch.log(softmax))\n",
        "print('bce_loss :', bce_loss.item())"
      ],
      "metadata": {
        "colab": {
          "base_uri": "https://localhost:8080/"
        },
        "id": "x1yMx6XGRPQJ",
        "outputId": "3a25b652-2d34-4f83-a25b-ba9b523adfa4"
      },
      "execution_count": null,
      "outputs": [
        {
          "output_type": "stream",
          "name": "stdout",
          "text": [
            "output :  tensor([6., 4.])\n",
            "softmax : tensor([0.8808, 0.1192])\n",
            "target :  tensor([1., 0.])\n",
            "bce_loss : 0.12692806124687195\n"
          ]
        }
      ]
    },
    {
      "cell_type": "code",
      "source": [
        "#배치 4개, 클래스 2개\n",
        "torch.manual_seed(1)\n",
        "\n",
        "m = nn.Sigmoid()\n",
        "bce_loss = nn.BCELoss()\n",
        "input = torch.randn(4, requires_grad=True)\n",
        "print(input)\n",
        "target = torch.empty(4).random_(2)\n",
        "print(target)\n",
        "print('sigmoid : ', m(input))\n",
        "loss = bce_loss(m(input), target)\n",
        "print('bce_loss : ', loss)"
      ],
      "metadata": {
        "colab": {
          "base_uri": "https://localhost:8080/"
        },
        "id": "OJEZVItdRTSC",
        "outputId": "555c34ea-883a-4199-a4ef-244f622b92ef"
      },
      "execution_count": null,
      "outputs": [
        {
          "output_type": "stream",
          "name": "stdout",
          "text": [
            "tensor([0.6614, 0.2669, 0.0617, 0.6213], requires_grad=True)\n",
            "tensor([1., 0., 0., 1.])\n",
            "sigmoid :  tensor([0.6596, 0.5663, 0.5154, 0.6505], grad_fn=<SigmoidBackward0>)\n",
            "bce_loss :  tensor(0.6015, grad_fn=<BinaryCrossEntropyBackward0>)\n"
          ]
        }
      ]
    },
    {
      "cell_type": "code",
      "source": [
        "# 직접 구현\n",
        "torch.manual_seed(1)\n",
        "\n",
        "m = nn.Sigmoid()\n",
        "input = torch.randn(4, requires_grad=True)\n",
        "print(input)\n",
        "target = torch.empty(4).random_(2)\n",
        "print(target)\n",
        "def BCE(input, target):\n",
        "    total_bce_loss = torch.sum(-target * torch.log(m(input)) - (1 - target) * torch.log(1 - m(input)))\n",
        "    num_of_samples = input.shape[0]\n",
        "    mean_bce_loss = total_bce_loss / num_of_samples\n",
        "    return mean_bce_loss    \n",
        "print('sigmoid : ', m(input))\n",
        "loss = BCE(input, target)\n",
        "print('bce_loss : ', loss)"
      ],
      "metadata": {
        "colab": {
          "base_uri": "https://localhost:8080/"
        },
        "id": "pVQwLEkhSY8s",
        "outputId": "00d0da1d-a84a-43b6-8eb1-dcacee90df8f"
      },
      "execution_count": null,
      "outputs": [
        {
          "output_type": "stream",
          "name": "stdout",
          "text": [
            "tensor([0.6614, 0.2669, 0.0617, 0.6213], requires_grad=True)\n",
            "tensor([1., 0., 0., 1.])\n",
            "sigmoid :  tensor([0.6596, 0.5663, 0.5154, 0.6505], grad_fn=<SigmoidBackward0>)\n",
            "bce_loss :  tensor(0.6015, grad_fn=<DivBackward0>)\n"
          ]
        }
      ]
    },
    {
      "cell_type": "markdown",
      "source": [
        "4.4 머신러닝을 이용한 분류모델의 성능 평가"
      ],
      "metadata": {
        "id": "TwXv6Ja1S9Y8"
      }
    },
    {
      "cell_type": "code",
      "source": [
        "#ROC 곡선 그리기\n",
        "fpr = np.array([1, 0.5, 0.25, 0.25, 0, 0])\n",
        "tpr = np.array([1, 1, 0.5, 0.33, 0.33, 0])"
      ],
      "metadata": {
        "id": "Ujga4UsJSpgj"
      },
      "execution_count": null,
      "outputs": []
    },
    {
      "cell_type": "code",
      "source": [
        "import matplotlib.pyplot as plt\n",
        "plt.title('Recevier Operating Characteristic')\n",
        "plt.plot(fpr, tpr, 'b')\n",
        "plt.plot([0,1],[0,1],'r--')\n",
        "plt.xlim([-0.01,1.01])\n",
        "plt.ylim([-0.01,1.01])\n",
        "plt.xlabel('False Positive Rate')\n",
        "plt.ylabel('True Positive Rate')\n",
        "plt.show()\n",
        "\n",
        "#임계값을 더 세분하면 더 부드러운 곡선 얻을 수 있음"
      ],
      "metadata": {
        "colab": {
          "base_uri": "https://localhost:8080/",
          "height": 472
        },
        "id": "HxnL_mCvWCmf",
        "outputId": "bc79c7f5-86ed-4054-8868-7c3a89378c9a"
      },
      "execution_count": null,
      "outputs": [
        {
          "output_type": "display_data",
          "data": {
            "text/plain": [
              "<Figure size 640x480 with 1 Axes>"
            ],
            "image/png": "[encoded data removed]"
          },
          "metadata": {}
        }
      ]
    },
    {
      "cell_type": "code",
      "source": [
        "#scikit-learn 이용한 ROC 곡선\n",
        "from sklearn import metrics\n",
        "\n",
        "y_true = np.array([1, 1, 2, 2])\n",
        "y_score = np.array([0.1, 0.4, 0.35, 0.8])\n",
        "fpr, tpr, thresholds = metrics.roc_curve(y_true, y_score, pos_label=2)\n",
        "print(\"FPR : \", fpr)\n",
        "print(\"TPR : \", tpr)\n",
        "print(\"thresholds :\", thresholds)"
      ],
      "metadata": {
        "colab": {
          "base_uri": "https://localhost:8080/"
        },
        "id": "vGN_uYvGWYKA",
        "outputId": "cd117d2e-b708-49ba-b3b3-8640f1addd23"
      },
      "execution_count": null,
      "outputs": [
        {
          "output_type": "stream",
          "name": "stdout",
          "text": [
            "FPR :  [0.  0.  0.5 0.5 1. ]\n",
            "TPR :  [0.  0.5 0.5 1.  1. ]\n",
            "thresholds : [1.8  0.8  0.4  0.35 0.1 ]\n"
          ]
        }
      ]
    },
    {
      "cell_type": "code",
      "source": [
        "auc = metrics.roc_auc_score(y_true, y_score)\n",
        "\n",
        "plt.title('ROC curve')\n",
        "plt.plot(fpr, tpr, label=\"AUC = \"+str(auc))\n",
        "plt.legend(loc=4)\n",
        "plt.xlabel('False Positive Rate')\n",
        "plt.ylabel('True Positive Rate')\n",
        "plt.show()"
      ],
      "metadata": {
        "colab": {
          "base_uri": "https://localhost:8080/",
          "height": 472
        },
        "id": "ljvb99bYW_Jj",
        "outputId": "cda8fab4-7860-488c-dd42-2322ebb92b4a"
      },
      "execution_count": null,
      "outputs": [
        {
          "output_type": "display_data",
          "data": {
            "text/plain": [
              "<Figure size 640x480 with 1 Axes>"
            ],
            "image/png": "[encoded data removed]"
          },
          "metadata": {}
        }
      ]
    },
    {
      "cell_type": "code",
      "source": [
        "BMI = [33.6, 26.6, 28.1, 31.0, 30.5, 25.8, 45.8, 43.3, 39.3, 29.0, ]\n",
        "diabetic = [1, 0, 0, 1, 1,  0, 1, 1, 0, 1]\n",
        "\n",
        "df = pd.DataFrame(\n",
        "    {\"BMI\": BMI, \"diabetic\": diabetic}\n",
        ")\n",
        "\n",
        "print(df.head())"
      ],
      "metadata": {
        "colab": {
          "base_uri": "https://localhost:8080/"
        },
        "id": "48pF33r3XExS",
        "outputId": "c7c448f9-093d-4481-d3d9-7b5eb9d29c23"
      },
      "execution_count": null,
      "outputs": [
        {
          "output_type": "stream",
          "name": "stdout",
          "text": [
            "    BMI  diabetic\n",
            "0  33.6         1\n",
            "1  26.6         0\n",
            "2  28.1         0\n",
            "3  31.0         1\n",
            "4  30.5         1\n"
          ]
        }
      ]
    },
    {
      "cell_type": "code",
      "source": [
        "X = df[['BMI']]\n",
        "Y = df['diabetic']"
      ],
      "metadata": {
        "id": "4sKiWMn7XRu_"
      },
      "execution_count": null,
      "outputs": []
    },
    {
      "cell_type": "code",
      "source": [
        "model = LogisticRegression(random_state = 0)\n",
        "model.fit(X,Y)"
      ],
      "metadata": {
        "colab": {
          "base_uri": "https://localhost:8080/",
          "height": 75
        },
        "id": "yfUoXyO9XUcB",
        "outputId": "949de375-465e-4a28-aa93-62b89d99b78b"
      },
      "execution_count": null,
      "outputs": [
        {
          "output_type": "execute_result",
          "data": {
            "text/plain": [
              "LogisticRegression(random_state=0)"
            ],
            "text/html": [
              "<style>#sk-container-id-3 {color: black;background-color: white;}#sk-container-id-3 pre{padding: 0;}#sk-container-id-3 div.sk-toggleable {background-color: white;}#sk-container-id-3 label.sk-toggleable__label {cursor: pointer;display: block;width: 100%;margin-bottom: 0;padding: 0.3em;box-sizing: border-box;text-align: center;}#sk-container-id-3 label.sk-toggleable__label-arrow:before {content: \"▸\";float: left;margin-right: 0.25em;color: #696969;}#sk-container-id-3 label.sk-toggleable__label-arrow:hover:before {color: black;}#sk-container-id-3 div.sk-estimator:hover label.sk-toggleable__label-arrow:before {color: black;}#sk-container-id-3 div.sk-toggleable__content {max-height: 0;max-width: 0;overflow: hidden;text-align: left;background-color: #f0f8ff;}#sk-container-id-3 div.sk-toggleable__content pre {margin: 0.2em;color: black;border-radius: 0.25em;background-color: #f0f8ff;}#sk-container-id-3 input.sk-toggleable__control:checked~div.sk-toggleable__content {max-height: 200px;max-width: 100%;overflow: auto;}#sk-container-id-3 input.sk-toggleable__control:checked~label.sk-toggleable__label-arrow:before {content: \"▾\";}#sk-container-id-3 div.sk-estimator input.sk-toggleable__control:checked~label.sk-toggleable__label {background-color: #d4ebff;}#sk-container-id-3 div.sk-label input.sk-toggleable__control:checked~label.sk-toggleable__label {background-color: #d4ebff;}#sk-container-id-3 input.sk-hidden--visually {border: 0;clip: rect(1px 1px 1px 1px);clip: rect(1px, 1px, 1px, 1px);height: 1px;margin: -1px;overflow: hidden;padding: 0;position: absolute;width: 1px;}#sk-container-id-3 div.sk-estimator {font-family: monospace;background-color: #f0f8ff;border: 1px dotted black;border-radius: 0.25em;box-sizing: border-box;margin-bottom: 0.5em;}#sk-container-id-3 div.sk-estimator:hover {background-color: #d4ebff;}#sk-container-id-3 div.sk-parallel-item::after {content: \"\";width: 100%;border-bottom: 1px solid gray;flex-grow: 1;}#sk-container-id-3 div.sk-label:hover label.sk-toggleable__label {background-color: #d4ebff;}#sk-container-id-3 div.sk-serial::before {content: \"\";position: absolute;border-left: 1px solid gray;box-sizing: border-box;top: 0;bottom: 0;left: 50%;z-index: 0;}#sk-container-id-3 div.sk-serial {display: flex;flex-direction: column;align-items: center;background-color: white;padding-right: 0.2em;padding-left: 0.2em;position: relative;}#sk-container-id-3 div.sk-item {position: relative;z-index: 1;}#sk-container-id-3 div.sk-parallel {display: flex;align-items: stretch;justify-content: center;background-color: white;position: relative;}#sk-container-id-3 div.sk-item::before, #sk-container-id-3 div.sk-parallel-item::before {content: \"\";position: absolute;border-left: 1px solid gray;box-sizing: border-box;top: 0;bottom: 0;left: 50%;z-index: -1;}#sk-container-id-3 div.sk-parallel-item {display: flex;flex-direction: column;z-index: 1;position: relative;background-color: white;}#sk-container-id-3 div.sk-parallel-item:first-child::after {align-self: flex-end;width: 50%;}#sk-container-id-3 div.sk-parallel-item:last-child::after {align-self: flex-start;width: 50%;}#sk-container-id-3 div.sk-parallel-item:only-child::after {width: 0;}#sk-container-id-3 div.sk-dashed-wrapped {border: 1px dashed gray;margin: 0 0.4em 0.5em 0.4em;box-sizing: border-box;padding-bottom: 0.4em;background-color: white;}#sk-container-id-3 div.sk-label label {font-family: monospace;font-weight: bold;display: inline-block;line-height: 1.2em;}#sk-container-id-3 div.sk-label-container {text-align: center;}#sk-container-id-3 div.sk-container {/* jupyter's `normalize.less` sets `[hidden] { display: none; }` but bootstrap.min.css set `[hidden] { display: none !important; }` so we also need the `!important` here to be able to override the default hidden behavior on the sphinx rendered scikit-learn.org. See: https://github.com/scikit-learn/scikit-learn/issues/21755 */display: inline-block !important;position: relative;}#sk-container-id-3 div.sk-text-repr-fallback {display: none;}</style><div id=\"sk-container-id-3\" class=\"sk-top-container\"><div class=\"sk-text-repr-fallback\"><pre>LogisticRegression(random_state=0)</pre><b>In a Jupyter environment, please rerun this cell to show the HTML representation or trust the notebook. <br />On GitHub, the HTML representation is unable to render, please try loading this page with nbviewer.org.</b></div><div class=\"sk-container\" hidden><div class=\"sk-item\"><div class=\"sk-estimator sk-toggleable\"><input class=\"sk-toggleable__control sk-hidden--visually\" id=\"sk-estimator-id-3\" type=\"checkbox\" checked><label for=\"sk-estimator-id-3\" class=\"sk-toggleable__label sk-toggleable__label-arrow\">LogisticRegression</label><div class=\"sk-toggleable__content\"><pre>LogisticRegression(random_state=0)</pre></div></div></div></div></div>"
            ]
          },
          "metadata": {},
          "execution_count": 61
        }
      ]
    },
    {
      "cell_type": "code",
      "source": [
        "print(model.intercept_)\n",
        "print(model.coef_[0])"
      ],
      "metadata": {
        "colab": {
          "base_uri": "https://localhost:8080/"
        },
        "id": "TSWUt6GiXbfO",
        "outputId": "bf084b7e-fd88-499f-d544-f6ea1f6df164"
      },
      "execution_count": null,
      "outputs": [
        {
          "output_type": "stream",
          "name": "stdout",
          "text": [
            "[-4.58162116]\n",
            "[0.15420755]\n"
          ]
        }
      ]
    },
    {
      "cell_type": "code",
      "source": [
        "def sigmoid(x):\n",
        "  return 1/ (1 + np.exp(-(x)))"
      ],
      "metadata": {
        "id": "dE7PuwuTXgYD"
      },
      "execution_count": null,
      "outputs": []
    },
    {
      "cell_type": "code",
      "source": [
        "y_pred_prob = sigmoid(model.coef_[0]*X+model.intercept_)\n",
        "print(y_pred_prob)"
      ],
      "metadata": {
        "colab": {
          "base_uri": "https://localhost:8080/"
        },
        "id": "XwkiAyW-XrCV",
        "outputId": "cea59ad4-21b8-44b1-9c0a-c2f4b807a84a"
      },
      "execution_count": null,
      "outputs": [
        {
          "output_type": "stream",
          "name": "stdout",
          "text": [
            "        BMI\n",
            "0  0.645600\n",
            "1  0.382323\n",
            "2  0.438220\n",
            "3  0.549540\n",
            "4  0.530390\n",
            "5  0.353642\n",
            "6  0.922805\n",
            "7  0.890471\n",
            "8  0.814382\n",
            "9  0.472627\n"
          ]
        }
      ]
    },
    {
      "cell_type": "code",
      "source": [
        "plt.title('ROC curve')\n",
        "fpr, tpr, thresholds = metrics.roc_curve(Y,  y_pred_prob)\n",
        "print('thresholds=', thresholds)\n",
        "auc = metrics.roc_auc_score(Y, y_pred_prob)\n",
        "auc = round(auc,4) \n",
        "plt.plot(fpr,tpr,label=\"auc=\"+str(auc))\n",
        "plt.legend(loc=4)\n",
        "plt.xlabel('False Positive Rate')\n",
        "plt.ylabel('True Positive Rate')\n",
        "plt.show()"
      ],
      "metadata": {
        "colab": {
          "base_uri": "https://localhost:8080/",
          "height": 490
        },
        "id": "Fvu1Tj2hXvNO",
        "outputId": "fd478724-248a-43b5-fd74-2e1102203f95"
      },
      "execution_count": null,
      "outputs": [
        {
          "output_type": "stream",
          "name": "stdout",
          "text": [
            "thresholds= [1.9228051  0.9228051  0.89047145 0.81438152 0.47262685 0.35364247]\n"
          ]
        },
        {
          "output_type": "display_data",
          "data": {
            "text/plain": [
              "<Figure size 640x480 with 1 Axes>"
            ],
            "image/png": "[encoded data removed]"
          },
          "metadata": {}
        }
      ]
    },
    {
      "cell_type": "code",
      "source": [
        "#좀 더 세련된 코드\n",
        "BMI = [33.6, 26.6, 28.1, 31.0, 30.5, 25.8, 45.8, 43.3, 39.3, 29.0, ]\n",
        "diabetic = [1, 0, 0, 1, 1,  0, 1, 1, 0, 1]\n",
        "\n",
        "df = pd.DataFrame(\n",
        "    {\"BMI\": BMI, \"diabetic\": diabetic}\n",
        ")\n",
        "\n",
        "X = df[['BMI']]\n",
        "Y = df['diabetic']\n",
        "\n",
        "model = LogisticRegression(random_state=0)\n",
        "model.fit(X, Y)"
      ],
      "metadata": {
        "colab": {
          "base_uri": "https://localhost:8080/",
          "height": 75
        },
        "id": "KjKuQFC4YKhU",
        "outputId": "6b8ee7f2-7b1c-4653-d73c-5700c1265f99"
      },
      "execution_count": null,
      "outputs": [
        {
          "output_type": "execute_result",
          "data": {
            "text/plain": [
              "LogisticRegression(random_state=0)"
            ],
            "text/html": [
              "<style>#sk-container-id-4 {color: black;background-color: white;}#sk-container-id-4 pre{padding: 0;}#sk-container-id-4 div.sk-toggleable {background-color: white;}#sk-container-id-4 label.sk-toggleable__label {cursor: pointer;display: block;width: 100%;margin-bottom: 0;padding: 0.3em;box-sizing: border-box;text-align: center;}#sk-container-id-4 label.sk-toggleable__label-arrow:before {content: \"▸\";float: left;margin-right: 0.25em;color: #696969;}#sk-container-id-4 label.sk-toggleable__label-arrow:hover:before {color: black;}#sk-container-id-4 div.sk-estimator:hover label.sk-toggleable__label-arrow:before {color: black;}#sk-container-id-4 div.sk-toggleable__content {max-height: 0;max-width: 0;overflow: hidden;text-align: left;background-color: #f0f8ff;}#sk-container-id-4 div.sk-toggleable__content pre {margin: 0.2em;color: black;border-radius: 0.25em;background-color: #f0f8ff;}#sk-container-id-4 input.sk-toggleable__control:checked~div.sk-toggleable__content {max-height: 200px;max-width: 100%;overflow: auto;}#sk-container-id-4 input.sk-toggleable__control:checked~label.sk-toggleable__label-arrow:before {content: \"▾\";}#sk-container-id-4 div.sk-estimator input.sk-toggleable__control:checked~label.sk-toggleable__label {background-color: #d4ebff;}#sk-container-id-4 div.sk-label input.sk-toggleable__control:checked~label.sk-toggleable__label {background-color: #d4ebff;}#sk-container-id-4 input.sk-hidden--visually {border: 0;clip: rect(1px 1px 1px 1px);clip: rect(1px, 1px, 1px, 1px);height: 1px;margin: -1px;overflow: hidden;padding: 0;position: absolute;width: 1px;}#sk-container-id-4 div.sk-estimator {font-family: monospace;background-color: #f0f8ff;border: 1px dotted black;border-radius: 0.25em;box-sizing: border-box;margin-bottom: 0.5em;}#sk-container-id-4 div.sk-estimator:hover {background-color: #d4ebff;}#sk-container-id-4 div.sk-parallel-item::after {content: \"\";width: 100%;border-bottom: 1px solid gray;flex-grow: 1;}#sk-container-id-4 div.sk-label:hover label.sk-toggleable__label {background-color: #d4ebff;}#sk-container-id-4 div.sk-serial::before {content: \"\";position: absolute;border-left: 1px solid gray;box-sizing: border-box;top: 0;bottom: 0;left: 50%;z-index: 0;}#sk-container-id-4 div.sk-serial {display: flex;flex-direction: column;align-items: center;background-color: white;padding-right: 0.2em;padding-left: 0.2em;position: relative;}#sk-container-id-4 div.sk-item {position: relative;z-index: 1;}#sk-container-id-4 div.sk-parallel {display: flex;align-items: stretch;justify-content: center;background-color: white;position: relative;}#sk-container-id-4 div.sk-item::before, #sk-container-id-4 div.sk-parallel-item::before {content: \"\";position: absolute;border-left: 1px solid gray;box-sizing: border-box;top: 0;bottom: 0;left: 50%;z-index: -1;}#sk-container-id-4 div.sk-parallel-item {display: flex;flex-direction: column;z-index: 1;position: relative;background-color: white;}#sk-container-id-4 div.sk-parallel-item:first-child::after {align-self: flex-end;width: 50%;}#sk-container-id-4 div.sk-parallel-item:last-child::after {align-self: flex-start;width: 50%;}#sk-container-id-4 div.sk-parallel-item:only-child::after {width: 0;}#sk-container-id-4 div.sk-dashed-wrapped {border: 1px dashed gray;margin: 0 0.4em 0.5em 0.4em;box-sizing: border-box;padding-bottom: 0.4em;background-color: white;}#sk-container-id-4 div.sk-label label {font-family: monospace;font-weight: bold;display: inline-block;line-height: 1.2em;}#sk-container-id-4 div.sk-label-container {text-align: center;}#sk-container-id-4 div.sk-container {/* jupyter's `normalize.less` sets `[hidden] { display: none; }` but bootstrap.min.css set `[hidden] { display: none !important; }` so we also need the `!important` here to be able to override the default hidden behavior on the sphinx rendered scikit-learn.org. See: https://github.com/scikit-learn/scikit-learn/issues/21755 */display: inline-block !important;position: relative;}#sk-container-id-4 div.sk-text-repr-fallback {display: none;}</style><div id=\"sk-container-id-4\" class=\"sk-top-container\"><div class=\"sk-text-repr-fallback\"><pre>LogisticRegression(random_state=0)</pre><b>In a Jupyter environment, please rerun this cell to show the HTML representation or trust the notebook. <br />On GitHub, the HTML representation is unable to render, please try loading this page with nbviewer.org.</b></div><div class=\"sk-container\" hidden><div class=\"sk-item\"><div class=\"sk-estimator sk-toggleable\"><input class=\"sk-toggleable__control sk-hidden--visually\" id=\"sk-estimator-id-4\" type=\"checkbox\" checked><label for=\"sk-estimator-id-4\" class=\"sk-toggleable__label sk-toggleable__label-arrow\">LogisticRegression</label><div class=\"sk-toggleable__content\"><pre>LogisticRegression(random_state=0)</pre></div></div></div></div></div>"
            ]
          },
          "metadata": {},
          "execution_count": 67
        }
      ]
    },
    {
      "cell_type": "code",
      "source": [
        "plt.title('ROC curve')\n",
        "y_pred_proba = model.predict_proba(X)\n",
        "print(\"prediced probability shape=\", y_pred_proba.shape)\n",
        "print(\"prediced probability =\\n\", y_pred_proba[0:5,:])\n",
        "# 레이블 값이 1일때의 예측 확률을 추출 \n",
        "y_pred_proba = model.predict_proba(X)[:,1]\n",
        "print(\"y=1, prediced probability =\", y_pred_proba[0:5])\n",
        "fpr, tpr, thresholds = metrics.roc_curve(Y,  y_pred_proba)\n",
        "print(\"threshold =\", thresholds)\n",
        "auc = metrics.roc_auc_score(Y, y_pred_proba)\n",
        "auc = round(auc,4) \n",
        "plt.plot(fpr,tpr,label=\"auc=\"+str(auc))\n",
        "plt.legend(loc=4)\n",
        "plt.xlabel('False Positive Rate')\n",
        "plt.ylabel('True Positive Rate')\n",
        "plt.show()"
      ],
      "metadata": {
        "colab": {
          "base_uri": "https://localhost:8080/",
          "height": 633
        },
        "id": "m3hlBqzNYV5G",
        "outputId": "6a0a6152-a7d5-4334-fb31-0b16c421e495"
      },
      "execution_count": null,
      "outputs": [
        {
          "output_type": "stream",
          "name": "stdout",
          "text": [
            "prediced probability shape= (10, 2)\n",
            "prediced probability =\n",
            " [[0.35440031 0.64559969]\n",
            " [0.61767711 0.38232289]\n",
            " [0.56177994 0.43822006]\n",
            " [0.45045984 0.54954016]\n",
            " [0.46961022 0.53038978]]\n",
            "y=1, prediced probability = [0.64559969 0.38232289 0.43822006 0.54954016 0.53038978]\n",
            "threshold = [1.9228051  0.9228051  0.89047145 0.81438152 0.47262685 0.35364247]\n"
          ]
        },
        {
          "output_type": "display_data",
          "data": {
            "text/plain": [
              "<Figure size 640x480 with 1 Axes>"
            ],
            "image/png": "[encoded data removed]"
          },
          "metadata": {}
        }
      ]
    },
    {
      "cell_type": "markdown",
      "source": [
        "예제 4.4"
      ],
      "metadata": {
        "id": "yIZqSHVEYsOt"
      }
    },
    {
      "cell_type": "code",
      "source": [
        "df = pd.read_csv('/content/sample_data/student_admission_train.csv', index_col = 0)\n",
        "\n",
        "X = df.drop('admitted' , axis = 1).values\n",
        "y = df['admitted'].values"
      ],
      "metadata": {
        "id": "zwGPzJxEYr3R"
      },
      "execution_count": null,
      "outputs": []
    },
    {
      "cell_type": "code",
      "source": [
        "device = torch.device(\"cuda\" if torch.cuda.is_available() else \"cpu\")\n",
        "\n",
        "X_tensor = torch.FloatTensor(X).to(device)\n",
        "y_tensor = torch.FloatTensor(y).view(-1,1).to(device)\n",
        "\n",
        "torch.manual_seed(1)\n",
        "\n",
        "#원래는 randn 으로!\n",
        "W = torch.zeros((3, 1), device=device, requires_grad=True)\n",
        "b = torch.zeros(1, device=device, requires_grad=True)\n",
        "\n",
        "learning_rate =0.01\n",
        "optimizer=torch.optim.Adam([W,b],lr=learning_rate)\n",
        "\n",
        "epochs=10000\n",
        "for epoch in range(epochs):\n",
        "    y_pred = torch.sigmoid(X_tensor.matmul(W)+ b).to(device) \n",
        "    loss = F.binary_cross_entropy(y_pred, y_tensor)\n",
        "   \n",
        "    optimizer.zero_grad()\n",
        "    loss.backward()\n",
        "    optimizer.step()\n",
        "   \n",
        "    if (epoch+1) % 5000 == 0:\n",
        "        print('epoch=',epoch+1, 'a=',W.detach().cpu().numpy(),\n",
        "              'b=', b.detach().cpu().numpy(), 'loss=',loss.detach().cpu().numpy())"
      ],
      "metadata": {
        "colab": {
          "base_uri": "https://localhost:8080/"
        },
        "id": "O-4PKxsMY653",
        "outputId": "8c28b496-afb6-4e56-80d7-e5a412df6e2c"
      },
      "execution_count": null,
      "outputs": [
        {
          "output_type": "stream",
          "name": "stdout",
          "text": [
            "epoch= 5000 a= [[-3.1633894e-03]\n",
            " [ 3.3427646e+00]\n",
            " [ 1.0134279e+00]] b= [-12.665504] loss= 0.25078976\n",
            "epoch= 10000 a= [[1.5779908e-03]\n",
            " [3.3267791e+00]\n",
            " [1.0038035e+00]] b= [-15.804272] loss= 0.24744685\n"
          ]
        }
      ]
    },
    {
      "cell_type": "code",
      "source": [
        "#성능 평가\n",
        "df2 = pd.read_csv('/content/sample_data/student_admission_test.csv', index_col = 0)\n",
        "\n",
        "X_test = df2.drop('admitted' , axis = 1).values\n",
        "y_test = df2['admitted'].values\n",
        "\n",
        "X_tensor = torch.FloatTensor(X_test).to(device)\n",
        "y_tensor = torch.FloatTensor(y_test).to(device)\n",
        "\n",
        "threshold = 0.5\n",
        "y_pred = torch.sigmoid(X_tensor.matmul(W)+ b).to(device)\n",
        "print(y_pred)\n",
        "\n",
        "prediction = (y_pred.detach().cpu().numpy() > threshold).astype(np.int8) \n",
        "print(prediction)"
      ],
      "metadata": {
        "colab": {
          "base_uri": "https://localhost:8080/"
        },
        "id": "AMd8feRJZQdP",
        "outputId": "d95e764a-e27d-487d-f1c6-c18b1e704151"
      },
      "execution_count": null,
      "outputs": [
        {
          "output_type": "stream",
          "name": "stdout",
          "text": [
            "tensor([[2.1867e-03],\n",
            "        [2.2818e-02],\n",
            "        [2.1664e-02],\n",
            "        [5.4786e-02],\n",
            "        [7.4594e-04],\n",
            "        [5.8066e-01],\n",
            "        [3.5447e-01],\n",
            "        [2.0683e-02],\n",
            "        [7.8008e-01],\n",
            "        [9.7462e-01]], grad_fn=<SigmoidBackward0>)\n",
            "[[0]\n",
            " [0]\n",
            " [0]\n",
            " [0]\n",
            " [0]\n",
            " [1]\n",
            " [0]\n",
            " [0]\n",
            " [1]\n",
            " [1]]\n"
          ]
        }
      ]
    },
    {
      "cell_type": "code",
      "source": [
        "from sklearn.metrics import confusion_matrix\n",
        "# confusion matrix\n",
        "confusion_matrix = confusion_matrix(y_test, prediction)\n",
        "TN=confusion_matrix[0][0]\n",
        "FP=confusion_matrix[0][1]\n",
        "FN=confusion_matrix[1][0]\n",
        "TP=confusion_matrix[1][1]\n",
        "precision= TP/(TP+FP)\n",
        "sensitivity=TP/(TP+FN)\n",
        "specificity=TN/(FP+TN)\n",
        "accuracy=(TP+TN)/(TP+TN+FP+FN)\n",
        "print (\"Confusion Matrix : \\n\", confusion_matrix)\n",
        "print (\"Precision : \", precision)\n",
        "print (\"Sensitivity : \", sensitivity)\n",
        "print (\"Specificity : \", specificity)\n",
        "print (\"Accuracy : \", accuracy)"
      ],
      "metadata": {
        "colab": {
          "base_uri": "https://localhost:8080/"
        },
        "id": "-jSN22SXZusj",
        "outputId": "a76ae36a-802a-4142-acda-a12b285a64ab"
      },
      "execution_count": null,
      "outputs": [
        {
          "output_type": "stream",
          "name": "stdout",
          "text": [
            "Confusion Matrix : \n",
            " [[6 0]\n",
            " [1 3]]\n",
            "Precision :  1.0\n",
            "Sensitivity :  0.75\n",
            "Specificity :  1.0\n",
            "Accuracy :  0.9\n"
          ]
        }
      ]
    },
    {
      "cell_type": "code",
      "source": [
        "#sklearn.metrics 모듈에서 제공되는 함수로 구하기\n",
        "from sklearn.metrics import accuracy_score, precision_score, recall_score\n",
        "print(\"Accuracy :\",metrics.accuracy_score(y_test, prediction))\n",
        "print(\"Precision :\",metrics.precision_score(y_test, prediction))\n",
        "print(\"Sensitivity :\",metrics.recall_score(y_test, prediction))"
      ],
      "metadata": {
        "colab": {
          "base_uri": "https://localhost:8080/"
        },
        "id": "6RaJJLaNaKHB",
        "outputId": "cee80145-31f6-46a7-c93a-5a6e6e2052b3"
      },
      "execution_count": null,
      "outputs": [
        {
          "output_type": "stream",
          "name": "stdout",
          "text": [
            "Accuracy : 0.9\n",
            "Precision : 1.0\n",
            "Sensitivity : 0.75\n"
          ]
        }
      ]
    },
    {
      "cell_type": "code",
      "source": [
        "fpr, tpr, _ = metrics.roc_curve(y_test, y_pred.detach().cpu().numpy())\n",
        "auc = metrics.roc_auc_score(y_test, y_pred.detach().cpu().numpy())\n",
        "plt.plot(fpr, tpr, label=\"AUC =\"+str(auc))\n",
        "plt.legend(loc=4)\n",
        "plt.title(\"ROC Curve\")\n",
        "plt.ylabel('True Positive Rate')\n",
        "plt.xlabel('False Positive Rate')\n",
        "plt.show()\n",
        "#완벽한 분류 모델 의미!"
      ],
      "metadata": {
        "colab": {
          "base_uri": "https://localhost:8080/",
          "height": 472
        },
        "id": "Ur8X3wtUaRKy",
        "outputId": "3ebc2c85-c53d-4d38-e9d0-0f0203ffd8da"
      },
      "execution_count": null,
      "outputs": [
        {
          "output_type": "display_data",
          "data": {
            "text/plain": [
              "<Figure size 640x480 with 1 Axes>"
            ],
            "image/png": "[encoded data removed]"
          },
          "metadata": {}
        }
      ]
    },
    {
      "cell_type": "markdown",
      "source": [
        "예제 4.5"
      ],
      "metadata": {
        "id": "EHUDFSL6adEk"
      }
    },
    {
      "cell_type": "code",
      "source": [
        "#scikit-learn 이용\n",
        "pima = pd.read_csv('/content/sample_data/pima-indians-diabetes.csv')\n",
        "\n",
        "X = pima[['Pregnancies', 'Glucose','BloodPressure','SkinThickness','Insulin','BMI','DiabetesPedigreeFunction','Age']]\n",
        "y = pima['Outcome']"
      ],
      "metadata": {
        "id": "yCbLJ0rTamkj"
      },
      "execution_count": null,
      "outputs": []
    },
    {
      "cell_type": "code",
      "source": [
        "from sklearn.model_selection import train_test_split\n",
        "X_train,X_test,y_train,y_test=train_test_split(X,y,test_size=0.25,random_state=0)"
      ],
      "metadata": {
        "id": "SZ-48Y8LdpJh"
      },
      "execution_count": null,
      "outputs": []
    },
    {
      "cell_type": "code",
      "source": [
        "# instantiate the model (using the default parameters)\n",
        "model = LogisticRegression()\n",
        "\n",
        "# fit the model with data\n",
        "model.fit(X_train,y_train)"
      ],
      "metadata": {
        "colab": {
          "base_uri": "https://localhost:8080/",
          "height": 238
        },
        "id": "Lm8mvMSEdxNr",
        "outputId": "5df9dc72-a389-4243-fb52-3e62257a3781"
      },
      "execution_count": null,
      "outputs": [
        {
          "output_type": "stream",
          "name": "stderr",
          "text": [
            "/usr/local/lib/python3.9/dist-packages/sklearn/linear_model/_logistic.py:458: ConvergenceWarning: lbfgs failed to converge (status=1):\n",
            "STOP: TOTAL NO. of ITERATIONS REACHED LIMIT.\n",
            "\n",
            "Increase the number of iterations (max_iter) or scale the data as shown in:\n",
            "    https://scikit-learn.org/stable/modules/preprocessing.html\n",
            "Please also refer to the documentation for alternative solver options:\n",
            "    https://scikit-learn.org/stable/modules/linear_model.html#logistic-regression\n",
            "  n_iter_i = _check_optimize_result(\n"
          ]
        },
        {
          "output_type": "execute_result",
          "data": {
            "text/plain": [
              "LogisticRegression()"
            ],
            "text/html": [
              "<style>#sk-container-id-5 {color: black;background-color: white;}#sk-container-id-5 pre{padding: 0;}#sk-container-id-5 div.sk-toggleable {background-color: white;}#sk-container-id-5 label.sk-toggleable__label {cursor: pointer;display: block;width: 100%;margin-bottom: 0;padding: 0.3em;box-sizing: border-box;text-align: center;}#sk-container-id-5 label.sk-toggleable__label-arrow:before {content: \"▸\";float: left;margin-right: 0.25em;color: #696969;}#sk-container-id-5 label.sk-toggleable__label-arrow:hover:before {color: black;}#sk-container-id-5 div.sk-estimator:hover label.sk-toggleable__label-arrow:before {color: black;}#sk-container-id-5 div.sk-toggleable__content {max-height: 0;max-width: 0;overflow: hidden;text-align: left;background-color: #f0f8ff;}#sk-container-id-5 div.sk-toggleable__content pre {margin: 0.2em;color: black;border-radius: 0.25em;background-color: #f0f8ff;}#sk-container-id-5 input.sk-toggleable__control:checked~div.sk-toggleable__content {max-height: 200px;max-width: 100%;overflow: auto;}#sk-container-id-5 input.sk-toggleable__control:checked~label.sk-toggleable__label-arrow:before {content: \"▾\";}#sk-container-id-5 div.sk-estimator input.sk-toggleable__control:checked~label.sk-toggleable__label {background-color: #d4ebff;}#sk-container-id-5 div.sk-label input.sk-toggleable__control:checked~label.sk-toggleable__label {background-color: #d4ebff;}#sk-container-id-5 input.sk-hidden--visually {border: 0;clip: rect(1px 1px 1px 1px);clip: rect(1px, 1px, 1px, 1px);height: 1px;margin: -1px;overflow: hidden;padding: 0;position: absolute;width: 1px;}#sk-container-id-5 div.sk-estimator {font-family: monospace;background-color: #f0f8ff;border: 1px dotted black;border-radius: 0.25em;box-sizing: border-box;margin-bottom: 0.5em;}#sk-container-id-5 div.sk-estimator:hover {background-color: #d4ebff;}#sk-container-id-5 div.sk-parallel-item::after {content: \"\";width: 100%;border-bottom: 1px solid gray;flex-grow: 1;}#sk-container-id-5 div.sk-label:hover label.sk-toggleable__label {background-color: #d4ebff;}#sk-container-id-5 div.sk-serial::before {content: \"\";position: absolute;border-left: 1px solid gray;box-sizing: border-box;top: 0;bottom: 0;left: 50%;z-index: 0;}#sk-container-id-5 div.sk-serial {display: flex;flex-direction: column;align-items: center;background-color: white;padding-right: 0.2em;padding-left: 0.2em;position: relative;}#sk-container-id-5 div.sk-item {position: relative;z-index: 1;}#sk-container-id-5 div.sk-parallel {display: flex;align-items: stretch;justify-content: center;background-color: white;position: relative;}#sk-container-id-5 div.sk-item::before, #sk-container-id-5 div.sk-parallel-item::before {content: \"\";position: absolute;border-left: 1px solid gray;box-sizing: border-box;top: 0;bottom: 0;left: 50%;z-index: -1;}#sk-container-id-5 div.sk-parallel-item {display: flex;flex-direction: column;z-index: 1;position: relative;background-color: white;}#sk-container-id-5 div.sk-parallel-item:first-child::after {align-self: flex-end;width: 50%;}#sk-container-id-5 div.sk-parallel-item:last-child::after {align-self: flex-start;width: 50%;}#sk-container-id-5 div.sk-parallel-item:only-child::after {width: 0;}#sk-container-id-5 div.sk-dashed-wrapped {border: 1px dashed gray;margin: 0 0.4em 0.5em 0.4em;box-sizing: border-box;padding-bottom: 0.4em;background-color: white;}#sk-container-id-5 div.sk-label label {font-family: monospace;font-weight: bold;display: inline-block;line-height: 1.2em;}#sk-container-id-5 div.sk-label-container {text-align: center;}#sk-container-id-5 div.sk-container {/* jupyter's `normalize.less` sets `[hidden] { display: none; }` but bootstrap.min.css set `[hidden] { display: none !important; }` so we also need the `!important` here to be able to override the default hidden behavior on the sphinx rendered scikit-learn.org. See: https://github.com/scikit-learn/scikit-learn/issues/21755 */display: inline-block !important;position: relative;}#sk-container-id-5 div.sk-text-repr-fallback {display: none;}</style><div id=\"sk-container-id-5\" class=\"sk-top-container\"><div class=\"sk-text-repr-fallback\"><pre>LogisticRegression()</pre><b>In a Jupyter environment, please rerun this cell to show the HTML representation or trust the notebook. <br />On GitHub, the HTML representation is unable to render, please try loading this page with nbviewer.org.</b></div><div class=\"sk-container\" hidden><div class=\"sk-item\"><div class=\"sk-estimator sk-toggleable\"><input class=\"sk-toggleable__control sk-hidden--visually\" id=\"sk-estimator-id-5\" type=\"checkbox\" checked><label for=\"sk-estimator-id-5\" class=\"sk-toggleable__label sk-toggleable__label-arrow\">LogisticRegression</label><div class=\"sk-toggleable__content\"><pre>LogisticRegression()</pre></div></div></div></div></div>"
            ]
          },
          "metadata": {},
          "execution_count": 78
        }
      ]
    },
    {
      "cell_type": "code",
      "source": [
        "#prediction\n",
        "y_pred = model.predict(X_test)"
      ],
      "metadata": {
        "id": "ohKG3ciod2st"
      },
      "execution_count": null,
      "outputs": []
    },
    {
      "cell_type": "code",
      "source": [
        "#confusion matrix\n",
        "confusion_matrix = metrics.confusion_matrix(y_test, y_pred)\n",
        "TN=confusion_matrix[0][0]\n",
        "FP=confusion_matrix[0][1]\n",
        "FN=confusion_matrix[1][0]\n",
        "TP=confusion_matrix[1][1]\n",
        "precision= TP/(TP+FP)\n",
        "sensitivity=TP/(TP+FN)\n",
        "specificity=TN/(FP+TN)\n",
        "accuracy=(TP+TN)/(TP+TN+FP+FN)\n",
        "print(\"Confusion Matrix : \\n\", confusion_matrix)\n",
        "print(\"Precision : \", round(precision,4))\n",
        "print(\"Sensitivity : \", round(sensitivity,4))\n",
        "print(\"Specificity : \", round(specificity,4))\n",
        "print(\"Accuracy : \", round(accuracy,4))"
      ],
      "metadata": {
        "colab": {
          "base_uri": "https://localhost:8080/"
        },
        "id": "TLWgdT0od7VQ",
        "outputId": "90d2033b-8bab-45f0-889c-6dc95f979b68"
      },
      "execution_count": null,
      "outputs": [
        {
          "output_type": "stream",
          "name": "stdout",
          "text": [
            "Confusion Matrix : \n",
            " [[115  15]\n",
            " [ 25  37]]\n",
            "Precision :  0.7115\n",
            "Sensitivity :  0.5968\n",
            "Specificity :  0.8846\n",
            "Accuracy :  0.7917\n"
          ]
        }
      ]
    },
    {
      "cell_type": "code",
      "source": [
        "#ROC 및 AUC 곡선\n",
        "y_pred_proba = model.predict_proba(X_test)\n",
        "print(y_pred_proba.shape)\n",
        "print(y_pred_proba[0:5,:])\n",
        "# 레이블 값이 1일때의 예측 확률을 추출 \n",
        "y_pred_proba = model.predict_proba(X_test)[:,1]\n",
        "print(y_pred_proba[0:5])\n",
        "fpr, tpr, thresholds = metrics.roc_curve(y_test, y_pred_proba)\n",
        "auc = metrics.roc_auc_score(y_test, y_pred_proba)\n",
        "auc =round(auc, 4)\n",
        "plt.plot(fpr, tpr, label=\"AUC =\"+str(auc))\n",
        "plt.legend(loc=4)\n",
        "plt.title(\"ROC Curve\")\n",
        "plt.ylabel('True Positive Rate')\n",
        "plt.xlabel('False Positive Rate')\n",
        "plt.show()"
      ],
      "metadata": {
        "colab": {
          "base_uri": "https://localhost:8080/",
          "height": 597
        },
        "id": "20D9tIFRd-mA",
        "outputId": "94491cc6-5a22-43ec-df57-03067dafa60f"
      },
      "execution_count": null,
      "outputs": [
        {
          "output_type": "stream",
          "name": "stdout",
          "text": [
            "(192, 2)\n",
            "[[0.02568921 0.97431079]\n",
            " [0.83977115 0.16022885]\n",
            " [0.92321625 0.07678375]\n",
            " [0.31949287 0.68050713]\n",
            " [0.87803338 0.12196662]]\n",
            "[0.97431079 0.16022885 0.07678375 0.68050713 0.12196662]\n"
          ]
        },
        {
          "output_type": "display_data",
          "data": {
            "text/plain": [
              "<Figure size 640x480 with 1 Axes>"
            ],
            "image/png": "[encoded data removed]"
          },
          "metadata": {}
        }
      ]
    },
    {
      "cell_type": "code",
      "source": [
        "#파이토치 이용\n",
        "pima = pd.read_csv('/content/sample_data/pima-indians-diabetes.csv')\n",
        "print(pima.head())\n",
        "\n",
        "X = pima.drop('Outcome' , axis = 1).values\n",
        "y = pima['Outcome'].values "
      ],
      "metadata": {
        "colab": {
          "base_uri": "https://localhost:8080/"
        },
        "id": "Hq_X6ioPeOu_",
        "outputId": "42628ee8-0343-4785-f34b-18e0d224d87a"
      },
      "execution_count": null,
      "outputs": [
        {
          "output_type": "stream",
          "name": "stdout",
          "text": [
            "   Pregnancies  Glucose  BloodPressure  SkinThickness  Insulin   BMI  \\\n",
            "0            6      148             72             35        0  33.6   \n",
            "1            1       85             66             29        0  26.6   \n",
            "2            8      183             64              0        0  23.3   \n",
            "3            1       89             66             23       94  28.1   \n",
            "4            0      137             40             35      168  43.1   \n",
            "\n",
            "   DiabetesPedigreeFunction  Age  Outcome  \n",
            "0                     0.627   50        1  \n",
            "1                     0.351   31        0  \n",
            "2                     0.672   32        1  \n",
            "3                     0.167   21        0  \n",
            "4                     2.288   33        1  \n"
          ]
        }
      ]
    },
    {
      "cell_type": "code",
      "source": [
        "device = torch.device(\"cuda\" if torch.cuda.is_available() else \"cpu\")\n",
        "\n",
        "from sklearn.model_selection import train_test_split\n",
        "X_train,X_test,y_train,y_test = train_test_split(X,y , test_size =0.25,random_state=0)\n",
        "\n",
        "# Creating Tensors\n",
        "X_train=torch.FloatTensor(X_train).to(device)\n",
        "X_test=torch.FloatTensor(X_test).to(device)\n",
        "y_train=torch.FloatTensor(y_train).view(-1,1).to(device)\n",
        "y_test=torch.FloatTensor(y_test).view(-1,1).to(device)\n",
        "\n",
        "print(X_train.shape)\n",
        "print(y_train.shape)\n",
        "\n",
        "import torch\n",
        "from torch import sigmoid\n",
        "import torch.nn.functional as F\n",
        "\n",
        "W = torch.zeros((8, 1),device=device, requires_grad=True)\n",
        "b = torch.zeros(1, device=device, requires_grad=True)"
      ],
      "metadata": {
        "colab": {
          "base_uri": "https://localhost:8080/"
        },
        "id": "2rne5dSOe7sU",
        "outputId": "10a8cc95-e6a2-402b-ea19-a16fb736535d"
      },
      "execution_count": null,
      "outputs": [
        {
          "output_type": "stream",
          "name": "stdout",
          "text": [
            "torch.Size([576, 8])\n",
            "torch.Size([576, 1])\n"
          ]
        }
      ]
    },
    {
      "cell_type": "code",
      "source": [
        "optimizer=torch.optim.Adam([W,b],lr=0.01)\n",
        "epochs=3000\n",
        "for epoch in range(epochs):\n",
        "    y_pred = torch.sigmoid(X_train.matmul(W)+ b).to(device)   \n",
        "    loss = F.binary_cross_entropy(y_pred, y_train)\n",
        "\n",
        "    optimizer.zero_grad()\n",
        "    loss.backward()\n",
        "    optimizer.step()\n",
        "   \n",
        "    if (epoch+1) % 1000 == 0:\n",
        "        print('epoch=',epoch+1, 'a=', W.detach().cpu().numpy(),\n",
        "              'b=', b.detach().cpu().numpy(), 'loss=',loss.detach().cpu().numpy())"
      ],
      "metadata": {
        "colab": {
          "base_uri": "https://localhost:8080/"
        },
        "id": "J2zTx7HhfD0m",
        "outputId": "64b8a196-f7cd-4aaa-da7a-5bf1d4e23302"
      },
      "execution_count": null,
      "outputs": [
        {
          "output_type": "stream",
          "name": "stdout",
          "text": [
            "epoch= 1000 a= [[ 8.3903380e-02]\n",
            " [ 2.2933830e-02]\n",
            " [-1.8483380e-02]\n",
            " [ 5.4355604e-03]\n",
            " [-3.6933040e-04]\n",
            " [ 4.2829301e-02]\n",
            " [ 5.6375253e-01]\n",
            " [ 8.6207874e-03]] b= [-4.44691] loss= 0.5074574\n",
            "epoch= 2000 a= [[ 8.5310109e-02]\n",
            " [ 3.0024620e-02]\n",
            " [-1.3273766e-02]\n",
            " [ 5.7264469e-03]\n",
            " [-7.5216260e-04]\n",
            " [ 7.3265336e-02]\n",
            " [ 7.8592449e-01]\n",
            " [ 1.7962202e-02]] b= [-7.152686] loss= 0.48486152\n",
            "epoch= 3000 a= [[ 0.08647627]\n",
            " [ 0.03240571]\n",
            " [-0.01168753]\n",
            " [ 0.00587989]\n",
            " [-0.00094193]\n",
            " [ 0.08422942]\n",
            " [ 0.8663855 ]\n",
            " [ 0.0210119 ]] b= [-8.097955] loss= 0.48268408\n"
          ]
        }
      ]
    },
    {
      "cell_type": "code",
      "source": [
        "y_pred = torch.sigmoid(X_test.matmul(W)+ b).to(device)\n",
        "prediction = y_pred >= torch.FloatTensor([0.5]).to(device)"
      ],
      "metadata": {
        "id": "2h8VQcvjfLAD"
      },
      "execution_count": null,
      "outputs": []
    },
    {
      "cell_type": "code",
      "source": [
        "#confusion matrix\n",
        "confusion_matrix = metrics.confusion_matrix(y_test.cpu().numpy(), prediction.cpu().numpy())\n",
        "TN=confusion_matrix[0][0]\n",
        "FP=confusion_matrix[0][1]\n",
        "FN=confusion_matrix[1][0]\n",
        "TP=confusion_matrix[1][1]\n",
        "precision= TP/(TP+FP)\n",
        "sensitivity=TP/(TP+FN)\n",
        "specificity=TN/(FP+TN)\n",
        "accuracy=(TP+TN)/(TP+TN+FP+FN)\n",
        "print (\"Confusion Matrix : \\n\", confusion_matrix)\n",
        "print (\"Precision : \", round(precision,4))\n",
        "print (\"Sensitivity : \", round(sensitivity,4))\n",
        "print (\"Specificity : \", round(specificity,4))\n",
        "print (\"Accuracy : \", round(accuracy,4))"
      ],
      "metadata": {
        "colab": {
          "base_uri": "https://localhost:8080/"
        },
        "id": "N7AOoT16fOtX",
        "outputId": "2513b740-d3c4-4b10-98c5-743bcae0573a"
      },
      "execution_count": null,
      "outputs": [
        {
          "output_type": "stream",
          "name": "stdout",
          "text": [
            "Confusion Matrix : \n",
            " [[118  12]\n",
            " [ 26  36]]\n",
            "Precision :  0.75\n",
            "Sensitivity :  0.5806\n",
            "Specificity :  0.9077\n",
            "Accuracy :  0.8021\n"
          ]
        }
      ]
    },
    {
      "cell_type": "code",
      "source": [
        "#ROC 및 AUC 곡선\n",
        "fpr, tpr, _ = metrics.roc_curve(y_test,  y_pred.detach().cpu().numpy())\n",
        "auc = metrics.roc_auc_score(y_test, y_pred_proba)\n",
        "auc=round(auc,4)\n",
        "plt.plot(fpr,tpr,label=\"AUC=\"+str(auc))\n",
        "plt.legend(loc=4)\n",
        "plt.title(\"ROC Curve\")\n",
        "plt.ylabel('True Positive Rate')\n",
        "plt.xlabel('False Positive Rate')\n",
        "plt.show()"
      ],
      "metadata": {
        "colab": {
          "base_uri": "https://localhost:8080/",
          "height": 472
        },
        "id": "MlfHxpQXfR8x",
        "outputId": "f090d1a2-fe1e-4a45-d8d3-470cfed56cf0"
      },
      "execution_count": null,
      "outputs": [
        {
          "output_type": "display_data",
          "data": {
            "text/plain": [
              "<Figure size 640x480 with 1 Axes>"
            ],
            "image/png": "[encoded data removed]"
          },
          "metadata": {}
        }
      ]
    },
    {
      "cell_type": "code",
      "source": [],
      "metadata": {
        "id": "zM0WG6I8fXEM"
      },
      "execution_count": null,
      "outputs": []
    }
  ]
}