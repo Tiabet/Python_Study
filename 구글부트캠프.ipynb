{
 "cells": [
  {
   "cell_type": "code",
   "execution_count": 1,
   "id": "cd040480-07cb-4300-a8d7-2c6f4eeca64a",
   "metadata": {},
   "outputs": [],
   "source": [
    "def test(a,b):\n",
    "    return a+b"
   ]
  },
  {
   "cell_type": "code",
   "execution_count": 5,
   "id": "d55a8b17-b111-473f-8a3a-1ebb520d3062",
   "metadata": {},
   "outputs": [
    {
     "data": {
      "text/plain": [
       "8"
      ]
     },
     "execution_count": 5,
     "metadata": {},
     "output_type": "execute_result"
    }
   ],
   "source": [
    "test(3,5)"
   ]
  },
  {
   "cell_type": "code",
   "execution_count": 6,
   "id": "20d28009-d550-4f85-a8ec-caf4f8d75c4a",
   "metadata": {},
   "outputs": [],
   "source": [
    "def test2(test):\n",
    "    return test(3,5)"
   ]
  },
  {
   "cell_type": "code",
   "execution_count": 7,
   "id": "0e6dac12-6a13-479d-b7a4-4da125e6ea2a",
   "metadata": {},
   "outputs": [
    {
     "data": {
      "text/plain": [
       "8"
      ]
     },
     "execution_count": 7,
     "metadata": {},
     "output_type": "execute_result"
    }
   ],
   "source": [
    "test2(test)"
   ]
  },
  {
   "cell_type": "code",
   "execution_count": 8,
   "id": "7f5f8a02-6e2f-48a3-b2e9-d3f4f57e9043",
   "metadata": {},
   "outputs": [],
   "source": [
    "arr = []"
   ]
  },
  {
   "cell_type": "code",
   "execution_count": 11,
   "id": "f37cf09d-f26a-44b6-8807-289076bd3cff",
   "metadata": {},
   "outputs": [],
   "source": [
    "x = [1,2,3]"
   ]
  },
  {
   "cell_type": "code",
   "execution_count": 12,
   "id": "5b3ecf06-6226-4814-8c46-93a540620e1c",
   "metadata": {},
   "outputs": [],
   "source": [
    "y = x*3"
   ]
  },
  {
   "cell_type": "code",
   "execution_count": 14,
   "id": "a54b7a98-d6f1-407b-9547-a9538f2ad969",
   "metadata": {},
   "outputs": [
    {
     "data": {
      "text/plain": [
       "[1, 2, 3, 1, 2, 3, 1, 2, 3, 1, 2, 3]"
      ]
     },
     "execution_count": 14,
     "metadata": {},
     "output_type": "execute_result"
    }
   ],
   "source": [
    "x+y"
   ]
  },
  {
   "cell_type": "code",
   "execution_count": 17,
   "id": "15cb4ae4-3507-4e05-b88d-82197e3db3df",
   "metadata": {},
   "outputs": [
    {
     "name": "stdout",
     "output_type": "stream",
     "text": [
      "None\n"
     ]
    }
   ],
   "source": [
    "print(x.extend(y))"
   ]
  },
  {
   "cell_type": "code",
   "execution_count": 16,
   "id": "3301d21a-e217-492a-983c-6298a1d77a03",
   "metadata": {},
   "outputs": [
    {
     "data": {
      "text/plain": [
       "[1, 2, 3, 1, 2, 3, 1, 2, 3, 1, 2, 3]"
      ]
     },
     "execution_count": 16,
     "metadata": {},
     "output_type": "execute_result"
    }
   ],
   "source": [
    "x"
   ]
  },
  {
   "cell_type": "code",
   "execution_count": 20,
   "id": "e2cd84ff-8fa3-4808-a962-e18632d9b332",
   "metadata": {},
   "outputs": [
    {
     "name": "stdout",
     "output_type": "stream",
     "text": [
      "Coffee drink\n",
      "Contains 125mg per cup\n",
      "Price: 5000\n",
      "Milk drink\n",
      "No caffeine\n",
      "Price: 3000\n",
      "CafeLatte drink\n",
      "Contains 125mg per cup\n",
      "Price: 5000\n",
      "Flavor: Creamy\n"
     ]
    }
   ],
   "source": [
    "class Beverage:\n",
    "    def __init__(self, size, name):\n",
    "        self.name = name\n",
    "        self.caffeine = 0\n",
    "        self.size = size\n",
    "\n",
    "    def __repr__(self):\n",
    "        return f\"{self.name} drink\"\n",
    "\n",
    "    def contains_caffeine(self):\n",
    "        if self.caffeine:\n",
    "            return f\"Contains {self.caffeine}mg per cup\"\n",
    "        return \"No caffeine\"\n",
    "\n",
    "class Coffee(Beverage):\n",
    "    def __init__(self, size=\"Small\", name=\"Coffee\"):\n",
    "        super().__init__(size, name)\n",
    "        self.caffeine = 125\n",
    "\n",
    "    def price(self):\n",
    "        return 5000\n",
    "\n",
    "class Milk(Beverage):\n",
    "    def __init__(self, size=\"Small\", name=\"Milk\"):\n",
    "        super().__init__(size, name)\n",
    "        self.flavor = \"Creamy\"\n",
    "        self.caffeine = 0\n",
    "\n",
    "    def price(self):\n",
    "        return 3000\n",
    "\n",
    "class CafeLatte(Coffee, Milk):\n",
    "    def __init__(self, size):\n",
    "        super().__init__(size, \"CafeLatte\")\n",
    "\n",
    "# 테스트 코드\n",
    "if __name__ == \"__main__\":\n",
    "    coffee = Coffee()\n",
    "    print(coffee)\n",
    "    print(coffee.contains_caffeine())\n",
    "    print(f\"Price: {coffee.price()}\")\n",
    "\n",
    "    milk = Milk()\n",
    "    print(milk)\n",
    "    print(milk.contains_caffeine())\n",
    "    print(f\"Price: {milk.price()}\")\n",
    "\n",
    "    cafe_latte = CafeLatte(\"Medium\")\n",
    "    print(cafe_latte)\n",
    "    print(cafe_latte.contains_caffeine())\n",
    "    print(f\"Price: {cafe_latte.price()}\")\n",
    "    print(f\"Flavor: {getattr(cafe_latte, 'flavor', 'No flavor attribute')}\")\n"
   ]
  },
  {
   "cell_type": "code",
   "execution_count": 83,
   "id": "2ff9abf5-9dc2-4503-8a6b-58a3cc1a1b35",
   "metadata": {},
   "outputs": [
    {
     "name": "stdout",
     "output_type": "stream",
     "text": [
      "4568\n",
      "115647\n",
      "0.03949951144430897\n"
     ]
    }
   ],
   "source": [
    "import random\n",
    "\n",
    "class Dice():\n",
    "    def __init__(self, num_side, condition):\n",
    "        self.num_side = num_side\n",
    "        self.condition = condition\n",
    "\n",
    "    def roll(self):\n",
    "        score = random.randrange(self.num_side) + 1\n",
    "        if not self.condition(score):\n",
    "            raise 1\n",
    "        return score\n",
    "\n",
    "count=0\n",
    "count_Win = 0\n",
    "for _ in range(1000000):\n",
    "    even_dice = Dice(6, lambda x: x % 2 == 0)\n",
    "    is_win = False\n",
    "    try:\n",
    "        total_score = 0\n",
    "        for _ in range(3):\n",
    "            total_score += even_dice.roll()\n",
    "        # print('Win!')\n",
    "        is_win = True\n",
    "    except:\n",
    "        continue\n",
    "        # print('Lose!')\n",
    "    finally:\n",
    "        if total_score == 6 :\n",
    "            count+=1\n",
    "            if is_win:\n",
    "                count_Win +=1\n",
    "        # print('Total:', total_score)\n",
    "        # continue\n",
    "\n",
    "print(count_Win)\n",
    "print(count)\n",
    "print(count_Win/count)\n"
   ]
  },
  {
   "cell_type": "markdown",
   "id": "cdca539f-6423-4ccd-9a8f-00ab87f992d9",
   "metadata": {},
   "source": [
    "total이 6이 될 수 있는 경우\n",
    "\n",
    "6 홀수 -> 1/6*1/2 = 1/12\n",
    "2 4 홀수 -> 1/6*1/6*1/\n",
    "4 2 홀수 -> 3개\n",
    "2 2 2 -> 1개\n"
   ]
  },
  {
   "cell_type": "code",
   "execution_count": null,
   "id": "dd42268b-acfc-45d6-90d8-390e4646875d",
   "metadata": {},
   "outputs": [],
   "source": []
  },
  {
   "cell_type": "code",
   "execution_count": null,
   "id": "c0e0fe5f-bcd1-455d-9fd5-aa844404f792",
   "metadata": {},
   "outputs": [],
   "source": []
  }
 ],
 "metadata": {
  "kernelspec": {
   "display_name": "Python 3 (ipykernel)",
   "language": "python",
   "name": "python3"
  },
  "language_info": {
   "codemirror_mode": {
    "name": "ipython",
    "version": 3
   },
   "file_extension": ".py",
   "mimetype": "text/x-python",
   "name": "python",
   "nbconvert_exporter": "python",
   "pygments_lexer": "ipython3",
   "version": "3.9.13"
  }
 },
 "nbformat": 4,
 "nbformat_minor": 5
}
